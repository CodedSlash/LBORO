{
  "nbformat": 4,
  "nbformat_minor": 0,
  "metadata": {
    "colab": {
      "provenance": [],
      "authorship_tag": "ABX9TyMxDXaRO22eye8Qa09rE2WJ",
      "include_colab_link": true
    },
    "kernelspec": {
      "name": "python3",
      "display_name": "Python 3"
    },
    "language_info": {
      "name": "python"
    }
  },
  "cells": [
    {
      "cell_type": "markdown",
      "metadata": {
        "id": "view-in-github",
        "colab_type": "text"
      },
      "source": [
        "<a href=\"https://colab.research.google.com/github/CodedSlash/LBORO/blob/main/Lboro_A_simple_intro_to_python_.ipynb\" target=\"_parent\"><img src=\"https://colab.research.google.com/assets/colab-badge.svg\" alt=\"Open In Colab\"/></a>"
      ]
    },
    {
      "cell_type": "markdown",
      "source": [
        "# A SIMPLE INTRODUCTION TO PRYTHON\n",
        "## Python a powerful calculator"
      ],
      "metadata": {
        "id": "i6ZLRlXot7Rt"
      }
    },
    {
      "cell_type": "code",
      "source": [
        "4 + 5 - 6"
      ],
      "metadata": {
        "colab": {
          "base_uri": "https://localhost:8080/"
        },
        "id": "_guMFkLbowBX",
        "outputId": "3a9edaca-7658-4a39-f738-6821f1161be9"
      },
      "execution_count": null,
      "outputs": [
        {
          "output_type": "execute_result",
          "data": {
            "text/plain": [
              "3"
            ]
          },
          "metadata": {},
          "execution_count": 8
        }
      ]
    },
    {
      "cell_type": "code",
      "source": [
        "2 * 3"
      ],
      "metadata": {
        "colab": {
          "base_uri": "https://localhost:8080/"
        },
        "id": "MhFjrUhip87T",
        "outputId": "687f9ab5-3534-44fd-f4ed-2979fe71756d"
      },
      "execution_count": null,
      "outputs": [
        {
          "output_type": "execute_result",
          "data": {
            "text/plain": [
              "6"
            ]
          },
          "metadata": {},
          "execution_count": 9
        }
      ]
    },
    {
      "cell_type": "code",
      "source": [
        "3 * (2 - 5)"
      ],
      "metadata": {
        "colab": {
          "base_uri": "https://localhost:8080/"
        },
        "id": "XBkH88MAqCkw",
        "outputId": "3aca4597-4d76-4974-f77d-9df9dcdf2afe"
      },
      "execution_count": null,
      "outputs": [
        {
          "output_type": "execute_result",
          "data": {
            "text/plain": [
              "-9"
            ]
          },
          "metadata": {},
          "execution_count": 10
        }
      ]
    },
    {
      "cell_type": "code",
      "source": [
        "2 + 3 * (6 + 2 * 5) - 8"
      ],
      "metadata": {
        "colab": {
          "base_uri": "https://localhost:8080/"
        },
        "id": "c9f-asGcqWUS",
        "outputId": "714fb55c-f842-4f8a-d587-b650ff6c77c9"
      },
      "execution_count": null,
      "outputs": [
        {
          "output_type": "execute_result",
          "data": {
            "text/plain": [
              "42"
            ]
          },
          "metadata": {},
          "execution_count": 12
        }
      ]
    },
    {
      "cell_type": "code",
      "source": [
        "(1 / 2) * (1 / 3 - 1 / 4)"
      ],
      "metadata": {
        "colab": {
          "base_uri": "https://localhost:8080/"
        },
        "id": "boFdgoRDqtly",
        "outputId": "546056e8-340e-4059-841e-6aaf8c85d726"
      },
      "execution_count": null,
      "outputs": [
        {
          "output_type": "execute_result",
          "data": {
            "text/plain": [
              "0.04166666666666666"
            ]
          },
          "metadata": {},
          "execution_count": 13
        }
      ]
    },
    {
      "cell_type": "markdown",
      "source": [
        "### FRACTIONS"
      ],
      "metadata": {
        "id": "pYxQyUKorK_C"
      }
    },
    {
      "cell_type": "markdown",
      "source": [
        "what is $\\frac{1}{2}+Zfrac{1}{3}$?"
      ],
      "metadata": {
        "id": "zfq5ywy6rok1"
      }
    },
    {
      "cell_type": "code",
      "source": [
        "from fractions import Fraction\n",
        "Fraction(1 , 2) + Fraction(1 , 3)"
      ],
      "metadata": {
        "colab": {
          "base_uri": "https://localhost:8080/"
        },
        "id": "EXJ3BuNerPlH",
        "outputId": "b4ddf445-4f05-417a-a804-72c8d28aceb2"
      },
      "execution_count": null,
      "outputs": [
        {
          "output_type": "execute_result",
          "data": {
            "text/plain": [
              "Fraction(5, 6)"
            ]
          },
          "metadata": {},
          "execution_count": 19
        }
      ]
    },
    {
      "cell_type": "code",
      "source": [
        "Fraction(1 , 2) * 8"
      ],
      "metadata": {
        "colab": {
          "base_uri": "https://localhost:8080/"
        },
        "id": "k8skDjuSs063",
        "outputId": "157e6aaf-7391-46c9-81c0-d0849204c1ba"
      },
      "execution_count": null,
      "outputs": [
        {
          "output_type": "execute_result",
          "data": {
            "text/plain": [
              "Fraction(4, 1)"
            ]
          },
          "metadata": {},
          "execution_count": 20
        }
      ]
    },
    {
      "cell_type": "code",
      "source": [
        "Fraction(1 , 2) * (Fraction(1 , 3) - Fraction(1 , 4))"
      ],
      "metadata": {
        "colab": {
          "base_uri": "https://localhost:8080/"
        },
        "id": "3fAmzkMKs_is",
        "outputId": "bbe38cab-22bb-44f4-b4bd-b0d14c1d509b"
      },
      "execution_count": null,
      "outputs": [
        {
          "output_type": "execute_result",
          "data": {
            "text/plain": [
              "Fraction(1, 24)"
            ]
          },
          "metadata": {},
          "execution_count": 21
        }
      ]
    },
    {
      "cell_type": "markdown",
      "source": [
        "POWERS"
      ],
      "metadata": {
        "id": "5PXYXwkiuSaB"
      }
    },
    {
      "cell_type": "code",
      "source": [
        "from math import * # Import all fuunctions from the math Library."
      ],
      "metadata": {
        "id": "qhj9r0GWuUmY"
      },
      "execution_count": null,
      "outputs": []
    },
    {
      "cell_type": "code",
      "source": [
        "(1 / 2)**2"
      ],
      "metadata": {
        "colab": {
          "base_uri": "https://localhost:8080/"
        },
        "id": "UW2AL4WbuuJr",
        "outputId": "ff9a4af0-9c83-4705-d332-949206461a4f"
      },
      "execution_count": null,
      "outputs": [
        {
          "output_type": "execute_result",
          "data": {
            "text/plain": [
              "0.25"
            ]
          },
          "metadata": {},
          "execution_count": 25
        }
      ]
    },
    {
      "cell_type": "markdown",
      "source": [
        "What is $2^(-8)$?"
      ],
      "metadata": {
        "id": "_Q8Zole0vD9S"
      }
    },
    {
      "cell_type": "code",
      "source": [
        "pow(2 , -8) # Power Function"
      ],
      "metadata": {
        "colab": {
          "base_uri": "https://localhost:8080/"
        },
        "id": "lwyajkhyu4xL",
        "outputId": "3ce7503f-a8af-476b-f6f6-50e1e061d9fb"
      },
      "execution_count": null,
      "outputs": [
        {
          "output_type": "execute_result",
          "data": {
            "text/plain": [
              "0.00390625"
            ]
          },
          "metadata": {},
          "execution_count": 26
        }
      ]
    },
    {
      "cell_type": "code",
      "source": [
        "pow(27 , 1/3) + sqrt(25)"
      ],
      "metadata": {
        "colab": {
          "base_uri": "https://localhost:8080/"
        },
        "id": "0ELjD7yTvbz_",
        "outputId": "5e4e4ed9-b846-4640-ee4d-f4f31741533e"
      },
      "execution_count": null,
      "outputs": [
        {
          "output_type": "execute_result",
          "data": {
            "text/plain": [
              "8.0"
            ]
          },
          "metadata": {},
          "execution_count": 27
        }
      ]
    },
    {
      "cell_type": "markdown",
      "source": [
        "$(2^3)^5 \\sqrt[4]{16} \\times \\sqrt{3}$"
      ],
      "metadata": {
        "id": "PEIqX2vowBA-"
      }
    },
    {
      "cell_type": "code",
      "source": [
        "(2**3)**5 * (16**(1/4) * pow(1 / 64 , 1 / 3) + sqrt(169))"
      ],
      "metadata": {
        "colab": {
          "base_uri": "https://localhost:8080/"
        },
        "id": "A-lqRauqwGl4",
        "outputId": "533d13a7-8837-4634-e369-b0878cfc2a5c"
      },
      "execution_count": null,
      "outputs": [
        {
          "output_type": "execute_result",
          "data": {
            "text/plain": [
              "442368.0"
            ]
          },
          "metadata": {},
          "execution_count": 28
        }
      ]
    },
    {
      "cell_type": "code",
      "source": [
        "from math import *"
      ],
      "metadata": {
        "id": "va-dmk0-xvg0"
      },
      "execution_count": null,
      "outputs": []
    },
    {
      "cell_type": "code",
      "source": [
        "exp(2) , e**2"
      ],
      "metadata": {
        "colab": {
          "base_uri": "https://localhost:8080/"
        },
        "id": "U5-9U4bdx06I",
        "outputId": "ee051fcc-7526-475a-8a50-c4ce66df295c"
      },
      "execution_count": null,
      "outputs": [
        {
          "output_type": "execute_result",
          "data": {
            "text/plain": [
              "(7.38905609893065, 7.3890560989306495)"
            ]
          },
          "metadata": {},
          "execution_count": 30
        }
      ]
    },
    {
      "cell_type": "code",
      "source": [
        "gcd(35 , 128)"
      ],
      "metadata": {
        "colab": {
          "base_uri": "https://localhost:8080/"
        },
        "id": "beM7PcLdx-04",
        "outputId": "ea17afea-e1ec-4a43-a2f3-287b3805baa9"
      },
      "execution_count": null,
      "outputs": [
        {
          "output_type": "execute_result",
          "data": {
            "text/plain": [
              "1"
            ]
          },
          "metadata": {},
          "execution_count": 31
        }
      ]
    },
    {
      "cell_type": "code",
      "source": [
        "radians(180)"
      ],
      "metadata": {
        "colab": {
          "base_uri": "https://localhost:8080/"
        },
        "id": "pGL8c4hwyE0Z",
        "outputId": "6b78b1d0-90f1-41e3-8332-fb7d30ed8561"
      },
      "execution_count": null,
      "outputs": [
        {
          "output_type": "execute_result",
          "data": {
            "text/plain": [
              "3.141592653589793"
            ]
          },
          "metadata": {},
          "execution_count": 32
        }
      ]
    },
    {
      "cell_type": "code",
      "source": [
        "degrees (3.141592653589793)"
      ],
      "metadata": {
        "colab": {
          "base_uri": "https://localhost:8080/"
        },
        "id": "T_Faw8T2yO5P",
        "outputId": "1842249f-2f3e-4060-96ea-e233b10d9835"
      },
      "execution_count": null,
      "outputs": [
        {
          "output_type": "execute_result",
          "data": {
            "text/plain": [
              "180.0"
            ]
          },
          "metadata": {},
          "execution_count": 33
        }
      ]
    },
    {
      "cell_type": "code",
      "source": [
        "sin(pi /3)"
      ],
      "metadata": {
        "colab": {
          "base_uri": "https://localhost:8080/"
        },
        "id": "r2UQXwUsyk2b",
        "outputId": "f8d4f4ac-c450-4b53-dfe5-62c06bb145b7"
      },
      "execution_count": null,
      "outputs": [
        {
          "output_type": "execute_result",
          "data": {
            "text/plain": [
              "0.8660254037844386"
            ]
          },
          "metadata": {},
          "execution_count": 34
        }
      ]
    },
    {
      "cell_type": "code",
      "source": [
        "round(pi , 10)"
      ],
      "metadata": {
        "colab": {
          "base_uri": "https://localhost:8080/"
        },
        "id": "hd4nHnXYypFo",
        "outputId": "9f1ea49c-b19a-43c8-b44d-18b6faaa70fa"
      },
      "execution_count": null,
      "outputs": [
        {
          "output_type": "execute_result",
          "data": {
            "text/plain": [
              "3.1415926536"
            ]
          },
          "metadata": {},
          "execution_count": 35
        }
      ]
    },
    {
      "cell_type": "markdown",
      "source": [
        "CHAPTER 2"
      ],
      "metadata": {
        "id": "wp2mu8CK1Gk9"
      }
    },
    {
      "cell_type": "code",
      "source": [
        "list_empty = []"
      ],
      "metadata": {
        "id": "9r0Dc_YH1JAz"
      },
      "execution_count": null,
      "outputs": []
    },
    {
      "cell_type": "code",
      "source": [
        "print(list_empty)"
      ],
      "metadata": {
        "colab": {
          "base_uri": "https://localhost:8080/"
        },
        "id": "ZQtjwH9O1Rdd",
        "outputId": "2896cfe1-2ca4-4004-c96f-e7c4e76fb48a"
      },
      "execution_count": null,
      "outputs": [
        {
          "output_type": "stream",
          "name": "stdout",
          "text": [
            "[]\n"
          ]
        }
      ]
    },
    {
      "cell_type": "code",
      "source": [
        "list1 = [1 , 2 , 3 , 3, 4 , 5]\n",
        "print(type(list1))"
      ],
      "metadata": {
        "colab": {
          "base_uri": "https://localhost:8080/"
        },
        "id": "POpTIXjK1X7M",
        "outputId": "8ece8e77-f94c-4572-c367-f911745764c9"
      },
      "execution_count": null,
      "outputs": [
        {
          "output_type": "stream",
          "name": "stdout",
          "text": [
            "<class 'list'>\n"
          ]
        }
      ]
    },
    {
      "cell_type": "code",
      "source": [
        "list1[0] , list1[1] , list1[-1], list1[4]\n"
      ],
      "metadata": {
        "colab": {
          "base_uri": "https://localhost:8080/"
        },
        "id": "WDxrC6iY1w-r",
        "outputId": "3c742f09-1282-4d05-c9f5-a8fa70f674f3"
      },
      "execution_count": null,
      "outputs": [
        {
          "output_type": "execute_result",
          "data": {
            "text/plain": [
              "(1, 2, 5, 4)"
            ]
          },
          "metadata": {},
          "execution_count": 40
        }
      ]
    },
    {
      "cell_type": "code",
      "source": [
        "len(list1) , max(list1) , min(list1)"
      ],
      "metadata": {
        "colab": {
          "base_uri": "https://localhost:8080/"
        },
        "id": "sX8mJJjS2S1_",
        "outputId": "de57058f-0c62-40ea-8b84-8be57960cbf3"
      },
      "execution_count": null,
      "outputs": [
        {
          "output_type": "execute_result",
          "data": {
            "text/plain": [
              "(6, 5, 1)"
            ]
          },
          "metadata": {},
          "execution_count": 43
        }
      ]
    },
    {
      "cell_type": "code",
      "source": [
        "list(range(5)) # Zero based indexing meaning start at zero and not including 5"
      ],
      "metadata": {
        "colab": {
          "base_uri": "https://localhost:8080/"
        },
        "id": "xUwOHNFY2mPP",
        "outputId": "d726e9d8-b822-4773-9ddc-4944516dc487"
      },
      "execution_count": null,
      "outputs": [
        {
          "output_type": "execute_result",
          "data": {
            "text/plain": [
              "[0, 1, 2, 3, 4]"
            ]
          },
          "metadata": {},
          "execution_count": 45
        }
      ]
    },
    {
      "cell_type": "code",
      "source": [
        "list (range(2 , 14 , 2)) # up in steps of 2"
      ],
      "metadata": {
        "colab": {
          "base_uri": "https://localhost:8080/"
        },
        "id": "L-PIj_Qe2_aO",
        "outputId": "10a04127-155b-4336-da34-8ab8b981225f"
      },
      "execution_count": null,
      "outputs": [
        {
          "output_type": "execute_result",
          "data": {
            "text/plain": [
              "[2, 4, 6, 8, 10, 12]"
            ]
          },
          "metadata": {},
          "execution_count": 46
        }
      ]
    },
    {
      "cell_type": "code",
      "source": [
        "list1"
      ],
      "metadata": {
        "colab": {
          "base_uri": "https://localhost:8080/"
        },
        "id": "ZX24npdj3fK-",
        "outputId": "921f9b36-f4dd-487e-f052-21ed07f26242"
      },
      "execution_count": null,
      "outputs": [
        {
          "output_type": "execute_result",
          "data": {
            "text/plain": [
              "[1, 2, 3, 3, 4, 5]"
            ]
          },
          "metadata": {},
          "execution_count": 47
        }
      ]
    },
    {
      "cell_type": "markdown",
      "source": [
        "SLICING"
      ],
      "metadata": {
        "id": "F3wJXf3h3kr7"
      }
    },
    {
      "cell_type": "code",
      "source": [
        "list1[1 : 3]"
      ],
      "metadata": {
        "colab": {
          "base_uri": "https://localhost:8080/"
        },
        "id": "l9YmV7ww3jCZ",
        "outputId": "0aaa790c-89d4-4fcb-fec0-bbb8659dfcfb"
      },
      "execution_count": null,
      "outputs": [
        {
          "output_type": "execute_result",
          "data": {
            "text/plain": [
              "[2, 3]"
            ]
          },
          "metadata": {},
          "execution_count": 48
        }
      ]
    },
    {
      "cell_type": "code",
      "source": [
        "list1[: 3]"
      ],
      "metadata": {
        "colab": {
          "base_uri": "https://localhost:8080/"
        },
        "id": "a_HEPbi23-0t",
        "outputId": "b8585c89-d630-46da-eda9-4c5b1678d311"
      },
      "execution_count": null,
      "outputs": [
        {
          "output_type": "execute_result",
          "data": {
            "text/plain": [
              "[1, 2, 3]"
            ]
          },
          "metadata": {},
          "execution_count": 49
        }
      ]
    },
    {
      "cell_type": "code",
      "source": [
        "list1[2:]"
      ],
      "metadata": {
        "colab": {
          "base_uri": "https://localhost:8080/"
        },
        "id": "_7dUt6aL4DQn",
        "outputId": "169a78e0-dfc7-4a72-9b64-95dbef179cb2"
      },
      "execution_count": null,
      "outputs": [
        {
          "output_type": "execute_result",
          "data": {
            "text/plain": [
              "[3, 3, 4, 5]"
            ]
          },
          "metadata": {},
          "execution_count": 50
        }
      ]
    },
    {
      "cell_type": "code",
      "source": [
        "list2 = [[1 , 2] , [3 , 4]]"
      ],
      "metadata": {
        "id": "Pi21ay7C4Spo"
      },
      "execution_count": null,
      "outputs": []
    },
    {
      "cell_type": "code",
      "source": [
        "list2[0] [1]"
      ],
      "metadata": {
        "colab": {
          "base_uri": "https://localhost:8080/"
        },
        "id": "nzkzdyw64jjT",
        "outputId": "d584c2fd-9481-4364-aaf4-9adee1c71650"
      },
      "execution_count": null,
      "outputs": [
        {
          "output_type": "execute_result",
          "data": {
            "text/plain": [
              "2"
            ]
          },
          "metadata": {},
          "execution_count": 52
        }
      ]
    },
    {
      "cell_type": "code",
      "source": [
        "list2[0] [0]"
      ],
      "metadata": {
        "colab": {
          "base_uri": "https://localhost:8080/"
        },
        "id": "f10MffQO41zq",
        "outputId": "9916183f-2ccc-4c85-dfff-0aa3bda98335"
      },
      "execution_count": null,
      "outputs": [
        {
          "output_type": "execute_result",
          "data": {
            "text/plain": [
              "1"
            ]
          },
          "metadata": {},
          "execution_count": 53
        }
      ]
    },
    {
      "cell_type": "code",
      "source": [
        "\n",
        "list1"
      ],
      "metadata": {
        "colab": {
          "base_uri": "https://localhost:8080/"
        },
        "id": "sMJQ8TsI5EDr",
        "outputId": "f4005bde-20ad-418b-df15-fd3bc329ac62"
      },
      "execution_count": null,
      "outputs": [
        {
          "output_type": "execute_result",
          "data": {
            "text/plain": [
              "[1, 2, 3, 3, 4, 5]"
            ]
          },
          "metadata": {},
          "execution_count": 56
        }
      ]
    },
    {
      "cell_type": "code",
      "source": [
        "Capitals = {\"England\" : \"London\"}"
      ],
      "metadata": {
        "id": "okXMJHoe5e6C"
      },
      "execution_count": null,
      "outputs": []
    },
    {
      "cell_type": "markdown",
      "source": [
        "DEFINE OUR OWN FUNCTIONS"
      ],
      "metadata": {
        "id": "juJxW3yb53SF"
      }
    },
    {
      "cell_type": "code",
      "source": [
        "### A Program to find the area of a cicle.\n",
        "###\n",
        "from math import pi\n",
        "def area(r):\n",
        "  return pi * r**2"
      ],
      "metadata": {
        "id": "54X2Y31759n9"
      },
      "execution_count": null,
      "outputs": []
    },
    {
      "cell_type": "code",
      "source": [
        "print(\"Area of a circle of radius 4cm is:\" , area(4) , \"cm squared\")"
      ],
      "metadata": {
        "colab": {
          "base_uri": "https://localhost:8080/"
        },
        "id": "IWs25apz61JX",
        "outputId": "4233bd6f-287d-4892-8b5f-cfc88dcd81d8"
      },
      "execution_count": null,
      "outputs": [
        {
          "output_type": "stream",
          "name": "stdout",
          "text": [
            "Area of a circle of radius 4cm is: 50.26548245743669 cm squared\n"
          ]
        }
      ]
    },
    {
      "cell_type": "markdown",
      "source": [
        "Find the volume of a cylinder using: $V=\\pi r^h$, where $r$ is te radius and $h$ is the height"
      ],
      "metadata": {
        "id": "mDDffoeo7Tzt"
      }
    },
    {
      "cell_type": "code",
      "source": [
        "def volume(h , r):\n",
        "  return pi * r**2"
      ],
      "metadata": {
        "id": "iG3bD0Oa8HLh"
      },
      "execution_count": null,
      "outputs": []
    },
    {
      "cell_type": "code",
      "source": [
        "print(\"volume of a cylinder of radius 4cm and height 2cm is:\" , round(volume(2 , 4) , 5) , \"cm cubed\")"
      ],
      "metadata": {
        "colab": {
          "base_uri": "https://localhost:8080/"
        },
        "id": "A84i08Qe8wr3",
        "outputId": "86890ff2-fc88-489f-a9f5-330e3eb38d11"
      },
      "execution_count": null,
      "outputs": [
        {
          "output_type": "stream",
          "name": "stdout",
          "text": [
            "volume of a cylinder of radius 4cm and height 2cm is: 50.26548 cm cubed\n"
          ]
        }
      ]
    },
    {
      "cell_type": "code",
      "source": [
        "def C2K():\n",
        "  C = float(input(\"Enter temp in degrees c:\"))\n",
        "  K = C + 27.15\n",
        "  print(\"Temp in degrees K is {:08.4f}K\".format(K))"
      ],
      "metadata": {
        "id": "78QbVFx79TmN"
      },
      "execution_count": null,
      "outputs": []
    },
    {
      "cell_type": "code",
      "source": [
        "C2K()"
      ],
      "metadata": {
        "colab": {
          "base_uri": "https://localhost:8080/"
        },
        "id": "hqanMrYw93Ud",
        "outputId": "033c24e0-2d37-4679-d8a3-55b87e66e8af"
      },
      "execution_count": null,
      "outputs": [
        {
          "output_type": "stream",
          "name": "stdout",
          "text": [
            "Enter temp in degrees c:100\n",
            "Temp in degrees K is 127.1500K\n"
          ]
        }
      ]
    },
    {
      "cell_type": "code",
      "source": [
        "#Fibonacci sequence using FOR Loop\n",
        "N = int(input( \"number of elements: \"))\n",
        "fib = [0 , 1] # A List.\n",
        "for i in range(2 , N):\n",
        "  iterm = fib[1 - 1] + fib[i - 2]\n",
        "  fib.append(iterm)\n",
        "print(fib)"
      ],
      "metadata": {
        "colab": {
          "base_uri": "https://localhost:8080/"
        },
        "id": "f3XPZ9uN-CRJ",
        "outputId": "c9b82424-9cf7-41ba-bd41-898f9633abf8"
      },
      "execution_count": null,
      "outputs": [
        {
          "output_type": "stream",
          "name": "stdout",
          "text": [
            "number of elements: 50\n",
            "[0, 1, 0, 1, 0, 1, 0, 1, 0, 1, 0, 1, 0, 1, 0, 1, 0, 1, 0, 1, 0, 1, 0, 1, 0, 1, 0, 1, 0, 1, 0, 1, 0, 1, 0, 1, 0, 1, 0, 1, 0, 1, 0, 1, 0, 1, 0, 1, 0, 1]\n"
          ]
        }
      ]
    },
    {
      "cell_type": "code",
      "source": [
        "#sum the natural numbers to N.\n",
        "def sum_n(n):\n",
        "  sum , i = 0 , 1\n",
        "  while i <= n:\n",
        "    sum += i\n",
        "    i += 1\n",
        "    print(\"The sum is: \" , sum)"
      ],
      "metadata": {
        "id": "3oy69Gh9_Qq4"
      },
      "execution_count": null,
      "outputs": []
    },
    {
      "cell_type": "code",
      "source": [
        "sum_n(5)"
      ],
      "metadata": {
        "colab": {
          "base_uri": "https://localhost:8080/"
        },
        "id": "asDjqUWA__38",
        "outputId": "dd4183e5-4cc7-4e42-94b5-1023a24195fe"
      },
      "execution_count": null,
      "outputs": [
        {
          "output_type": "stream",
          "name": "stdout",
          "text": [
            "The sum is:  1\n",
            "The sum is:  3\n",
            "The sum is:  6\n",
            "The sum is:  10\n",
            "The sum is:  15\n"
          ]
        }
      ]
    },
    {
      "cell_type": "markdown",
      "source": [
        "NEED TO GO BACK UP TO DEF IF ELSE ELIF WHILE"
      ],
      "metadata": {
        "id": "L8PkqL5EAd3O"
      }
    },
    {
      "cell_type": "code",
      "source": [
        "!pip install ColabTurtlePlus\n",
        "from ColabTurtlePlus.Turtle import *"
      ],
      "metadata": {
        "colab": {
          "base_uri": "https://localhost:8080/"
        },
        "id": "Qp7fMf0hAQMB",
        "outputId": "be9ef05d-1e36-412b-c762-330038580fe1"
      },
      "execution_count": null,
      "outputs": [
        {
          "output_type": "stream",
          "name": "stdout",
          "text": [
            "Requirement already satisfied: ColabTurtlePlus in /usr/local/lib/python3.12/dist-packages (2.0.1)\n"
          ]
        }
      ]
    },
    {
      "cell_type": "code",
      "source": [
        "# The Cantor Set (a fractal).\n",
        "initializeTurtle()\n",
        "def cantor(x , y , length):\n",
        "  speed(13) # Fastest speed.\n",
        "  if length >= 5:\n",
        "    penup()\n",
        "    pensize(2)\n",
        "    pencolor(\"red\")\n",
        "    setpos(x , y)\n",
        "    pendown()\n",
        "    fd(length)  # forward\n",
        "    y -= 80\n",
        "    cantor(x , y , length / 3)\n",
        "    cantor(x + 2 * length / 3 , y , length / 3)\n",
        "    penup()\n",
        "    setpos(x , y + 80)\n",
        "cantor(-400 , 200 , 500)\n",
        "\n"
      ],
      "metadata": {
        "colab": {
          "base_uri": "https://localhost:8080/",
          "height": 641
        },
        "id": "vSKUynwlDQ9a",
        "outputId": "925cec9d-592a-49fb-b1b7-06ff0526dcee"
      },
      "execution_count": null,
      "outputs": [
        {
          "output_type": "display_data",
          "data": {
            "text/plain": [
              "<IPython.core.display.HTML object>"
            ],
            "text/html": [
              "\n",
              "      <svg width=\"800\" height=\"600\">  \n",
              "        <rect width=\"100%\" height=\"100%\" style=\"fill:white;stroke:;stroke-width:1\"/>\n",
              "        \n",
              "        \n",
              "        <line x1=\"0.0\" y1=\"100.0\" x2=\"500.0\" y2=\"100.0\" stroke-linecap=\"round\" style=\"stroke:red;stroke-width:2\" /><line x1=\"0.0\" y1=\"180.0\" x2=\"166.667\" y2=\"180.0\" stroke-linecap=\"round\" style=\"stroke:red;stroke-width:2\" /><line x1=\"0.0\" y1=\"260.0\" x2=\"55.556\" y2=\"260.0\" stroke-linecap=\"round\" style=\"stroke:red;stroke-width:2\" /><line x1=\"0.0\" y1=\"340.0\" x2=\"18.519\" y2=\"340.0\" stroke-linecap=\"round\" style=\"stroke:red;stroke-width:2\" /><line x1=\"0.0\" y1=\"420.0\" x2=\"6.173\" y2=\"420.0\" stroke-linecap=\"round\" style=\"stroke:red;stroke-width:2\" /><line x1=\"12.346\" y1=\"420.0\" x2=\"18.519\" y2=\"420.0\" stroke-linecap=\"round\" style=\"stroke:red;stroke-width:2\" /><line x1=\"37.037\" y1=\"340.0\" x2=\"55.556\" y2=\"340.0\" stroke-linecap=\"round\" style=\"stroke:red;stroke-width:2\" /><line x1=\"37.037\" y1=\"420.0\" x2=\"43.21\" y2=\"420.0\" stroke-linecap=\"round\" style=\"stroke:red;stroke-width:2\" /><line x1=\"49.383\" y1=\"420.0\" x2=\"55.556\" y2=\"420.0\" stroke-linecap=\"round\" style=\"stroke:red;stroke-width:2\" /><line x1=\"111.111\" y1=\"260.0\" x2=\"166.667\" y2=\"260.0\" stroke-linecap=\"round\" style=\"stroke:red;stroke-width:2\" /><line x1=\"111.111\" y1=\"340.0\" x2=\"129.63\" y2=\"340.0\" stroke-linecap=\"round\" style=\"stroke:red;stroke-width:2\" /><line x1=\"111.111\" y1=\"420.0\" x2=\"117.284\" y2=\"420.0\" stroke-linecap=\"round\" style=\"stroke:red;stroke-width:2\" /><line x1=\"123.457\" y1=\"420.0\" x2=\"129.63\" y2=\"420.0\" stroke-linecap=\"round\" style=\"stroke:red;stroke-width:2\" /><line x1=\"148.148\" y1=\"340.0\" x2=\"166.667\" y2=\"340.0\" stroke-linecap=\"round\" style=\"stroke:red;stroke-width:2\" /><line x1=\"148.148\" y1=\"420.0\" x2=\"154.321\" y2=\"420.0\" stroke-linecap=\"round\" style=\"stroke:red;stroke-width:2\" /><line x1=\"160.494\" y1=\"420.0\" x2=\"166.667\" y2=\"420.0\" stroke-linecap=\"round\" style=\"stroke:red;stroke-width:2\" /><line x1=\"333.333\" y1=\"180.0\" x2=\"500.0\" y2=\"180.0\" stroke-linecap=\"round\" style=\"stroke:red;stroke-width:2\" /><line x1=\"333.333\" y1=\"260.0\" x2=\"388.889\" y2=\"260.0\" stroke-linecap=\"round\" style=\"stroke:red;stroke-width:2\" /><line x1=\"333.333\" y1=\"340.0\" x2=\"351.852\" y2=\"340.0\" stroke-linecap=\"round\" style=\"stroke:red;stroke-width:2\" /><line x1=\"333.333\" y1=\"420.0\" x2=\"339.506\" y2=\"420.0\" stroke-linecap=\"round\" style=\"stroke:red;stroke-width:2\" /><line x1=\"345.679\" y1=\"420.0\" x2=\"351.852\" y2=\"420.0\" stroke-linecap=\"round\" style=\"stroke:red;stroke-width:2\" /><line x1=\"370.37\" y1=\"340.0\" x2=\"388.889\" y2=\"340.0\" stroke-linecap=\"round\" style=\"stroke:red;stroke-width:2\" /><line x1=\"370.37\" y1=\"420.0\" x2=\"376.543\" y2=\"420.0\" stroke-linecap=\"round\" style=\"stroke:red;stroke-width:2\" /><line x1=\"382.716\" y1=\"420.0\" x2=\"388.889\" y2=\"420.0\" stroke-linecap=\"round\" style=\"stroke:red;stroke-width:2\" /><line x1=\"444.444\" y1=\"260.0\" x2=\"500.0\" y2=\"260.0\" stroke-linecap=\"round\" style=\"stroke:red;stroke-width:2\" /><line x1=\"444.444\" y1=\"340.0\" x2=\"462.963\" y2=\"340.0\" stroke-linecap=\"round\" style=\"stroke:red;stroke-width:2\" /><line x1=\"444.444\" y1=\"420.0\" x2=\"450.617\" y2=\"420.0\" stroke-linecap=\"round\" style=\"stroke:red;stroke-width:2\" /><line x1=\"456.79\" y1=\"420.0\" x2=\"462.963\" y2=\"420.0\" stroke-linecap=\"round\" style=\"stroke:red;stroke-width:2\" /><line x1=\"481.481\" y1=\"340.0\" x2=\"500.0\" y2=\"340.0\" stroke-linecap=\"round\" style=\"stroke:red;stroke-width:2\" /><line x1=\"481.481\" y1=\"420.0\" x2=\"487.654\" y2=\"420.0\" stroke-linecap=\"round\" style=\"stroke:red;stroke-width:2\" /><line x1=\"493.827\" y1=\"420.0\" x2=\"500.0\" y2=\"420.0\" stroke-linecap=\"round\" style=\"stroke:red;stroke-width:2\" />\n",
              "        \n",
              "        \n",
              "        <g id=\"classic\" visibility=\"visible\" transform=\"rotate(270.0,2.3040741758961758e-08,99.99999990016877) translate(2.3040741758961758e-08, 99.99999990016877)\">\n",
              "<polygon points=\"-5,-4.5 0,-2.5 5,-4.5 0,4.5\" transform=\"skewX(0) scale(1,1)\" style=\"stroke:red;fill:black;stroke-width:1\" />\n",
              "</g>\n",
              "      </svg>\n",
              "    "
            ]
          },
          "metadata": {}
        }
      ]
    },
    {
      "cell_type": "markdown",
      "source": [
        "CLASS EXERCISE BELOW"
      ],
      "metadata": {
        "id": "WRFx09SKL-KN"
      }
    },
    {
      "cell_type": "code",
      "source": [
        "# Remove two middle fifth segments\n",
        "initializeTurtle()\n",
        "def cantor(x , y , length):\n",
        "  speed(13) # Fastest speed.\n",
        "  if length >= 5:\n",
        "    penup()\n",
        "    pensize(2)\n",
        "    pencolor(\"red\")\n",
        "    setpos(x , y)\n",
        "    pendown()\n",
        "    fd(length)  # forward\n",
        "    y -= 80 # y = y - 80, distance between stages\n",
        "    cantor(x , y , length / 5)  # First Segment\n",
        "    cantor(x + 2 * length / 5 , y , length / 5)  # Second Segment\n",
        "    cantor(x + 4 * length / 5 , y , length / 5)  # Third Segment\n",
        "    penup()\n",
        "    setpos(x , y + 80)\n",
        "cantor(-400 , 200 , 500)"
      ],
      "metadata": {
        "colab": {
          "base_uri": "https://localhost:8080/",
          "height": 641
        },
        "id": "vZY4CTaQLry3",
        "outputId": "c60526b2-dc81-4570-c487-6527fc294254"
      },
      "execution_count": null,
      "outputs": [
        {
          "output_type": "display_data",
          "data": {
            "text/plain": [
              "<IPython.core.display.HTML object>"
            ],
            "text/html": [
              "\n",
              "      <svg width=\"800\" height=\"600\">  \n",
              "        <rect width=\"100%\" height=\"100%\" style=\"fill:white;stroke:;stroke-width:1\"/>\n",
              "        \n",
              "        \n",
              "        <line x1=\"0.0\" y1=\"100.0\" x2=\"500.0\" y2=\"100.0\" stroke-linecap=\"round\" style=\"stroke:red;stroke-width:2\" /><line x1=\"0.0\" y1=\"180.0\" x2=\"100.0\" y2=\"180.0\" stroke-linecap=\"round\" style=\"stroke:red;stroke-width:2\" /><line x1=\"0.0\" y1=\"260.0\" x2=\"20.0\" y2=\"260.0\" stroke-linecap=\"round\" style=\"stroke:red;stroke-width:2\" /><line x1=\"40.0\" y1=\"260.0\" x2=\"60.0\" y2=\"260.0\" stroke-linecap=\"round\" style=\"stroke:red;stroke-width:2\" /><line x1=\"80.0\" y1=\"260.0\" x2=\"100.0\" y2=\"260.0\" stroke-linecap=\"round\" style=\"stroke:red;stroke-width:2\" /><line x1=\"200.0\" y1=\"180.0\" x2=\"300.0\" y2=\"180.0\" stroke-linecap=\"round\" style=\"stroke:red;stroke-width:2\" /><line x1=\"200.0\" y1=\"260.0\" x2=\"220.0\" y2=\"260.0\" stroke-linecap=\"round\" style=\"stroke:red;stroke-width:2\" /><line x1=\"240.0\" y1=\"260.0\" x2=\"260.0\" y2=\"260.0\" stroke-linecap=\"round\" style=\"stroke:red;stroke-width:2\" /><line x1=\"280.0\" y1=\"260.0\" x2=\"300.0\" y2=\"260.0\" stroke-linecap=\"round\" style=\"stroke:red;stroke-width:2\" /><line x1=\"400.0\" y1=\"180.0\" x2=\"500.0\" y2=\"180.0\" stroke-linecap=\"round\" style=\"stroke:red;stroke-width:2\" /><line x1=\"400.0\" y1=\"260.0\" x2=\"420.0\" y2=\"260.0\" stroke-linecap=\"round\" style=\"stroke:red;stroke-width:2\" /><line x1=\"440.0\" y1=\"260.0\" x2=\"460.0\" y2=\"260.0\" stroke-linecap=\"round\" style=\"stroke:red;stroke-width:2\" /><line x1=\"480.0\" y1=\"260.0\" x2=\"500.0\" y2=\"260.0\" stroke-linecap=\"round\" style=\"stroke:red;stroke-width:2\" />\n",
              "        \n",
              "        \n",
              "        <g id=\"classic\" visibility=\"visible\" transform=\"rotate(270.0,3.3747796557292986e-08,99.99999981812124) translate(3.3747796557292986e-08, 99.99999981812124)\">\n",
              "<polygon points=\"-5,-4.5 0,-2.5 5,-4.5 0,4.5\" transform=\"skewX(0) scale(1,1)\" style=\"stroke:red;fill:black;stroke-width:1\" />\n",
              "</g>\n",
              "      </svg>\n",
              "    "
            ]
          },
          "metadata": {}
        }
      ]
    },
    {
      "cell_type": "code",
      "source": [
        "# The Koch Snowflake\n",
        "initializeTurtle()\n",
        "pensize(1)\n",
        "penup()\n",
        "setpos(-250 , 200) # To center image.\n",
        "pendown()\n",
        "def KochSnowflake(length, level):\n",
        "  speed(13) # Fastest speed.\n",
        "  for i in range(3):\n",
        "    plot_side(length, level)\n",
        "    rt(120)\n",
        "def plot_side(length, level):\n",
        "  if level==0:\n",
        "    fd(length)\n",
        "    return\n",
        "  plot_side(length/3, level-1)\n",
        "  lt(60) # Left turn 60 degrees.\n",
        "  plot_side(length/3, level-1)\n",
        "  rt(120)\n",
        "  plot_side(length/3, level-1)\n",
        "  lt(60)\n",
        "  plot_side(length/3, level-1)\n",
        "KochSnowflake(300 , 4)\n",
        "\n",
        "\n"
      ],
      "metadata": {
        "colab": {
          "base_uri": "https://localhost:8080/",
          "height": 641
        },
        "id": "FBoX6f2aFK82",
        "outputId": "e6c34f7a-faa0-4c30-d800-2c4acf4f3630"
      },
      "execution_count": null,
      "outputs": [
        {
          "output_type": "display_data",
          "data": {
            "text/plain": [
              "<IPython.core.display.HTML object>"
            ],
            "text/html": [
              "\n",
              "      <svg width=\"800\" height=\"600\">  \n",
              "        <rect width=\"100%\" height=\"100%\" style=\"fill:white;stroke:;stroke-width:1\"/>\n",
              "        \n",
              "        \n",
              "        <line x1=\"150.0\" y1=\"100.0\" x2=\"153.704\" y2=\"100.0\" stroke-linecap=\"round\" style=\"stroke:black;stroke-width:1\" /><line x1=\"153.704\" y1=\"100.0\" x2=\"155.556\" y2=\"96.792\" stroke-linecap=\"round\" style=\"stroke:black;stroke-width:1\" /><line x1=\"155.556\" y1=\"96.792\" x2=\"157.408\" y2=\"100.0\" stroke-linecap=\"round\" style=\"stroke:black;stroke-width:1\" /><line x1=\"157.408\" y1=\"100.0\" x2=\"161.112\" y2=\"100.0\" stroke-linecap=\"round\" style=\"stroke:black;stroke-width:1\" /><line x1=\"161.112\" y1=\"100.0\" x2=\"162.964\" y2=\"96.792\" stroke-linecap=\"round\" style=\"stroke:black;stroke-width:1\" /><line x1=\"162.964\" y1=\"96.792\" x2=\"161.112\" y2=\"93.584\" stroke-linecap=\"round\" style=\"stroke:black;stroke-width:1\" /><line x1=\"161.112\" y1=\"93.584\" x2=\"164.816\" y2=\"93.584\" stroke-linecap=\"round\" style=\"stroke:black;stroke-width:1\" /><line x1=\"164.816\" y1=\"93.584\" x2=\"166.668\" y2=\"90.376\" stroke-linecap=\"round\" style=\"stroke:black;stroke-width:1\" /><line x1=\"166.668\" y1=\"90.376\" x2=\"168.52\" y2=\"93.584\" stroke-linecap=\"round\" style=\"stroke:black;stroke-width:1\" /><line x1=\"168.52\" y1=\"93.584\" x2=\"172.224\" y2=\"93.584\" stroke-linecap=\"round\" style=\"stroke:black;stroke-width:1\" /><line x1=\"172.224\" y1=\"93.584\" x2=\"170.372\" y2=\"96.792\" stroke-linecap=\"round\" style=\"stroke:black;stroke-width:1\" /><line x1=\"170.372\" y1=\"96.792\" x2=\"172.224\" y2=\"100.0\" stroke-linecap=\"round\" style=\"stroke:black;stroke-width:1\" /><line x1=\"172.224\" y1=\"100.0\" x2=\"175.928\" y2=\"100.0\" stroke-linecap=\"round\" style=\"stroke:black;stroke-width:1\" /><line x1=\"175.928\" y1=\"100.0\" x2=\"177.78\" y2=\"96.792\" stroke-linecap=\"round\" style=\"stroke:black;stroke-width:1\" /><line x1=\"177.78\" y1=\"96.792\" x2=\"179.632\" y2=\"100.0\" stroke-linecap=\"round\" style=\"stroke:black;stroke-width:1\" /><line x1=\"179.632\" y1=\"100.0\" x2=\"183.336\" y2=\"100.0\" stroke-linecap=\"round\" style=\"stroke:black;stroke-width:1\" /><line x1=\"183.336\" y1=\"100.0\" x2=\"185.188\" y2=\"96.792\" stroke-linecap=\"round\" style=\"stroke:black;stroke-width:1\" /><line x1=\"185.188\" y1=\"96.792\" x2=\"183.336\" y2=\"93.584\" stroke-linecap=\"round\" style=\"stroke:black;stroke-width:1\" /><line x1=\"183.336\" y1=\"93.584\" x2=\"187.04\" y2=\"93.584\" stroke-linecap=\"round\" style=\"stroke:black;stroke-width:1\" /><line x1=\"187.04\" y1=\"93.584\" x2=\"188.892\" y2=\"90.376\" stroke-linecap=\"round\" style=\"stroke:black;stroke-width:1\" /><line x1=\"188.892\" y1=\"90.376\" x2=\"187.04\" y2=\"87.168\" stroke-linecap=\"round\" style=\"stroke:black;stroke-width:1\" /><line x1=\"187.04\" y1=\"87.168\" x2=\"183.336\" y2=\"87.168\" stroke-linecap=\"round\" style=\"stroke:black;stroke-width:1\" /><line x1=\"183.336\" y1=\"87.168\" x2=\"185.188\" y2=\"83.96\" stroke-linecap=\"round\" style=\"stroke:black;stroke-width:1\" /><line x1=\"185.188\" y1=\"83.96\" x2=\"183.336\" y2=\"80.752\" stroke-linecap=\"round\" style=\"stroke:black;stroke-width:1\" /><line x1=\"183.336\" y1=\"80.752\" x2=\"187.04\" y2=\"80.752\" stroke-linecap=\"round\" style=\"stroke:black;stroke-width:1\" /><line x1=\"187.04\" y1=\"80.752\" x2=\"188.892\" y2=\"77.544\" stroke-linecap=\"round\" style=\"stroke:black;stroke-width:1\" /><line x1=\"188.892\" y1=\"77.544\" x2=\"190.744\" y2=\"80.752\" stroke-linecap=\"round\" style=\"stroke:black;stroke-width:1\" /><line x1=\"190.744\" y1=\"80.752\" x2=\"194.448\" y2=\"80.752\" stroke-linecap=\"round\" style=\"stroke:black;stroke-width:1\" /><line x1=\"194.448\" y1=\"80.752\" x2=\"196.3\" y2=\"77.544\" stroke-linecap=\"round\" style=\"stroke:black;stroke-width:1\" /><line x1=\"196.3\" y1=\"77.544\" x2=\"194.448\" y2=\"74.336\" stroke-linecap=\"round\" style=\"stroke:black;stroke-width:1\" /><line x1=\"194.448\" y1=\"74.336\" x2=\"198.152\" y2=\"74.336\" stroke-linecap=\"round\" style=\"stroke:black;stroke-width:1\" /><line x1=\"198.152\" y1=\"74.336\" x2=\"200.004\" y2=\"71.128\" stroke-linecap=\"round\" style=\"stroke:black;stroke-width:1\" /><line x1=\"200.004\" y1=\"71.128\" x2=\"201.856\" y2=\"74.336\" stroke-linecap=\"round\" style=\"stroke:black;stroke-width:1\" /><line x1=\"201.856\" y1=\"74.336\" x2=\"205.56\" y2=\"74.336\" stroke-linecap=\"round\" style=\"stroke:black;stroke-width:1\" /><line x1=\"205.56\" y1=\"74.336\" x2=\"203.708\" y2=\"77.544\" stroke-linecap=\"round\" style=\"stroke:black;stroke-width:1\" /><line x1=\"203.708\" y1=\"77.544\" x2=\"205.56\" y2=\"80.752\" stroke-linecap=\"round\" style=\"stroke:black;stroke-width:1\" /><line x1=\"205.56\" y1=\"80.752\" x2=\"209.264\" y2=\"80.752\" stroke-linecap=\"round\" style=\"stroke:black;stroke-width:1\" /><line x1=\"209.264\" y1=\"80.752\" x2=\"211.116\" y2=\"77.544\" stroke-linecap=\"round\" style=\"stroke:black;stroke-width:1\" /><line x1=\"211.116\" y1=\"77.544\" x2=\"212.968\" y2=\"80.752\" stroke-linecap=\"round\" style=\"stroke:black;stroke-width:1\" /><line x1=\"212.968\" y1=\"80.752\" x2=\"216.672\" y2=\"80.752\" stroke-linecap=\"round\" style=\"stroke:black;stroke-width:1\" /><line x1=\"216.672\" y1=\"80.752\" x2=\"214.82\" y2=\"83.96\" stroke-linecap=\"round\" style=\"stroke:black;stroke-width:1\" /><line x1=\"214.82\" y1=\"83.96\" x2=\"216.672\" y2=\"87.168\" stroke-linecap=\"round\" style=\"stroke:black;stroke-width:1\" /><line x1=\"216.672\" y1=\"87.168\" x2=\"212.968\" y2=\"87.168\" stroke-linecap=\"round\" style=\"stroke:black;stroke-width:1\" /><line x1=\"212.968\" y1=\"87.168\" x2=\"211.116\" y2=\"90.376\" stroke-linecap=\"round\" style=\"stroke:black;stroke-width:1\" /><line x1=\"211.116\" y1=\"90.376\" x2=\"212.968\" y2=\"93.584\" stroke-linecap=\"round\" style=\"stroke:black;stroke-width:1\" /><line x1=\"212.968\" y1=\"93.584\" x2=\"216.672\" y2=\"93.584\" stroke-linecap=\"round\" style=\"stroke:black;stroke-width:1\" /><line x1=\"216.672\" y1=\"93.584\" x2=\"214.82\" y2=\"96.792\" stroke-linecap=\"round\" style=\"stroke:black;stroke-width:1\" /><line x1=\"214.82\" y1=\"96.792\" x2=\"216.672\" y2=\"100.0\" stroke-linecap=\"round\" style=\"stroke:black;stroke-width:1\" /><line x1=\"216.672\" y1=\"100.0\" x2=\"220.376\" y2=\"100.0\" stroke-linecap=\"round\" style=\"stroke:black;stroke-width:1\" /><line x1=\"220.376\" y1=\"100.0\" x2=\"222.228\" y2=\"96.792\" stroke-linecap=\"round\" style=\"stroke:black;stroke-width:1\" /><line x1=\"222.228\" y1=\"96.792\" x2=\"224.08\" y2=\"100.0\" stroke-linecap=\"round\" style=\"stroke:black;stroke-width:1\" /><line x1=\"224.08\" y1=\"100.0\" x2=\"227.784\" y2=\"100.0\" stroke-linecap=\"round\" style=\"stroke:black;stroke-width:1\" /><line x1=\"227.784\" y1=\"100.0\" x2=\"229.636\" y2=\"96.792\" stroke-linecap=\"round\" style=\"stroke:black;stroke-width:1\" /><line x1=\"229.636\" y1=\"96.792\" x2=\"227.784\" y2=\"93.584\" stroke-linecap=\"round\" style=\"stroke:black;stroke-width:1\" /><line x1=\"227.784\" y1=\"93.584\" x2=\"231.488\" y2=\"93.584\" stroke-linecap=\"round\" style=\"stroke:black;stroke-width:1\" /><line x1=\"231.488\" y1=\"93.584\" x2=\"233.34\" y2=\"90.376\" stroke-linecap=\"round\" style=\"stroke:black;stroke-width:1\" /><line x1=\"233.34\" y1=\"90.376\" x2=\"235.192\" y2=\"93.584\" stroke-linecap=\"round\" style=\"stroke:black;stroke-width:1\" /><line x1=\"235.192\" y1=\"93.584\" x2=\"238.896\" y2=\"93.584\" stroke-linecap=\"round\" style=\"stroke:black;stroke-width:1\" /><line x1=\"238.896\" y1=\"93.584\" x2=\"237.044\" y2=\"96.792\" stroke-linecap=\"round\" style=\"stroke:black;stroke-width:1\" /><line x1=\"237.044\" y1=\"96.792\" x2=\"238.896\" y2=\"100.0\" stroke-linecap=\"round\" style=\"stroke:black;stroke-width:1\" /><line x1=\"238.896\" y1=\"100.0\" x2=\"242.6\" y2=\"100.0\" stroke-linecap=\"round\" style=\"stroke:black;stroke-width:1\" /><line x1=\"242.6\" y1=\"100.0\" x2=\"244.452\" y2=\"96.792\" stroke-linecap=\"round\" style=\"stroke:black;stroke-width:1\" /><line x1=\"244.452\" y1=\"96.792\" x2=\"246.304\" y2=\"100.0\" stroke-linecap=\"round\" style=\"stroke:black;stroke-width:1\" /><line x1=\"246.304\" y1=\"100.0\" x2=\"250.008\" y2=\"100.0\" stroke-linecap=\"round\" style=\"stroke:black;stroke-width:1\" /><line x1=\"250.008\" y1=\"100.0\" x2=\"251.86\" y2=\"96.792\" stroke-linecap=\"round\" style=\"stroke:black;stroke-width:1\" /><line x1=\"251.86\" y1=\"96.792\" x2=\"250.008\" y2=\"93.584\" stroke-linecap=\"round\" style=\"stroke:black;stroke-width:1\" /><line x1=\"250.008\" y1=\"93.584\" x2=\"253.712\" y2=\"93.584\" stroke-linecap=\"round\" style=\"stroke:black;stroke-width:1\" /><line x1=\"253.712\" y1=\"93.584\" x2=\"255.564\" y2=\"90.376\" stroke-linecap=\"round\" style=\"stroke:black;stroke-width:1\" /><line x1=\"255.564\" y1=\"90.376\" x2=\"253.712\" y2=\"87.168\" stroke-linecap=\"round\" style=\"stroke:black;stroke-width:1\" /><line x1=\"253.712\" y1=\"87.168\" x2=\"250.008\" y2=\"87.168\" stroke-linecap=\"round\" style=\"stroke:black;stroke-width:1\" /><line x1=\"250.008\" y1=\"87.168\" x2=\"251.86\" y2=\"83.96\" stroke-linecap=\"round\" style=\"stroke:black;stroke-width:1\" /><line x1=\"251.86\" y1=\"83.96\" x2=\"250.008\" y2=\"80.752\" stroke-linecap=\"round\" style=\"stroke:black;stroke-width:1\" /><line x1=\"250.008\" y1=\"80.752\" x2=\"253.712\" y2=\"80.752\" stroke-linecap=\"round\" style=\"stroke:black;stroke-width:1\" /><line x1=\"253.712\" y1=\"80.752\" x2=\"255.564\" y2=\"77.544\" stroke-linecap=\"round\" style=\"stroke:black;stroke-width:1\" /><line x1=\"255.564\" y1=\"77.544\" x2=\"257.416\" y2=\"80.752\" stroke-linecap=\"round\" style=\"stroke:black;stroke-width:1\" /><line x1=\"257.416\" y1=\"80.752\" x2=\"261.12\" y2=\"80.752\" stroke-linecap=\"round\" style=\"stroke:black;stroke-width:1\" /><line x1=\"261.12\" y1=\"80.752\" x2=\"262.972\" y2=\"77.544\" stroke-linecap=\"round\" style=\"stroke:black;stroke-width:1\" /><line x1=\"262.972\" y1=\"77.544\" x2=\"261.12\" y2=\"74.336\" stroke-linecap=\"round\" style=\"stroke:black;stroke-width:1\" /><line x1=\"261.12\" y1=\"74.336\" x2=\"264.824\" y2=\"74.336\" stroke-linecap=\"round\" style=\"stroke:black;stroke-width:1\" /><line x1=\"264.824\" y1=\"74.336\" x2=\"266.676\" y2=\"71.128\" stroke-linecap=\"round\" style=\"stroke:black;stroke-width:1\" /><line x1=\"266.676\" y1=\"71.128\" x2=\"264.824\" y2=\"67.92\" stroke-linecap=\"round\" style=\"stroke:black;stroke-width:1\" /><line x1=\"264.824\" y1=\"67.92\" x2=\"261.12\" y2=\"67.92\" stroke-linecap=\"round\" style=\"stroke:black;stroke-width:1\" /><line x1=\"261.12\" y1=\"67.92\" x2=\"262.972\" y2=\"64.712\" stroke-linecap=\"round\" style=\"stroke:black;stroke-width:1\" /><line x1=\"262.972\" y1=\"64.712\" x2=\"261.12\" y2=\"61.504\" stroke-linecap=\"round\" style=\"stroke:black;stroke-width:1\" /><line x1=\"261.12\" y1=\"61.504\" x2=\"257.416\" y2=\"61.504\" stroke-linecap=\"round\" style=\"stroke:black;stroke-width:1\" /><line x1=\"257.416\" y1=\"61.504\" x2=\"255.564\" y2=\"64.712\" stroke-linecap=\"round\" style=\"stroke:black;stroke-width:1\" /><line x1=\"255.564\" y1=\"64.712\" x2=\"253.712\" y2=\"61.504\" stroke-linecap=\"round\" style=\"stroke:black;stroke-width:1\" /><line x1=\"253.712\" y1=\"61.504\" x2=\"250.008\" y2=\"61.504\" stroke-linecap=\"round\" style=\"stroke:black;stroke-width:1\" /><line x1=\"250.008\" y1=\"61.504\" x2=\"251.86\" y2=\"58.296\" stroke-linecap=\"round\" style=\"stroke:black;stroke-width:1\" /><line x1=\"251.86\" y1=\"58.296\" x2=\"250.008\" y2=\"55.088\" stroke-linecap=\"round\" style=\"stroke:black;stroke-width:1\" /><line x1=\"250.008\" y1=\"55.088\" x2=\"253.712\" y2=\"55.088\" stroke-linecap=\"round\" style=\"stroke:black;stroke-width:1\" /><line x1=\"253.712\" y1=\"55.088\" x2=\"255.564\" y2=\"51.88\" stroke-linecap=\"round\" style=\"stroke:black;stroke-width:1\" /><line x1=\"255.564\" y1=\"51.88\" x2=\"253.712\" y2=\"48.672\" stroke-linecap=\"round\" style=\"stroke:black;stroke-width:1\" /><line x1=\"253.712\" y1=\"48.672\" x2=\"250.008\" y2=\"48.672\" stroke-linecap=\"round\" style=\"stroke:black;stroke-width:1\" /><line x1=\"250.008\" y1=\"48.672\" x2=\"251.86\" y2=\"45.464\" stroke-linecap=\"round\" style=\"stroke:black;stroke-width:1\" /><line x1=\"251.86\" y1=\"45.464\" x2=\"250.008\" y2=\"42.256\" stroke-linecap=\"round\" style=\"stroke:black;stroke-width:1\" /><line x1=\"250.008\" y1=\"42.256\" x2=\"253.712\" y2=\"42.256\" stroke-linecap=\"round\" style=\"stroke:black;stroke-width:1\" /><line x1=\"253.712\" y1=\"42.256\" x2=\"255.564\" y2=\"39.048\" stroke-linecap=\"round\" style=\"stroke:black;stroke-width:1\" /><line x1=\"255.564\" y1=\"39.048\" x2=\"257.416\" y2=\"42.256\" stroke-linecap=\"round\" style=\"stroke:black;stroke-width:1\" /><line x1=\"257.416\" y1=\"42.256\" x2=\"261.12\" y2=\"42.256\" stroke-linecap=\"round\" style=\"stroke:black;stroke-width:1\" /><line x1=\"261.12\" y1=\"42.256\" x2=\"262.972\" y2=\"39.048\" stroke-linecap=\"round\" style=\"stroke:black;stroke-width:1\" /><line x1=\"262.972\" y1=\"39.048\" x2=\"261.12\" y2=\"35.84\" stroke-linecap=\"round\" style=\"stroke:black;stroke-width:1\" /><line x1=\"261.12\" y1=\"35.84\" x2=\"264.824\" y2=\"35.84\" stroke-linecap=\"round\" style=\"stroke:black;stroke-width:1\" /><line x1=\"264.824\" y1=\"35.84\" x2=\"266.676\" y2=\"32.632\" stroke-linecap=\"round\" style=\"stroke:black;stroke-width:1\" /><line x1=\"266.676\" y1=\"32.632\" x2=\"268.528\" y2=\"35.84\" stroke-linecap=\"round\" style=\"stroke:black;stroke-width:1\" /><line x1=\"268.528\" y1=\"35.84\" x2=\"272.232\" y2=\"35.84\" stroke-linecap=\"round\" style=\"stroke:black;stroke-width:1\" /><line x1=\"272.232\" y1=\"35.84\" x2=\"270.38\" y2=\"39.048\" stroke-linecap=\"round\" style=\"stroke:black;stroke-width:1\" /><line x1=\"270.38\" y1=\"39.048\" x2=\"272.232\" y2=\"42.256\" stroke-linecap=\"round\" style=\"stroke:black;stroke-width:1\" /><line x1=\"272.232\" y1=\"42.256\" x2=\"275.936\" y2=\"42.256\" stroke-linecap=\"round\" style=\"stroke:black;stroke-width:1\" /><line x1=\"275.936\" y1=\"42.256\" x2=\"277.788\" y2=\"39.048\" stroke-linecap=\"round\" style=\"stroke:black;stroke-width:1\" /><line x1=\"277.788\" y1=\"39.048\" x2=\"279.64\" y2=\"42.256\" stroke-linecap=\"round\" style=\"stroke:black;stroke-width:1\" /><line x1=\"279.64\" y1=\"42.256\" x2=\"283.344\" y2=\"42.256\" stroke-linecap=\"round\" style=\"stroke:black;stroke-width:1\" /><line x1=\"283.344\" y1=\"42.256\" x2=\"285.196\" y2=\"39.048\" stroke-linecap=\"round\" style=\"stroke:black;stroke-width:1\" /><line x1=\"285.196\" y1=\"39.048\" x2=\"283.344\" y2=\"35.84\" stroke-linecap=\"round\" style=\"stroke:black;stroke-width:1\" /><line x1=\"283.344\" y1=\"35.84\" x2=\"287.048\" y2=\"35.84\" stroke-linecap=\"round\" style=\"stroke:black;stroke-width:1\" /><line x1=\"287.048\" y1=\"35.84\" x2=\"288.9\" y2=\"32.632\" stroke-linecap=\"round\" style=\"stroke:black;stroke-width:1\" /><line x1=\"288.9\" y1=\"32.632\" x2=\"287.048\" y2=\"29.424\" stroke-linecap=\"round\" style=\"stroke:black;stroke-width:1\" /><line x1=\"287.048\" y1=\"29.424\" x2=\"283.344\" y2=\"29.424\" stroke-linecap=\"round\" style=\"stroke:black;stroke-width:1\" /><line x1=\"283.344\" y1=\"29.424\" x2=\"285.196\" y2=\"26.216\" stroke-linecap=\"round\" style=\"stroke:black;stroke-width:1\" /><line x1=\"285.196\" y1=\"26.216\" x2=\"283.344\" y2=\"23.008\" stroke-linecap=\"round\" style=\"stroke:black;stroke-width:1\" /><line x1=\"283.344\" y1=\"23.008\" x2=\"287.048\" y2=\"23.008\" stroke-linecap=\"round\" style=\"stroke:black;stroke-width:1\" /><line x1=\"287.048\" y1=\"23.008\" x2=\"288.9\" y2=\"19.8\" stroke-linecap=\"round\" style=\"stroke:black;stroke-width:1\" /><line x1=\"288.9\" y1=\"19.8\" x2=\"290.752\" y2=\"23.008\" stroke-linecap=\"round\" style=\"stroke:black;stroke-width:1\" /><line x1=\"290.752\" y1=\"23.008\" x2=\"294.456\" y2=\"23.008\" stroke-linecap=\"round\" style=\"stroke:black;stroke-width:1\" /><line x1=\"294.456\" y1=\"23.008\" x2=\"296.308\" y2=\"19.8\" stroke-linecap=\"round\" style=\"stroke:black;stroke-width:1\" /><line x1=\"296.308\" y1=\"19.8\" x2=\"294.456\" y2=\"16.592\" stroke-linecap=\"round\" style=\"stroke:black;stroke-width:1\" /><line x1=\"294.456\" y1=\"16.592\" x2=\"298.16\" y2=\"16.592\" stroke-linecap=\"round\" style=\"stroke:black;stroke-width:1\" /><line x1=\"298.16\" y1=\"16.592\" x2=\"300.012\" y2=\"13.384\" stroke-linecap=\"round\" style=\"stroke:black;stroke-width:1\" /><line x1=\"300.012\" y1=\"13.384\" x2=\"301.864\" y2=\"16.592\" stroke-linecap=\"round\" style=\"stroke:black;stroke-width:1\" /><line x1=\"301.864\" y1=\"16.592\" x2=\"305.568\" y2=\"16.592\" stroke-linecap=\"round\" style=\"stroke:black;stroke-width:1\" /><line x1=\"305.568\" y1=\"16.592\" x2=\"303.716\" y2=\"19.8\" stroke-linecap=\"round\" style=\"stroke:black;stroke-width:1\" /><line x1=\"303.716\" y1=\"19.8\" x2=\"305.568\" y2=\"23.008\" stroke-linecap=\"round\" style=\"stroke:black;stroke-width:1\" /><line x1=\"305.568\" y1=\"23.008\" x2=\"309.272\" y2=\"23.008\" stroke-linecap=\"round\" style=\"stroke:black;stroke-width:1\" /><line x1=\"309.272\" y1=\"23.008\" x2=\"311.124\" y2=\"19.8\" stroke-linecap=\"round\" style=\"stroke:black;stroke-width:1\" /><line x1=\"311.124\" y1=\"19.8\" x2=\"312.976\" y2=\"23.008\" stroke-linecap=\"round\" style=\"stroke:black;stroke-width:1\" /><line x1=\"312.976\" y1=\"23.008\" x2=\"316.68\" y2=\"23.008\" stroke-linecap=\"round\" style=\"stroke:black;stroke-width:1\" /><line x1=\"316.68\" y1=\"23.008\" x2=\"314.828\" y2=\"26.216\" stroke-linecap=\"round\" style=\"stroke:black;stroke-width:1\" /><line x1=\"314.828\" y1=\"26.216\" x2=\"316.68\" y2=\"29.424\" stroke-linecap=\"round\" style=\"stroke:black;stroke-width:1\" /><line x1=\"316.68\" y1=\"29.424\" x2=\"312.976\" y2=\"29.424\" stroke-linecap=\"round\" style=\"stroke:black;stroke-width:1\" /><line x1=\"312.976\" y1=\"29.424\" x2=\"311.124\" y2=\"32.632\" stroke-linecap=\"round\" style=\"stroke:black;stroke-width:1\" /><line x1=\"311.124\" y1=\"32.632\" x2=\"312.976\" y2=\"35.84\" stroke-linecap=\"round\" style=\"stroke:black;stroke-width:1\" /><line x1=\"312.976\" y1=\"35.84\" x2=\"316.68\" y2=\"35.84\" stroke-linecap=\"round\" style=\"stroke:black;stroke-width:1\" /><line x1=\"316.68\" y1=\"35.84\" x2=\"314.828\" y2=\"39.048\" stroke-linecap=\"round\" style=\"stroke:black;stroke-width:1\" /><line x1=\"314.828\" y1=\"39.048\" x2=\"316.68\" y2=\"42.256\" stroke-linecap=\"round\" style=\"stroke:black;stroke-width:1\" /><line x1=\"316.68\" y1=\"42.256\" x2=\"320.384\" y2=\"42.256\" stroke-linecap=\"round\" style=\"stroke:black;stroke-width:1\" /><line x1=\"320.384\" y1=\"42.256\" x2=\"322.236\" y2=\"39.048\" stroke-linecap=\"round\" style=\"stroke:black;stroke-width:1\" /><line x1=\"322.236\" y1=\"39.048\" x2=\"324.088\" y2=\"42.256\" stroke-linecap=\"round\" style=\"stroke:black;stroke-width:1\" /><line x1=\"324.088\" y1=\"42.256\" x2=\"327.792\" y2=\"42.256\" stroke-linecap=\"round\" style=\"stroke:black;stroke-width:1\" /><line x1=\"327.792\" y1=\"42.256\" x2=\"329.644\" y2=\"39.048\" stroke-linecap=\"round\" style=\"stroke:black;stroke-width:1\" /><line x1=\"329.644\" y1=\"39.048\" x2=\"327.792\" y2=\"35.84\" stroke-linecap=\"round\" style=\"stroke:black;stroke-width:1\" /><line x1=\"327.792\" y1=\"35.84\" x2=\"331.496\" y2=\"35.84\" stroke-linecap=\"round\" style=\"stroke:black;stroke-width:1\" /><line x1=\"331.496\" y1=\"35.84\" x2=\"333.348\" y2=\"32.632\" stroke-linecap=\"round\" style=\"stroke:black;stroke-width:1\" /><line x1=\"333.348\" y1=\"32.632\" x2=\"335.2\" y2=\"35.84\" stroke-linecap=\"round\" style=\"stroke:black;stroke-width:1\" /><line x1=\"335.2\" y1=\"35.84\" x2=\"338.904\" y2=\"35.84\" stroke-linecap=\"round\" style=\"stroke:black;stroke-width:1\" /><line x1=\"338.904\" y1=\"35.84\" x2=\"337.052\" y2=\"39.048\" stroke-linecap=\"round\" style=\"stroke:black;stroke-width:1\" /><line x1=\"337.052\" y1=\"39.048\" x2=\"338.904\" y2=\"42.256\" stroke-linecap=\"round\" style=\"stroke:black;stroke-width:1\" /><line x1=\"338.904\" y1=\"42.256\" x2=\"342.608\" y2=\"42.256\" stroke-linecap=\"round\" style=\"stroke:black;stroke-width:1\" /><line x1=\"342.608\" y1=\"42.256\" x2=\"344.46\" y2=\"39.048\" stroke-linecap=\"round\" style=\"stroke:black;stroke-width:1\" /><line x1=\"344.46\" y1=\"39.048\" x2=\"346.312\" y2=\"42.256\" stroke-linecap=\"round\" style=\"stroke:black;stroke-width:1\" /><line x1=\"346.312\" y1=\"42.256\" x2=\"350.016\" y2=\"42.256\" stroke-linecap=\"round\" style=\"stroke:black;stroke-width:1\" /><line x1=\"350.016\" y1=\"42.256\" x2=\"348.164\" y2=\"45.464\" stroke-linecap=\"round\" style=\"stroke:black;stroke-width:1\" /><line x1=\"348.164\" y1=\"45.464\" x2=\"350.016\" y2=\"48.672\" stroke-linecap=\"round\" style=\"stroke:black;stroke-width:1\" /><line x1=\"350.016\" y1=\"48.672\" x2=\"346.312\" y2=\"48.672\" stroke-linecap=\"round\" style=\"stroke:black;stroke-width:1\" /><line x1=\"346.312\" y1=\"48.672\" x2=\"344.46\" y2=\"51.88\" stroke-linecap=\"round\" style=\"stroke:black;stroke-width:1\" /><line x1=\"344.46\" y1=\"51.88\" x2=\"346.312\" y2=\"55.088\" stroke-linecap=\"round\" style=\"stroke:black;stroke-width:1\" /><line x1=\"346.312\" y1=\"55.088\" x2=\"350.016\" y2=\"55.088\" stroke-linecap=\"round\" style=\"stroke:black;stroke-width:1\" /><line x1=\"350.016\" y1=\"55.088\" x2=\"348.164\" y2=\"58.296\" stroke-linecap=\"round\" style=\"stroke:black;stroke-width:1\" /><line x1=\"348.164\" y1=\"58.296\" x2=\"350.016\" y2=\"61.504\" stroke-linecap=\"round\" style=\"stroke:black;stroke-width:1\" /><line x1=\"350.016\" y1=\"61.504\" x2=\"346.312\" y2=\"61.504\" stroke-linecap=\"round\" style=\"stroke:black;stroke-width:1\" /><line x1=\"346.312\" y1=\"61.504\" x2=\"344.46\" y2=\"64.712\" stroke-linecap=\"round\" style=\"stroke:black;stroke-width:1\" /><line x1=\"344.46\" y1=\"64.712\" x2=\"342.608\" y2=\"61.504\" stroke-linecap=\"round\" style=\"stroke:black;stroke-width:1\" /><line x1=\"342.608\" y1=\"61.504\" x2=\"338.904\" y2=\"61.504\" stroke-linecap=\"round\" style=\"stroke:black;stroke-width:1\" /><line x1=\"338.904\" y1=\"61.504\" x2=\"337.052\" y2=\"64.712\" stroke-linecap=\"round\" style=\"stroke:black;stroke-width:1\" /><line x1=\"337.052\" y1=\"64.712\" x2=\"338.904\" y2=\"67.92\" stroke-linecap=\"round\" style=\"stroke:black;stroke-width:1\" /><line x1=\"338.904\" y1=\"67.92\" x2=\"335.2\" y2=\"67.92\" stroke-linecap=\"round\" style=\"stroke:black;stroke-width:1\" /><line x1=\"335.2\" y1=\"67.92\" x2=\"333.348\" y2=\"71.128\" stroke-linecap=\"round\" style=\"stroke:black;stroke-width:1\" /><line x1=\"333.348\" y1=\"71.128\" x2=\"335.2\" y2=\"74.336\" stroke-linecap=\"round\" style=\"stroke:black;stroke-width:1\" /><line x1=\"335.2\" y1=\"74.336\" x2=\"338.904\" y2=\"74.336\" stroke-linecap=\"round\" style=\"stroke:black;stroke-width:1\" /><line x1=\"338.904\" y1=\"74.336\" x2=\"337.052\" y2=\"77.544\" stroke-linecap=\"round\" style=\"stroke:black;stroke-width:1\" /><line x1=\"337.052\" y1=\"77.544\" x2=\"338.904\" y2=\"80.752\" stroke-linecap=\"round\" style=\"stroke:black;stroke-width:1\" /><line x1=\"338.904\" y1=\"80.752\" x2=\"342.608\" y2=\"80.752\" stroke-linecap=\"round\" style=\"stroke:black;stroke-width:1\" /><line x1=\"342.608\" y1=\"80.752\" x2=\"344.46\" y2=\"77.544\" stroke-linecap=\"round\" style=\"stroke:black;stroke-width:1\" /><line x1=\"344.46\" y1=\"77.544\" x2=\"346.312\" y2=\"80.752\" stroke-linecap=\"round\" style=\"stroke:black;stroke-width:1\" /><line x1=\"346.312\" y1=\"80.752\" x2=\"350.016\" y2=\"80.752\" stroke-linecap=\"round\" style=\"stroke:black;stroke-width:1\" /><line x1=\"350.016\" y1=\"80.752\" x2=\"348.164\" y2=\"83.96\" stroke-linecap=\"round\" style=\"stroke:black;stroke-width:1\" /><line x1=\"348.164\" y1=\"83.96\" x2=\"350.016\" y2=\"87.168\" stroke-linecap=\"round\" style=\"stroke:black;stroke-width:1\" /><line x1=\"350.016\" y1=\"87.168\" x2=\"346.312\" y2=\"87.168\" stroke-linecap=\"round\" style=\"stroke:black;stroke-width:1\" /><line x1=\"346.312\" y1=\"87.168\" x2=\"344.46\" y2=\"90.376\" stroke-linecap=\"round\" style=\"stroke:black;stroke-width:1\" /><line x1=\"344.46\" y1=\"90.376\" x2=\"346.312\" y2=\"93.584\" stroke-linecap=\"round\" style=\"stroke:black;stroke-width:1\" /><line x1=\"346.312\" y1=\"93.584\" x2=\"350.016\" y2=\"93.584\" stroke-linecap=\"round\" style=\"stroke:black;stroke-width:1\" /><line x1=\"350.016\" y1=\"93.584\" x2=\"348.164\" y2=\"96.792\" stroke-linecap=\"round\" style=\"stroke:black;stroke-width:1\" /><line x1=\"348.164\" y1=\"96.792\" x2=\"350.016\" y2=\"100.0\" stroke-linecap=\"round\" style=\"stroke:black;stroke-width:1\" /><line x1=\"350.016\" y1=\"100.0\" x2=\"353.72\" y2=\"100.0\" stroke-linecap=\"round\" style=\"stroke:black;stroke-width:1\" /><line x1=\"353.72\" y1=\"100.0\" x2=\"355.572\" y2=\"96.792\" stroke-linecap=\"round\" style=\"stroke:black;stroke-width:1\" /><line x1=\"355.572\" y1=\"96.792\" x2=\"357.424\" y2=\"100.0\" stroke-linecap=\"round\" style=\"stroke:black;stroke-width:1\" /><line x1=\"357.424\" y1=\"100.0\" x2=\"361.128\" y2=\"100.0\" stroke-linecap=\"round\" style=\"stroke:black;stroke-width:1\" /><line x1=\"361.128\" y1=\"100.0\" x2=\"362.98\" y2=\"96.792\" stroke-linecap=\"round\" style=\"stroke:black;stroke-width:1\" /><line x1=\"362.98\" y1=\"96.792\" x2=\"361.128\" y2=\"93.584\" stroke-linecap=\"round\" style=\"stroke:black;stroke-width:1\" /><line x1=\"361.128\" y1=\"93.584\" x2=\"364.832\" y2=\"93.584\" stroke-linecap=\"round\" style=\"stroke:black;stroke-width:1\" /><line x1=\"364.832\" y1=\"93.584\" x2=\"366.684\" y2=\"90.376\" stroke-linecap=\"round\" style=\"stroke:black;stroke-width:1\" /><line x1=\"366.684\" y1=\"90.376\" x2=\"368.536\" y2=\"93.584\" stroke-linecap=\"round\" style=\"stroke:black;stroke-width:1\" /><line x1=\"368.536\" y1=\"93.584\" x2=\"372.24\" y2=\"93.584\" stroke-linecap=\"round\" style=\"stroke:black;stroke-width:1\" /><line x1=\"372.24\" y1=\"93.584\" x2=\"370.388\" y2=\"96.792\" stroke-linecap=\"round\" style=\"stroke:black;stroke-width:1\" /><line x1=\"370.388\" y1=\"96.792\" x2=\"372.24\" y2=\"100.0\" stroke-linecap=\"round\" style=\"stroke:black;stroke-width:1\" /><line x1=\"372.24\" y1=\"100.0\" x2=\"375.944\" y2=\"100.0\" stroke-linecap=\"round\" style=\"stroke:black;stroke-width:1\" /><line x1=\"375.944\" y1=\"100.0\" x2=\"377.796\" y2=\"96.792\" stroke-linecap=\"round\" style=\"stroke:black;stroke-width:1\" /><line x1=\"377.796\" y1=\"96.792\" x2=\"379.648\" y2=\"100.0\" stroke-linecap=\"round\" style=\"stroke:black;stroke-width:1\" /><line x1=\"379.648\" y1=\"100.0\" x2=\"383.352\" y2=\"100.0\" stroke-linecap=\"round\" style=\"stroke:black;stroke-width:1\" /><line x1=\"383.352\" y1=\"100.0\" x2=\"385.204\" y2=\"96.792\" stroke-linecap=\"round\" style=\"stroke:black;stroke-width:1\" /><line x1=\"385.204\" y1=\"96.792\" x2=\"383.352\" y2=\"93.584\" stroke-linecap=\"round\" style=\"stroke:black;stroke-width:1\" /><line x1=\"383.352\" y1=\"93.584\" x2=\"387.056\" y2=\"93.584\" stroke-linecap=\"round\" style=\"stroke:black;stroke-width:1\" /><line x1=\"387.056\" y1=\"93.584\" x2=\"388.908\" y2=\"90.376\" stroke-linecap=\"round\" style=\"stroke:black;stroke-width:1\" /><line x1=\"388.908\" y1=\"90.376\" x2=\"387.056\" y2=\"87.168\" stroke-linecap=\"round\" style=\"stroke:black;stroke-width:1\" /><line x1=\"387.056\" y1=\"87.168\" x2=\"383.352\" y2=\"87.168\" stroke-linecap=\"round\" style=\"stroke:black;stroke-width:1\" /><line x1=\"383.352\" y1=\"87.168\" x2=\"385.204\" y2=\"83.96\" stroke-linecap=\"round\" style=\"stroke:black;stroke-width:1\" /><line x1=\"385.204\" y1=\"83.96\" x2=\"383.352\" y2=\"80.752\" stroke-linecap=\"round\" style=\"stroke:black;stroke-width:1\" /><line x1=\"383.352\" y1=\"80.752\" x2=\"387.056\" y2=\"80.752\" stroke-linecap=\"round\" style=\"stroke:black;stroke-width:1\" /><line x1=\"387.056\" y1=\"80.752\" x2=\"388.908\" y2=\"77.544\" stroke-linecap=\"round\" style=\"stroke:black;stroke-width:1\" /><line x1=\"388.908\" y1=\"77.544\" x2=\"390.76\" y2=\"80.752\" stroke-linecap=\"round\" style=\"stroke:black;stroke-width:1\" /><line x1=\"390.76\" y1=\"80.752\" x2=\"394.464\" y2=\"80.752\" stroke-linecap=\"round\" style=\"stroke:black;stroke-width:1\" /><line x1=\"394.464\" y1=\"80.752\" x2=\"396.316\" y2=\"77.544\" stroke-linecap=\"round\" style=\"stroke:black;stroke-width:1\" /><line x1=\"396.316\" y1=\"77.544\" x2=\"394.464\" y2=\"74.336\" stroke-linecap=\"round\" style=\"stroke:black;stroke-width:1\" /><line x1=\"394.464\" y1=\"74.336\" x2=\"398.168\" y2=\"74.336\" stroke-linecap=\"round\" style=\"stroke:black;stroke-width:1\" /><line x1=\"398.168\" y1=\"74.336\" x2=\"400.02\" y2=\"71.128\" stroke-linecap=\"round\" style=\"stroke:black;stroke-width:1\" /><line x1=\"400.02\" y1=\"71.128\" x2=\"401.872\" y2=\"74.336\" stroke-linecap=\"round\" style=\"stroke:black;stroke-width:1\" /><line x1=\"401.872\" y1=\"74.336\" x2=\"405.576\" y2=\"74.336\" stroke-linecap=\"round\" style=\"stroke:black;stroke-width:1\" /><line x1=\"405.576\" y1=\"74.336\" x2=\"403.724\" y2=\"77.544\" stroke-linecap=\"round\" style=\"stroke:black;stroke-width:1\" /><line x1=\"403.724\" y1=\"77.544\" x2=\"405.576\" y2=\"80.752\" stroke-linecap=\"round\" style=\"stroke:black;stroke-width:1\" /><line x1=\"405.576\" y1=\"80.752\" x2=\"409.28\" y2=\"80.752\" stroke-linecap=\"round\" style=\"stroke:black;stroke-width:1\" /><line x1=\"409.28\" y1=\"80.752\" x2=\"411.132\" y2=\"77.544\" stroke-linecap=\"round\" style=\"stroke:black;stroke-width:1\" /><line x1=\"411.132\" y1=\"77.544\" x2=\"412.984\" y2=\"80.752\" stroke-linecap=\"round\" style=\"stroke:black;stroke-width:1\" /><line x1=\"412.984\" y1=\"80.752\" x2=\"416.688\" y2=\"80.752\" stroke-linecap=\"round\" style=\"stroke:black;stroke-width:1\" /><line x1=\"416.688\" y1=\"80.752\" x2=\"414.836\" y2=\"83.96\" stroke-linecap=\"round\" style=\"stroke:black;stroke-width:1\" /><line x1=\"414.836\" y1=\"83.96\" x2=\"416.688\" y2=\"87.168\" stroke-linecap=\"round\" style=\"stroke:black;stroke-width:1\" /><line x1=\"416.688\" y1=\"87.168\" x2=\"412.984\" y2=\"87.168\" stroke-linecap=\"round\" style=\"stroke:black;stroke-width:1\" /><line x1=\"412.984\" y1=\"87.168\" x2=\"411.132\" y2=\"90.376\" stroke-linecap=\"round\" style=\"stroke:black;stroke-width:1\" /><line x1=\"411.132\" y1=\"90.376\" x2=\"412.984\" y2=\"93.584\" stroke-linecap=\"round\" style=\"stroke:black;stroke-width:1\" /><line x1=\"412.984\" y1=\"93.584\" x2=\"416.688\" y2=\"93.584\" stroke-linecap=\"round\" style=\"stroke:black;stroke-width:1\" /><line x1=\"416.688\" y1=\"93.584\" x2=\"414.836\" y2=\"96.792\" stroke-linecap=\"round\" style=\"stroke:black;stroke-width:1\" /><line x1=\"414.836\" y1=\"96.792\" x2=\"416.688\" y2=\"100.0\" stroke-linecap=\"round\" style=\"stroke:black;stroke-width:1\" /><line x1=\"416.688\" y1=\"100.0\" x2=\"420.392\" y2=\"100.0\" stroke-linecap=\"round\" style=\"stroke:black;stroke-width:1\" /><line x1=\"420.392\" y1=\"100.0\" x2=\"422.244\" y2=\"96.792\" stroke-linecap=\"round\" style=\"stroke:black;stroke-width:1\" /><line x1=\"422.244\" y1=\"96.792\" x2=\"424.096\" y2=\"100.0\" stroke-linecap=\"round\" style=\"stroke:black;stroke-width:1\" /><line x1=\"424.096\" y1=\"100.0\" x2=\"427.8\" y2=\"100.0\" stroke-linecap=\"round\" style=\"stroke:black;stroke-width:1\" /><line x1=\"427.8\" y1=\"100.0\" x2=\"429.652\" y2=\"96.792\" stroke-linecap=\"round\" style=\"stroke:black;stroke-width:1\" /><line x1=\"429.652\" y1=\"96.792\" x2=\"427.8\" y2=\"93.584\" stroke-linecap=\"round\" style=\"stroke:black;stroke-width:1\" /><line x1=\"427.8\" y1=\"93.584\" x2=\"431.504\" y2=\"93.584\" stroke-linecap=\"round\" style=\"stroke:black;stroke-width:1\" /><line x1=\"431.504\" y1=\"93.584\" x2=\"433.356\" y2=\"90.376\" stroke-linecap=\"round\" style=\"stroke:black;stroke-width:1\" /><line x1=\"433.356\" y1=\"90.376\" x2=\"435.208\" y2=\"93.584\" stroke-linecap=\"round\" style=\"stroke:black;stroke-width:1\" /><line x1=\"435.208\" y1=\"93.584\" x2=\"438.912\" y2=\"93.584\" stroke-linecap=\"round\" style=\"stroke:black;stroke-width:1\" /><line x1=\"438.912\" y1=\"93.584\" x2=\"437.06\" y2=\"96.792\" stroke-linecap=\"round\" style=\"stroke:black;stroke-width:1\" /><line x1=\"437.06\" y1=\"96.792\" x2=\"438.912\" y2=\"100.0\" stroke-linecap=\"round\" style=\"stroke:black;stroke-width:1\" /><line x1=\"438.912\" y1=\"100.0\" x2=\"442.616\" y2=\"100.0\" stroke-linecap=\"round\" style=\"stroke:black;stroke-width:1\" /><line x1=\"442.616\" y1=\"100.0\" x2=\"444.468\" y2=\"96.792\" stroke-linecap=\"round\" style=\"stroke:black;stroke-width:1\" /><line x1=\"444.468\" y1=\"96.792\" x2=\"446.32\" y2=\"100.0\" stroke-linecap=\"round\" style=\"stroke:black;stroke-width:1\" /><line x1=\"446.32\" y1=\"100.0\" x2=\"450.024\" y2=\"100.0\" stroke-linecap=\"round\" style=\"stroke:black;stroke-width:1\" /><line x1=\"450.024\" y1=\"100.0\" x2=\"448.172\" y2=\"103.208\" stroke-linecap=\"round\" style=\"stroke:black;stroke-width:1\" /><line x1=\"448.172\" y1=\"103.208\" x2=\"450.024\" y2=\"106.416\" stroke-linecap=\"round\" style=\"stroke:black;stroke-width:1\" /><line x1=\"450.024\" y1=\"106.416\" x2=\"446.32\" y2=\"106.416\" stroke-linecap=\"round\" style=\"stroke:black;stroke-width:1\" /><line x1=\"446.32\" y1=\"106.416\" x2=\"444.468\" y2=\"109.624\" stroke-linecap=\"round\" style=\"stroke:black;stroke-width:1\" /><line x1=\"444.468\" y1=\"109.624\" x2=\"446.32\" y2=\"112.832\" stroke-linecap=\"round\" style=\"stroke:black;stroke-width:1\" /><line x1=\"446.32\" y1=\"112.832\" x2=\"450.024\" y2=\"112.832\" stroke-linecap=\"round\" style=\"stroke:black;stroke-width:1\" /><line x1=\"450.024\" y1=\"112.832\" x2=\"448.172\" y2=\"116.04\" stroke-linecap=\"round\" style=\"stroke:black;stroke-width:1\" /><line x1=\"448.172\" y1=\"116.04\" x2=\"450.024\" y2=\"119.248\" stroke-linecap=\"round\" style=\"stroke:black;stroke-width:1\" /><line x1=\"450.024\" y1=\"119.248\" x2=\"446.32\" y2=\"119.248\" stroke-linecap=\"round\" style=\"stroke:black;stroke-width:1\" /><line x1=\"446.32\" y1=\"119.248\" x2=\"444.468\" y2=\"122.456\" stroke-linecap=\"round\" style=\"stroke:black;stroke-width:1\" /><line x1=\"444.468\" y1=\"122.456\" x2=\"442.616\" y2=\"119.248\" stroke-linecap=\"round\" style=\"stroke:black;stroke-width:1\" /><line x1=\"442.616\" y1=\"119.248\" x2=\"438.912\" y2=\"119.248\" stroke-linecap=\"round\" style=\"stroke:black;stroke-width:1\" /><line x1=\"438.912\" y1=\"119.248\" x2=\"437.06\" y2=\"122.456\" stroke-linecap=\"round\" style=\"stroke:black;stroke-width:1\" /><line x1=\"437.06\" y1=\"122.456\" x2=\"438.912\" y2=\"125.664\" stroke-linecap=\"round\" style=\"stroke:black;stroke-width:1\" /><line x1=\"438.912\" y1=\"125.664\" x2=\"435.208\" y2=\"125.664\" stroke-linecap=\"round\" style=\"stroke:black;stroke-width:1\" /><line x1=\"435.208\" y1=\"125.664\" x2=\"433.356\" y2=\"128.872\" stroke-linecap=\"round\" style=\"stroke:black;stroke-width:1\" /><line x1=\"433.356\" y1=\"128.872\" x2=\"435.208\" y2=\"132.08\" stroke-linecap=\"round\" style=\"stroke:black;stroke-width:1\" /><line x1=\"435.208\" y1=\"132.08\" x2=\"438.912\" y2=\"132.08\" stroke-linecap=\"round\" style=\"stroke:black;stroke-width:1\" /><line x1=\"438.912\" y1=\"132.08\" x2=\"437.06\" y2=\"135.288\" stroke-linecap=\"round\" style=\"stroke:black;stroke-width:1\" /><line x1=\"437.06\" y1=\"135.288\" x2=\"438.912\" y2=\"138.496\" stroke-linecap=\"round\" style=\"stroke:black;stroke-width:1\" /><line x1=\"438.912\" y1=\"138.496\" x2=\"442.616\" y2=\"138.496\" stroke-linecap=\"round\" style=\"stroke:black;stroke-width:1\" /><line x1=\"442.616\" y1=\"138.496\" x2=\"444.468\" y2=\"135.288\" stroke-linecap=\"round\" style=\"stroke:black;stroke-width:1\" /><line x1=\"444.468\" y1=\"135.288\" x2=\"446.32\" y2=\"138.496\" stroke-linecap=\"round\" style=\"stroke:black;stroke-width:1\" /><line x1=\"446.32\" y1=\"138.496\" x2=\"450.024\" y2=\"138.496\" stroke-linecap=\"round\" style=\"stroke:black;stroke-width:1\" /><line x1=\"450.024\" y1=\"138.496\" x2=\"448.172\" y2=\"141.704\" stroke-linecap=\"round\" style=\"stroke:black;stroke-width:1\" /><line x1=\"448.172\" y1=\"141.704\" x2=\"450.024\" y2=\"144.912\" stroke-linecap=\"round\" style=\"stroke:black;stroke-width:1\" /><line x1=\"450.024\" y1=\"144.912\" x2=\"446.32\" y2=\"144.912\" stroke-linecap=\"round\" style=\"stroke:black;stroke-width:1\" /><line x1=\"446.32\" y1=\"144.912\" x2=\"444.468\" y2=\"148.12\" stroke-linecap=\"round\" style=\"stroke:black;stroke-width:1\" /><line x1=\"444.468\" y1=\"148.12\" x2=\"446.32\" y2=\"151.328\" stroke-linecap=\"round\" style=\"stroke:black;stroke-width:1\" /><line x1=\"446.32\" y1=\"151.328\" x2=\"450.024\" y2=\"151.328\" stroke-linecap=\"round\" style=\"stroke:black;stroke-width:1\" /><line x1=\"450.024\" y1=\"151.328\" x2=\"448.172\" y2=\"154.536\" stroke-linecap=\"round\" style=\"stroke:black;stroke-width:1\" /><line x1=\"448.172\" y1=\"154.536\" x2=\"450.024\" y2=\"157.744\" stroke-linecap=\"round\" style=\"stroke:black;stroke-width:1\" /><line x1=\"450.024\" y1=\"157.744\" x2=\"446.32\" y2=\"157.744\" stroke-linecap=\"round\" style=\"stroke:black;stroke-width:1\" /><line x1=\"446.32\" y1=\"157.744\" x2=\"444.468\" y2=\"160.952\" stroke-linecap=\"round\" style=\"stroke:black;stroke-width:1\" /><line x1=\"444.468\" y1=\"160.952\" x2=\"442.616\" y2=\"157.744\" stroke-linecap=\"round\" style=\"stroke:black;stroke-width:1\" /><line x1=\"442.616\" y1=\"157.744\" x2=\"438.912\" y2=\"157.744\" stroke-linecap=\"round\" style=\"stroke:black;stroke-width:1\" /><line x1=\"438.912\" y1=\"157.744\" x2=\"437.06\" y2=\"160.952\" stroke-linecap=\"round\" style=\"stroke:black;stroke-width:1\" /><line x1=\"437.06\" y1=\"160.952\" x2=\"438.912\" y2=\"164.16\" stroke-linecap=\"round\" style=\"stroke:black;stroke-width:1\" /><line x1=\"438.912\" y1=\"164.16\" x2=\"435.208\" y2=\"164.16\" stroke-linecap=\"round\" style=\"stroke:black;stroke-width:1\" /><line x1=\"435.208\" y1=\"164.16\" x2=\"433.356\" y2=\"167.368\" stroke-linecap=\"round\" style=\"stroke:black;stroke-width:1\" /><line x1=\"433.356\" y1=\"167.368\" x2=\"431.504\" y2=\"164.16\" stroke-linecap=\"round\" style=\"stroke:black;stroke-width:1\" /><line x1=\"431.504\" y1=\"164.16\" x2=\"427.8\" y2=\"164.16\" stroke-linecap=\"round\" style=\"stroke:black;stroke-width:1\" /><line x1=\"427.8\" y1=\"164.16\" x2=\"429.652\" y2=\"160.952\" stroke-linecap=\"round\" style=\"stroke:black;stroke-width:1\" /><line x1=\"429.652\" y1=\"160.952\" x2=\"427.8\" y2=\"157.744\" stroke-linecap=\"round\" style=\"stroke:black;stroke-width:1\" /><line x1=\"427.8\" y1=\"157.744\" x2=\"424.096\" y2=\"157.744\" stroke-linecap=\"round\" style=\"stroke:black;stroke-width:1\" /><line x1=\"424.096\" y1=\"157.744\" x2=\"422.244\" y2=\"160.952\" stroke-linecap=\"round\" style=\"stroke:black;stroke-width:1\" /><line x1=\"422.244\" y1=\"160.952\" x2=\"420.392\" y2=\"157.744\" stroke-linecap=\"round\" style=\"stroke:black;stroke-width:1\" /><line x1=\"420.392\" y1=\"157.744\" x2=\"416.688\" y2=\"157.744\" stroke-linecap=\"round\" style=\"stroke:black;stroke-width:1\" /><line x1=\"416.688\" y1=\"157.744\" x2=\"414.836\" y2=\"160.952\" stroke-linecap=\"round\" style=\"stroke:black;stroke-width:1\" /><line x1=\"414.836\" y1=\"160.952\" x2=\"416.688\" y2=\"164.16\" stroke-linecap=\"round\" style=\"stroke:black;stroke-width:1\" /><line x1=\"416.688\" y1=\"164.16\" x2=\"412.984\" y2=\"164.16\" stroke-linecap=\"round\" style=\"stroke:black;stroke-width:1\" /><line x1=\"412.984\" y1=\"164.16\" x2=\"411.132\" y2=\"167.368\" stroke-linecap=\"round\" style=\"stroke:black;stroke-width:1\" /><line x1=\"411.132\" y1=\"167.368\" x2=\"412.984\" y2=\"170.576\" stroke-linecap=\"round\" style=\"stroke:black;stroke-width:1\" /><line x1=\"412.984\" y1=\"170.576\" x2=\"416.688\" y2=\"170.576\" stroke-linecap=\"round\" style=\"stroke:black;stroke-width:1\" /><line x1=\"416.688\" y1=\"170.576\" x2=\"414.836\" y2=\"173.784\" stroke-linecap=\"round\" style=\"stroke:black;stroke-width:1\" /><line x1=\"414.836\" y1=\"173.784\" x2=\"416.688\" y2=\"176.992\" stroke-linecap=\"round\" style=\"stroke:black;stroke-width:1\" /><line x1=\"416.688\" y1=\"176.992\" x2=\"412.984\" y2=\"176.992\" stroke-linecap=\"round\" style=\"stroke:black;stroke-width:1\" /><line x1=\"412.984\" y1=\"176.992\" x2=\"411.132\" y2=\"180.2\" stroke-linecap=\"round\" style=\"stroke:black;stroke-width:1\" /><line x1=\"411.132\" y1=\"180.2\" x2=\"409.28\" y2=\"176.992\" stroke-linecap=\"round\" style=\"stroke:black;stroke-width:1\" /><line x1=\"409.28\" y1=\"176.992\" x2=\"405.576\" y2=\"176.992\" stroke-linecap=\"round\" style=\"stroke:black;stroke-width:1\" /><line x1=\"405.576\" y1=\"176.992\" x2=\"403.724\" y2=\"180.2\" stroke-linecap=\"round\" style=\"stroke:black;stroke-width:1\" /><line x1=\"403.724\" y1=\"180.2\" x2=\"405.576\" y2=\"183.408\" stroke-linecap=\"round\" style=\"stroke:black;stroke-width:1\" /><line x1=\"405.576\" y1=\"183.408\" x2=\"401.872\" y2=\"183.408\" stroke-linecap=\"round\" style=\"stroke:black;stroke-width:1\" /><line x1=\"401.872\" y1=\"183.408\" x2=\"400.02\" y2=\"186.616\" stroke-linecap=\"round\" style=\"stroke:black;stroke-width:1\" /><line x1=\"400.02\" y1=\"186.616\" x2=\"401.872\" y2=\"189.824\" stroke-linecap=\"round\" style=\"stroke:black;stroke-width:1\" /><line x1=\"401.872\" y1=\"189.824\" x2=\"405.576\" y2=\"189.824\" stroke-linecap=\"round\" style=\"stroke:black;stroke-width:1\" /><line x1=\"405.576\" y1=\"189.824\" x2=\"403.724\" y2=\"193.032\" stroke-linecap=\"round\" style=\"stroke:black;stroke-width:1\" /><line x1=\"403.724\" y1=\"193.032\" x2=\"405.576\" y2=\"196.24\" stroke-linecap=\"round\" style=\"stroke:black;stroke-width:1\" /><line x1=\"405.576\" y1=\"196.24\" x2=\"409.28\" y2=\"196.24\" stroke-linecap=\"round\" style=\"stroke:black;stroke-width:1\" /><line x1=\"409.28\" y1=\"196.24\" x2=\"411.132\" y2=\"193.032\" stroke-linecap=\"round\" style=\"stroke:black;stroke-width:1\" /><line x1=\"411.132\" y1=\"193.032\" x2=\"412.984\" y2=\"196.24\" stroke-linecap=\"round\" style=\"stroke:black;stroke-width:1\" /><line x1=\"412.984\" y1=\"196.24\" x2=\"416.688\" y2=\"196.24\" stroke-linecap=\"round\" style=\"stroke:black;stroke-width:1\" /><line x1=\"416.688\" y1=\"196.24\" x2=\"414.836\" y2=\"199.448\" stroke-linecap=\"round\" style=\"stroke:black;stroke-width:1\" /><line x1=\"414.836\" y1=\"199.448\" x2=\"416.688\" y2=\"202.656\" stroke-linecap=\"round\" style=\"stroke:black;stroke-width:1\" /><line x1=\"416.688\" y1=\"202.656\" x2=\"412.984\" y2=\"202.656\" stroke-linecap=\"round\" style=\"stroke:black;stroke-width:1\" /><line x1=\"412.984\" y1=\"202.656\" x2=\"411.132\" y2=\"205.864\" stroke-linecap=\"round\" style=\"stroke:black;stroke-width:1\" /><line x1=\"411.132\" y1=\"205.864\" x2=\"412.984\" y2=\"209.072\" stroke-linecap=\"round\" style=\"stroke:black;stroke-width:1\" /><line x1=\"412.984\" y1=\"209.072\" x2=\"416.688\" y2=\"209.072\" stroke-linecap=\"round\" style=\"stroke:black;stroke-width:1\" /><line x1=\"416.688\" y1=\"209.072\" x2=\"414.836\" y2=\"212.28\" stroke-linecap=\"round\" style=\"stroke:black;stroke-width:1\" /><line x1=\"414.836\" y1=\"212.28\" x2=\"416.688\" y2=\"215.488\" stroke-linecap=\"round\" style=\"stroke:black;stroke-width:1\" /><line x1=\"416.688\" y1=\"215.488\" x2=\"420.392\" y2=\"215.488\" stroke-linecap=\"round\" style=\"stroke:black;stroke-width:1\" /><line x1=\"420.392\" y1=\"215.488\" x2=\"422.244\" y2=\"212.28\" stroke-linecap=\"round\" style=\"stroke:black;stroke-width:1\" /><line x1=\"422.244\" y1=\"212.28\" x2=\"424.096\" y2=\"215.488\" stroke-linecap=\"round\" style=\"stroke:black;stroke-width:1\" /><line x1=\"424.096\" y1=\"215.488\" x2=\"427.8\" y2=\"215.488\" stroke-linecap=\"round\" style=\"stroke:black;stroke-width:1\" /><line x1=\"427.8\" y1=\"215.488\" x2=\"429.652\" y2=\"212.28\" stroke-linecap=\"round\" style=\"stroke:black;stroke-width:1\" /><line x1=\"429.652\" y1=\"212.28\" x2=\"427.8\" y2=\"209.072\" stroke-linecap=\"round\" style=\"stroke:black;stroke-width:1\" /><line x1=\"427.8\" y1=\"209.072\" x2=\"431.504\" y2=\"209.072\" stroke-linecap=\"round\" style=\"stroke:black;stroke-width:1\" /><line x1=\"431.504\" y1=\"209.072\" x2=\"433.356\" y2=\"205.864\" stroke-linecap=\"round\" style=\"stroke:black;stroke-width:1\" /><line x1=\"433.356\" y1=\"205.864\" x2=\"435.208\" y2=\"209.072\" stroke-linecap=\"round\" style=\"stroke:black;stroke-width:1\" /><line x1=\"435.208\" y1=\"209.072\" x2=\"438.912\" y2=\"209.072\" stroke-linecap=\"round\" style=\"stroke:black;stroke-width:1\" /><line x1=\"438.912\" y1=\"209.072\" x2=\"437.06\" y2=\"212.28\" stroke-linecap=\"round\" style=\"stroke:black;stroke-width:1\" /><line x1=\"437.06\" y1=\"212.28\" x2=\"438.912\" y2=\"215.488\" stroke-linecap=\"round\" style=\"stroke:black;stroke-width:1\" /><line x1=\"438.912\" y1=\"215.488\" x2=\"442.616\" y2=\"215.488\" stroke-linecap=\"round\" style=\"stroke:black;stroke-width:1\" /><line x1=\"442.616\" y1=\"215.488\" x2=\"444.468\" y2=\"212.28\" stroke-linecap=\"round\" style=\"stroke:black;stroke-width:1\" /><line x1=\"444.468\" y1=\"212.28\" x2=\"446.32\" y2=\"215.488\" stroke-linecap=\"round\" style=\"stroke:black;stroke-width:1\" /><line x1=\"446.32\" y1=\"215.488\" x2=\"450.024\" y2=\"215.488\" stroke-linecap=\"round\" style=\"stroke:black;stroke-width:1\" /><line x1=\"450.024\" y1=\"215.488\" x2=\"448.172\" y2=\"218.696\" stroke-linecap=\"round\" style=\"stroke:black;stroke-width:1\" /><line x1=\"448.172\" y1=\"218.696\" x2=\"450.024\" y2=\"221.904\" stroke-linecap=\"round\" style=\"stroke:black;stroke-width:1\" /><line x1=\"450.024\" y1=\"221.904\" x2=\"446.32\" y2=\"221.904\" stroke-linecap=\"round\" style=\"stroke:black;stroke-width:1\" /><line x1=\"446.32\" y1=\"221.904\" x2=\"444.468\" y2=\"225.112\" stroke-linecap=\"round\" style=\"stroke:black;stroke-width:1\" /><line x1=\"444.468\" y1=\"225.112\" x2=\"446.32\" y2=\"228.32\" stroke-linecap=\"round\" style=\"stroke:black;stroke-width:1\" /><line x1=\"446.32\" y1=\"228.32\" x2=\"450.024\" y2=\"228.32\" stroke-linecap=\"round\" style=\"stroke:black;stroke-width:1\" /><line x1=\"450.024\" y1=\"228.32\" x2=\"448.172\" y2=\"231.528\" stroke-linecap=\"round\" style=\"stroke:black;stroke-width:1\" /><line x1=\"448.172\" y1=\"231.528\" x2=\"450.024\" y2=\"234.736\" stroke-linecap=\"round\" style=\"stroke:black;stroke-width:1\" /><line x1=\"450.024\" y1=\"234.736\" x2=\"446.32\" y2=\"234.736\" stroke-linecap=\"round\" style=\"stroke:black;stroke-width:1\" /><line x1=\"446.32\" y1=\"234.736\" x2=\"444.468\" y2=\"237.944\" stroke-linecap=\"round\" style=\"stroke:black;stroke-width:1\" /><line x1=\"444.468\" y1=\"237.944\" x2=\"442.616\" y2=\"234.736\" stroke-linecap=\"round\" style=\"stroke:black;stroke-width:1\" /><line x1=\"442.616\" y1=\"234.736\" x2=\"438.912\" y2=\"234.736\" stroke-linecap=\"round\" style=\"stroke:black;stroke-width:1\" /><line x1=\"438.912\" y1=\"234.736\" x2=\"437.06\" y2=\"237.944\" stroke-linecap=\"round\" style=\"stroke:black;stroke-width:1\" /><line x1=\"437.06\" y1=\"237.944\" x2=\"438.912\" y2=\"241.152\" stroke-linecap=\"round\" style=\"stroke:black;stroke-width:1\" /><line x1=\"438.912\" y1=\"241.152\" x2=\"435.208\" y2=\"241.152\" stroke-linecap=\"round\" style=\"stroke:black;stroke-width:1\" /><line x1=\"435.208\" y1=\"241.152\" x2=\"433.356\" y2=\"244.36\" stroke-linecap=\"round\" style=\"stroke:black;stroke-width:1\" /><line x1=\"433.356\" y1=\"244.36\" x2=\"435.208\" y2=\"247.568\" stroke-linecap=\"round\" style=\"stroke:black;stroke-width:1\" /><line x1=\"435.208\" y1=\"247.568\" x2=\"438.912\" y2=\"247.568\" stroke-linecap=\"round\" style=\"stroke:black;stroke-width:1\" /><line x1=\"438.912\" y1=\"247.568\" x2=\"437.06\" y2=\"250.776\" stroke-linecap=\"round\" style=\"stroke:black;stroke-width:1\" /><line x1=\"437.06\" y1=\"250.776\" x2=\"438.912\" y2=\"253.984\" stroke-linecap=\"round\" style=\"stroke:black;stroke-width:1\" /><line x1=\"438.912\" y1=\"253.984\" x2=\"442.616\" y2=\"253.984\" stroke-linecap=\"round\" style=\"stroke:black;stroke-width:1\" /><line x1=\"442.616\" y1=\"253.984\" x2=\"444.468\" y2=\"250.776\" stroke-linecap=\"round\" style=\"stroke:black;stroke-width:1\" /><line x1=\"444.468\" y1=\"250.776\" x2=\"446.32\" y2=\"253.984\" stroke-linecap=\"round\" style=\"stroke:black;stroke-width:1\" /><line x1=\"446.32\" y1=\"253.984\" x2=\"450.024\" y2=\"253.984\" stroke-linecap=\"round\" style=\"stroke:black;stroke-width:1\" /><line x1=\"450.024\" y1=\"253.984\" x2=\"448.172\" y2=\"257.192\" stroke-linecap=\"round\" style=\"stroke:black;stroke-width:1\" /><line x1=\"448.172\" y1=\"257.192\" x2=\"450.024\" y2=\"260.4\" stroke-linecap=\"round\" style=\"stroke:black;stroke-width:1\" /><line x1=\"450.024\" y1=\"260.4\" x2=\"446.32\" y2=\"260.4\" stroke-linecap=\"round\" style=\"stroke:black;stroke-width:1\" /><line x1=\"446.32\" y1=\"260.4\" x2=\"444.468\" y2=\"263.608\" stroke-linecap=\"round\" style=\"stroke:black;stroke-width:1\" /><line x1=\"444.468\" y1=\"263.608\" x2=\"446.32\" y2=\"266.816\" stroke-linecap=\"round\" style=\"stroke:black;stroke-width:1\" /><line x1=\"446.32\" y1=\"266.816\" x2=\"450.024\" y2=\"266.816\" stroke-linecap=\"round\" style=\"stroke:black;stroke-width:1\" /><line x1=\"450.024\" y1=\"266.816\" x2=\"448.172\" y2=\"270.024\" stroke-linecap=\"round\" style=\"stroke:black;stroke-width:1\" /><line x1=\"448.172\" y1=\"270.024\" x2=\"450.024\" y2=\"273.232\" stroke-linecap=\"round\" style=\"stroke:black;stroke-width:1\" /><line x1=\"450.024\" y1=\"273.232\" x2=\"446.32\" y2=\"273.232\" stroke-linecap=\"round\" style=\"stroke:black;stroke-width:1\" /><line x1=\"446.32\" y1=\"273.232\" x2=\"444.468\" y2=\"276.44\" stroke-linecap=\"round\" style=\"stroke:black;stroke-width:1\" /><line x1=\"444.468\" y1=\"276.44\" x2=\"442.616\" y2=\"273.232\" stroke-linecap=\"round\" style=\"stroke:black;stroke-width:1\" /><line x1=\"442.616\" y1=\"273.232\" x2=\"438.912\" y2=\"273.232\" stroke-linecap=\"round\" style=\"stroke:black;stroke-width:1\" /><line x1=\"438.912\" y1=\"273.232\" x2=\"437.06\" y2=\"276.44\" stroke-linecap=\"round\" style=\"stroke:black;stroke-width:1\" /><line x1=\"437.06\" y1=\"276.44\" x2=\"438.912\" y2=\"279.648\" stroke-linecap=\"round\" style=\"stroke:black;stroke-width:1\" /><line x1=\"438.912\" y1=\"279.648\" x2=\"435.208\" y2=\"279.648\" stroke-linecap=\"round\" style=\"stroke:black;stroke-width:1\" /><line x1=\"435.208\" y1=\"279.648\" x2=\"433.356\" y2=\"282.856\" stroke-linecap=\"round\" style=\"stroke:black;stroke-width:1\" /><line x1=\"433.356\" y1=\"282.856\" x2=\"431.504\" y2=\"279.648\" stroke-linecap=\"round\" style=\"stroke:black;stroke-width:1\" /><line x1=\"431.504\" y1=\"279.648\" x2=\"427.8\" y2=\"279.648\" stroke-linecap=\"round\" style=\"stroke:black;stroke-width:1\" /><line x1=\"427.8\" y1=\"279.648\" x2=\"429.652\" y2=\"276.44\" stroke-linecap=\"round\" style=\"stroke:black;stroke-width:1\" /><line x1=\"429.652\" y1=\"276.44\" x2=\"427.8\" y2=\"273.232\" stroke-linecap=\"round\" style=\"stroke:black;stroke-width:1\" /><line x1=\"427.8\" y1=\"273.232\" x2=\"424.096\" y2=\"273.232\" stroke-linecap=\"round\" style=\"stroke:black;stroke-width:1\" /><line x1=\"424.096\" y1=\"273.232\" x2=\"422.244\" y2=\"276.44\" stroke-linecap=\"round\" style=\"stroke:black;stroke-width:1\" /><line x1=\"422.244\" y1=\"276.44\" x2=\"420.392\" y2=\"273.232\" stroke-linecap=\"round\" style=\"stroke:black;stroke-width:1\" /><line x1=\"420.392\" y1=\"273.232\" x2=\"416.688\" y2=\"273.232\" stroke-linecap=\"round\" style=\"stroke:black;stroke-width:1\" /><line x1=\"416.688\" y1=\"273.232\" x2=\"414.836\" y2=\"276.44\" stroke-linecap=\"round\" style=\"stroke:black;stroke-width:1\" /><line x1=\"414.836\" y1=\"276.44\" x2=\"416.688\" y2=\"279.648\" stroke-linecap=\"round\" style=\"stroke:black;stroke-width:1\" /><line x1=\"416.688\" y1=\"279.648\" x2=\"412.984\" y2=\"279.648\" stroke-linecap=\"round\" style=\"stroke:black;stroke-width:1\" /><line x1=\"412.984\" y1=\"279.648\" x2=\"411.132\" y2=\"282.856\" stroke-linecap=\"round\" style=\"stroke:black;stroke-width:1\" /><line x1=\"411.132\" y1=\"282.856\" x2=\"412.984\" y2=\"286.064\" stroke-linecap=\"round\" style=\"stroke:black;stroke-width:1\" /><line x1=\"412.984\" y1=\"286.064\" x2=\"416.688\" y2=\"286.064\" stroke-linecap=\"round\" style=\"stroke:black;stroke-width:1\" /><line x1=\"416.688\" y1=\"286.064\" x2=\"414.836\" y2=\"289.272\" stroke-linecap=\"round\" style=\"stroke:black;stroke-width:1\" /><line x1=\"414.836\" y1=\"289.272\" x2=\"416.688\" y2=\"292.48\" stroke-linecap=\"round\" style=\"stroke:black;stroke-width:1\" /><line x1=\"416.688\" y1=\"292.48\" x2=\"412.984\" y2=\"292.48\" stroke-linecap=\"round\" style=\"stroke:black;stroke-width:1\" /><line x1=\"412.984\" y1=\"292.48\" x2=\"411.132\" y2=\"295.688\" stroke-linecap=\"round\" style=\"stroke:black;stroke-width:1\" /><line x1=\"411.132\" y1=\"295.688\" x2=\"409.28\" y2=\"292.48\" stroke-linecap=\"round\" style=\"stroke:black;stroke-width:1\" /><line x1=\"409.28\" y1=\"292.48\" x2=\"405.576\" y2=\"292.48\" stroke-linecap=\"round\" style=\"stroke:black;stroke-width:1\" /><line x1=\"405.576\" y1=\"292.48\" x2=\"403.724\" y2=\"295.688\" stroke-linecap=\"round\" style=\"stroke:black;stroke-width:1\" /><line x1=\"403.724\" y1=\"295.688\" x2=\"405.576\" y2=\"298.896\" stroke-linecap=\"round\" style=\"stroke:black;stroke-width:1\" /><line x1=\"405.576\" y1=\"298.896\" x2=\"401.872\" y2=\"298.896\" stroke-linecap=\"round\" style=\"stroke:black;stroke-width:1\" /><line x1=\"401.872\" y1=\"298.896\" x2=\"400.02\" y2=\"302.104\" stroke-linecap=\"round\" style=\"stroke:black;stroke-width:1\" /><line x1=\"400.02\" y1=\"302.104\" x2=\"398.168\" y2=\"298.896\" stroke-linecap=\"round\" style=\"stroke:black;stroke-width:1\" /><line x1=\"398.168\" y1=\"298.896\" x2=\"394.464\" y2=\"298.896\" stroke-linecap=\"round\" style=\"stroke:black;stroke-width:1\" /><line x1=\"394.464\" y1=\"298.896\" x2=\"396.316\" y2=\"295.688\" stroke-linecap=\"round\" style=\"stroke:black;stroke-width:1\" /><line x1=\"396.316\" y1=\"295.688\" x2=\"394.464\" y2=\"292.48\" stroke-linecap=\"round\" style=\"stroke:black;stroke-width:1\" /><line x1=\"394.464\" y1=\"292.48\" x2=\"390.76\" y2=\"292.48\" stroke-linecap=\"round\" style=\"stroke:black;stroke-width:1\" /><line x1=\"390.76\" y1=\"292.48\" x2=\"388.908\" y2=\"295.688\" stroke-linecap=\"round\" style=\"stroke:black;stroke-width:1\" /><line x1=\"388.908\" y1=\"295.688\" x2=\"387.056\" y2=\"292.48\" stroke-linecap=\"round\" style=\"stroke:black;stroke-width:1\" /><line x1=\"387.056\" y1=\"292.48\" x2=\"383.352\" y2=\"292.48\" stroke-linecap=\"round\" style=\"stroke:black;stroke-width:1\" /><line x1=\"383.352\" y1=\"292.48\" x2=\"385.204\" y2=\"289.272\" stroke-linecap=\"round\" style=\"stroke:black;stroke-width:1\" /><line x1=\"385.204\" y1=\"289.272\" x2=\"383.352\" y2=\"286.064\" stroke-linecap=\"round\" style=\"stroke:black;stroke-width:1\" /><line x1=\"383.352\" y1=\"286.064\" x2=\"387.056\" y2=\"286.064\" stroke-linecap=\"round\" style=\"stroke:black;stroke-width:1\" /><line x1=\"387.056\" y1=\"286.064\" x2=\"388.908\" y2=\"282.856\" stroke-linecap=\"round\" style=\"stroke:black;stroke-width:1\" /><line x1=\"388.908\" y1=\"282.856\" x2=\"387.056\" y2=\"279.648\" stroke-linecap=\"round\" style=\"stroke:black;stroke-width:1\" /><line x1=\"387.056\" y1=\"279.648\" x2=\"383.352\" y2=\"279.648\" stroke-linecap=\"round\" style=\"stroke:black;stroke-width:1\" /><line x1=\"383.352\" y1=\"279.648\" x2=\"385.204\" y2=\"276.44\" stroke-linecap=\"round\" style=\"stroke:black;stroke-width:1\" /><line x1=\"385.204\" y1=\"276.44\" x2=\"383.352\" y2=\"273.232\" stroke-linecap=\"round\" style=\"stroke:black;stroke-width:1\" /><line x1=\"383.352\" y1=\"273.232\" x2=\"379.648\" y2=\"273.232\" stroke-linecap=\"round\" style=\"stroke:black;stroke-width:1\" /><line x1=\"379.648\" y1=\"273.232\" x2=\"377.796\" y2=\"276.44\" stroke-linecap=\"round\" style=\"stroke:black;stroke-width:1\" /><line x1=\"377.796\" y1=\"276.44\" x2=\"375.944\" y2=\"273.232\" stroke-linecap=\"round\" style=\"stroke:black;stroke-width:1\" /><line x1=\"375.944\" y1=\"273.232\" x2=\"372.24\" y2=\"273.232\" stroke-linecap=\"round\" style=\"stroke:black;stroke-width:1\" /><line x1=\"372.24\" y1=\"273.232\" x2=\"370.388\" y2=\"276.44\" stroke-linecap=\"round\" style=\"stroke:black;stroke-width:1\" /><line x1=\"370.388\" y1=\"276.44\" x2=\"372.24\" y2=\"279.648\" stroke-linecap=\"round\" style=\"stroke:black;stroke-width:1\" /><line x1=\"372.24\" y1=\"279.648\" x2=\"368.536\" y2=\"279.648\" stroke-linecap=\"round\" style=\"stroke:black;stroke-width:1\" /><line x1=\"368.536\" y1=\"279.648\" x2=\"366.684\" y2=\"282.856\" stroke-linecap=\"round\" style=\"stroke:black;stroke-width:1\" /><line x1=\"366.684\" y1=\"282.856\" x2=\"364.832\" y2=\"279.648\" stroke-linecap=\"round\" style=\"stroke:black;stroke-width:1\" /><line x1=\"364.832\" y1=\"279.648\" x2=\"361.128\" y2=\"279.648\" stroke-linecap=\"round\" style=\"stroke:black;stroke-width:1\" /><line x1=\"361.128\" y1=\"279.648\" x2=\"362.98\" y2=\"276.44\" stroke-linecap=\"round\" style=\"stroke:black;stroke-width:1\" /><line x1=\"362.98\" y1=\"276.44\" x2=\"361.128\" y2=\"273.232\" stroke-linecap=\"round\" style=\"stroke:black;stroke-width:1\" /><line x1=\"361.128\" y1=\"273.232\" x2=\"357.424\" y2=\"273.232\" stroke-linecap=\"round\" style=\"stroke:black;stroke-width:1\" /><line x1=\"357.424\" y1=\"273.232\" x2=\"355.572\" y2=\"276.44\" stroke-linecap=\"round\" style=\"stroke:black;stroke-width:1\" /><line x1=\"355.572\" y1=\"276.44\" x2=\"353.72\" y2=\"273.232\" stroke-linecap=\"round\" style=\"stroke:black;stroke-width:1\" /><line x1=\"353.72\" y1=\"273.232\" x2=\"350.016\" y2=\"273.232\" stroke-linecap=\"round\" style=\"stroke:black;stroke-width:1\" /><line x1=\"350.016\" y1=\"273.232\" x2=\"348.164\" y2=\"276.44\" stroke-linecap=\"round\" style=\"stroke:black;stroke-width:1\" /><line x1=\"348.164\" y1=\"276.44\" x2=\"350.016\" y2=\"279.648\" stroke-linecap=\"round\" style=\"stroke:black;stroke-width:1\" /><line x1=\"350.016\" y1=\"279.648\" x2=\"346.312\" y2=\"279.648\" stroke-linecap=\"round\" style=\"stroke:black;stroke-width:1\" /><line x1=\"346.312\" y1=\"279.648\" x2=\"344.46\" y2=\"282.856\" stroke-linecap=\"round\" style=\"stroke:black;stroke-width:1\" /><line x1=\"344.46\" y1=\"282.856\" x2=\"346.312\" y2=\"286.064\" stroke-linecap=\"round\" style=\"stroke:black;stroke-width:1\" /><line x1=\"346.312\" y1=\"286.064\" x2=\"350.016\" y2=\"286.064\" stroke-linecap=\"round\" style=\"stroke:black;stroke-width:1\" /><line x1=\"350.016\" y1=\"286.064\" x2=\"348.164\" y2=\"289.272\" stroke-linecap=\"round\" style=\"stroke:black;stroke-width:1\" /><line x1=\"348.164\" y1=\"289.272\" x2=\"350.016\" y2=\"292.48\" stroke-linecap=\"round\" style=\"stroke:black;stroke-width:1\" /><line x1=\"350.016\" y1=\"292.48\" x2=\"346.312\" y2=\"292.48\" stroke-linecap=\"round\" style=\"stroke:black;stroke-width:1\" /><line x1=\"346.312\" y1=\"292.48\" x2=\"344.46\" y2=\"295.688\" stroke-linecap=\"round\" style=\"stroke:black;stroke-width:1\" /><line x1=\"344.46\" y1=\"295.688\" x2=\"342.608\" y2=\"292.48\" stroke-linecap=\"round\" style=\"stroke:black;stroke-width:1\" /><line x1=\"342.608\" y1=\"292.48\" x2=\"338.904\" y2=\"292.48\" stroke-linecap=\"round\" style=\"stroke:black;stroke-width:1\" /><line x1=\"338.904\" y1=\"292.48\" x2=\"337.052\" y2=\"295.688\" stroke-linecap=\"round\" style=\"stroke:black;stroke-width:1\" /><line x1=\"337.052\" y1=\"295.688\" x2=\"338.904\" y2=\"298.896\" stroke-linecap=\"round\" style=\"stroke:black;stroke-width:1\" /><line x1=\"338.904\" y1=\"298.896\" x2=\"335.2\" y2=\"298.896\" stroke-linecap=\"round\" style=\"stroke:black;stroke-width:1\" /><line x1=\"335.2\" y1=\"298.896\" x2=\"333.348\" y2=\"302.104\" stroke-linecap=\"round\" style=\"stroke:black;stroke-width:1\" /><line x1=\"333.348\" y1=\"302.104\" x2=\"335.2\" y2=\"305.312\" stroke-linecap=\"round\" style=\"stroke:black;stroke-width:1\" /><line x1=\"335.2\" y1=\"305.312\" x2=\"338.904\" y2=\"305.312\" stroke-linecap=\"round\" style=\"stroke:black;stroke-width:1\" /><line x1=\"338.904\" y1=\"305.312\" x2=\"337.052\" y2=\"308.52\" stroke-linecap=\"round\" style=\"stroke:black;stroke-width:1\" /><line x1=\"337.052\" y1=\"308.52\" x2=\"338.904\" y2=\"311.728\" stroke-linecap=\"round\" style=\"stroke:black;stroke-width:1\" /><line x1=\"338.904\" y1=\"311.728\" x2=\"342.608\" y2=\"311.728\" stroke-linecap=\"round\" style=\"stroke:black;stroke-width:1\" /><line x1=\"342.608\" y1=\"311.728\" x2=\"344.46\" y2=\"308.52\" stroke-linecap=\"round\" style=\"stroke:black;stroke-width:1\" /><line x1=\"344.46\" y1=\"308.52\" x2=\"346.312\" y2=\"311.728\" stroke-linecap=\"round\" style=\"stroke:black;stroke-width:1\" /><line x1=\"346.312\" y1=\"311.728\" x2=\"350.016\" y2=\"311.728\" stroke-linecap=\"round\" style=\"stroke:black;stroke-width:1\" /><line x1=\"350.016\" y1=\"311.728\" x2=\"348.164\" y2=\"314.936\" stroke-linecap=\"round\" style=\"stroke:black;stroke-width:1\" /><line x1=\"348.164\" y1=\"314.936\" x2=\"350.016\" y2=\"318.144\" stroke-linecap=\"round\" style=\"stroke:black;stroke-width:1\" /><line x1=\"350.016\" y1=\"318.144\" x2=\"346.312\" y2=\"318.144\" stroke-linecap=\"round\" style=\"stroke:black;stroke-width:1\" /><line x1=\"346.312\" y1=\"318.144\" x2=\"344.46\" y2=\"321.352\" stroke-linecap=\"round\" style=\"stroke:black;stroke-width:1\" /><line x1=\"344.46\" y1=\"321.352\" x2=\"346.312\" y2=\"324.56\" stroke-linecap=\"round\" style=\"stroke:black;stroke-width:1\" /><line x1=\"346.312\" y1=\"324.56\" x2=\"350.016\" y2=\"324.56\" stroke-linecap=\"round\" style=\"stroke:black;stroke-width:1\" /><line x1=\"350.016\" y1=\"324.56\" x2=\"348.164\" y2=\"327.768\" stroke-linecap=\"round\" style=\"stroke:black;stroke-width:1\" /><line x1=\"348.164\" y1=\"327.768\" x2=\"350.016\" y2=\"330.976\" stroke-linecap=\"round\" style=\"stroke:black;stroke-width:1\" /><line x1=\"350.016\" y1=\"330.976\" x2=\"346.312\" y2=\"330.976\" stroke-linecap=\"round\" style=\"stroke:black;stroke-width:1\" /><line x1=\"346.312\" y1=\"330.976\" x2=\"344.46\" y2=\"334.184\" stroke-linecap=\"round\" style=\"stroke:black;stroke-width:1\" /><line x1=\"344.46\" y1=\"334.184\" x2=\"342.608\" y2=\"330.976\" stroke-linecap=\"round\" style=\"stroke:black;stroke-width:1\" /><line x1=\"342.608\" y1=\"330.976\" x2=\"338.904\" y2=\"330.976\" stroke-linecap=\"round\" style=\"stroke:black;stroke-width:1\" /><line x1=\"338.904\" y1=\"330.976\" x2=\"337.052\" y2=\"334.184\" stroke-linecap=\"round\" style=\"stroke:black;stroke-width:1\" /><line x1=\"337.052\" y1=\"334.184\" x2=\"338.904\" y2=\"337.392\" stroke-linecap=\"round\" style=\"stroke:black;stroke-width:1\" /><line x1=\"338.904\" y1=\"337.392\" x2=\"335.2\" y2=\"337.392\" stroke-linecap=\"round\" style=\"stroke:black;stroke-width:1\" /><line x1=\"335.2\" y1=\"337.392\" x2=\"333.348\" y2=\"340.6\" stroke-linecap=\"round\" style=\"stroke:black;stroke-width:1\" /><line x1=\"333.348\" y1=\"340.6\" x2=\"331.496\" y2=\"337.392\" stroke-linecap=\"round\" style=\"stroke:black;stroke-width:1\" /><line x1=\"331.496\" y1=\"337.392\" x2=\"327.792\" y2=\"337.392\" stroke-linecap=\"round\" style=\"stroke:black;stroke-width:1\" /><line x1=\"327.792\" y1=\"337.392\" x2=\"329.644\" y2=\"334.184\" stroke-linecap=\"round\" style=\"stroke:black;stroke-width:1\" /><line x1=\"329.644\" y1=\"334.184\" x2=\"327.792\" y2=\"330.976\" stroke-linecap=\"round\" style=\"stroke:black;stroke-width:1\" /><line x1=\"327.792\" y1=\"330.976\" x2=\"324.088\" y2=\"330.976\" stroke-linecap=\"round\" style=\"stroke:black;stroke-width:1\" /><line x1=\"324.088\" y1=\"330.976\" x2=\"322.236\" y2=\"334.184\" stroke-linecap=\"round\" style=\"stroke:black;stroke-width:1\" /><line x1=\"322.236\" y1=\"334.184\" x2=\"320.384\" y2=\"330.976\" stroke-linecap=\"round\" style=\"stroke:black;stroke-width:1\" /><line x1=\"320.384\" y1=\"330.976\" x2=\"316.68\" y2=\"330.976\" stroke-linecap=\"round\" style=\"stroke:black;stroke-width:1\" /><line x1=\"316.68\" y1=\"330.976\" x2=\"314.828\" y2=\"334.184\" stroke-linecap=\"round\" style=\"stroke:black;stroke-width:1\" /><line x1=\"314.828\" y1=\"334.184\" x2=\"316.68\" y2=\"337.392\" stroke-linecap=\"round\" style=\"stroke:black;stroke-width:1\" /><line x1=\"316.68\" y1=\"337.392\" x2=\"312.976\" y2=\"337.392\" stroke-linecap=\"round\" style=\"stroke:black;stroke-width:1\" /><line x1=\"312.976\" y1=\"337.392\" x2=\"311.124\" y2=\"340.6\" stroke-linecap=\"round\" style=\"stroke:black;stroke-width:1\" /><line x1=\"311.124\" y1=\"340.6\" x2=\"312.976\" y2=\"343.808\" stroke-linecap=\"round\" style=\"stroke:black;stroke-width:1\" /><line x1=\"312.976\" y1=\"343.808\" x2=\"316.68\" y2=\"343.808\" stroke-linecap=\"round\" style=\"stroke:black;stroke-width:1\" /><line x1=\"316.68\" y1=\"343.808\" x2=\"314.828\" y2=\"347.016\" stroke-linecap=\"round\" style=\"stroke:black;stroke-width:1\" /><line x1=\"314.828\" y1=\"347.016\" x2=\"316.68\" y2=\"350.224\" stroke-linecap=\"round\" style=\"stroke:black;stroke-width:1\" /><line x1=\"316.68\" y1=\"350.224\" x2=\"312.976\" y2=\"350.224\" stroke-linecap=\"round\" style=\"stroke:black;stroke-width:1\" /><line x1=\"312.976\" y1=\"350.224\" x2=\"311.124\" y2=\"353.432\" stroke-linecap=\"round\" style=\"stroke:black;stroke-width:1\" /><line x1=\"311.124\" y1=\"353.432\" x2=\"309.272\" y2=\"350.224\" stroke-linecap=\"round\" style=\"stroke:black;stroke-width:1\" /><line x1=\"309.272\" y1=\"350.224\" x2=\"305.568\" y2=\"350.224\" stroke-linecap=\"round\" style=\"stroke:black;stroke-width:1\" /><line x1=\"305.568\" y1=\"350.224\" x2=\"303.716\" y2=\"353.432\" stroke-linecap=\"round\" style=\"stroke:black;stroke-width:1\" /><line x1=\"303.716\" y1=\"353.432\" x2=\"305.568\" y2=\"356.64\" stroke-linecap=\"round\" style=\"stroke:black;stroke-width:1\" /><line x1=\"305.568\" y1=\"356.64\" x2=\"301.864\" y2=\"356.64\" stroke-linecap=\"round\" style=\"stroke:black;stroke-width:1\" /><line x1=\"301.864\" y1=\"356.64\" x2=\"300.012\" y2=\"359.848\" stroke-linecap=\"round\" style=\"stroke:black;stroke-width:1\" /><line x1=\"300.012\" y1=\"359.848\" x2=\"298.16\" y2=\"356.64\" stroke-linecap=\"round\" style=\"stroke:black;stroke-width:1\" /><line x1=\"298.16\" y1=\"356.64\" x2=\"294.456\" y2=\"356.64\" stroke-linecap=\"round\" style=\"stroke:black;stroke-width:1\" /><line x1=\"294.456\" y1=\"356.64\" x2=\"296.308\" y2=\"353.432\" stroke-linecap=\"round\" style=\"stroke:black;stroke-width:1\" /><line x1=\"296.308\" y1=\"353.432\" x2=\"294.456\" y2=\"350.224\" stroke-linecap=\"round\" style=\"stroke:black;stroke-width:1\" /><line x1=\"294.456\" y1=\"350.224\" x2=\"290.752\" y2=\"350.224\" stroke-linecap=\"round\" style=\"stroke:black;stroke-width:1\" /><line x1=\"290.752\" y1=\"350.224\" x2=\"288.9\" y2=\"353.432\" stroke-linecap=\"round\" style=\"stroke:black;stroke-width:1\" /><line x1=\"288.9\" y1=\"353.432\" x2=\"287.048\" y2=\"350.224\" stroke-linecap=\"round\" style=\"stroke:black;stroke-width:1\" /><line x1=\"287.048\" y1=\"350.224\" x2=\"283.344\" y2=\"350.224\" stroke-linecap=\"round\" style=\"stroke:black;stroke-width:1\" /><line x1=\"283.344\" y1=\"350.224\" x2=\"285.196\" y2=\"347.016\" stroke-linecap=\"round\" style=\"stroke:black;stroke-width:1\" /><line x1=\"285.196\" y1=\"347.016\" x2=\"283.344\" y2=\"343.808\" stroke-linecap=\"round\" style=\"stroke:black;stroke-width:1\" /><line x1=\"283.344\" y1=\"343.808\" x2=\"287.048\" y2=\"343.808\" stroke-linecap=\"round\" style=\"stroke:black;stroke-width:1\" /><line x1=\"287.048\" y1=\"343.808\" x2=\"288.9\" y2=\"340.6\" stroke-linecap=\"round\" style=\"stroke:black;stroke-width:1\" /><line x1=\"288.9\" y1=\"340.6\" x2=\"287.048\" y2=\"337.392\" stroke-linecap=\"round\" style=\"stroke:black;stroke-width:1\" /><line x1=\"287.048\" y1=\"337.392\" x2=\"283.344\" y2=\"337.392\" stroke-linecap=\"round\" style=\"stroke:black;stroke-width:1\" /><line x1=\"283.344\" y1=\"337.392\" x2=\"285.196\" y2=\"334.184\" stroke-linecap=\"round\" style=\"stroke:black;stroke-width:1\" /><line x1=\"285.196\" y1=\"334.184\" x2=\"283.344\" y2=\"330.976\" stroke-linecap=\"round\" style=\"stroke:black;stroke-width:1\" /><line x1=\"283.344\" y1=\"330.976\" x2=\"279.64\" y2=\"330.976\" stroke-linecap=\"round\" style=\"stroke:black;stroke-width:1\" /><line x1=\"279.64\" y1=\"330.976\" x2=\"277.788\" y2=\"334.184\" stroke-linecap=\"round\" style=\"stroke:black;stroke-width:1\" /><line x1=\"277.788\" y1=\"334.184\" x2=\"275.936\" y2=\"330.976\" stroke-linecap=\"round\" style=\"stroke:black;stroke-width:1\" /><line x1=\"275.936\" y1=\"330.976\" x2=\"272.232\" y2=\"330.976\" stroke-linecap=\"round\" style=\"stroke:black;stroke-width:1\" /><line x1=\"272.232\" y1=\"330.976\" x2=\"270.38\" y2=\"334.184\" stroke-linecap=\"round\" style=\"stroke:black;stroke-width:1\" /><line x1=\"270.38\" y1=\"334.184\" x2=\"272.232\" y2=\"337.392\" stroke-linecap=\"round\" style=\"stroke:black;stroke-width:1\" /><line x1=\"272.232\" y1=\"337.392\" x2=\"268.528\" y2=\"337.392\" stroke-linecap=\"round\" style=\"stroke:black;stroke-width:1\" /><line x1=\"268.528\" y1=\"337.392\" x2=\"266.676\" y2=\"340.6\" stroke-linecap=\"round\" style=\"stroke:black;stroke-width:1\" /><line x1=\"266.676\" y1=\"340.6\" x2=\"264.824\" y2=\"337.392\" stroke-linecap=\"round\" style=\"stroke:black;stroke-width:1\" /><line x1=\"264.824\" y1=\"337.392\" x2=\"261.12\" y2=\"337.392\" stroke-linecap=\"round\" style=\"stroke:black;stroke-width:1\" /><line x1=\"261.12\" y1=\"337.392\" x2=\"262.972\" y2=\"334.184\" stroke-linecap=\"round\" style=\"stroke:black;stroke-width:1\" /><line x1=\"262.972\" y1=\"334.184\" x2=\"261.12\" y2=\"330.976\" stroke-linecap=\"round\" style=\"stroke:black;stroke-width:1\" /><line x1=\"261.12\" y1=\"330.976\" x2=\"257.416\" y2=\"330.976\" stroke-linecap=\"round\" style=\"stroke:black;stroke-width:1\" /><line x1=\"257.416\" y1=\"330.976\" x2=\"255.564\" y2=\"334.184\" stroke-linecap=\"round\" style=\"stroke:black;stroke-width:1\" /><line x1=\"255.564\" y1=\"334.184\" x2=\"253.712\" y2=\"330.976\" stroke-linecap=\"round\" style=\"stroke:black;stroke-width:1\" /><line x1=\"253.712\" y1=\"330.976\" x2=\"250.008\" y2=\"330.976\" stroke-linecap=\"round\" style=\"stroke:black;stroke-width:1\" /><line x1=\"250.008\" y1=\"330.976\" x2=\"251.86\" y2=\"327.768\" stroke-linecap=\"round\" style=\"stroke:black;stroke-width:1\" /><line x1=\"251.86\" y1=\"327.768\" x2=\"250.008\" y2=\"324.56\" stroke-linecap=\"round\" style=\"stroke:black;stroke-width:1\" /><line x1=\"250.008\" y1=\"324.56\" x2=\"253.712\" y2=\"324.56\" stroke-linecap=\"round\" style=\"stroke:black;stroke-width:1\" /><line x1=\"253.712\" y1=\"324.56\" x2=\"255.564\" y2=\"321.352\" stroke-linecap=\"round\" style=\"stroke:black;stroke-width:1\" /><line x1=\"255.564\" y1=\"321.352\" x2=\"253.712\" y2=\"318.144\" stroke-linecap=\"round\" style=\"stroke:black;stroke-width:1\" /><line x1=\"253.712\" y1=\"318.144\" x2=\"250.008\" y2=\"318.144\" stroke-linecap=\"round\" style=\"stroke:black;stroke-width:1\" /><line x1=\"250.008\" y1=\"318.144\" x2=\"251.86\" y2=\"314.936\" stroke-linecap=\"round\" style=\"stroke:black;stroke-width:1\" /><line x1=\"251.86\" y1=\"314.936\" x2=\"250.008\" y2=\"311.728\" stroke-linecap=\"round\" style=\"stroke:black;stroke-width:1\" /><line x1=\"250.008\" y1=\"311.728\" x2=\"253.712\" y2=\"311.728\" stroke-linecap=\"round\" style=\"stroke:black;stroke-width:1\" /><line x1=\"253.712\" y1=\"311.728\" x2=\"255.564\" y2=\"308.52\" stroke-linecap=\"round\" style=\"stroke:black;stroke-width:1\" /><line x1=\"255.564\" y1=\"308.52\" x2=\"257.416\" y2=\"311.728\" stroke-linecap=\"round\" style=\"stroke:black;stroke-width:1\" /><line x1=\"257.416\" y1=\"311.728\" x2=\"261.12\" y2=\"311.728\" stroke-linecap=\"round\" style=\"stroke:black;stroke-width:1\" /><line x1=\"261.12\" y1=\"311.728\" x2=\"262.972\" y2=\"308.52\" stroke-linecap=\"round\" style=\"stroke:black;stroke-width:1\" /><line x1=\"262.972\" y1=\"308.52\" x2=\"261.12\" y2=\"305.312\" stroke-linecap=\"round\" style=\"stroke:black;stroke-width:1\" /><line x1=\"261.12\" y1=\"305.312\" x2=\"264.824\" y2=\"305.312\" stroke-linecap=\"round\" style=\"stroke:black;stroke-width:1\" /><line x1=\"264.824\" y1=\"305.312\" x2=\"266.676\" y2=\"302.104\" stroke-linecap=\"round\" style=\"stroke:black;stroke-width:1\" /><line x1=\"266.676\" y1=\"302.104\" x2=\"264.824\" y2=\"298.896\" stroke-linecap=\"round\" style=\"stroke:black;stroke-width:1\" /><line x1=\"264.824\" y1=\"298.896\" x2=\"261.12\" y2=\"298.896\" stroke-linecap=\"round\" style=\"stroke:black;stroke-width:1\" /><line x1=\"261.12\" y1=\"298.896\" x2=\"262.972\" y2=\"295.688\" stroke-linecap=\"round\" style=\"stroke:black;stroke-width:1\" /><line x1=\"262.972\" y1=\"295.688\" x2=\"261.12\" y2=\"292.48\" stroke-linecap=\"round\" style=\"stroke:black;stroke-width:1\" /><line x1=\"261.12\" y1=\"292.48\" x2=\"257.416\" y2=\"292.48\" stroke-linecap=\"round\" style=\"stroke:black;stroke-width:1\" /><line x1=\"257.416\" y1=\"292.48\" x2=\"255.564\" y2=\"295.688\" stroke-linecap=\"round\" style=\"stroke:black;stroke-width:1\" /><line x1=\"255.564\" y1=\"295.688\" x2=\"253.712\" y2=\"292.48\" stroke-linecap=\"round\" style=\"stroke:black;stroke-width:1\" /><line x1=\"253.712\" y1=\"292.48\" x2=\"250.008\" y2=\"292.48\" stroke-linecap=\"round\" style=\"stroke:black;stroke-width:1\" /><line x1=\"250.008\" y1=\"292.48\" x2=\"251.86\" y2=\"289.272\" stroke-linecap=\"round\" style=\"stroke:black;stroke-width:1\" /><line x1=\"251.86\" y1=\"289.272\" x2=\"250.008\" y2=\"286.064\" stroke-linecap=\"round\" style=\"stroke:black;stroke-width:1\" /><line x1=\"250.008\" y1=\"286.064\" x2=\"253.712\" y2=\"286.064\" stroke-linecap=\"round\" style=\"stroke:black;stroke-width:1\" /><line x1=\"253.712\" y1=\"286.064\" x2=\"255.564\" y2=\"282.856\" stroke-linecap=\"round\" style=\"stroke:black;stroke-width:1\" /><line x1=\"255.564\" y1=\"282.856\" x2=\"253.712\" y2=\"279.648\" stroke-linecap=\"round\" style=\"stroke:black;stroke-width:1\" /><line x1=\"253.712\" y1=\"279.648\" x2=\"250.008\" y2=\"279.648\" stroke-linecap=\"round\" style=\"stroke:black;stroke-width:1\" /><line x1=\"250.008\" y1=\"279.648\" x2=\"251.86\" y2=\"276.44\" stroke-linecap=\"round\" style=\"stroke:black;stroke-width:1\" /><line x1=\"251.86\" y1=\"276.44\" x2=\"250.008\" y2=\"273.232\" stroke-linecap=\"round\" style=\"stroke:black;stroke-width:1\" /><line x1=\"250.008\" y1=\"273.232\" x2=\"246.304\" y2=\"273.232\" stroke-linecap=\"round\" style=\"stroke:black;stroke-width:1\" /><line x1=\"246.304\" y1=\"273.232\" x2=\"244.452\" y2=\"276.44\" stroke-linecap=\"round\" style=\"stroke:black;stroke-width:1\" /><line x1=\"244.452\" y1=\"276.44\" x2=\"242.6\" y2=\"273.232\" stroke-linecap=\"round\" style=\"stroke:black;stroke-width:1\" /><line x1=\"242.6\" y1=\"273.232\" x2=\"238.896\" y2=\"273.232\" stroke-linecap=\"round\" style=\"stroke:black;stroke-width:1\" /><line x1=\"238.896\" y1=\"273.232\" x2=\"237.044\" y2=\"276.44\" stroke-linecap=\"round\" style=\"stroke:black;stroke-width:1\" /><line x1=\"237.044\" y1=\"276.44\" x2=\"238.896\" y2=\"279.648\" stroke-linecap=\"round\" style=\"stroke:black;stroke-width:1\" /><line x1=\"238.896\" y1=\"279.648\" x2=\"235.192\" y2=\"279.648\" stroke-linecap=\"round\" style=\"stroke:black;stroke-width:1\" /><line x1=\"235.192\" y1=\"279.648\" x2=\"233.34\" y2=\"282.856\" stroke-linecap=\"round\" style=\"stroke:black;stroke-width:1\" /><line x1=\"233.34\" y1=\"282.856\" x2=\"231.488\" y2=\"279.648\" stroke-linecap=\"round\" style=\"stroke:black;stroke-width:1\" /><line x1=\"231.488\" y1=\"279.648\" x2=\"227.784\" y2=\"279.648\" stroke-linecap=\"round\" style=\"stroke:black;stroke-width:1\" /><line x1=\"227.784\" y1=\"279.648\" x2=\"229.636\" y2=\"276.44\" stroke-linecap=\"round\" style=\"stroke:black;stroke-width:1\" /><line x1=\"229.636\" y1=\"276.44\" x2=\"227.784\" y2=\"273.232\" stroke-linecap=\"round\" style=\"stroke:black;stroke-width:1\" /><line x1=\"227.784\" y1=\"273.232\" x2=\"224.08\" y2=\"273.232\" stroke-linecap=\"round\" style=\"stroke:black;stroke-width:1\" /><line x1=\"224.08\" y1=\"273.232\" x2=\"222.228\" y2=\"276.44\" stroke-linecap=\"round\" style=\"stroke:black;stroke-width:1\" /><line x1=\"222.228\" y1=\"276.44\" x2=\"220.376\" y2=\"273.232\" stroke-linecap=\"round\" style=\"stroke:black;stroke-width:1\" /><line x1=\"220.376\" y1=\"273.232\" x2=\"216.672\" y2=\"273.232\" stroke-linecap=\"round\" style=\"stroke:black;stroke-width:1\" /><line x1=\"216.672\" y1=\"273.232\" x2=\"214.82\" y2=\"276.44\" stroke-linecap=\"round\" style=\"stroke:black;stroke-width:1\" /><line x1=\"214.82\" y1=\"276.44\" x2=\"216.672\" y2=\"279.648\" stroke-linecap=\"round\" style=\"stroke:black;stroke-width:1\" /><line x1=\"216.672\" y1=\"279.648\" x2=\"212.968\" y2=\"279.648\" stroke-linecap=\"round\" style=\"stroke:black;stroke-width:1\" /><line x1=\"212.968\" y1=\"279.648\" x2=\"211.116\" y2=\"282.856\" stroke-linecap=\"round\" style=\"stroke:black;stroke-width:1\" /><line x1=\"211.116\" y1=\"282.856\" x2=\"212.968\" y2=\"286.064\" stroke-linecap=\"round\" style=\"stroke:black;stroke-width:1\" /><line x1=\"212.968\" y1=\"286.064\" x2=\"216.672\" y2=\"286.064\" stroke-linecap=\"round\" style=\"stroke:black;stroke-width:1\" /><line x1=\"216.672\" y1=\"286.064\" x2=\"214.82\" y2=\"289.272\" stroke-linecap=\"round\" style=\"stroke:black;stroke-width:1\" /><line x1=\"214.82\" y1=\"289.272\" x2=\"216.672\" y2=\"292.48\" stroke-linecap=\"round\" style=\"stroke:black;stroke-width:1\" /><line x1=\"216.672\" y1=\"292.48\" x2=\"212.968\" y2=\"292.48\" stroke-linecap=\"round\" style=\"stroke:black;stroke-width:1\" /><line x1=\"212.968\" y1=\"292.48\" x2=\"211.116\" y2=\"295.688\" stroke-linecap=\"round\" style=\"stroke:black;stroke-width:1\" /><line x1=\"211.116\" y1=\"295.688\" x2=\"209.264\" y2=\"292.48\" stroke-linecap=\"round\" style=\"stroke:black;stroke-width:1\" /><line x1=\"209.264\" y1=\"292.48\" x2=\"205.56\" y2=\"292.48\" stroke-linecap=\"round\" style=\"stroke:black;stroke-width:1\" /><line x1=\"205.56\" y1=\"292.48\" x2=\"203.708\" y2=\"295.688\" stroke-linecap=\"round\" style=\"stroke:black;stroke-width:1\" /><line x1=\"203.708\" y1=\"295.688\" x2=\"205.56\" y2=\"298.896\" stroke-linecap=\"round\" style=\"stroke:black;stroke-width:1\" /><line x1=\"205.56\" y1=\"298.896\" x2=\"201.856\" y2=\"298.896\" stroke-linecap=\"round\" style=\"stroke:black;stroke-width:1\" /><line x1=\"201.856\" y1=\"298.896\" x2=\"200.004\" y2=\"302.104\" stroke-linecap=\"round\" style=\"stroke:black;stroke-width:1\" /><line x1=\"200.004\" y1=\"302.104\" x2=\"198.152\" y2=\"298.896\" stroke-linecap=\"round\" style=\"stroke:black;stroke-width:1\" /><line x1=\"198.152\" y1=\"298.896\" x2=\"194.448\" y2=\"298.896\" stroke-linecap=\"round\" style=\"stroke:black;stroke-width:1\" /><line x1=\"194.448\" y1=\"298.896\" x2=\"196.3\" y2=\"295.688\" stroke-linecap=\"round\" style=\"stroke:black;stroke-width:1\" /><line x1=\"196.3\" y1=\"295.688\" x2=\"194.448\" y2=\"292.48\" stroke-linecap=\"round\" style=\"stroke:black;stroke-width:1\" /><line x1=\"194.448\" y1=\"292.48\" x2=\"190.744\" y2=\"292.48\" stroke-linecap=\"round\" style=\"stroke:black;stroke-width:1\" /><line x1=\"190.744\" y1=\"292.48\" x2=\"188.892\" y2=\"295.688\" stroke-linecap=\"round\" style=\"stroke:black;stroke-width:1\" /><line x1=\"188.892\" y1=\"295.688\" x2=\"187.04\" y2=\"292.48\" stroke-linecap=\"round\" style=\"stroke:black;stroke-width:1\" /><line x1=\"187.04\" y1=\"292.48\" x2=\"183.336\" y2=\"292.48\" stroke-linecap=\"round\" style=\"stroke:black;stroke-width:1\" /><line x1=\"183.336\" y1=\"292.48\" x2=\"185.188\" y2=\"289.272\" stroke-linecap=\"round\" style=\"stroke:black;stroke-width:1\" /><line x1=\"185.188\" y1=\"289.272\" x2=\"183.336\" y2=\"286.064\" stroke-linecap=\"round\" style=\"stroke:black;stroke-width:1\" /><line x1=\"183.336\" y1=\"286.064\" x2=\"187.04\" y2=\"286.064\" stroke-linecap=\"round\" style=\"stroke:black;stroke-width:1\" /><line x1=\"187.04\" y1=\"286.064\" x2=\"188.892\" y2=\"282.856\" stroke-linecap=\"round\" style=\"stroke:black;stroke-width:1\" /><line x1=\"188.892\" y1=\"282.856\" x2=\"187.04\" y2=\"279.648\" stroke-linecap=\"round\" style=\"stroke:black;stroke-width:1\" /><line x1=\"187.04\" y1=\"279.648\" x2=\"183.336\" y2=\"279.648\" stroke-linecap=\"round\" style=\"stroke:black;stroke-width:1\" /><line x1=\"183.336\" y1=\"279.648\" x2=\"185.188\" y2=\"276.44\" stroke-linecap=\"round\" style=\"stroke:black;stroke-width:1\" /><line x1=\"185.188\" y1=\"276.44\" x2=\"183.336\" y2=\"273.232\" stroke-linecap=\"round\" style=\"stroke:black;stroke-width:1\" /><line x1=\"183.336\" y1=\"273.232\" x2=\"179.632\" y2=\"273.232\" stroke-linecap=\"round\" style=\"stroke:black;stroke-width:1\" /><line x1=\"179.632\" y1=\"273.232\" x2=\"177.78\" y2=\"276.44\" stroke-linecap=\"round\" style=\"stroke:black;stroke-width:1\" /><line x1=\"177.78\" y1=\"276.44\" x2=\"175.928\" y2=\"273.232\" stroke-linecap=\"round\" style=\"stroke:black;stroke-width:1\" /><line x1=\"175.928\" y1=\"273.232\" x2=\"172.224\" y2=\"273.232\" stroke-linecap=\"round\" style=\"stroke:black;stroke-width:1\" /><line x1=\"172.224\" y1=\"273.232\" x2=\"170.372\" y2=\"276.44\" stroke-linecap=\"round\" style=\"stroke:black;stroke-width:1\" /><line x1=\"170.372\" y1=\"276.44\" x2=\"172.224\" y2=\"279.648\" stroke-linecap=\"round\" style=\"stroke:black;stroke-width:1\" /><line x1=\"172.224\" y1=\"279.648\" x2=\"168.52\" y2=\"279.648\" stroke-linecap=\"round\" style=\"stroke:black;stroke-width:1\" /><line x1=\"168.52\" y1=\"279.648\" x2=\"166.668\" y2=\"282.856\" stroke-linecap=\"round\" style=\"stroke:black;stroke-width:1\" /><line x1=\"166.668\" y1=\"282.856\" x2=\"164.816\" y2=\"279.648\" stroke-linecap=\"round\" style=\"stroke:black;stroke-width:1\" /><line x1=\"164.816\" y1=\"279.648\" x2=\"161.112\" y2=\"279.648\" stroke-linecap=\"round\" style=\"stroke:black;stroke-width:1\" /><line x1=\"161.112\" y1=\"279.648\" x2=\"162.964\" y2=\"276.44\" stroke-linecap=\"round\" style=\"stroke:black;stroke-width:1\" /><line x1=\"162.964\" y1=\"276.44\" x2=\"161.112\" y2=\"273.232\" stroke-linecap=\"round\" style=\"stroke:black;stroke-width:1\" /><line x1=\"161.112\" y1=\"273.232\" x2=\"157.408\" y2=\"273.232\" stroke-linecap=\"round\" style=\"stroke:black;stroke-width:1\" /><line x1=\"157.408\" y1=\"273.232\" x2=\"155.556\" y2=\"276.44\" stroke-linecap=\"round\" style=\"stroke:black;stroke-width:1\" /><line x1=\"155.556\" y1=\"276.44\" x2=\"153.704\" y2=\"273.232\" stroke-linecap=\"round\" style=\"stroke:black;stroke-width:1\" /><line x1=\"153.704\" y1=\"273.232\" x2=\"150.0\" y2=\"273.232\" stroke-linecap=\"round\" style=\"stroke:black;stroke-width:1\" /><line x1=\"150.0\" y1=\"273.232\" x2=\"151.852\" y2=\"270.024\" stroke-linecap=\"round\" style=\"stroke:black;stroke-width:1\" /><line x1=\"151.852\" y1=\"270.024\" x2=\"150.0\" y2=\"266.816\" stroke-linecap=\"round\" style=\"stroke:black;stroke-width:1\" /><line x1=\"150.0\" y1=\"266.816\" x2=\"153.704\" y2=\"266.816\" stroke-linecap=\"round\" style=\"stroke:black;stroke-width:1\" /><line x1=\"153.704\" y1=\"266.816\" x2=\"155.556\" y2=\"263.608\" stroke-linecap=\"round\" style=\"stroke:black;stroke-width:1\" /><line x1=\"155.556\" y1=\"263.608\" x2=\"153.704\" y2=\"260.4\" stroke-linecap=\"round\" style=\"stroke:black;stroke-width:1\" /><line x1=\"153.704\" y1=\"260.4\" x2=\"150.0\" y2=\"260.4\" stroke-linecap=\"round\" style=\"stroke:black;stroke-width:1\" /><line x1=\"150.0\" y1=\"260.4\" x2=\"151.852\" y2=\"257.192\" stroke-linecap=\"round\" style=\"stroke:black;stroke-width:1\" /><line x1=\"151.852\" y1=\"257.192\" x2=\"150.0\" y2=\"253.984\" stroke-linecap=\"round\" style=\"stroke:black;stroke-width:1\" /><line x1=\"150.0\" y1=\"253.984\" x2=\"153.704\" y2=\"253.984\" stroke-linecap=\"round\" style=\"stroke:black;stroke-width:1\" /><line x1=\"153.704\" y1=\"253.984\" x2=\"155.556\" y2=\"250.776\" stroke-linecap=\"round\" style=\"stroke:black;stroke-width:1\" /><line x1=\"155.556\" y1=\"250.776\" x2=\"157.408\" y2=\"253.984\" stroke-linecap=\"round\" style=\"stroke:black;stroke-width:1\" /><line x1=\"157.408\" y1=\"253.984\" x2=\"161.112\" y2=\"253.984\" stroke-linecap=\"round\" style=\"stroke:black;stroke-width:1\" /><line x1=\"161.112\" y1=\"253.984\" x2=\"162.964\" y2=\"250.776\" stroke-linecap=\"round\" style=\"stroke:black;stroke-width:1\" /><line x1=\"162.964\" y1=\"250.776\" x2=\"161.112\" y2=\"247.568\" stroke-linecap=\"round\" style=\"stroke:black;stroke-width:1\" /><line x1=\"161.112\" y1=\"247.568\" x2=\"164.816\" y2=\"247.568\" stroke-linecap=\"round\" style=\"stroke:black;stroke-width:1\" /><line x1=\"164.816\" y1=\"247.568\" x2=\"166.668\" y2=\"244.36\" stroke-linecap=\"round\" style=\"stroke:black;stroke-width:1\" /><line x1=\"166.668\" y1=\"244.36\" x2=\"164.816\" y2=\"241.152\" stroke-linecap=\"round\" style=\"stroke:black;stroke-width:1\" /><line x1=\"164.816\" y1=\"241.152\" x2=\"161.112\" y2=\"241.152\" stroke-linecap=\"round\" style=\"stroke:black;stroke-width:1\" /><line x1=\"161.112\" y1=\"241.152\" x2=\"162.964\" y2=\"237.944\" stroke-linecap=\"round\" style=\"stroke:black;stroke-width:1\" /><line x1=\"162.964\" y1=\"237.944\" x2=\"161.112\" y2=\"234.736\" stroke-linecap=\"round\" style=\"stroke:black;stroke-width:1\" /><line x1=\"161.112\" y1=\"234.736\" x2=\"157.408\" y2=\"234.736\" stroke-linecap=\"round\" style=\"stroke:black;stroke-width:1\" /><line x1=\"157.408\" y1=\"234.736\" x2=\"155.556\" y2=\"237.944\" stroke-linecap=\"round\" style=\"stroke:black;stroke-width:1\" /><line x1=\"155.556\" y1=\"237.944\" x2=\"153.704\" y2=\"234.736\" stroke-linecap=\"round\" style=\"stroke:black;stroke-width:1\" /><line x1=\"153.704\" y1=\"234.736\" x2=\"150.0\" y2=\"234.736\" stroke-linecap=\"round\" style=\"stroke:black;stroke-width:1\" /><line x1=\"150.0\" y1=\"234.736\" x2=\"151.852\" y2=\"231.528\" stroke-linecap=\"round\" style=\"stroke:black;stroke-width:1\" /><line x1=\"151.852\" y1=\"231.528\" x2=\"150.0\" y2=\"228.32\" stroke-linecap=\"round\" style=\"stroke:black;stroke-width:1\" /><line x1=\"150.0\" y1=\"228.32\" x2=\"153.704\" y2=\"228.32\" stroke-linecap=\"round\" style=\"stroke:black;stroke-width:1\" /><line x1=\"153.704\" y1=\"228.32\" x2=\"155.556\" y2=\"225.112\" stroke-linecap=\"round\" style=\"stroke:black;stroke-width:1\" /><line x1=\"155.556\" y1=\"225.112\" x2=\"153.704\" y2=\"221.904\" stroke-linecap=\"round\" style=\"stroke:black;stroke-width:1\" /><line x1=\"153.704\" y1=\"221.904\" x2=\"150.0\" y2=\"221.904\" stroke-linecap=\"round\" style=\"stroke:black;stroke-width:1\" /><line x1=\"150.0\" y1=\"221.904\" x2=\"151.852\" y2=\"218.696\" stroke-linecap=\"round\" style=\"stroke:black;stroke-width:1\" /><line x1=\"151.852\" y1=\"218.696\" x2=\"150.0\" y2=\"215.488\" stroke-linecap=\"round\" style=\"stroke:black;stroke-width:1\" /><line x1=\"150.0\" y1=\"215.488\" x2=\"153.704\" y2=\"215.488\" stroke-linecap=\"round\" style=\"stroke:black;stroke-width:1\" /><line x1=\"153.704\" y1=\"215.488\" x2=\"155.556\" y2=\"212.28\" stroke-linecap=\"round\" style=\"stroke:black;stroke-width:1\" /><line x1=\"155.556\" y1=\"212.28\" x2=\"157.408\" y2=\"215.488\" stroke-linecap=\"round\" style=\"stroke:black;stroke-width:1\" /><line x1=\"157.408\" y1=\"215.488\" x2=\"161.112\" y2=\"215.488\" stroke-linecap=\"round\" style=\"stroke:black;stroke-width:1\" /><line x1=\"161.112\" y1=\"215.488\" x2=\"162.964\" y2=\"212.28\" stroke-linecap=\"round\" style=\"stroke:black;stroke-width:1\" /><line x1=\"162.964\" y1=\"212.28\" x2=\"161.112\" y2=\"209.072\" stroke-linecap=\"round\" style=\"stroke:black;stroke-width:1\" /><line x1=\"161.112\" y1=\"209.072\" x2=\"164.816\" y2=\"209.072\" stroke-linecap=\"round\" style=\"stroke:black;stroke-width:1\" /><line x1=\"164.816\" y1=\"209.072\" x2=\"166.668\" y2=\"205.864\" stroke-linecap=\"round\" style=\"stroke:black;stroke-width:1\" /><line x1=\"166.668\" y1=\"205.864\" x2=\"168.52\" y2=\"209.072\" stroke-linecap=\"round\" style=\"stroke:black;stroke-width:1\" /><line x1=\"168.52\" y1=\"209.072\" x2=\"172.224\" y2=\"209.072\" stroke-linecap=\"round\" style=\"stroke:black;stroke-width:1\" /><line x1=\"172.224\" y1=\"209.072\" x2=\"170.372\" y2=\"212.28\" stroke-linecap=\"round\" style=\"stroke:black;stroke-width:1\" /><line x1=\"170.372\" y1=\"212.28\" x2=\"172.224\" y2=\"215.488\" stroke-linecap=\"round\" style=\"stroke:black;stroke-width:1\" /><line x1=\"172.224\" y1=\"215.488\" x2=\"175.928\" y2=\"215.488\" stroke-linecap=\"round\" style=\"stroke:black;stroke-width:1\" /><line x1=\"175.928\" y1=\"215.488\" x2=\"177.78\" y2=\"212.28\" stroke-linecap=\"round\" style=\"stroke:black;stroke-width:1\" /><line x1=\"177.78\" y1=\"212.28\" x2=\"179.632\" y2=\"215.488\" stroke-linecap=\"round\" style=\"stroke:black;stroke-width:1\" /><line x1=\"179.632\" y1=\"215.488\" x2=\"183.336\" y2=\"215.488\" stroke-linecap=\"round\" style=\"stroke:black;stroke-width:1\" /><line x1=\"183.336\" y1=\"215.488\" x2=\"185.188\" y2=\"212.28\" stroke-linecap=\"round\" style=\"stroke:black;stroke-width:1\" /><line x1=\"185.188\" y1=\"212.28\" x2=\"183.336\" y2=\"209.072\" stroke-linecap=\"round\" style=\"stroke:black;stroke-width:1\" /><line x1=\"183.336\" y1=\"209.072\" x2=\"187.04\" y2=\"209.072\" stroke-linecap=\"round\" style=\"stroke:black;stroke-width:1\" /><line x1=\"187.04\" y1=\"209.072\" x2=\"188.892\" y2=\"205.864\" stroke-linecap=\"round\" style=\"stroke:black;stroke-width:1\" /><line x1=\"188.892\" y1=\"205.864\" x2=\"187.04\" y2=\"202.656\" stroke-linecap=\"round\" style=\"stroke:black;stroke-width:1\" /><line x1=\"187.04\" y1=\"202.656\" x2=\"183.336\" y2=\"202.656\" stroke-linecap=\"round\" style=\"stroke:black;stroke-width:1\" /><line x1=\"183.336\" y1=\"202.656\" x2=\"185.188\" y2=\"199.448\" stroke-linecap=\"round\" style=\"stroke:black;stroke-width:1\" /><line x1=\"185.188\" y1=\"199.448\" x2=\"183.336\" y2=\"196.24\" stroke-linecap=\"round\" style=\"stroke:black;stroke-width:1\" /><line x1=\"183.336\" y1=\"196.24\" x2=\"187.04\" y2=\"196.24\" stroke-linecap=\"round\" style=\"stroke:black;stroke-width:1\" /><line x1=\"187.04\" y1=\"196.24\" x2=\"188.892\" y2=\"193.032\" stroke-linecap=\"round\" style=\"stroke:black;stroke-width:1\" /><line x1=\"188.892\" y1=\"193.032\" x2=\"190.744\" y2=\"196.24\" stroke-linecap=\"round\" style=\"stroke:black;stroke-width:1\" /><line x1=\"190.744\" y1=\"196.24\" x2=\"194.448\" y2=\"196.24\" stroke-linecap=\"round\" style=\"stroke:black;stroke-width:1\" /><line x1=\"194.448\" y1=\"196.24\" x2=\"196.3\" y2=\"193.032\" stroke-linecap=\"round\" style=\"stroke:black;stroke-width:1\" /><line x1=\"196.3\" y1=\"193.032\" x2=\"194.448\" y2=\"189.824\" stroke-linecap=\"round\" style=\"stroke:black;stroke-width:1\" /><line x1=\"194.448\" y1=\"189.824\" x2=\"198.152\" y2=\"189.824\" stroke-linecap=\"round\" style=\"stroke:black;stroke-width:1\" /><line x1=\"198.152\" y1=\"189.824\" x2=\"200.004\" y2=\"186.616\" stroke-linecap=\"round\" style=\"stroke:black;stroke-width:1\" /><line x1=\"200.004\" y1=\"186.616\" x2=\"198.152\" y2=\"183.408\" stroke-linecap=\"round\" style=\"stroke:black;stroke-width:1\" /><line x1=\"198.152\" y1=\"183.408\" x2=\"194.448\" y2=\"183.408\" stroke-linecap=\"round\" style=\"stroke:black;stroke-width:1\" /><line x1=\"194.448\" y1=\"183.408\" x2=\"196.3\" y2=\"180.2\" stroke-linecap=\"round\" style=\"stroke:black;stroke-width:1\" /><line x1=\"196.3\" y1=\"180.2\" x2=\"194.448\" y2=\"176.992\" stroke-linecap=\"round\" style=\"stroke:black;stroke-width:1\" /><line x1=\"194.448\" y1=\"176.992\" x2=\"190.744\" y2=\"176.992\" stroke-linecap=\"round\" style=\"stroke:black;stroke-width:1\" /><line x1=\"190.744\" y1=\"176.992\" x2=\"188.892\" y2=\"180.2\" stroke-linecap=\"round\" style=\"stroke:black;stroke-width:1\" /><line x1=\"188.892\" y1=\"180.2\" x2=\"187.04\" y2=\"176.992\" stroke-linecap=\"round\" style=\"stroke:black;stroke-width:1\" /><line x1=\"187.04\" y1=\"176.992\" x2=\"183.336\" y2=\"176.992\" stroke-linecap=\"round\" style=\"stroke:black;stroke-width:1\" /><line x1=\"183.336\" y1=\"176.992\" x2=\"185.188\" y2=\"173.784\" stroke-linecap=\"round\" style=\"stroke:black;stroke-width:1\" /><line x1=\"185.188\" y1=\"173.784\" x2=\"183.336\" y2=\"170.576\" stroke-linecap=\"round\" style=\"stroke:black;stroke-width:1\" /><line x1=\"183.336\" y1=\"170.576\" x2=\"187.04\" y2=\"170.576\" stroke-linecap=\"round\" style=\"stroke:black;stroke-width:1\" /><line x1=\"187.04\" y1=\"170.576\" x2=\"188.892\" y2=\"167.368\" stroke-linecap=\"round\" style=\"stroke:black;stroke-width:1\" /><line x1=\"188.892\" y1=\"167.368\" x2=\"187.04\" y2=\"164.16\" stroke-linecap=\"round\" style=\"stroke:black;stroke-width:1\" /><line x1=\"187.04\" y1=\"164.16\" x2=\"183.336\" y2=\"164.16\" stroke-linecap=\"round\" style=\"stroke:black;stroke-width:1\" /><line x1=\"183.336\" y1=\"164.16\" x2=\"185.188\" y2=\"160.952\" stroke-linecap=\"round\" style=\"stroke:black;stroke-width:1\" /><line x1=\"185.188\" y1=\"160.952\" x2=\"183.336\" y2=\"157.744\" stroke-linecap=\"round\" style=\"stroke:black;stroke-width:1\" /><line x1=\"183.336\" y1=\"157.744\" x2=\"179.632\" y2=\"157.744\" stroke-linecap=\"round\" style=\"stroke:black;stroke-width:1\" /><line x1=\"179.632\" y1=\"157.744\" x2=\"177.78\" y2=\"160.952\" stroke-linecap=\"round\" style=\"stroke:black;stroke-width:1\" /><line x1=\"177.78\" y1=\"160.952\" x2=\"175.928\" y2=\"157.744\" stroke-linecap=\"round\" style=\"stroke:black;stroke-width:1\" /><line x1=\"175.928\" y1=\"157.744\" x2=\"172.224\" y2=\"157.744\" stroke-linecap=\"round\" style=\"stroke:black;stroke-width:1\" /><line x1=\"172.224\" y1=\"157.744\" x2=\"170.372\" y2=\"160.952\" stroke-linecap=\"round\" style=\"stroke:black;stroke-width:1\" /><line x1=\"170.372\" y1=\"160.952\" x2=\"172.224\" y2=\"164.16\" stroke-linecap=\"round\" style=\"stroke:black;stroke-width:1\" /><line x1=\"172.224\" y1=\"164.16\" x2=\"168.52\" y2=\"164.16\" stroke-linecap=\"round\" style=\"stroke:black;stroke-width:1\" /><line x1=\"168.52\" y1=\"164.16\" x2=\"166.668\" y2=\"167.368\" stroke-linecap=\"round\" style=\"stroke:black;stroke-width:1\" /><line x1=\"166.668\" y1=\"167.368\" x2=\"164.816\" y2=\"164.16\" stroke-linecap=\"round\" style=\"stroke:black;stroke-width:1\" /><line x1=\"164.816\" y1=\"164.16\" x2=\"161.112\" y2=\"164.16\" stroke-linecap=\"round\" style=\"stroke:black;stroke-width:1\" /><line x1=\"161.112\" y1=\"164.16\" x2=\"162.964\" y2=\"160.952\" stroke-linecap=\"round\" style=\"stroke:black;stroke-width:1\" /><line x1=\"162.964\" y1=\"160.952\" x2=\"161.112\" y2=\"157.744\" stroke-linecap=\"round\" style=\"stroke:black;stroke-width:1\" /><line x1=\"161.112\" y1=\"157.744\" x2=\"157.408\" y2=\"157.744\" stroke-linecap=\"round\" style=\"stroke:black;stroke-width:1\" /><line x1=\"157.408\" y1=\"157.744\" x2=\"155.556\" y2=\"160.952\" stroke-linecap=\"round\" style=\"stroke:black;stroke-width:1\" /><line x1=\"155.556\" y1=\"160.952\" x2=\"153.704\" y2=\"157.744\" stroke-linecap=\"round\" style=\"stroke:black;stroke-width:1\" /><line x1=\"153.704\" y1=\"157.744\" x2=\"150.0\" y2=\"157.744\" stroke-linecap=\"round\" style=\"stroke:black;stroke-width:1\" /><line x1=\"150.0\" y1=\"157.744\" x2=\"151.852\" y2=\"154.536\" stroke-linecap=\"round\" style=\"stroke:black;stroke-width:1\" /><line x1=\"151.852\" y1=\"154.536\" x2=\"150.0\" y2=\"151.328\" stroke-linecap=\"round\" style=\"stroke:black;stroke-width:1\" /><line x1=\"150.0\" y1=\"151.328\" x2=\"153.704\" y2=\"151.328\" stroke-linecap=\"round\" style=\"stroke:black;stroke-width:1\" /><line x1=\"153.704\" y1=\"151.328\" x2=\"155.556\" y2=\"148.12\" stroke-linecap=\"round\" style=\"stroke:black;stroke-width:1\" /><line x1=\"155.556\" y1=\"148.12\" x2=\"153.704\" y2=\"144.912\" stroke-linecap=\"round\" style=\"stroke:black;stroke-width:1\" /><line x1=\"153.704\" y1=\"144.912\" x2=\"150.0\" y2=\"144.912\" stroke-linecap=\"round\" style=\"stroke:black;stroke-width:1\" /><line x1=\"150.0\" y1=\"144.912\" x2=\"151.852\" y2=\"141.704\" stroke-linecap=\"round\" style=\"stroke:black;stroke-width:1\" /><line x1=\"151.852\" y1=\"141.704\" x2=\"150.0\" y2=\"138.496\" stroke-linecap=\"round\" style=\"stroke:black;stroke-width:1\" /><line x1=\"150.0\" y1=\"138.496\" x2=\"153.704\" y2=\"138.496\" stroke-linecap=\"round\" style=\"stroke:black;stroke-width:1\" /><line x1=\"153.704\" y1=\"138.496\" x2=\"155.556\" y2=\"135.288\" stroke-linecap=\"round\" style=\"stroke:black;stroke-width:1\" /><line x1=\"155.556\" y1=\"135.288\" x2=\"157.408\" y2=\"138.496\" stroke-linecap=\"round\" style=\"stroke:black;stroke-width:1\" /><line x1=\"157.408\" y1=\"138.496\" x2=\"161.112\" y2=\"138.496\" stroke-linecap=\"round\" style=\"stroke:black;stroke-width:1\" /><line x1=\"161.112\" y1=\"138.496\" x2=\"162.964\" y2=\"135.288\" stroke-linecap=\"round\" style=\"stroke:black;stroke-width:1\" /><line x1=\"162.964\" y1=\"135.288\" x2=\"161.112\" y2=\"132.08\" stroke-linecap=\"round\" style=\"stroke:black;stroke-width:1\" /><line x1=\"161.112\" y1=\"132.08\" x2=\"164.816\" y2=\"132.08\" stroke-linecap=\"round\" style=\"stroke:black;stroke-width:1\" /><line x1=\"164.816\" y1=\"132.08\" x2=\"166.668\" y2=\"128.872\" stroke-linecap=\"round\" style=\"stroke:black;stroke-width:1\" /><line x1=\"166.668\" y1=\"128.872\" x2=\"164.816\" y2=\"125.664\" stroke-linecap=\"round\" style=\"stroke:black;stroke-width:1\" /><line x1=\"164.816\" y1=\"125.664\" x2=\"161.112\" y2=\"125.664\" stroke-linecap=\"round\" style=\"stroke:black;stroke-width:1\" /><line x1=\"161.112\" y1=\"125.664\" x2=\"162.964\" y2=\"122.456\" stroke-linecap=\"round\" style=\"stroke:black;stroke-width:1\" /><line x1=\"162.964\" y1=\"122.456\" x2=\"161.112\" y2=\"119.248\" stroke-linecap=\"round\" style=\"stroke:black;stroke-width:1\" /><line x1=\"161.112\" y1=\"119.248\" x2=\"157.408\" y2=\"119.248\" stroke-linecap=\"round\" style=\"stroke:black;stroke-width:1\" /><line x1=\"157.408\" y1=\"119.248\" x2=\"155.556\" y2=\"122.456\" stroke-linecap=\"round\" style=\"stroke:black;stroke-width:1\" /><line x1=\"155.556\" y1=\"122.456\" x2=\"153.704\" y2=\"119.248\" stroke-linecap=\"round\" style=\"stroke:black;stroke-width:1\" /><line x1=\"153.704\" y1=\"119.248\" x2=\"150.0\" y2=\"119.248\" stroke-linecap=\"round\" style=\"stroke:black;stroke-width:1\" /><line x1=\"150.0\" y1=\"119.248\" x2=\"151.852\" y2=\"116.04\" stroke-linecap=\"round\" style=\"stroke:black;stroke-width:1\" /><line x1=\"151.852\" y1=\"116.04\" x2=\"150.0\" y2=\"112.832\" stroke-linecap=\"round\" style=\"stroke:black;stroke-width:1\" /><line x1=\"150.0\" y1=\"112.832\" x2=\"153.704\" y2=\"112.832\" stroke-linecap=\"round\" style=\"stroke:black;stroke-width:1\" /><line x1=\"153.704\" y1=\"112.832\" x2=\"155.556\" y2=\"109.624\" stroke-linecap=\"round\" style=\"stroke:black;stroke-width:1\" /><line x1=\"155.556\" y1=\"109.624\" x2=\"153.704\" y2=\"106.416\" stroke-linecap=\"round\" style=\"stroke:black;stroke-width:1\" /><line x1=\"153.704\" y1=\"106.416\" x2=\"150.0\" y2=\"106.416\" stroke-linecap=\"round\" style=\"stroke:black;stroke-width:1\" /><line x1=\"150.0\" y1=\"106.416\" x2=\"151.852\" y2=\"103.208\" stroke-linecap=\"round\" style=\"stroke:black;stroke-width:1\" /><line x1=\"151.852\" y1=\"103.208\" x2=\"150.0\" y2=\"100.0\" stroke-linecap=\"round\" style=\"stroke:black;stroke-width:1\" />\n",
              "        \n",
              "        \n",
              "        <g id=\"classic\" visibility=\"visible\" transform=\"rotate(150,150.0,100.0) translate(150.0, 100.0)\">\n",
              "<polygon points=\"-5,-4.5 0,-2.5 5,-4.5 0,4.5\" transform=\"skewX(0) scale(1,1)\" style=\"stroke:black;fill:black;stroke-width:1\" />\n",
              "<animateTransform id = \"one\" attributeName=\"transform\" \n",
              "                      type=\"scale\"\n",
              "                      from=\"1 1\" to=\"1 1\"\n",
              "                      begin=\"0s\" dur=\"0.01s\"\n",
              "                      repeatCount=\"1\"\n",
              "                      additive=\"sum\"\n",
              "                      fill=\"freeze\"\n",
              "                /><animateTransform attributeName=\"transform\"\n",
              "                    type=\"rotate\"\n",
              "                    from=\"0 0 0\" to =\"120 0 0\"\n",
              "                    begin=\"one.end\" dur=\"0.006666666666666666s\"\n",
              "                    repeatCount=\"1\"\n",
              "                    additive=\"sum\"\n",
              "                    fill=\"freeze\"\n",
              "                /></g>\n",
              "      </svg>\n",
              "    "
            ]
          },
          "metadata": {}
        }
      ]
    },
    {
      "cell_type": "code",
      "source": [
        "# A Bifurcating fractal Tree\n",
        "initializeTurtle()\n",
        "speed(13)\n",
        "setheading(90) # Point turtle up.\n",
        "penup() # Lift pen.\n",
        "setpos(-200 , -120) # Start point coordinates.\n",
        "pendown()\n",
        "def FractalTreeColor(length, level):\n",
        "  pensize(length / 10) # Thickness of lines.\n",
        "  if length < 20:\n",
        "    pencolor(\"green\")\n",
        "  else:\n",
        "    pencolor(\"brown\")\n",
        "  if level > 0:\n",
        "    fd(length) # Forward\n",
        "    rt(60) # Right turn 60 degrees\n",
        "    FractalTreeColor(length*0.7, level-1)\n",
        "    lt(90) # Left turn 90 degrees\n",
        "    FractalTreeColor(length*0.5, level-1)\n",
        "    rt(30)\n",
        "    penup()\n",
        "    bk(length)\n",
        "    pendown()\n",
        "FractalTreeColor(200 , 10)\n",
        "\n",
        "\n",
        "\n"
      ],
      "metadata": {
        "colab": {
          "base_uri": "https://localhost:8080/",
          "height": 641
        },
        "id": "uzMMEE9AHVHx",
        "outputId": "8465a0ce-5b06-4854-d4b4-e51693cf489f"
      },
      "execution_count": null,
      "outputs": [
        {
          "output_type": "display_data",
          "data": {
            "text/plain": [
              "<IPython.core.display.HTML object>"
            ],
            "text/html": [
              "\n",
              "      <svg width=\"800\" height=\"600\">  \n",
              "        <rect width=\"100%\" height=\"100%\" style=\"fill:white;stroke:;stroke-width:1\"/>\n",
              "        \n",
              "        \n",
              "        <line x1=\"200.0\" y1=\"420.0\" x2=\"200.0\" y2=\"220.0\" stroke-linecap=\"round\" style=\"stroke:brown;stroke-width:20.0\" /><line x1=\"200.0\" y1=\"220.0\" x2=\"321.244\" y2=\"150.0\" stroke-linecap=\"round\" style=\"stroke:brown;stroke-width:14.0\" /><line x1=\"321.244\" y1=\"150.0\" x2=\"406.114\" y2=\"199.0\" stroke-linecap=\"round\" style=\"stroke:brown;stroke-width:9.8\" /><line x1=\"406.114\" y1=\"199.0\" x2=\"406.114\" y2=\"267.6\" stroke-linecap=\"round\" style=\"stroke:brown;stroke-width:6.859999999999999\" /><line x1=\"406.114\" y1=\"267.6\" x2=\"364.527\" y2=\"291.61\" stroke-linecap=\"round\" style=\"stroke:brown;stroke-width:4.802\" /><line x1=\"364.527\" y1=\"291.61\" x2=\"335.416\" y2=\"274.803\" stroke-linecap=\"round\" style=\"stroke:brown;stroke-width:3.3613999999999997\" /><line x1=\"335.416\" y1=\"274.803\" x2=\"335.416\" y2=\"251.273\" stroke-linecap=\"round\" style=\"stroke:brown;stroke-width:2.3529799999999996\" /><line x1=\"335.416\" y1=\"251.273\" x2=\"349.68\" y2=\"243.038\" stroke-linecap=\"round\" style=\"stroke:green;stroke-width:1.6470859999999998\" /><line x1=\"349.68\" y1=\"243.038\" x2=\"359.665\" y2=\"248.803\" stroke-linecap=\"round\" style=\"stroke:green;stroke-width:1.1529601999999999\" /><line x1=\"359.665\" y1=\"248.803\" x2=\"359.665\" y2=\"256.874\" stroke-linecap=\"round\" style=\"stroke:green;stroke-width:0.8070721399999998\" /><line x1=\"359.665\" y1=\"248.803\" x2=\"365.43\" y2=\"248.803\" stroke-linecap=\"round\" style=\"stroke:green;stroke-width:0.5764800999999999\" /><line x1=\"349.68\" y1=\"243.038\" x2=\"353.798\" y2=\"235.906\" stroke-linecap=\"round\" style=\"stroke:green;stroke-width:0.8235429999999999\" /><line x1=\"353.798\" y1=\"235.906\" x2=\"359.563\" y2=\"235.906\" stroke-linecap=\"round\" style=\"stroke:green;stroke-width:0.5764800999999999\" /><line x1=\"353.798\" y1=\"235.906\" x2=\"353.798\" y2=\"231.788\" stroke-linecap=\"round\" style=\"stroke:green;stroke-width:0.41177149999999996\" /><line x1=\"335.416\" y1=\"251.273\" x2=\"329.534\" y2=\"241.084\" stroke-linecap=\"round\" style=\"stroke:green;stroke-width:1.1764899999999998\" /><line x1=\"329.534\" y1=\"241.084\" x2=\"333.652\" y2=\"233.952\" stroke-linecap=\"round\" style=\"stroke:green;stroke-width:0.8235429999999999\" /><line x1=\"333.652\" y1=\"233.952\" x2=\"339.417\" y2=\"233.952\" stroke-linecap=\"round\" style=\"stroke:green;stroke-width:0.5764800999999999\" /><line x1=\"333.652\" y1=\"233.952\" x2=\"333.652\" y2=\"229.834\" stroke-linecap=\"round\" style=\"stroke:green;stroke-width:0.41177149999999996\" /><line x1=\"329.534\" y1=\"241.084\" x2=\"324.44\" y2=\"238.143\" stroke-linecap=\"round\" style=\"stroke:green;stroke-width:0.5882449999999999\" /><line x1=\"324.44\" y1=\"238.143\" x2=\"324.44\" y2=\"234.025\" stroke-linecap=\"round\" style=\"stroke:green;stroke-width:0.41177149999999996\" /><line x1=\"324.44\" y1=\"238.143\" x2=\"321.499\" y2=\"238.143\" stroke-linecap=\"round\" style=\"stroke:green;stroke-width:0.29412249999999995\" /><line x1=\"335.416\" y1=\"274.803\" x2=\"318.609\" y2=\"274.803\" stroke-linecap=\"round\" style=\"stroke:green;stroke-width:1.6806999999999999\" /><line x1=\"318.609\" y1=\"274.803\" x2=\"312.727\" y2=\"264.614\" stroke-linecap=\"round\" style=\"stroke:green;stroke-width:1.1764899999999998\" /><line x1=\"312.727\" y1=\"264.614\" x2=\"316.845\" y2=\"257.482\" stroke-linecap=\"round\" style=\"stroke:green;stroke-width:0.8235429999999999\" /><line x1=\"316.845\" y1=\"257.482\" x2=\"322.61\" y2=\"257.482\" stroke-linecap=\"round\" style=\"stroke:green;stroke-width:0.5764800999999999\" /><line x1=\"316.845\" y1=\"257.482\" x2=\"316.845\" y2=\"253.364\" stroke-linecap=\"round\" style=\"stroke:green;stroke-width:0.41177149999999996\" /><line x1=\"312.727\" y1=\"264.614\" x2=\"307.633\" y2=\"261.673\" stroke-linecap=\"round\" style=\"stroke:green;stroke-width:0.5882449999999999\" /><line x1=\"307.633\" y1=\"261.673\" x2=\"307.633\" y2=\"257.555\" stroke-linecap=\"round\" style=\"stroke:green;stroke-width:0.41177149999999996\" /><line x1=\"307.633\" y1=\"261.673\" x2=\"304.692\" y2=\"261.673\" stroke-linecap=\"round\" style=\"stroke:green;stroke-width:0.29412249999999995\" /><line x1=\"318.609\" y1=\"274.803\" x2=\"311.331\" y2=\"279.005\" stroke-linecap=\"round\" style=\"stroke:green;stroke-width:0.8403499999999999\" /><line x1=\"311.331\" y1=\"279.005\" x2=\"306.237\" y2=\"276.064\" stroke-linecap=\"round\" style=\"stroke:green;stroke-width:0.5882449999999999\" /><line x1=\"306.237\" y1=\"276.064\" x2=\"306.237\" y2=\"271.946\" stroke-linecap=\"round\" style=\"stroke:green;stroke-width:0.41177149999999996\" /><line x1=\"306.237\" y1=\"276.064\" x2=\"303.296\" y2=\"276.064\" stroke-linecap=\"round\" style=\"stroke:green;stroke-width:0.29412249999999995\" /><line x1=\"311.331\" y1=\"279.005\" x2=\"309.23\" y2=\"282.644\" stroke-linecap=\"round\" style=\"stroke:green;stroke-width:0.42017499999999997\" /><line x1=\"309.23\" y1=\"282.644\" x2=\"306.289\" y2=\"282.644\" stroke-linecap=\"round\" style=\"stroke:green;stroke-width:0.29412249999999995\" /><line x1=\"309.23\" y1=\"282.644\" x2=\"309.23\" y2=\"284.745\" stroke-linecap=\"round\" style=\"stroke:green;stroke-width:0.21008749999999998\" /><line x1=\"364.527\" y1=\"291.61\" x2=\"352.522\" y2=\"312.403\" stroke-linecap=\"round\" style=\"stroke:brown;stroke-width:2.401\" /><line x1=\"352.522\" y1=\"312.403\" x2=\"335.715\" y2=\"312.403\" stroke-linecap=\"round\" style=\"stroke:green;stroke-width:1.6806999999999999\" /><line x1=\"335.715\" y1=\"312.403\" x2=\"329.833\" y2=\"302.214\" stroke-linecap=\"round\" style=\"stroke:green;stroke-width:1.1764899999999998\" /><line x1=\"329.833\" y1=\"302.214\" x2=\"333.951\" y2=\"295.082\" stroke-linecap=\"round\" style=\"stroke:green;stroke-width:0.8235429999999999\" /><line x1=\"333.951\" y1=\"295.082\" x2=\"339.716\" y2=\"295.082\" stroke-linecap=\"round\" style=\"stroke:green;stroke-width:0.5764800999999999\" /><line x1=\"333.951\" y1=\"295.082\" x2=\"333.951\" y2=\"290.964\" stroke-linecap=\"round\" style=\"stroke:green;stroke-width:0.41177149999999996\" /><line x1=\"329.833\" y1=\"302.214\" x2=\"324.739\" y2=\"299.273\" stroke-linecap=\"round\" style=\"stroke:green;stroke-width:0.5882449999999999\" /><line x1=\"324.739\" y1=\"299.273\" x2=\"324.739\" y2=\"295.155\" stroke-linecap=\"round\" style=\"stroke:green;stroke-width:0.41177149999999996\" /><line x1=\"324.739\" y1=\"299.273\" x2=\"321.798\" y2=\"299.273\" stroke-linecap=\"round\" style=\"stroke:green;stroke-width:0.29412249999999995\" /><line x1=\"335.715\" y1=\"312.403\" x2=\"328.437\" y2=\"316.605\" stroke-linecap=\"round\" style=\"stroke:green;stroke-width:0.8403499999999999\" /><line x1=\"328.437\" y1=\"316.605\" x2=\"323.343\" y2=\"313.664\" stroke-linecap=\"round\" style=\"stroke:green;stroke-width:0.5882449999999999\" /><line x1=\"323.343\" y1=\"313.664\" x2=\"323.343\" y2=\"309.546\" stroke-linecap=\"round\" style=\"stroke:green;stroke-width:0.41177149999999996\" /><line x1=\"323.343\" y1=\"313.664\" x2=\"320.402\" y2=\"313.664\" stroke-linecap=\"round\" style=\"stroke:green;stroke-width:0.29412249999999995\" /><line x1=\"328.437\" y1=\"316.605\" x2=\"326.336\" y2=\"320.244\" stroke-linecap=\"round\" style=\"stroke:green;stroke-width:0.42017499999999997\" /><line x1=\"326.336\" y1=\"320.244\" x2=\"323.395\" y2=\"320.244\" stroke-linecap=\"round\" style=\"stroke:green;stroke-width:0.29412249999999995\" /><line x1=\"326.336\" y1=\"320.244\" x2=\"326.336\" y2=\"322.345\" stroke-linecap=\"round\" style=\"stroke:green;stroke-width:0.21008749999999998\" /><line x1=\"352.522\" y1=\"312.403\" x2=\"352.522\" y2=\"324.408\" stroke-linecap=\"round\" style=\"stroke:green;stroke-width:1.2005\" /><line x1=\"352.522\" y1=\"324.408\" x2=\"345.244\" y2=\"328.61\" stroke-linecap=\"round\" style=\"stroke:green;stroke-width:0.8403499999999999\" /><line x1=\"345.244\" y1=\"328.61\" x2=\"340.15\" y2=\"325.669\" stroke-linecap=\"round\" style=\"stroke:green;stroke-width:0.5882449999999999\" /><line x1=\"340.15\" y1=\"325.669\" x2=\"340.15\" y2=\"321.551\" stroke-linecap=\"round\" style=\"stroke:green;stroke-width:0.41177149999999996\" /><line x1=\"340.15\" y1=\"325.669\" x2=\"337.209\" y2=\"325.669\" stroke-linecap=\"round\" style=\"stroke:green;stroke-width:0.29412249999999995\" /><line x1=\"345.244\" y1=\"328.61\" x2=\"343.143\" y2=\"332.249\" stroke-linecap=\"round\" style=\"stroke:green;stroke-width:0.42017499999999997\" /><line x1=\"343.143\" y1=\"332.249\" x2=\"340.202\" y2=\"332.249\" stroke-linecap=\"round\" style=\"stroke:green;stroke-width:0.29412249999999995\" /><line x1=\"343.143\" y1=\"332.249\" x2=\"343.143\" y2=\"334.35\" stroke-linecap=\"round\" style=\"stroke:green;stroke-width:0.21008749999999998\" /><line x1=\"352.522\" y1=\"324.408\" x2=\"355.523\" y2=\"329.606\" stroke-linecap=\"round\" style=\"stroke:green;stroke-width:0.60025\" /><line x1=\"355.523\" y1=\"329.606\" x2=\"353.422\" y2=\"333.245\" stroke-linecap=\"round\" style=\"stroke:green;stroke-width:0.42017499999999997\" /><line x1=\"353.422\" y1=\"333.245\" x2=\"350.481\" y2=\"333.245\" stroke-linecap=\"round\" style=\"stroke:green;stroke-width:0.29412249999999995\" /><line x1=\"353.422\" y1=\"333.245\" x2=\"353.422\" y2=\"335.346\" stroke-linecap=\"round\" style=\"stroke:green;stroke-width:0.21008749999999998\" /><line x1=\"355.523\" y1=\"329.606\" x2=\"358.122\" y2=\"331.107\" stroke-linecap=\"round\" style=\"stroke:green;stroke-width:0.300125\" /><line x1=\"358.122\" y1=\"331.107\" x2=\"358.122\" y2=\"333.208\" stroke-linecap=\"round\" style=\"stroke:green;stroke-width:0.21008749999999998\" /><line x1=\"358.122\" y1=\"331.107\" x2=\"359.623\" y2=\"331.107\" stroke-linecap=\"round\" style=\"stroke:green;stroke-width:0.1500625\" /><line x1=\"406.114\" y1=\"267.6\" x2=\"423.264\" y2=\"297.305\" stroke-linecap=\"round\" style=\"stroke:brown;stroke-width:3.4299999999999997\" /><line x1=\"423.264\" y1=\"297.305\" x2=\"411.259\" y2=\"318.098\" stroke-linecap=\"round\" style=\"stroke:brown;stroke-width:2.401\" /><line x1=\"411.259\" y1=\"318.098\" x2=\"394.452\" y2=\"318.098\" stroke-linecap=\"round\" style=\"stroke:green;stroke-width:1.6806999999999999\" /><line x1=\"394.452\" y1=\"318.098\" x2=\"388.57\" y2=\"307.909\" stroke-linecap=\"round\" style=\"stroke:green;stroke-width:1.1764899999999998\" /><line x1=\"388.57\" y1=\"307.909\" x2=\"392.688\" y2=\"300.777\" stroke-linecap=\"round\" style=\"stroke:green;stroke-width:0.8235429999999999\" /><line x1=\"392.688\" y1=\"300.777\" x2=\"398.453\" y2=\"300.777\" stroke-linecap=\"round\" style=\"stroke:green;stroke-width:0.5764800999999999\" /><line x1=\"392.688\" y1=\"300.777\" x2=\"392.688\" y2=\"296.659\" stroke-linecap=\"round\" style=\"stroke:green;stroke-width:0.41177149999999996\" /><line x1=\"388.57\" y1=\"307.909\" x2=\"383.476\" y2=\"304.968\" stroke-linecap=\"round\" style=\"stroke:green;stroke-width:0.5882449999999999\" /><line x1=\"383.476\" y1=\"304.968\" x2=\"383.476\" y2=\"300.85\" stroke-linecap=\"round\" style=\"stroke:green;stroke-width:0.41177149999999996\" /><line x1=\"383.476\" y1=\"304.968\" x2=\"380.535\" y2=\"304.968\" stroke-linecap=\"round\" style=\"stroke:green;stroke-width:0.29412249999999995\" /><line x1=\"394.452\" y1=\"318.098\" x2=\"387.174\" y2=\"322.3\" stroke-linecap=\"round\" style=\"stroke:green;stroke-width:0.8403499999999999\" /><line x1=\"387.174\" y1=\"322.3\" x2=\"382.08\" y2=\"319.359\" stroke-linecap=\"round\" style=\"stroke:green;stroke-width:0.5882449999999999\" /><line x1=\"382.08\" y1=\"319.359\" x2=\"382.08\" y2=\"315.241\" stroke-linecap=\"round\" style=\"stroke:green;stroke-width:0.41177149999999996\" /><line x1=\"382.08\" y1=\"319.359\" x2=\"379.139\" y2=\"319.359\" stroke-linecap=\"round\" style=\"stroke:green;stroke-width:0.29412249999999995\" /><line x1=\"387.174\" y1=\"322.3\" x2=\"385.073\" y2=\"325.939\" stroke-linecap=\"round\" style=\"stroke:green;stroke-width:0.42017499999999997\" /><line x1=\"385.073\" y1=\"325.939\" x2=\"382.132\" y2=\"325.939\" stroke-linecap=\"round\" style=\"stroke:green;stroke-width:0.29412249999999995\" /><line x1=\"385.073\" y1=\"325.939\" x2=\"385.073\" y2=\"328.04\" stroke-linecap=\"round\" style=\"stroke:green;stroke-width:0.21008749999999998\" /><line x1=\"411.259\" y1=\"318.098\" x2=\"411.259\" y2=\"330.103\" stroke-linecap=\"round\" style=\"stroke:green;stroke-width:1.2005\" /><line x1=\"411.259\" y1=\"330.103\" x2=\"403.981\" y2=\"334.305\" stroke-linecap=\"round\" style=\"stroke:green;stroke-width:0.8403499999999999\" /><line x1=\"403.981\" y1=\"334.305\" x2=\"398.887\" y2=\"331.364\" stroke-linecap=\"round\" style=\"stroke:green;stroke-width:0.5882449999999999\" /><line x1=\"398.887\" y1=\"331.364\" x2=\"398.887\" y2=\"327.246\" stroke-linecap=\"round\" style=\"stroke:green;stroke-width:0.41177149999999996\" /><line x1=\"398.887\" y1=\"331.364\" x2=\"395.946\" y2=\"331.364\" stroke-linecap=\"round\" style=\"stroke:green;stroke-width:0.29412249999999995\" /><line x1=\"403.981\" y1=\"334.305\" x2=\"401.88\" y2=\"337.944\" stroke-linecap=\"round\" style=\"stroke:green;stroke-width:0.42017499999999997\" /><line x1=\"401.88\" y1=\"337.944\" x2=\"398.939\" y2=\"337.944\" stroke-linecap=\"round\" style=\"stroke:green;stroke-width:0.29412249999999995\" /><line x1=\"401.88\" y1=\"337.944\" x2=\"401.88\" y2=\"340.045\" stroke-linecap=\"round\" style=\"stroke:green;stroke-width:0.21008749999999998\" /><line x1=\"411.259\" y1=\"330.103\" x2=\"414.26\" y2=\"335.301\" stroke-linecap=\"round\" style=\"stroke:green;stroke-width:0.60025\" /><line x1=\"414.26\" y1=\"335.301\" x2=\"412.159\" y2=\"338.94\" stroke-linecap=\"round\" style=\"stroke:green;stroke-width:0.42017499999999997\" /><line x1=\"412.159\" y1=\"338.94\" x2=\"409.218\" y2=\"338.94\" stroke-linecap=\"round\" style=\"stroke:green;stroke-width:0.29412249999999995\" /><line x1=\"412.159\" y1=\"338.94\" x2=\"412.159\" y2=\"341.041\" stroke-linecap=\"round\" style=\"stroke:green;stroke-width:0.21008749999999998\" /><line x1=\"414.26\" y1=\"335.301\" x2=\"416.859\" y2=\"336.802\" stroke-linecap=\"round\" style=\"stroke:green;stroke-width:0.300125\" /><line x1=\"416.859\" y1=\"336.802\" x2=\"416.859\" y2=\"338.903\" stroke-linecap=\"round\" style=\"stroke:green;stroke-width:0.21008749999999998\" /><line x1=\"416.859\" y1=\"336.802\" x2=\"418.36\" y2=\"336.802\" stroke-linecap=\"round\" style=\"stroke:green;stroke-width:0.1500625\" /><line x1=\"423.264\" y1=\"297.305\" x2=\"438.116\" y2=\"305.88\" stroke-linecap=\"round\" style=\"stroke:green;stroke-width:1.7149999999999999\" /><line x1=\"438.116\" y1=\"305.88\" x2=\"438.116\" y2=\"317.885\" stroke-linecap=\"round\" style=\"stroke:green;stroke-width:1.2005\" /><line x1=\"438.116\" y1=\"317.885\" x2=\"430.838\" y2=\"322.087\" stroke-linecap=\"round\" style=\"stroke:green;stroke-width:0.8403499999999999\" /><line x1=\"430.838\" y1=\"322.087\" x2=\"425.744\" y2=\"319.146\" stroke-linecap=\"round\" style=\"stroke:green;stroke-width:0.5882449999999999\" /><line x1=\"425.744\" y1=\"319.146\" x2=\"425.744\" y2=\"315.028\" stroke-linecap=\"round\" style=\"stroke:green;stroke-width:0.41177149999999996\" /><line x1=\"425.744\" y1=\"319.146\" x2=\"422.803\" y2=\"319.146\" stroke-linecap=\"round\" style=\"stroke:green;stroke-width:0.29412249999999995\" /><line x1=\"430.838\" y1=\"322.087\" x2=\"428.737\" y2=\"325.726\" stroke-linecap=\"round\" style=\"stroke:green;stroke-width:0.42017499999999997\" /><line x1=\"428.737\" y1=\"325.726\" x2=\"425.796\" y2=\"325.726\" stroke-linecap=\"round\" style=\"stroke:green;stroke-width:0.29412249999999995\" /><line x1=\"428.737\" y1=\"325.726\" x2=\"428.737\" y2=\"327.827\" stroke-linecap=\"round\" style=\"stroke:green;stroke-width:0.21008749999999998\" /><line x1=\"438.116\" y1=\"317.885\" x2=\"441.117\" y2=\"323.083\" stroke-linecap=\"round\" style=\"stroke:green;stroke-width:0.60025\" /><line x1=\"441.117\" y1=\"323.083\" x2=\"439.016\" y2=\"326.722\" stroke-linecap=\"round\" style=\"stroke:green;stroke-width:0.42017499999999997\" /><line x1=\"439.016\" y1=\"326.722\" x2=\"436.075\" y2=\"326.722\" stroke-linecap=\"round\" style=\"stroke:green;stroke-width:0.29412249999999995\" /><line x1=\"439.016\" y1=\"326.722\" x2=\"439.016\" y2=\"328.823\" stroke-linecap=\"round\" style=\"stroke:green;stroke-width:0.21008749999999998\" /><line x1=\"441.117\" y1=\"323.083\" x2=\"443.716\" y2=\"324.584\" stroke-linecap=\"round\" style=\"stroke:green;stroke-width:0.300125\" /><line x1=\"443.716\" y1=\"324.584\" x2=\"443.716\" y2=\"326.685\" stroke-linecap=\"round\" style=\"stroke:green;stroke-width:0.21008749999999998\" /><line x1=\"443.716\" y1=\"324.584\" x2=\"445.217\" y2=\"324.584\" stroke-linecap=\"round\" style=\"stroke:green;stroke-width:0.1500625\" /><line x1=\"438.116\" y1=\"305.88\" x2=\"446.691\" y2=\"305.88\" stroke-linecap=\"round\" style=\"stroke:green;stroke-width:0.8574999999999999\" /><line x1=\"446.691\" y1=\"305.88\" x2=\"449.692\" y2=\"311.078\" stroke-linecap=\"round\" style=\"stroke:green;stroke-width:0.60025\" /><line x1=\"449.692\" y1=\"311.078\" x2=\"447.591\" y2=\"314.717\" stroke-linecap=\"round\" style=\"stroke:green;stroke-width:0.42017499999999997\" /><line x1=\"447.591\" y1=\"314.717\" x2=\"444.65\" y2=\"314.717\" stroke-linecap=\"round\" style=\"stroke:green;stroke-width:0.29412249999999995\" /><line x1=\"447.591\" y1=\"314.717\" x2=\"447.591\" y2=\"316.818\" stroke-linecap=\"round\" style=\"stroke:green;stroke-width:0.21008749999999998\" /><line x1=\"449.692\" y1=\"311.078\" x2=\"452.291\" y2=\"312.579\" stroke-linecap=\"round\" style=\"stroke:green;stroke-width:0.300125\" /><line x1=\"452.291\" y1=\"312.579\" x2=\"452.291\" y2=\"314.68\" stroke-linecap=\"round\" style=\"stroke:green;stroke-width:0.21008749999999998\" /><line x1=\"452.291\" y1=\"312.579\" x2=\"453.792\" y2=\"312.579\" stroke-linecap=\"round\" style=\"stroke:green;stroke-width:0.1500625\" /><line x1=\"446.691\" y1=\"305.88\" x2=\"450.404\" y2=\"303.736\" stroke-linecap=\"round\" style=\"stroke:green;stroke-width:0.42874999999999996\" /><line x1=\"450.404\" y1=\"303.736\" x2=\"453.003\" y2=\"305.237\" stroke-linecap=\"round\" style=\"stroke:green;stroke-width:0.300125\" /><line x1=\"453.003\" y1=\"305.237\" x2=\"453.003\" y2=\"307.338\" stroke-linecap=\"round\" style=\"stroke:green;stroke-width:0.21008749999999998\" /><line x1=\"453.003\" y1=\"305.237\" x2=\"454.504\" y2=\"305.237\" stroke-linecap=\"round\" style=\"stroke:green;stroke-width:0.1500625\" /><line x1=\"450.404\" y1=\"303.736\" x2=\"451.476\" y2=\"301.879\" stroke-linecap=\"round\" style=\"stroke:green;stroke-width:0.21437499999999998\" /><line x1=\"451.476\" y1=\"301.879\" x2=\"452.977\" y2=\"301.879\" stroke-linecap=\"round\" style=\"stroke:green;stroke-width:0.1500625\" /><line x1=\"451.476\" y1=\"301.879\" x2=\"451.476\" y2=\"300.807\" stroke-linecap=\"round\" style=\"stroke:green;stroke-width:0.10718749999999999\" /><line x1=\"406.114\" y1=\"199.0\" x2=\"455.114\" y2=\"199.0\" stroke-linecap=\"round\" style=\"stroke:brown;stroke-width:4.9\" /><line x1=\"455.114\" y1=\"199.0\" x2=\"472.264\" y2=\"228.705\" stroke-linecap=\"round\" style=\"stroke:brown;stroke-width:3.4299999999999997\" /><line x1=\"472.264\" y1=\"228.705\" x2=\"460.259\" y2=\"249.498\" stroke-linecap=\"round\" style=\"stroke:brown;stroke-width:2.401\" /><line x1=\"460.259\" y1=\"249.498\" x2=\"443.452\" y2=\"249.498\" stroke-linecap=\"round\" style=\"stroke:green;stroke-width:1.6806999999999999\" /><line x1=\"443.452\" y1=\"249.498\" x2=\"437.57\" y2=\"239.309\" stroke-linecap=\"round\" style=\"stroke:green;stroke-width:1.1764899999999998\" /><line x1=\"437.57\" y1=\"239.309\" x2=\"441.688\" y2=\"232.177\" stroke-linecap=\"round\" style=\"stroke:green;stroke-width:0.8235429999999999\" /><line x1=\"441.688\" y1=\"232.177\" x2=\"447.453\" y2=\"232.177\" stroke-linecap=\"round\" style=\"stroke:green;stroke-width:0.5764800999999999\" /><line x1=\"441.688\" y1=\"232.177\" x2=\"441.688\" y2=\"228.059\" stroke-linecap=\"round\" style=\"stroke:green;stroke-width:0.41177149999999996\" /><line x1=\"437.57\" y1=\"239.309\" x2=\"432.476\" y2=\"236.368\" stroke-linecap=\"round\" style=\"stroke:green;stroke-width:0.5882449999999999\" /><line x1=\"432.476\" y1=\"236.368\" x2=\"432.476\" y2=\"232.25\" stroke-linecap=\"round\" style=\"stroke:green;stroke-width:0.41177149999999996\" /><line x1=\"432.476\" y1=\"236.368\" x2=\"429.535\" y2=\"236.368\" stroke-linecap=\"round\" style=\"stroke:green;stroke-width:0.29412249999999995\" /><line x1=\"443.452\" y1=\"249.498\" x2=\"436.174\" y2=\"253.7\" stroke-linecap=\"round\" style=\"stroke:green;stroke-width:0.8403499999999999\" /><line x1=\"436.174\" y1=\"253.7\" x2=\"431.08\" y2=\"250.759\" stroke-linecap=\"round\" style=\"stroke:green;stroke-width:0.5882449999999999\" /><line x1=\"431.08\" y1=\"250.759\" x2=\"431.08\" y2=\"246.641\" stroke-linecap=\"round\" style=\"stroke:green;stroke-width:0.41177149999999996\" /><line x1=\"431.08\" y1=\"250.759\" x2=\"428.139\" y2=\"250.759\" stroke-linecap=\"round\" style=\"stroke:green;stroke-width:0.29412249999999995\" /><line x1=\"436.174\" y1=\"253.7\" x2=\"434.073\" y2=\"257.339\" stroke-linecap=\"round\" style=\"stroke:green;stroke-width:0.42017499999999997\" /><line x1=\"434.073\" y1=\"257.339\" x2=\"431.132\" y2=\"257.339\" stroke-linecap=\"round\" style=\"stroke:green;stroke-width:0.29412249999999995\" /><line x1=\"434.073\" y1=\"257.339\" x2=\"434.073\" y2=\"259.44\" stroke-linecap=\"round\" style=\"stroke:green;stroke-width:0.21008749999999998\" /><line x1=\"460.259\" y1=\"249.498\" x2=\"460.259\" y2=\"261.503\" stroke-linecap=\"round\" style=\"stroke:green;stroke-width:1.2005\" /><line x1=\"460.259\" y1=\"261.503\" x2=\"452.981\" y2=\"265.705\" stroke-linecap=\"round\" style=\"stroke:green;stroke-width:0.8403499999999999\" /><line x1=\"452.981\" y1=\"265.705\" x2=\"447.887\" y2=\"262.764\" stroke-linecap=\"round\" style=\"stroke:green;stroke-width:0.5882449999999999\" /><line x1=\"447.887\" y1=\"262.764\" x2=\"447.887\" y2=\"258.646\" stroke-linecap=\"round\" style=\"stroke:green;stroke-width:0.41177149999999996\" /><line x1=\"447.887\" y1=\"262.764\" x2=\"444.946\" y2=\"262.764\" stroke-linecap=\"round\" style=\"stroke:green;stroke-width:0.29412249999999995\" /><line x1=\"452.981\" y1=\"265.705\" x2=\"450.88\" y2=\"269.344\" stroke-linecap=\"round\" style=\"stroke:green;stroke-width:0.42017499999999997\" /><line x1=\"450.88\" y1=\"269.344\" x2=\"447.939\" y2=\"269.344\" stroke-linecap=\"round\" style=\"stroke:green;stroke-width:0.29412249999999995\" /><line x1=\"450.88\" y1=\"269.344\" x2=\"450.88\" y2=\"271.445\" stroke-linecap=\"round\" style=\"stroke:green;stroke-width:0.21008749999999998\" /><line x1=\"460.259\" y1=\"261.503\" x2=\"463.26\" y2=\"266.701\" stroke-linecap=\"round\" style=\"stroke:green;stroke-width:0.60025\" /><line x1=\"463.26\" y1=\"266.701\" x2=\"461.159\" y2=\"270.34\" stroke-linecap=\"round\" style=\"stroke:green;stroke-width:0.42017499999999997\" /><line x1=\"461.159\" y1=\"270.34\" x2=\"458.218\" y2=\"270.34\" stroke-linecap=\"round\" style=\"stroke:green;stroke-width:0.29412249999999995\" /><line x1=\"461.159\" y1=\"270.34\" x2=\"461.159\" y2=\"272.441\" stroke-linecap=\"round\" style=\"stroke:green;stroke-width:0.21008749999999998\" /><line x1=\"463.26\" y1=\"266.701\" x2=\"465.859\" y2=\"268.202\" stroke-linecap=\"round\" style=\"stroke:green;stroke-width:0.300125\" /><line x1=\"465.859\" y1=\"268.202\" x2=\"465.859\" y2=\"270.303\" stroke-linecap=\"round\" style=\"stroke:green;stroke-width:0.21008749999999998\" /><line x1=\"465.859\" y1=\"268.202\" x2=\"467.36\" y2=\"268.202\" stroke-linecap=\"round\" style=\"stroke:green;stroke-width:0.1500625\" /><line x1=\"472.264\" y1=\"228.705\" x2=\"487.116\" y2=\"237.28\" stroke-linecap=\"round\" style=\"stroke:green;stroke-width:1.7149999999999999\" /><line x1=\"487.116\" y1=\"237.28\" x2=\"487.116\" y2=\"249.285\" stroke-linecap=\"round\" style=\"stroke:green;stroke-width:1.2005\" /><line x1=\"487.116\" y1=\"249.285\" x2=\"479.838\" y2=\"253.487\" stroke-linecap=\"round\" style=\"stroke:green;stroke-width:0.8403499999999999\" /><line x1=\"479.838\" y1=\"253.487\" x2=\"474.744\" y2=\"250.546\" stroke-linecap=\"round\" style=\"stroke:green;stroke-width:0.5882449999999999\" /><line x1=\"474.744\" y1=\"250.546\" x2=\"474.744\" y2=\"246.428\" stroke-linecap=\"round\" style=\"stroke:green;stroke-width:0.41177149999999996\" /><line x1=\"474.744\" y1=\"250.546\" x2=\"471.803\" y2=\"250.546\" stroke-linecap=\"round\" style=\"stroke:green;stroke-width:0.29412249999999995\" /><line x1=\"479.838\" y1=\"253.487\" x2=\"477.737\" y2=\"257.126\" stroke-linecap=\"round\" style=\"stroke:green;stroke-width:0.42017499999999997\" /><line x1=\"477.737\" y1=\"257.126\" x2=\"474.796\" y2=\"257.126\" stroke-linecap=\"round\" style=\"stroke:green;stroke-width:0.29412249999999995\" /><line x1=\"477.737\" y1=\"257.126\" x2=\"477.737\" y2=\"259.227\" stroke-linecap=\"round\" style=\"stroke:green;stroke-width:0.21008749999999998\" /><line x1=\"487.116\" y1=\"249.285\" x2=\"490.117\" y2=\"254.483\" stroke-linecap=\"round\" style=\"stroke:green;stroke-width:0.60025\" /><line x1=\"490.117\" y1=\"254.483\" x2=\"488.016\" y2=\"258.122\" stroke-linecap=\"round\" style=\"stroke:green;stroke-width:0.42017499999999997\" /><line x1=\"488.016\" y1=\"258.122\" x2=\"485.075\" y2=\"258.122\" stroke-linecap=\"round\" style=\"stroke:green;stroke-width:0.29412249999999995\" /><line x1=\"488.016\" y1=\"258.122\" x2=\"488.016\" y2=\"260.223\" stroke-linecap=\"round\" style=\"stroke:green;stroke-width:0.21008749999999998\" /><line x1=\"490.117\" y1=\"254.483\" x2=\"492.716\" y2=\"255.984\" stroke-linecap=\"round\" style=\"stroke:green;stroke-width:0.300125\" /><line x1=\"492.716\" y1=\"255.984\" x2=\"492.716\" y2=\"258.085\" stroke-linecap=\"round\" style=\"stroke:green;stroke-width:0.21008749999999998\" /><line x1=\"492.716\" y1=\"255.984\" x2=\"494.217\" y2=\"255.984\" stroke-linecap=\"round\" style=\"stroke:green;stroke-width:0.1500625\" /><line x1=\"487.116\" y1=\"237.28\" x2=\"495.691\" y2=\"237.28\" stroke-linecap=\"round\" style=\"stroke:green;stroke-width:0.8574999999999999\" /><line x1=\"495.691\" y1=\"237.28\" x2=\"498.692\" y2=\"242.478\" stroke-linecap=\"round\" style=\"stroke:green;stroke-width:0.60025\" /><line x1=\"498.692\" y1=\"242.478\" x2=\"496.591\" y2=\"246.117\" stroke-linecap=\"round\" style=\"stroke:green;stroke-width:0.42017499999999997\" /><line x1=\"496.591\" y1=\"246.117\" x2=\"493.65\" y2=\"246.117\" stroke-linecap=\"round\" style=\"stroke:green;stroke-width:0.29412249999999995\" /><line x1=\"496.591\" y1=\"246.117\" x2=\"496.591\" y2=\"248.218\" stroke-linecap=\"round\" style=\"stroke:green;stroke-width:0.21008749999999998\" /><line x1=\"498.692\" y1=\"242.478\" x2=\"501.291\" y2=\"243.979\" stroke-linecap=\"round\" style=\"stroke:green;stroke-width:0.300125\" /><line x1=\"501.291\" y1=\"243.979\" x2=\"501.291\" y2=\"246.08\" stroke-linecap=\"round\" style=\"stroke:green;stroke-width:0.21008749999999998\" /><line x1=\"501.291\" y1=\"243.979\" x2=\"502.792\" y2=\"243.979\" stroke-linecap=\"round\" style=\"stroke:green;stroke-width:0.1500625\" /><line x1=\"495.691\" y1=\"237.28\" x2=\"499.404\" y2=\"235.136\" stroke-linecap=\"round\" style=\"stroke:green;stroke-width:0.42874999999999996\" /><line x1=\"499.404\" y1=\"235.136\" x2=\"502.003\" y2=\"236.637\" stroke-linecap=\"round\" style=\"stroke:green;stroke-width:0.300125\" /><line x1=\"502.003\" y1=\"236.637\" x2=\"502.003\" y2=\"238.738\" stroke-linecap=\"round\" style=\"stroke:green;stroke-width:0.21008749999999998\" /><line x1=\"502.003\" y1=\"236.637\" x2=\"503.504\" y2=\"236.637\" stroke-linecap=\"round\" style=\"stroke:green;stroke-width:0.1500625\" /><line x1=\"499.404\" y1=\"235.136\" x2=\"500.476\" y2=\"233.279\" stroke-linecap=\"round\" style=\"stroke:green;stroke-width:0.21437499999999998\" /><line x1=\"500.476\" y1=\"233.279\" x2=\"501.977\" y2=\"233.279\" stroke-linecap=\"round\" style=\"stroke:green;stroke-width:0.1500625\" /><line x1=\"500.476\" y1=\"233.279\" x2=\"500.476\" y2=\"232.207\" stroke-linecap=\"round\" style=\"stroke:green;stroke-width:0.10718749999999999\" /><line x1=\"455.114\" y1=\"199.0\" x2=\"476.332\" y2=\"186.75\" stroke-linecap=\"round\" style=\"stroke:brown;stroke-width:2.45\" /><line x1=\"476.332\" y1=\"186.75\" x2=\"491.184\" y2=\"195.325\" stroke-linecap=\"round\" style=\"stroke:green;stroke-width:1.7149999999999999\" /><line x1=\"491.184\" y1=\"195.325\" x2=\"491.184\" y2=\"207.33\" stroke-linecap=\"round\" style=\"stroke:green;stroke-width:1.2005\" /><line x1=\"491.184\" y1=\"207.33\" x2=\"483.906\" y2=\"211.532\" stroke-linecap=\"round\" style=\"stroke:green;stroke-width:0.8403499999999999\" /><line x1=\"483.906\" y1=\"211.532\" x2=\"478.812\" y2=\"208.591\" stroke-linecap=\"round\" style=\"stroke:green;stroke-width:0.5882449999999999\" /><line x1=\"478.812\" y1=\"208.591\" x2=\"478.812\" y2=\"204.473\" stroke-linecap=\"round\" style=\"stroke:green;stroke-width:0.41177149999999996\" /><line x1=\"478.812\" y1=\"208.591\" x2=\"475.871\" y2=\"208.591\" stroke-linecap=\"round\" style=\"stroke:green;stroke-width:0.29412249999999995\" /><line x1=\"483.906\" y1=\"211.532\" x2=\"481.805\" y2=\"215.171\" stroke-linecap=\"round\" style=\"stroke:green;stroke-width:0.42017499999999997\" /><line x1=\"481.805\" y1=\"215.171\" x2=\"478.864\" y2=\"215.171\" stroke-linecap=\"round\" style=\"stroke:green;stroke-width:0.29412249999999995\" /><line x1=\"481.805\" y1=\"215.171\" x2=\"481.805\" y2=\"217.272\" stroke-linecap=\"round\" style=\"stroke:green;stroke-width:0.21008749999999998\" /><line x1=\"491.184\" y1=\"207.33\" x2=\"494.185\" y2=\"212.528\" stroke-linecap=\"round\" style=\"stroke:green;stroke-width:0.60025\" /><line x1=\"494.185\" y1=\"212.528\" x2=\"492.084\" y2=\"216.167\" stroke-linecap=\"round\" style=\"stroke:green;stroke-width:0.42017499999999997\" /><line x1=\"492.084\" y1=\"216.167\" x2=\"489.143\" y2=\"216.167\" stroke-linecap=\"round\" style=\"stroke:green;stroke-width:0.29412249999999995\" /><line x1=\"492.084\" y1=\"216.167\" x2=\"492.084\" y2=\"218.268\" stroke-linecap=\"round\" style=\"stroke:green;stroke-width:0.21008749999999998\" /><line x1=\"494.185\" y1=\"212.528\" x2=\"496.784\" y2=\"214.029\" stroke-linecap=\"round\" style=\"stroke:green;stroke-width:0.300125\" /><line x1=\"496.784\" y1=\"214.029\" x2=\"496.784\" y2=\"216.13\" stroke-linecap=\"round\" style=\"stroke:green;stroke-width:0.21008749999999998\" /><line x1=\"496.784\" y1=\"214.029\" x2=\"498.285\" y2=\"214.029\" stroke-linecap=\"round\" style=\"stroke:green;stroke-width:0.1500625\" /><line x1=\"491.184\" y1=\"195.325\" x2=\"499.759\" y2=\"195.325\" stroke-linecap=\"round\" style=\"stroke:green;stroke-width:0.8574999999999999\" /><line x1=\"499.759\" y1=\"195.325\" x2=\"502.76\" y2=\"200.523\" stroke-linecap=\"round\" style=\"stroke:green;stroke-width:0.60025\" /><line x1=\"502.76\" y1=\"200.523\" x2=\"500.659\" y2=\"204.162\" stroke-linecap=\"round\" style=\"stroke:green;stroke-width:0.42017499999999997\" /><line x1=\"500.659\" y1=\"204.162\" x2=\"497.718\" y2=\"204.162\" stroke-linecap=\"round\" style=\"stroke:green;stroke-width:0.29412249999999995\" /><line x1=\"500.659\" y1=\"204.162\" x2=\"500.659\" y2=\"206.263\" stroke-linecap=\"round\" style=\"stroke:green;stroke-width:0.21008749999999998\" /><line x1=\"502.76\" y1=\"200.523\" x2=\"505.359\" y2=\"202.024\" stroke-linecap=\"round\" style=\"stroke:green;stroke-width:0.300125\" /><line x1=\"505.359\" y1=\"202.024\" x2=\"505.359\" y2=\"204.125\" stroke-linecap=\"round\" style=\"stroke:green;stroke-width:0.21008749999999998\" /><line x1=\"505.359\" y1=\"202.024\" x2=\"506.86\" y2=\"202.024\" stroke-linecap=\"round\" style=\"stroke:green;stroke-width:0.1500625\" /><line x1=\"499.759\" y1=\"195.325\" x2=\"503.472\" y2=\"193.181\" stroke-linecap=\"round\" style=\"stroke:green;stroke-width:0.42874999999999996\" /><line x1=\"503.472\" y1=\"193.181\" x2=\"506.071\" y2=\"194.682\" stroke-linecap=\"round\" style=\"stroke:green;stroke-width:0.300125\" /><line x1=\"506.071\" y1=\"194.682\" x2=\"506.071\" y2=\"196.783\" stroke-linecap=\"round\" style=\"stroke:green;stroke-width:0.21008749999999998\" /><line x1=\"506.071\" y1=\"194.682\" x2=\"507.572\" y2=\"194.682\" stroke-linecap=\"round\" style=\"stroke:green;stroke-width:0.1500625\" /><line x1=\"503.472\" y1=\"193.181\" x2=\"504.544\" y2=\"191.324\" stroke-linecap=\"round\" style=\"stroke:green;stroke-width:0.21437499999999998\" /><line x1=\"504.544\" y1=\"191.324\" x2=\"506.045\" y2=\"191.324\" stroke-linecap=\"round\" style=\"stroke:green;stroke-width:0.1500625\" /><line x1=\"504.544\" y1=\"191.324\" x2=\"504.544\" y2=\"190.252\" stroke-linecap=\"round\" style=\"stroke:green;stroke-width:0.10718749999999999\" /><line x1=\"476.332\" y1=\"186.75\" x2=\"482.457\" y2=\"176.141\" stroke-linecap=\"round\" style=\"stroke:green;stroke-width:1.225\" /><line x1=\"482.457\" y1=\"176.141\" x2=\"491.032\" y2=\"176.141\" stroke-linecap=\"round\" style=\"stroke:green;stroke-width:0.8574999999999999\" /><line x1=\"491.032\" y1=\"176.141\" x2=\"494.033\" y2=\"181.339\" stroke-linecap=\"round\" style=\"stroke:green;stroke-width:0.60025\" /><line x1=\"494.033\" y1=\"181.339\" x2=\"491.932\" y2=\"184.978\" stroke-linecap=\"round\" style=\"stroke:green;stroke-width:0.42017499999999997\" /><line x1=\"491.932\" y1=\"184.978\" x2=\"488.991\" y2=\"184.978\" stroke-linecap=\"round\" style=\"stroke:green;stroke-width:0.29412249999999995\" /><line x1=\"491.932\" y1=\"184.978\" x2=\"491.932\" y2=\"187.079\" stroke-linecap=\"round\" style=\"stroke:green;stroke-width:0.21008749999999998\" /><line x1=\"494.033\" y1=\"181.339\" x2=\"496.632\" y2=\"182.84\" stroke-linecap=\"round\" style=\"stroke:green;stroke-width:0.300125\" /><line x1=\"496.632\" y1=\"182.84\" x2=\"496.632\" y2=\"184.941\" stroke-linecap=\"round\" style=\"stroke:green;stroke-width:0.21008749999999998\" /><line x1=\"496.632\" y1=\"182.84\" x2=\"498.133\" y2=\"182.84\" stroke-linecap=\"round\" style=\"stroke:green;stroke-width:0.1500625\" /><line x1=\"491.032\" y1=\"176.141\" x2=\"494.745\" y2=\"173.997\" stroke-linecap=\"round\" style=\"stroke:green;stroke-width:0.42874999999999996\" /><line x1=\"494.745\" y1=\"173.997\" x2=\"497.344\" y2=\"175.498\" stroke-linecap=\"round\" style=\"stroke:green;stroke-width:0.300125\" /><line x1=\"497.344\" y1=\"175.498\" x2=\"497.344\" y2=\"177.599\" stroke-linecap=\"round\" style=\"stroke:green;stroke-width:0.21008749999999998\" /><line x1=\"497.344\" y1=\"175.498\" x2=\"498.845\" y2=\"175.498\" stroke-linecap=\"round\" style=\"stroke:green;stroke-width:0.1500625\" /><line x1=\"494.745\" y1=\"173.997\" x2=\"495.817\" y2=\"172.14\" stroke-linecap=\"round\" style=\"stroke:green;stroke-width:0.21437499999999998\" /><line x1=\"495.817\" y1=\"172.14\" x2=\"497.318\" y2=\"172.14\" stroke-linecap=\"round\" style=\"stroke:green;stroke-width:0.1500625\" /><line x1=\"495.817\" y1=\"172.14\" x2=\"495.817\" y2=\"171.068\" stroke-linecap=\"round\" style=\"stroke:green;stroke-width:0.10718749999999999\" /><line x1=\"482.457\" y1=\"176.141\" x2=\"482.457\" y2=\"170.016\" stroke-linecap=\"round\" style=\"stroke:green;stroke-width:0.6125\" /><line x1=\"482.457\" y1=\"170.016\" x2=\"486.17\" y2=\"167.872\" stroke-linecap=\"round\" style=\"stroke:green;stroke-width:0.42874999999999996\" /><line x1=\"486.17\" y1=\"167.872\" x2=\"488.769\" y2=\"169.373\" stroke-linecap=\"round\" style=\"stroke:green;stroke-width:0.300125\" /><line x1=\"488.769\" y1=\"169.373\" x2=\"488.769\" y2=\"171.474\" stroke-linecap=\"round\" style=\"stroke:green;stroke-width:0.21008749999999998\" /><line x1=\"488.769\" y1=\"169.373\" x2=\"490.27\" y2=\"169.373\" stroke-linecap=\"round\" style=\"stroke:green;stroke-width:0.1500625\" /><line x1=\"486.17\" y1=\"167.872\" x2=\"487.242\" y2=\"166.015\" stroke-linecap=\"round\" style=\"stroke:green;stroke-width:0.21437499999999998\" /><line x1=\"487.242\" y1=\"166.015\" x2=\"488.743\" y2=\"166.015\" stroke-linecap=\"round\" style=\"stroke:green;stroke-width:0.1500625\" /><line x1=\"487.242\" y1=\"166.015\" x2=\"487.242\" y2=\"164.943\" stroke-linecap=\"round\" style=\"stroke:green;stroke-width:0.10718749999999999\" /><line x1=\"482.457\" y1=\"170.016\" x2=\"480.926\" y2=\"167.364\" stroke-linecap=\"round\" style=\"stroke:green;stroke-width:0.30625\" /><line x1=\"480.926\" y1=\"167.364\" x2=\"481.998\" y2=\"165.507\" stroke-linecap=\"round\" style=\"stroke:green;stroke-width:0.21437499999999998\" /><line x1=\"481.998\" y1=\"165.507\" x2=\"483.499\" y2=\"165.507\" stroke-linecap=\"round\" style=\"stroke:green;stroke-width:0.1500625\" /><line x1=\"481.998\" y1=\"165.507\" x2=\"481.998\" y2=\"164.435\" stroke-linecap=\"round\" style=\"stroke:green;stroke-width:0.10718749999999999\" /><line x1=\"480.926\" y1=\"167.364\" x2=\"479.6\" y2=\"166.598\" stroke-linecap=\"round\" style=\"stroke:green;stroke-width:0.153125\" /><line x1=\"479.6\" y1=\"166.598\" x2=\"479.6\" y2=\"165.526\" stroke-linecap=\"round\" style=\"stroke:green;stroke-width:0.10718749999999999\" /><line x1=\"479.6\" y1=\"166.598\" x2=\"478.834\" y2=\"166.598\" stroke-linecap=\"round\" style=\"stroke:green;stroke-width:0.0765625\" /><line x1=\"321.244\" y1=\"150.0\" x2=\"356.244\" y2=\"89.378\" stroke-linecap=\"round\" style=\"stroke:brown;stroke-width:7.0\" /><line x1=\"356.244\" y1=\"89.378\" x2=\"405.244\" y2=\"89.378\" stroke-linecap=\"round\" style=\"stroke:brown;stroke-width:4.9\" /><line x1=\"405.244\" y1=\"89.378\" x2=\"422.394\" y2=\"119.083\" stroke-linecap=\"round\" style=\"stroke:brown;stroke-width:3.4299999999999997\" /><line x1=\"422.394\" y1=\"119.083\" x2=\"410.389\" y2=\"139.876\" stroke-linecap=\"round\" style=\"stroke:brown;stroke-width:2.401\" /><line x1=\"410.389\" y1=\"139.876\" x2=\"393.582\" y2=\"139.876\" stroke-linecap=\"round\" style=\"stroke:green;stroke-width:1.6806999999999999\" /><line x1=\"393.582\" y1=\"139.876\" x2=\"387.7\" y2=\"129.687\" stroke-linecap=\"round\" style=\"stroke:green;stroke-width:1.1764899999999998\" /><line x1=\"387.7\" y1=\"129.687\" x2=\"391.818\" y2=\"122.555\" stroke-linecap=\"round\" style=\"stroke:green;stroke-width:0.8235429999999999\" /><line x1=\"391.818\" y1=\"122.555\" x2=\"397.583\" y2=\"122.555\" stroke-linecap=\"round\" style=\"stroke:green;stroke-width:0.5764800999999999\" /><line x1=\"391.818\" y1=\"122.555\" x2=\"391.818\" y2=\"118.437\" stroke-linecap=\"round\" style=\"stroke:green;stroke-width:0.41177149999999996\" /><line x1=\"387.7\" y1=\"129.687\" x2=\"382.606\" y2=\"126.746\" stroke-linecap=\"round\" style=\"stroke:green;stroke-width:0.5882449999999999\" /><line x1=\"382.606\" y1=\"126.746\" x2=\"382.606\" y2=\"122.628\" stroke-linecap=\"round\" style=\"stroke:green;stroke-width:0.41177149999999996\" /><line x1=\"382.606\" y1=\"126.746\" x2=\"379.665\" y2=\"126.746\" stroke-linecap=\"round\" style=\"stroke:green;stroke-width:0.29412249999999995\" /><line x1=\"393.582\" y1=\"139.876\" x2=\"386.304\" y2=\"144.078\" stroke-linecap=\"round\" style=\"stroke:green;stroke-width:0.8403499999999999\" /><line x1=\"386.304\" y1=\"144.078\" x2=\"381.21\" y2=\"141.137\" stroke-linecap=\"round\" style=\"stroke:green;stroke-width:0.5882449999999999\" /><line x1=\"381.21\" y1=\"141.137\" x2=\"381.21\" y2=\"137.019\" stroke-linecap=\"round\" style=\"stroke:green;stroke-width:0.41177149999999996\" /><line x1=\"381.21\" y1=\"141.137\" x2=\"378.269\" y2=\"141.137\" stroke-linecap=\"round\" style=\"stroke:green;stroke-width:0.29412249999999995\" /><line x1=\"386.304\" y1=\"144.078\" x2=\"384.203\" y2=\"147.717\" stroke-linecap=\"round\" style=\"stroke:green;stroke-width:0.42017499999999997\" /><line x1=\"384.203\" y1=\"147.717\" x2=\"381.262\" y2=\"147.717\" stroke-linecap=\"round\" style=\"stroke:green;stroke-width:0.29412249999999995\" /><line x1=\"384.203\" y1=\"147.717\" x2=\"384.203\" y2=\"149.818\" stroke-linecap=\"round\" style=\"stroke:green;stroke-width:0.21008749999999998\" /><line x1=\"410.389\" y1=\"139.876\" x2=\"410.389\" y2=\"151.881\" stroke-linecap=\"round\" style=\"stroke:green;stroke-width:1.2005\" /><line x1=\"410.389\" y1=\"151.881\" x2=\"403.111\" y2=\"156.083\" stroke-linecap=\"round\" style=\"stroke:green;stroke-width:0.8403499999999999\" /><line x1=\"403.111\" y1=\"156.083\" x2=\"398.017\" y2=\"153.142\" stroke-linecap=\"round\" style=\"stroke:green;stroke-width:0.5882449999999999\" /><line x1=\"398.017\" y1=\"153.142\" x2=\"398.017\" y2=\"149.024\" stroke-linecap=\"round\" style=\"stroke:green;stroke-width:0.41177149999999996\" /><line x1=\"398.017\" y1=\"153.142\" x2=\"395.076\" y2=\"153.142\" stroke-linecap=\"round\" style=\"stroke:green;stroke-width:0.29412249999999995\" /><line x1=\"403.111\" y1=\"156.083\" x2=\"401.01\" y2=\"159.722\" stroke-linecap=\"round\" style=\"stroke:green;stroke-width:0.42017499999999997\" /><line x1=\"401.01\" y1=\"159.722\" x2=\"398.069\" y2=\"159.722\" stroke-linecap=\"round\" style=\"stroke:green;stroke-width:0.29412249999999995\" /><line x1=\"401.01\" y1=\"159.722\" x2=\"401.01\" y2=\"161.823\" stroke-linecap=\"round\" style=\"stroke:green;stroke-width:0.21008749999999998\" /><line x1=\"410.389\" y1=\"151.881\" x2=\"413.39\" y2=\"157.079\" stroke-linecap=\"round\" style=\"stroke:green;stroke-width:0.60025\" /><line x1=\"413.39\" y1=\"157.079\" x2=\"411.289\" y2=\"160.718\" stroke-linecap=\"round\" style=\"stroke:green;stroke-width:0.42017499999999997\" /><line x1=\"411.289\" y1=\"160.718\" x2=\"408.348\" y2=\"160.718\" stroke-linecap=\"round\" style=\"stroke:green;stroke-width:0.29412249999999995\" /><line x1=\"411.289\" y1=\"160.718\" x2=\"411.289\" y2=\"162.819\" stroke-linecap=\"round\" style=\"stroke:green;stroke-width:0.21008749999999998\" /><line x1=\"413.39\" y1=\"157.079\" x2=\"415.989\" y2=\"158.58\" stroke-linecap=\"round\" style=\"stroke:green;stroke-width:0.300125\" /><line x1=\"415.989\" y1=\"158.58\" x2=\"415.989\" y2=\"160.681\" stroke-linecap=\"round\" style=\"stroke:green;stroke-width:0.21008749999999998\" /><line x1=\"415.989\" y1=\"158.58\" x2=\"417.49\" y2=\"158.58\" stroke-linecap=\"round\" style=\"stroke:green;stroke-width:0.1500625\" /><line x1=\"422.394\" y1=\"119.083\" x2=\"437.246\" y2=\"127.658\" stroke-linecap=\"round\" style=\"stroke:green;stroke-width:1.7149999999999999\" /><line x1=\"437.246\" y1=\"127.658\" x2=\"437.246\" y2=\"139.663\" stroke-linecap=\"round\" style=\"stroke:green;stroke-width:1.2005\" /><line x1=\"437.246\" y1=\"139.663\" x2=\"429.968\" y2=\"143.865\" stroke-linecap=\"round\" style=\"stroke:green;stroke-width:0.8403499999999999\" /><line x1=\"429.968\" y1=\"143.865\" x2=\"424.874\" y2=\"140.924\" stroke-linecap=\"round\" style=\"stroke:green;stroke-width:0.5882449999999999\" /><line x1=\"424.874\" y1=\"140.924\" x2=\"424.874\" y2=\"136.806\" stroke-linecap=\"round\" style=\"stroke:green;stroke-width:0.41177149999999996\" /><line x1=\"424.874\" y1=\"140.924\" x2=\"421.933\" y2=\"140.924\" stroke-linecap=\"round\" style=\"stroke:green;stroke-width:0.29412249999999995\" /><line x1=\"429.968\" y1=\"143.865\" x2=\"427.867\" y2=\"147.504\" stroke-linecap=\"round\" style=\"stroke:green;stroke-width:0.42017499999999997\" /><line x1=\"427.867\" y1=\"147.504\" x2=\"424.926\" y2=\"147.504\" stroke-linecap=\"round\" style=\"stroke:green;stroke-width:0.29412249999999995\" /><line x1=\"427.867\" y1=\"147.504\" x2=\"427.867\" y2=\"149.605\" stroke-linecap=\"round\" style=\"stroke:green;stroke-width:0.21008749999999998\" /><line x1=\"437.246\" y1=\"139.663\" x2=\"440.247\" y2=\"144.861\" stroke-linecap=\"round\" style=\"stroke:green;stroke-width:0.60025\" /><line x1=\"440.247\" y1=\"144.861\" x2=\"438.146\" y2=\"148.5\" stroke-linecap=\"round\" style=\"stroke:green;stroke-width:0.42017499999999997\" /><line x1=\"438.146\" y1=\"148.5\" x2=\"435.205\" y2=\"148.5\" stroke-linecap=\"round\" style=\"stroke:green;stroke-width:0.29412249999999995\" /><line x1=\"438.146\" y1=\"148.5\" x2=\"438.146\" y2=\"150.601\" stroke-linecap=\"round\" style=\"stroke:green;stroke-width:0.21008749999999998\" /><line x1=\"440.247\" y1=\"144.861\" x2=\"442.846\" y2=\"146.362\" stroke-linecap=\"round\" style=\"stroke:green;stroke-width:0.300125\" /><line x1=\"442.846\" y1=\"146.362\" x2=\"442.846\" y2=\"148.463\" stroke-linecap=\"round\" style=\"stroke:green;stroke-width:0.21008749999999998\" /><line x1=\"442.846\" y1=\"146.362\" x2=\"444.347\" y2=\"146.362\" stroke-linecap=\"round\" style=\"stroke:green;stroke-width:0.1500625\" /><line x1=\"437.246\" y1=\"127.658\" x2=\"445.821\" y2=\"127.658\" stroke-linecap=\"round\" style=\"stroke:green;stroke-width:0.8574999999999999\" /><line x1=\"445.821\" y1=\"127.658\" x2=\"448.822\" y2=\"132.856\" stroke-linecap=\"round\" style=\"stroke:green;stroke-width:0.60025\" /><line x1=\"448.822\" y1=\"132.856\" x2=\"446.721\" y2=\"136.495\" stroke-linecap=\"round\" style=\"stroke:green;stroke-width:0.42017499999999997\" /><line x1=\"446.721\" y1=\"136.495\" x2=\"443.78\" y2=\"136.495\" stroke-linecap=\"round\" style=\"stroke:green;stroke-width:0.29412249999999995\" /><line x1=\"446.721\" y1=\"136.495\" x2=\"446.721\" y2=\"138.596\" stroke-linecap=\"round\" style=\"stroke:green;stroke-width:0.21008749999999998\" /><line x1=\"448.822\" y1=\"132.856\" x2=\"451.421\" y2=\"134.357\" stroke-linecap=\"round\" style=\"stroke:green;stroke-width:0.300125\" /><line x1=\"451.421\" y1=\"134.357\" x2=\"451.421\" y2=\"136.458\" stroke-linecap=\"round\" style=\"stroke:green;stroke-width:0.21008749999999998\" /><line x1=\"451.421\" y1=\"134.357\" x2=\"452.922\" y2=\"134.357\" stroke-linecap=\"round\" style=\"stroke:green;stroke-width:0.1500625\" /><line x1=\"445.821\" y1=\"127.658\" x2=\"449.534\" y2=\"125.514\" stroke-linecap=\"round\" style=\"stroke:green;stroke-width:0.42874999999999996\" /><line x1=\"449.534\" y1=\"125.514\" x2=\"452.133\" y2=\"127.015\" stroke-linecap=\"round\" style=\"stroke:green;stroke-width:0.300125\" /><line x1=\"452.133\" y1=\"127.015\" x2=\"452.133\" y2=\"129.116\" stroke-linecap=\"round\" style=\"stroke:green;stroke-width:0.21008749999999998\" /><line x1=\"452.133\" y1=\"127.015\" x2=\"453.634\" y2=\"127.015\" stroke-linecap=\"round\" style=\"stroke:green;stroke-width:0.1500625\" /><line x1=\"449.534\" y1=\"125.514\" x2=\"450.606\" y2=\"123.657\" stroke-linecap=\"round\" style=\"stroke:green;stroke-width:0.21437499999999998\" /><line x1=\"450.606\" y1=\"123.657\" x2=\"452.107\" y2=\"123.657\" stroke-linecap=\"round\" style=\"stroke:green;stroke-width:0.1500625\" /><line x1=\"450.606\" y1=\"123.657\" x2=\"450.606\" y2=\"122.585\" stroke-linecap=\"round\" style=\"stroke:green;stroke-width:0.10718749999999999\" /><line x1=\"405.244\" y1=\"89.378\" x2=\"426.462\" y2=\"77.128\" stroke-linecap=\"round\" style=\"stroke:brown;stroke-width:2.45\" /><line x1=\"426.462\" y1=\"77.128\" x2=\"441.314\" y2=\"85.703\" stroke-linecap=\"round\" style=\"stroke:green;stroke-width:1.7149999999999999\" /><line x1=\"441.314\" y1=\"85.703\" x2=\"441.314\" y2=\"97.708\" stroke-linecap=\"round\" style=\"stroke:green;stroke-width:1.2005\" /><line x1=\"441.314\" y1=\"97.708\" x2=\"434.036\" y2=\"101.91\" stroke-linecap=\"round\" style=\"stroke:green;stroke-width:0.8403499999999999\" /><line x1=\"434.036\" y1=\"101.91\" x2=\"428.942\" y2=\"98.969\" stroke-linecap=\"round\" style=\"stroke:green;stroke-width:0.5882449999999999\" /><line x1=\"428.942\" y1=\"98.969\" x2=\"428.942\" y2=\"94.851\" stroke-linecap=\"round\" style=\"stroke:green;stroke-width:0.41177149999999996\" /><line x1=\"428.942\" y1=\"98.969\" x2=\"426.001\" y2=\"98.969\" stroke-linecap=\"round\" style=\"stroke:green;stroke-width:0.29412249999999995\" /><line x1=\"434.036\" y1=\"101.91\" x2=\"431.935\" y2=\"105.549\" stroke-linecap=\"round\" style=\"stroke:green;stroke-width:0.42017499999999997\" /><line x1=\"431.935\" y1=\"105.549\" x2=\"428.994\" y2=\"105.549\" stroke-linecap=\"round\" style=\"stroke:green;stroke-width:0.29412249999999995\" /><line x1=\"431.935\" y1=\"105.549\" x2=\"431.935\" y2=\"107.65\" stroke-linecap=\"round\" style=\"stroke:green;stroke-width:0.21008749999999998\" /><line x1=\"441.314\" y1=\"97.708\" x2=\"444.315\" y2=\"102.906\" stroke-linecap=\"round\" style=\"stroke:green;stroke-width:0.60025\" /><line x1=\"444.315\" y1=\"102.906\" x2=\"442.214\" y2=\"106.545\" stroke-linecap=\"round\" style=\"stroke:green;stroke-width:0.42017499999999997\" /><line x1=\"442.214\" y1=\"106.545\" x2=\"439.273\" y2=\"106.545\" stroke-linecap=\"round\" style=\"stroke:green;stroke-width:0.29412249999999995\" /><line x1=\"442.214\" y1=\"106.545\" x2=\"442.214\" y2=\"108.646\" stroke-linecap=\"round\" style=\"stroke:green;stroke-width:0.21008749999999998\" /><line x1=\"444.315\" y1=\"102.906\" x2=\"446.914\" y2=\"104.407\" stroke-linecap=\"round\" style=\"stroke:green;stroke-width:0.300125\" /><line x1=\"446.914\" y1=\"104.407\" x2=\"446.914\" y2=\"106.508\" stroke-linecap=\"round\" style=\"stroke:green;stroke-width:0.21008749999999998\" /><line x1=\"446.914\" y1=\"104.407\" x2=\"448.415\" y2=\"104.407\" stroke-linecap=\"round\" style=\"stroke:green;stroke-width:0.1500625\" /><line x1=\"441.314\" y1=\"85.703\" x2=\"449.889\" y2=\"85.703\" stroke-linecap=\"round\" style=\"stroke:green;stroke-width:0.8574999999999999\" /><line x1=\"449.889\" y1=\"85.703\" x2=\"452.89\" y2=\"90.901\" stroke-linecap=\"round\" style=\"stroke:green;stroke-width:0.60025\" /><line x1=\"452.89\" y1=\"90.901\" x2=\"450.789\" y2=\"94.54\" stroke-linecap=\"round\" style=\"stroke:green;stroke-width:0.42017499999999997\" /><line x1=\"450.789\" y1=\"94.54\" x2=\"447.848\" y2=\"94.54\" stroke-linecap=\"round\" style=\"stroke:green;stroke-width:0.29412249999999995\" /><line x1=\"450.789\" y1=\"94.54\" x2=\"450.789\" y2=\"96.641\" stroke-linecap=\"round\" style=\"stroke:green;stroke-width:0.21008749999999998\" /><line x1=\"452.89\" y1=\"90.901\" x2=\"455.489\" y2=\"92.402\" stroke-linecap=\"round\" style=\"stroke:green;stroke-width:0.300125\" /><line x1=\"455.489\" y1=\"92.402\" x2=\"455.489\" y2=\"94.503\" stroke-linecap=\"round\" style=\"stroke:green;stroke-width:0.21008749999999998\" /><line x1=\"455.489\" y1=\"92.402\" x2=\"456.99\" y2=\"92.402\" stroke-linecap=\"round\" style=\"stroke:green;stroke-width:0.1500625\" /><line x1=\"449.889\" y1=\"85.703\" x2=\"453.602\" y2=\"83.559\" stroke-linecap=\"round\" style=\"stroke:green;stroke-width:0.42874999999999996\" /><line x1=\"453.602\" y1=\"83.559\" x2=\"456.201\" y2=\"85.06\" stroke-linecap=\"round\" style=\"stroke:green;stroke-width:0.300125\" /><line x1=\"456.201\" y1=\"85.06\" x2=\"456.201\" y2=\"87.161\" stroke-linecap=\"round\" style=\"stroke:green;stroke-width:0.21008749999999998\" /><line x1=\"456.201\" y1=\"85.06\" x2=\"457.702\" y2=\"85.06\" stroke-linecap=\"round\" style=\"stroke:green;stroke-width:0.1500625\" /><line x1=\"453.602\" y1=\"83.559\" x2=\"454.674\" y2=\"81.702\" stroke-linecap=\"round\" style=\"stroke:green;stroke-width:0.21437499999999998\" /><line x1=\"454.674\" y1=\"81.702\" x2=\"456.175\" y2=\"81.702\" stroke-linecap=\"round\" style=\"stroke:green;stroke-width:0.1500625\" /><line x1=\"454.674\" y1=\"81.702\" x2=\"454.674\" y2=\"80.63\" stroke-linecap=\"round\" style=\"stroke:green;stroke-width:0.10718749999999999\" /><line x1=\"426.462\" y1=\"77.128\" x2=\"432.587\" y2=\"66.519\" stroke-linecap=\"round\" style=\"stroke:green;stroke-width:1.225\" /><line x1=\"432.587\" y1=\"66.519\" x2=\"441.162\" y2=\"66.519\" stroke-linecap=\"round\" style=\"stroke:green;stroke-width:0.8574999999999999\" /><line x1=\"441.162\" y1=\"66.519\" x2=\"444.163\" y2=\"71.717\" stroke-linecap=\"round\" style=\"stroke:green;stroke-width:0.60025\" /><line x1=\"444.163\" y1=\"71.717\" x2=\"442.062\" y2=\"75.356\" stroke-linecap=\"round\" style=\"stroke:green;stroke-width:0.42017499999999997\" /><line x1=\"442.062\" y1=\"75.356\" x2=\"439.121\" y2=\"75.356\" stroke-linecap=\"round\" style=\"stroke:green;stroke-width:0.29412249999999995\" /><line x1=\"442.062\" y1=\"75.356\" x2=\"442.062\" y2=\"77.457\" stroke-linecap=\"round\" style=\"stroke:green;stroke-width:0.21008749999999998\" /><line x1=\"444.163\" y1=\"71.717\" x2=\"446.762\" y2=\"73.218\" stroke-linecap=\"round\" style=\"stroke:green;stroke-width:0.300125\" /><line x1=\"446.762\" y1=\"73.218\" x2=\"446.762\" y2=\"75.319\" stroke-linecap=\"round\" style=\"stroke:green;stroke-width:0.21008749999999998\" /><line x1=\"446.762\" y1=\"73.218\" x2=\"448.263\" y2=\"73.218\" stroke-linecap=\"round\" style=\"stroke:green;stroke-width:0.1500625\" /><line x1=\"441.162\" y1=\"66.519\" x2=\"444.875\" y2=\"64.375\" stroke-linecap=\"round\" style=\"stroke:green;stroke-width:0.42874999999999996\" /><line x1=\"444.875\" y1=\"64.375\" x2=\"447.474\" y2=\"65.876\" stroke-linecap=\"round\" style=\"stroke:green;stroke-width:0.300125\" /><line x1=\"447.474\" y1=\"65.876\" x2=\"447.474\" y2=\"67.977\" stroke-linecap=\"round\" style=\"stroke:green;stroke-width:0.21008749999999998\" /><line x1=\"447.474\" y1=\"65.876\" x2=\"448.975\" y2=\"65.876\" stroke-linecap=\"round\" style=\"stroke:green;stroke-width:0.1500625\" /><line x1=\"444.875\" y1=\"64.375\" x2=\"445.947\" y2=\"62.518\" stroke-linecap=\"round\" style=\"stroke:green;stroke-width:0.21437499999999998\" /><line x1=\"445.947\" y1=\"62.518\" x2=\"447.448\" y2=\"62.518\" stroke-linecap=\"round\" style=\"stroke:green;stroke-width:0.1500625\" /><line x1=\"445.947\" y1=\"62.518\" x2=\"445.947\" y2=\"61.446\" stroke-linecap=\"round\" style=\"stroke:green;stroke-width:0.10718749999999999\" /><line x1=\"432.587\" y1=\"66.519\" x2=\"432.587\" y2=\"60.394\" stroke-linecap=\"round\" style=\"stroke:green;stroke-width:0.6125\" /><line x1=\"432.587\" y1=\"60.394\" x2=\"436.3\" y2=\"58.25\" stroke-linecap=\"round\" style=\"stroke:green;stroke-width:0.42874999999999996\" /><line x1=\"436.3\" y1=\"58.25\" x2=\"438.899\" y2=\"59.751\" stroke-linecap=\"round\" style=\"stroke:green;stroke-width:0.300125\" /><line x1=\"438.899\" y1=\"59.751\" x2=\"438.899\" y2=\"61.852\" stroke-linecap=\"round\" style=\"stroke:green;stroke-width:0.21008749999999998\" /><line x1=\"438.899\" y1=\"59.751\" x2=\"440.4\" y2=\"59.751\" stroke-linecap=\"round\" style=\"stroke:green;stroke-width:0.1500625\" /><line x1=\"436.3\" y1=\"58.25\" x2=\"437.372\" y2=\"56.393\" stroke-linecap=\"round\" style=\"stroke:green;stroke-width:0.21437499999999998\" /><line x1=\"437.372\" y1=\"56.393\" x2=\"438.873\" y2=\"56.393\" stroke-linecap=\"round\" style=\"stroke:green;stroke-width:0.1500625\" /><line x1=\"437.372\" y1=\"56.393\" x2=\"437.372\" y2=\"55.321\" stroke-linecap=\"round\" style=\"stroke:green;stroke-width:0.10718749999999999\" /><line x1=\"432.587\" y1=\"60.394\" x2=\"431.056\" y2=\"57.742\" stroke-linecap=\"round\" style=\"stroke:green;stroke-width:0.30625\" /><line x1=\"431.056\" y1=\"57.742\" x2=\"432.128\" y2=\"55.885\" stroke-linecap=\"round\" style=\"stroke:green;stroke-width:0.21437499999999998\" /><line x1=\"432.128\" y1=\"55.885\" x2=\"433.629\" y2=\"55.885\" stroke-linecap=\"round\" style=\"stroke:green;stroke-width:0.1500625\" /><line x1=\"432.128\" y1=\"55.885\" x2=\"432.128\" y2=\"54.813\" stroke-linecap=\"round\" style=\"stroke:green;stroke-width:0.10718749999999999\" /><line x1=\"431.056\" y1=\"57.742\" x2=\"429.73\" y2=\"56.976\" stroke-linecap=\"round\" style=\"stroke:green;stroke-width:0.153125\" /><line x1=\"429.73\" y1=\"56.976\" x2=\"429.73\" y2=\"55.904\" stroke-linecap=\"round\" style=\"stroke:green;stroke-width:0.10718749999999999\" /><line x1=\"429.73\" y1=\"56.976\" x2=\"428.964\" y2=\"56.976\" stroke-linecap=\"round\" style=\"stroke:green;stroke-width:0.0765625\" /><line x1=\"356.244\" y1=\"89.378\" x2=\"356.244\" y2=\"54.378\" stroke-linecap=\"round\" style=\"stroke:brown;stroke-width:3.5\" /><line x1=\"356.244\" y1=\"54.378\" x2=\"377.462\" y2=\"42.128\" stroke-linecap=\"round\" style=\"stroke:brown;stroke-width:2.45\" /><line x1=\"377.462\" y1=\"42.128\" x2=\"392.314\" y2=\"50.703\" stroke-linecap=\"round\" style=\"stroke:green;stroke-width:1.7149999999999999\" /><line x1=\"392.314\" y1=\"50.703\" x2=\"392.314\" y2=\"62.708\" stroke-linecap=\"round\" style=\"stroke:green;stroke-width:1.2005\" /><line x1=\"392.314\" y1=\"62.708\" x2=\"385.036\" y2=\"66.91\" stroke-linecap=\"round\" style=\"stroke:green;stroke-width:0.8403499999999999\" /><line x1=\"385.036\" y1=\"66.91\" x2=\"379.942\" y2=\"63.969\" stroke-linecap=\"round\" style=\"stroke:green;stroke-width:0.5882449999999999\" /><line x1=\"379.942\" y1=\"63.969\" x2=\"379.942\" y2=\"59.851\" stroke-linecap=\"round\" style=\"stroke:green;stroke-width:0.41177149999999996\" /><line x1=\"379.942\" y1=\"63.969\" x2=\"377.001\" y2=\"63.969\" stroke-linecap=\"round\" style=\"stroke:green;stroke-width:0.29412249999999995\" /><line x1=\"385.036\" y1=\"66.91\" x2=\"382.935\" y2=\"70.549\" stroke-linecap=\"round\" style=\"stroke:green;stroke-width:0.42017499999999997\" /><line x1=\"382.935\" y1=\"70.549\" x2=\"379.994\" y2=\"70.549\" stroke-linecap=\"round\" style=\"stroke:green;stroke-width:0.29412249999999995\" /><line x1=\"382.935\" y1=\"70.549\" x2=\"382.935\" y2=\"72.65\" stroke-linecap=\"round\" style=\"stroke:green;stroke-width:0.21008749999999998\" /><line x1=\"392.314\" y1=\"62.708\" x2=\"395.315\" y2=\"67.906\" stroke-linecap=\"round\" style=\"stroke:green;stroke-width:0.60025\" /><line x1=\"395.315\" y1=\"67.906\" x2=\"393.214\" y2=\"71.545\" stroke-linecap=\"round\" style=\"stroke:green;stroke-width:0.42017499999999997\" /><line x1=\"393.214\" y1=\"71.545\" x2=\"390.273\" y2=\"71.545\" stroke-linecap=\"round\" style=\"stroke:green;stroke-width:0.29412249999999995\" /><line x1=\"393.214\" y1=\"71.545\" x2=\"393.214\" y2=\"73.646\" stroke-linecap=\"round\" style=\"stroke:green;stroke-width:0.21008749999999998\" /><line x1=\"395.315\" y1=\"67.906\" x2=\"397.914\" y2=\"69.407\" stroke-linecap=\"round\" style=\"stroke:green;stroke-width:0.300125\" /><line x1=\"397.914\" y1=\"69.407\" x2=\"397.914\" y2=\"71.508\" stroke-linecap=\"round\" style=\"stroke:green;stroke-width:0.21008749999999998\" /><line x1=\"397.914\" y1=\"69.407\" x2=\"399.415\" y2=\"69.407\" stroke-linecap=\"round\" style=\"stroke:green;stroke-width:0.1500625\" /><line x1=\"392.314\" y1=\"50.703\" x2=\"400.889\" y2=\"50.703\" stroke-linecap=\"round\" style=\"stroke:green;stroke-width:0.8574999999999999\" /><line x1=\"400.889\" y1=\"50.703\" x2=\"403.89\" y2=\"55.901\" stroke-linecap=\"round\" style=\"stroke:green;stroke-width:0.60025\" /><line x1=\"403.89\" y1=\"55.901\" x2=\"401.789\" y2=\"59.54\" stroke-linecap=\"round\" style=\"stroke:green;stroke-width:0.42017499999999997\" /><line x1=\"401.789\" y1=\"59.54\" x2=\"398.848\" y2=\"59.54\" stroke-linecap=\"round\" style=\"stroke:green;stroke-width:0.29412249999999995\" /><line x1=\"401.789\" y1=\"59.54\" x2=\"401.789\" y2=\"61.641\" stroke-linecap=\"round\" style=\"stroke:green;stroke-width:0.21008749999999998\" /><line x1=\"403.89\" y1=\"55.901\" x2=\"406.489\" y2=\"57.402\" stroke-linecap=\"round\" style=\"stroke:green;stroke-width:0.300125\" /><line x1=\"406.489\" y1=\"57.402\" x2=\"406.489\" y2=\"59.503\" stroke-linecap=\"round\" style=\"stroke:green;stroke-width:0.21008749999999998\" /><line x1=\"406.489\" y1=\"57.402\" x2=\"407.99\" y2=\"57.402\" stroke-linecap=\"round\" style=\"stroke:green;stroke-width:0.1500625\" /><line x1=\"400.889\" y1=\"50.703\" x2=\"404.602\" y2=\"48.559\" stroke-linecap=\"round\" style=\"stroke:green;stroke-width:0.42874999999999996\" /><line x1=\"404.602\" y1=\"48.559\" x2=\"407.201\" y2=\"50.06\" stroke-linecap=\"round\" style=\"stroke:green;stroke-width:0.300125\" /><line x1=\"407.201\" y1=\"50.06\" x2=\"407.201\" y2=\"52.161\" stroke-linecap=\"round\" style=\"stroke:green;stroke-width:0.21008749999999998\" /><line x1=\"407.201\" y1=\"50.06\" x2=\"408.702\" y2=\"50.06\" stroke-linecap=\"round\" style=\"stroke:green;stroke-width:0.1500625\" /><line x1=\"404.602\" y1=\"48.559\" x2=\"405.674\" y2=\"46.702\" stroke-linecap=\"round\" style=\"stroke:green;stroke-width:0.21437499999999998\" /><line x1=\"405.674\" y1=\"46.702\" x2=\"407.175\" y2=\"46.702\" stroke-linecap=\"round\" style=\"stroke:green;stroke-width:0.1500625\" /><line x1=\"405.674\" y1=\"46.702\" x2=\"405.674\" y2=\"45.63\" stroke-linecap=\"round\" style=\"stroke:green;stroke-width:0.10718749999999999\" /><line x1=\"377.462\" y1=\"42.128\" x2=\"383.587\" y2=\"31.519\" stroke-linecap=\"round\" style=\"stroke:green;stroke-width:1.225\" /><line x1=\"383.587\" y1=\"31.519\" x2=\"392.162\" y2=\"31.519\" stroke-linecap=\"round\" style=\"stroke:green;stroke-width:0.8574999999999999\" /><line x1=\"392.162\" y1=\"31.519\" x2=\"395.163\" y2=\"36.717\" stroke-linecap=\"round\" style=\"stroke:green;stroke-width:0.60025\" /><line x1=\"395.163\" y1=\"36.717\" x2=\"393.062\" y2=\"40.356\" stroke-linecap=\"round\" style=\"stroke:green;stroke-width:0.42017499999999997\" /><line x1=\"393.062\" y1=\"40.356\" x2=\"390.121\" y2=\"40.356\" stroke-linecap=\"round\" style=\"stroke:green;stroke-width:0.29412249999999995\" /><line x1=\"393.062\" y1=\"40.356\" x2=\"393.062\" y2=\"42.457\" stroke-linecap=\"round\" style=\"stroke:green;stroke-width:0.21008749999999998\" /><line x1=\"395.163\" y1=\"36.717\" x2=\"397.762\" y2=\"38.218\" stroke-linecap=\"round\" style=\"stroke:green;stroke-width:0.300125\" /><line x1=\"397.762\" y1=\"38.218\" x2=\"397.762\" y2=\"40.319\" stroke-linecap=\"round\" style=\"stroke:green;stroke-width:0.21008749999999998\" /><line x1=\"397.762\" y1=\"38.218\" x2=\"399.263\" y2=\"38.218\" stroke-linecap=\"round\" style=\"stroke:green;stroke-width:0.1500625\" /><line x1=\"392.162\" y1=\"31.519\" x2=\"395.875\" y2=\"29.375\" stroke-linecap=\"round\" style=\"stroke:green;stroke-width:0.42874999999999996\" /><line x1=\"395.875\" y1=\"29.375\" x2=\"398.474\" y2=\"30.876\" stroke-linecap=\"round\" style=\"stroke:green;stroke-width:0.300125\" /><line x1=\"398.474\" y1=\"30.876\" x2=\"398.474\" y2=\"32.977\" stroke-linecap=\"round\" style=\"stroke:green;stroke-width:0.21008749999999998\" /><line x1=\"398.474\" y1=\"30.876\" x2=\"399.975\" y2=\"30.876\" stroke-linecap=\"round\" style=\"stroke:green;stroke-width:0.1500625\" /><line x1=\"395.875\" y1=\"29.375\" x2=\"396.947\" y2=\"27.518\" stroke-linecap=\"round\" style=\"stroke:green;stroke-width:0.21437499999999998\" /><line x1=\"396.947\" y1=\"27.518\" x2=\"398.448\" y2=\"27.518\" stroke-linecap=\"round\" style=\"stroke:green;stroke-width:0.1500625\" /><line x1=\"396.947\" y1=\"27.518\" x2=\"396.947\" y2=\"26.446\" stroke-linecap=\"round\" style=\"stroke:green;stroke-width:0.10718749999999999\" /><line x1=\"383.587\" y1=\"31.519\" x2=\"383.587\" y2=\"25.394\" stroke-linecap=\"round\" style=\"stroke:green;stroke-width:0.6125\" /><line x1=\"383.587\" y1=\"25.394\" x2=\"387.3\" y2=\"23.25\" stroke-linecap=\"round\" style=\"stroke:green;stroke-width:0.42874999999999996\" /><line x1=\"387.3\" y1=\"23.25\" x2=\"389.899\" y2=\"24.751\" stroke-linecap=\"round\" style=\"stroke:green;stroke-width:0.300125\" /><line x1=\"389.899\" y1=\"24.751\" x2=\"389.899\" y2=\"26.852\" stroke-linecap=\"round\" style=\"stroke:green;stroke-width:0.21008749999999998\" /><line x1=\"389.899\" y1=\"24.751\" x2=\"391.4\" y2=\"24.751\" stroke-linecap=\"round\" style=\"stroke:green;stroke-width:0.1500625\" /><line x1=\"387.3\" y1=\"23.25\" x2=\"388.372\" y2=\"21.393\" stroke-linecap=\"round\" style=\"stroke:green;stroke-width:0.21437499999999998\" /><line x1=\"388.372\" y1=\"21.393\" x2=\"389.873\" y2=\"21.393\" stroke-linecap=\"round\" style=\"stroke:green;stroke-width:0.1500625\" /><line x1=\"388.372\" y1=\"21.393\" x2=\"388.372\" y2=\"20.321\" stroke-linecap=\"round\" style=\"stroke:green;stroke-width:0.10718749999999999\" /><line x1=\"383.587\" y1=\"25.394\" x2=\"382.056\" y2=\"22.742\" stroke-linecap=\"round\" style=\"stroke:green;stroke-width:0.30625\" /><line x1=\"382.056\" y1=\"22.742\" x2=\"383.128\" y2=\"20.885\" stroke-linecap=\"round\" style=\"stroke:green;stroke-width:0.21437499999999998\" /><line x1=\"383.128\" y1=\"20.885\" x2=\"384.629\" y2=\"20.885\" stroke-linecap=\"round\" style=\"stroke:green;stroke-width:0.1500625\" /><line x1=\"383.128\" y1=\"20.885\" x2=\"383.128\" y2=\"19.813\" stroke-linecap=\"round\" style=\"stroke:green;stroke-width:0.10718749999999999\" /><line x1=\"382.056\" y1=\"22.742\" x2=\"380.73\" y2=\"21.976\" stroke-linecap=\"round\" style=\"stroke:green;stroke-width:0.153125\" /><line x1=\"380.73\" y1=\"21.976\" x2=\"380.73\" y2=\"20.904\" stroke-linecap=\"round\" style=\"stroke:green;stroke-width:0.10718749999999999\" /><line x1=\"380.73\" y1=\"21.976\" x2=\"379.964\" y2=\"21.976\" stroke-linecap=\"round\" style=\"stroke:green;stroke-width:0.0765625\" /><line x1=\"356.244\" y1=\"54.378\" x2=\"347.494\" y2=\"39.223\" stroke-linecap=\"round\" style=\"stroke:green;stroke-width:1.75\" /><line x1=\"347.494\" y1=\"39.223\" x2=\"353.619\" y2=\"28.614\" stroke-linecap=\"round\" style=\"stroke:green;stroke-width:1.225\" /><line x1=\"353.619\" y1=\"28.614\" x2=\"362.194\" y2=\"28.614\" stroke-linecap=\"round\" style=\"stroke:green;stroke-width:0.8574999999999999\" /><line x1=\"362.194\" y1=\"28.614\" x2=\"365.195\" y2=\"33.812\" stroke-linecap=\"round\" style=\"stroke:green;stroke-width:0.60025\" /><line x1=\"365.195\" y1=\"33.812\" x2=\"363.094\" y2=\"37.451\" stroke-linecap=\"round\" style=\"stroke:green;stroke-width:0.42017499999999997\" /><line x1=\"363.094\" y1=\"37.451\" x2=\"360.153\" y2=\"37.451\" stroke-linecap=\"round\" style=\"stroke:green;stroke-width:0.29412249999999995\" /><line x1=\"363.094\" y1=\"37.451\" x2=\"363.094\" y2=\"39.552\" stroke-linecap=\"round\" style=\"stroke:green;stroke-width:0.21008749999999998\" /><line x1=\"365.195\" y1=\"33.812\" x2=\"367.794\" y2=\"35.313\" stroke-linecap=\"round\" style=\"stroke:green;stroke-width:0.300125\" /><line x1=\"367.794\" y1=\"35.313\" x2=\"367.794\" y2=\"37.414\" stroke-linecap=\"round\" style=\"stroke:green;stroke-width:0.21008749999999998\" /><line x1=\"367.794\" y1=\"35.313\" x2=\"369.295\" y2=\"35.313\" stroke-linecap=\"round\" style=\"stroke:green;stroke-width:0.1500625\" /><line x1=\"362.194\" y1=\"28.614\" x2=\"365.907\" y2=\"26.47\" stroke-linecap=\"round\" style=\"stroke:green;stroke-width:0.42874999999999996\" /><line x1=\"365.907\" y1=\"26.47\" x2=\"368.506\" y2=\"27.971\" stroke-linecap=\"round\" style=\"stroke:green;stroke-width:0.300125\" /><line x1=\"368.506\" y1=\"27.971\" x2=\"368.506\" y2=\"30.072\" stroke-linecap=\"round\" style=\"stroke:green;stroke-width:0.21008749999999998\" /><line x1=\"368.506\" y1=\"27.971\" x2=\"370.007\" y2=\"27.971\" stroke-linecap=\"round\" style=\"stroke:green;stroke-width:0.1500625\" /><line x1=\"365.907\" y1=\"26.47\" x2=\"366.979\" y2=\"24.613\" stroke-linecap=\"round\" style=\"stroke:green;stroke-width:0.21437499999999998\" /><line x1=\"366.979\" y1=\"24.613\" x2=\"368.48\" y2=\"24.613\" stroke-linecap=\"round\" style=\"stroke:green;stroke-width:0.1500625\" /><line x1=\"366.979\" y1=\"24.613\" x2=\"366.979\" y2=\"23.541\" stroke-linecap=\"round\" style=\"stroke:green;stroke-width:0.10718749999999999\" /><line x1=\"353.619\" y1=\"28.614\" x2=\"353.619\" y2=\"22.489\" stroke-linecap=\"round\" style=\"stroke:green;stroke-width:0.6125\" /><line x1=\"353.619\" y1=\"22.489\" x2=\"357.332\" y2=\"20.345\" stroke-linecap=\"round\" style=\"stroke:green;stroke-width:0.42874999999999996\" /><line x1=\"357.332\" y1=\"20.345\" x2=\"359.931\" y2=\"21.846\" stroke-linecap=\"round\" style=\"stroke:green;stroke-width:0.300125\" /><line x1=\"359.931\" y1=\"21.846\" x2=\"359.931\" y2=\"23.947\" stroke-linecap=\"round\" style=\"stroke:green;stroke-width:0.21008749999999998\" /><line x1=\"359.931\" y1=\"21.846\" x2=\"361.432\" y2=\"21.846\" stroke-linecap=\"round\" style=\"stroke:green;stroke-width:0.1500625\" /><line x1=\"357.332\" y1=\"20.345\" x2=\"358.404\" y2=\"18.488\" stroke-linecap=\"round\" style=\"stroke:green;stroke-width:0.21437499999999998\" /><line x1=\"358.404\" y1=\"18.488\" x2=\"359.905\" y2=\"18.488\" stroke-linecap=\"round\" style=\"stroke:green;stroke-width:0.1500625\" /><line x1=\"358.404\" y1=\"18.488\" x2=\"358.404\" y2=\"17.416\" stroke-linecap=\"round\" style=\"stroke:green;stroke-width:0.10718749999999999\" /><line x1=\"353.619\" y1=\"22.489\" x2=\"352.088\" y2=\"19.837\" stroke-linecap=\"round\" style=\"stroke:green;stroke-width:0.30625\" /><line x1=\"352.088\" y1=\"19.837\" x2=\"353.16\" y2=\"17.98\" stroke-linecap=\"round\" style=\"stroke:green;stroke-width:0.21437499999999998\" /><line x1=\"353.16\" y1=\"17.98\" x2=\"354.661\" y2=\"17.98\" stroke-linecap=\"round\" style=\"stroke:green;stroke-width:0.1500625\" /><line x1=\"353.16\" y1=\"17.98\" x2=\"353.16\" y2=\"16.908\" stroke-linecap=\"round\" style=\"stroke:green;stroke-width:0.10718749999999999\" /><line x1=\"352.088\" y1=\"19.837\" x2=\"350.762\" y2=\"19.071\" stroke-linecap=\"round\" style=\"stroke:green;stroke-width:0.153125\" /><line x1=\"350.762\" y1=\"19.071\" x2=\"350.762\" y2=\"17.999\" stroke-linecap=\"round\" style=\"stroke:green;stroke-width:0.10718749999999999\" /><line x1=\"350.762\" y1=\"19.071\" x2=\"349.996\" y2=\"19.071\" stroke-linecap=\"round\" style=\"stroke:green;stroke-width:0.0765625\" /><line x1=\"347.494\" y1=\"39.223\" x2=\"339.916\" y2=\"34.848\" stroke-linecap=\"round\" style=\"stroke:green;stroke-width:0.875\" /><line x1=\"339.916\" y1=\"34.848\" x2=\"339.916\" y2=\"28.723\" stroke-linecap=\"round\" style=\"stroke:green;stroke-width:0.6125\" /><line x1=\"339.916\" y1=\"28.723\" x2=\"343.629\" y2=\"26.579\" stroke-linecap=\"round\" style=\"stroke:green;stroke-width:0.42874999999999996\" /><line x1=\"343.629\" y1=\"26.579\" x2=\"346.228\" y2=\"28.08\" stroke-linecap=\"round\" style=\"stroke:green;stroke-width:0.300125\" /><line x1=\"346.228\" y1=\"28.08\" x2=\"346.228\" y2=\"30.181\" stroke-linecap=\"round\" style=\"stroke:green;stroke-width:0.21008749999999998\" /><line x1=\"346.228\" y1=\"28.08\" x2=\"347.729\" y2=\"28.08\" stroke-linecap=\"round\" style=\"stroke:green;stroke-width:0.1500625\" /><line x1=\"343.629\" y1=\"26.579\" x2=\"344.701\" y2=\"24.722\" stroke-linecap=\"round\" style=\"stroke:green;stroke-width:0.21437499999999998\" /><line x1=\"344.701\" y1=\"24.722\" x2=\"346.202\" y2=\"24.722\" stroke-linecap=\"round\" style=\"stroke:green;stroke-width:0.1500625\" /><line x1=\"344.701\" y1=\"24.722\" x2=\"344.701\" y2=\"23.65\" stroke-linecap=\"round\" style=\"stroke:green;stroke-width:0.10718749999999999\" /><line x1=\"339.916\" y1=\"28.723\" x2=\"338.385\" y2=\"26.071\" stroke-linecap=\"round\" style=\"stroke:green;stroke-width:0.30625\" /><line x1=\"338.385\" y1=\"26.071\" x2=\"339.457\" y2=\"24.214\" stroke-linecap=\"round\" style=\"stroke:green;stroke-width:0.21437499999999998\" /><line x1=\"339.457\" y1=\"24.214\" x2=\"340.958\" y2=\"24.214\" stroke-linecap=\"round\" style=\"stroke:green;stroke-width:0.1500625\" /><line x1=\"339.457\" y1=\"24.214\" x2=\"339.457\" y2=\"23.142\" stroke-linecap=\"round\" style=\"stroke:green;stroke-width:0.10718749999999999\" /><line x1=\"338.385\" y1=\"26.071\" x2=\"337.059\" y2=\"25.305\" stroke-linecap=\"round\" style=\"stroke:green;stroke-width:0.153125\" /><line x1=\"337.059\" y1=\"25.305\" x2=\"337.059\" y2=\"24.233\" stroke-linecap=\"round\" style=\"stroke:green;stroke-width:0.10718749999999999\" /><line x1=\"337.059\" y1=\"25.305\" x2=\"336.293\" y2=\"25.305\" stroke-linecap=\"round\" style=\"stroke:green;stroke-width:0.0765625\" /><line x1=\"339.916\" y1=\"34.848\" x2=\"335.541\" y2=\"34.848\" stroke-linecap=\"round\" style=\"stroke:green;stroke-width:0.4375\" /><line x1=\"335.541\" y1=\"34.848\" x2=\"334.01\" y2=\"32.196\" stroke-linecap=\"round\" style=\"stroke:green;stroke-width:0.30625\" /><line x1=\"334.01\" y1=\"32.196\" x2=\"335.082\" y2=\"30.339\" stroke-linecap=\"round\" style=\"stroke:green;stroke-width:0.21437499999999998\" /><line x1=\"335.082\" y1=\"30.339\" x2=\"336.583\" y2=\"30.339\" stroke-linecap=\"round\" style=\"stroke:green;stroke-width:0.1500625\" /><line x1=\"335.082\" y1=\"30.339\" x2=\"335.082\" y2=\"29.267\" stroke-linecap=\"round\" style=\"stroke:green;stroke-width:0.10718749999999999\" /><line x1=\"334.01\" y1=\"32.196\" x2=\"332.684\" y2=\"31.43\" stroke-linecap=\"round\" style=\"stroke:green;stroke-width:0.153125\" /><line x1=\"332.684\" y1=\"31.43\" x2=\"332.684\" y2=\"30.358\" stroke-linecap=\"round\" style=\"stroke:green;stroke-width:0.10718749999999999\" /><line x1=\"332.684\" y1=\"31.43\" x2=\"331.918\" y2=\"31.43\" stroke-linecap=\"round\" style=\"stroke:green;stroke-width:0.0765625\" /><line x1=\"335.541\" y1=\"34.848\" x2=\"333.647\" y2=\"35.942\" stroke-linecap=\"round\" style=\"stroke:green;stroke-width:0.21875\" /><line x1=\"333.647\" y1=\"35.942\" x2=\"332.321\" y2=\"35.176\" stroke-linecap=\"round\" style=\"stroke:green;stroke-width:0.153125\" /><line x1=\"332.321\" y1=\"35.176\" x2=\"332.321\" y2=\"34.104\" stroke-linecap=\"round\" style=\"stroke:green;stroke-width:0.10718749999999999\" /><line x1=\"332.321\" y1=\"35.176\" x2=\"331.555\" y2=\"35.176\" stroke-linecap=\"round\" style=\"stroke:green;stroke-width:0.0765625\" /><line x1=\"333.647\" y1=\"35.942\" x2=\"333.1\" y2=\"36.889\" stroke-linecap=\"round\" style=\"stroke:green;stroke-width:0.109375\" /><line x1=\"333.1\" y1=\"36.889\" x2=\"332.334\" y2=\"36.889\" stroke-linecap=\"round\" style=\"stroke:green;stroke-width:0.0765625\" /><line x1=\"333.1\" y1=\"36.889\" x2=\"333.1\" y2=\"37.436\" stroke-linecap=\"round\" style=\"stroke:green;stroke-width:0.0546875\" /><line x1=\"200.0\" y1=\"220.0\" x2=\"150.0\" y2=\"133.397\" stroke-linecap=\"round\" style=\"stroke:brown;stroke-width:10.0\" /><line x1=\"150.0\" y1=\"133.397\" x2=\"185.0\" y2=\"72.775\" stroke-linecap=\"round\" style=\"stroke:brown;stroke-width:7.0\" /><line x1=\"185.0\" y1=\"72.775\" x2=\"234.0\" y2=\"72.775\" stroke-linecap=\"round\" style=\"stroke:brown;stroke-width:4.9\" /><line x1=\"234.0\" y1=\"72.775\" x2=\"251.15\" y2=\"102.48\" stroke-linecap=\"round\" style=\"stroke:brown;stroke-width:3.4299999999999997\" /><line x1=\"251.15\" y1=\"102.48\" x2=\"239.145\" y2=\"123.273\" stroke-linecap=\"round\" style=\"stroke:brown;stroke-width:2.401\" /><line x1=\"239.145\" y1=\"123.273\" x2=\"222.338\" y2=\"123.273\" stroke-linecap=\"round\" style=\"stroke:green;stroke-width:1.6806999999999999\" /><line x1=\"222.338\" y1=\"123.273\" x2=\"216.456\" y2=\"113.084\" stroke-linecap=\"round\" style=\"stroke:green;stroke-width:1.1764899999999998\" /><line x1=\"216.456\" y1=\"113.084\" x2=\"220.574\" y2=\"105.952\" stroke-linecap=\"round\" style=\"stroke:green;stroke-width:0.8235429999999999\" /><line x1=\"220.574\" y1=\"105.952\" x2=\"226.339\" y2=\"105.952\" stroke-linecap=\"round\" style=\"stroke:green;stroke-width:0.5764800999999999\" /><line x1=\"220.574\" y1=\"105.952\" x2=\"220.574\" y2=\"101.834\" stroke-linecap=\"round\" style=\"stroke:green;stroke-width:0.41177149999999996\" /><line x1=\"216.456\" y1=\"113.084\" x2=\"211.362\" y2=\"110.143\" stroke-linecap=\"round\" style=\"stroke:green;stroke-width:0.5882449999999999\" /><line x1=\"211.362\" y1=\"110.143\" x2=\"211.362\" y2=\"106.025\" stroke-linecap=\"round\" style=\"stroke:green;stroke-width:0.41177149999999996\" /><line x1=\"211.362\" y1=\"110.143\" x2=\"208.421\" y2=\"110.143\" stroke-linecap=\"round\" style=\"stroke:green;stroke-width:0.29412249999999995\" /><line x1=\"222.338\" y1=\"123.273\" x2=\"215.06\" y2=\"127.475\" stroke-linecap=\"round\" style=\"stroke:green;stroke-width:0.8403499999999999\" /><line x1=\"215.06\" y1=\"127.475\" x2=\"209.966\" y2=\"124.534\" stroke-linecap=\"round\" style=\"stroke:green;stroke-width:0.5882449999999999\" /><line x1=\"209.966\" y1=\"124.534\" x2=\"209.966\" y2=\"120.416\" stroke-linecap=\"round\" style=\"stroke:green;stroke-width:0.41177149999999996\" /><line x1=\"209.966\" y1=\"124.534\" x2=\"207.025\" y2=\"124.534\" stroke-linecap=\"round\" style=\"stroke:green;stroke-width:0.29412249999999995\" /><line x1=\"215.06\" y1=\"127.475\" x2=\"212.959\" y2=\"131.114\" stroke-linecap=\"round\" style=\"stroke:green;stroke-width:0.42017499999999997\" /><line x1=\"212.959\" y1=\"131.114\" x2=\"210.018\" y2=\"131.114\" stroke-linecap=\"round\" style=\"stroke:green;stroke-width:0.29412249999999995\" /><line x1=\"212.959\" y1=\"131.114\" x2=\"212.959\" y2=\"133.215\" stroke-linecap=\"round\" style=\"stroke:green;stroke-width:0.21008749999999998\" /><line x1=\"239.145\" y1=\"123.273\" x2=\"239.145\" y2=\"135.278\" stroke-linecap=\"round\" style=\"stroke:green;stroke-width:1.2005\" /><line x1=\"239.145\" y1=\"135.278\" x2=\"231.867\" y2=\"139.48\" stroke-linecap=\"round\" style=\"stroke:green;stroke-width:0.8403499999999999\" /><line x1=\"231.867\" y1=\"139.48\" x2=\"226.773\" y2=\"136.539\" stroke-linecap=\"round\" style=\"stroke:green;stroke-width:0.5882449999999999\" /><line x1=\"226.773\" y1=\"136.539\" x2=\"226.773\" y2=\"132.421\" stroke-linecap=\"round\" style=\"stroke:green;stroke-width:0.41177149999999996\" /><line x1=\"226.773\" y1=\"136.539\" x2=\"223.832\" y2=\"136.539\" stroke-linecap=\"round\" style=\"stroke:green;stroke-width:0.29412249999999995\" /><line x1=\"231.867\" y1=\"139.48\" x2=\"229.766\" y2=\"143.119\" stroke-linecap=\"round\" style=\"stroke:green;stroke-width:0.42017499999999997\" /><line x1=\"229.766\" y1=\"143.119\" x2=\"226.825\" y2=\"143.119\" stroke-linecap=\"round\" style=\"stroke:green;stroke-width:0.29412249999999995\" /><line x1=\"229.766\" y1=\"143.119\" x2=\"229.766\" y2=\"145.22\" stroke-linecap=\"round\" style=\"stroke:green;stroke-width:0.21008749999999998\" /><line x1=\"239.145\" y1=\"135.278\" x2=\"242.146\" y2=\"140.476\" stroke-linecap=\"round\" style=\"stroke:green;stroke-width:0.60025\" /><line x1=\"242.146\" y1=\"140.476\" x2=\"240.045\" y2=\"144.115\" stroke-linecap=\"round\" style=\"stroke:green;stroke-width:0.42017499999999997\" /><line x1=\"240.045\" y1=\"144.115\" x2=\"237.104\" y2=\"144.115\" stroke-linecap=\"round\" style=\"stroke:green;stroke-width:0.29412249999999995\" /><line x1=\"240.045\" y1=\"144.115\" x2=\"240.045\" y2=\"146.216\" stroke-linecap=\"round\" style=\"stroke:green;stroke-width:0.21008749999999998\" /><line x1=\"242.146\" y1=\"140.476\" x2=\"244.745\" y2=\"141.977\" stroke-linecap=\"round\" style=\"stroke:green;stroke-width:0.300125\" /><line x1=\"244.745\" y1=\"141.977\" x2=\"244.745\" y2=\"144.078\" stroke-linecap=\"round\" style=\"stroke:green;stroke-width:0.21008749999999998\" /><line x1=\"244.745\" y1=\"141.977\" x2=\"246.246\" y2=\"141.977\" stroke-linecap=\"round\" style=\"stroke:green;stroke-width:0.1500625\" /><line x1=\"251.15\" y1=\"102.48\" x2=\"266.002\" y2=\"111.055\" stroke-linecap=\"round\" style=\"stroke:green;stroke-width:1.7149999999999999\" /><line x1=\"266.002\" y1=\"111.055\" x2=\"266.002\" y2=\"123.06\" stroke-linecap=\"round\" style=\"stroke:green;stroke-width:1.2005\" /><line x1=\"266.002\" y1=\"123.06\" x2=\"258.724\" y2=\"127.262\" stroke-linecap=\"round\" style=\"stroke:green;stroke-width:0.8403499999999999\" /><line x1=\"258.724\" y1=\"127.262\" x2=\"253.63\" y2=\"124.321\" stroke-linecap=\"round\" style=\"stroke:green;stroke-width:0.5882449999999999\" /><line x1=\"253.63\" y1=\"124.321\" x2=\"253.63\" y2=\"120.203\" stroke-linecap=\"round\" style=\"stroke:green;stroke-width:0.41177149999999996\" /><line x1=\"253.63\" y1=\"124.321\" x2=\"250.689\" y2=\"124.321\" stroke-linecap=\"round\" style=\"stroke:green;stroke-width:0.29412249999999995\" /><line x1=\"258.724\" y1=\"127.262\" x2=\"256.623\" y2=\"130.901\" stroke-linecap=\"round\" style=\"stroke:green;stroke-width:0.42017499999999997\" /><line x1=\"256.623\" y1=\"130.901\" x2=\"253.682\" y2=\"130.901\" stroke-linecap=\"round\" style=\"stroke:green;stroke-width:0.29412249999999995\" /><line x1=\"256.623\" y1=\"130.901\" x2=\"256.623\" y2=\"133.002\" stroke-linecap=\"round\" style=\"stroke:green;stroke-width:0.21008749999999998\" /><line x1=\"266.002\" y1=\"123.06\" x2=\"269.003\" y2=\"128.258\" stroke-linecap=\"round\" style=\"stroke:green;stroke-width:0.60025\" /><line x1=\"269.003\" y1=\"128.258\" x2=\"266.902\" y2=\"131.897\" stroke-linecap=\"round\" style=\"stroke:green;stroke-width:0.42017499999999997\" /><line x1=\"266.902\" y1=\"131.897\" x2=\"263.961\" y2=\"131.897\" stroke-linecap=\"round\" style=\"stroke:green;stroke-width:0.29412249999999995\" /><line x1=\"266.902\" y1=\"131.897\" x2=\"266.902\" y2=\"133.998\" stroke-linecap=\"round\" style=\"stroke:green;stroke-width:0.21008749999999998\" /><line x1=\"269.003\" y1=\"128.258\" x2=\"271.602\" y2=\"129.759\" stroke-linecap=\"round\" style=\"stroke:green;stroke-width:0.300125\" /><line x1=\"271.602\" y1=\"129.759\" x2=\"271.602\" y2=\"131.86\" stroke-linecap=\"round\" style=\"stroke:green;stroke-width:0.21008749999999998\" /><line x1=\"271.602\" y1=\"129.759\" x2=\"273.103\" y2=\"129.759\" stroke-linecap=\"round\" style=\"stroke:green;stroke-width:0.1500625\" /><line x1=\"266.002\" y1=\"111.055\" x2=\"274.577\" y2=\"111.055\" stroke-linecap=\"round\" style=\"stroke:green;stroke-width:0.8574999999999999\" /><line x1=\"274.577\" y1=\"111.055\" x2=\"277.578\" y2=\"116.253\" stroke-linecap=\"round\" style=\"stroke:green;stroke-width:0.60025\" /><line x1=\"277.578\" y1=\"116.253\" x2=\"275.477\" y2=\"119.892\" stroke-linecap=\"round\" style=\"stroke:green;stroke-width:0.42017499999999997\" /><line x1=\"275.477\" y1=\"119.892\" x2=\"272.536\" y2=\"119.892\" stroke-linecap=\"round\" style=\"stroke:green;stroke-width:0.29412249999999995\" /><line x1=\"275.477\" y1=\"119.892\" x2=\"275.477\" y2=\"121.993\" stroke-linecap=\"round\" style=\"stroke:green;stroke-width:0.21008749999999998\" /><line x1=\"277.578\" y1=\"116.253\" x2=\"280.177\" y2=\"117.754\" stroke-linecap=\"round\" style=\"stroke:green;stroke-width:0.300125\" /><line x1=\"280.177\" y1=\"117.754\" x2=\"280.177\" y2=\"119.855\" stroke-linecap=\"round\" style=\"stroke:green;stroke-width:0.21008749999999998\" /><line x1=\"280.177\" y1=\"117.754\" x2=\"281.678\" y2=\"117.754\" stroke-linecap=\"round\" style=\"stroke:green;stroke-width:0.1500625\" /><line x1=\"274.577\" y1=\"111.055\" x2=\"278.29\" y2=\"108.911\" stroke-linecap=\"round\" style=\"stroke:green;stroke-width:0.42874999999999996\" /><line x1=\"278.29\" y1=\"108.911\" x2=\"280.889\" y2=\"110.412\" stroke-linecap=\"round\" style=\"stroke:green;stroke-width:0.300125\" /><line x1=\"280.889\" y1=\"110.412\" x2=\"280.889\" y2=\"112.513\" stroke-linecap=\"round\" style=\"stroke:green;stroke-width:0.21008749999999998\" /><line x1=\"280.889\" y1=\"110.412\" x2=\"282.39\" y2=\"110.412\" stroke-linecap=\"round\" style=\"stroke:green;stroke-width:0.1500625\" /><line x1=\"278.29\" y1=\"108.911\" x2=\"279.362\" y2=\"107.054\" stroke-linecap=\"round\" style=\"stroke:green;stroke-width:0.21437499999999998\" /><line x1=\"279.362\" y1=\"107.054\" x2=\"280.863\" y2=\"107.054\" stroke-linecap=\"round\" style=\"stroke:green;stroke-width:0.1500625\" /><line x1=\"279.362\" y1=\"107.054\" x2=\"279.362\" y2=\"105.982\" stroke-linecap=\"round\" style=\"stroke:green;stroke-width:0.10718749999999999\" /><line x1=\"234.0\" y1=\"72.775\" x2=\"255.218\" y2=\"60.525\" stroke-linecap=\"round\" style=\"stroke:brown;stroke-width:2.45\" /><line x1=\"255.218\" y1=\"60.525\" x2=\"270.07\" y2=\"69.1\" stroke-linecap=\"round\" style=\"stroke:green;stroke-width:1.7149999999999999\" /><line x1=\"270.07\" y1=\"69.1\" x2=\"270.07\" y2=\"81.105\" stroke-linecap=\"round\" style=\"stroke:green;stroke-width:1.2005\" /><line x1=\"270.07\" y1=\"81.105\" x2=\"262.792\" y2=\"85.307\" stroke-linecap=\"round\" style=\"stroke:green;stroke-width:0.8403499999999999\" /><line x1=\"262.792\" y1=\"85.307\" x2=\"257.698\" y2=\"82.366\" stroke-linecap=\"round\" style=\"stroke:green;stroke-width:0.5882449999999999\" /><line x1=\"257.698\" y1=\"82.366\" x2=\"257.698\" y2=\"78.248\" stroke-linecap=\"round\" style=\"stroke:green;stroke-width:0.41177149999999996\" /><line x1=\"257.698\" y1=\"82.366\" x2=\"254.757\" y2=\"82.366\" stroke-linecap=\"round\" style=\"stroke:green;stroke-width:0.29412249999999995\" /><line x1=\"262.792\" y1=\"85.307\" x2=\"260.691\" y2=\"88.946\" stroke-linecap=\"round\" style=\"stroke:green;stroke-width:0.42017499999999997\" /><line x1=\"260.691\" y1=\"88.946\" x2=\"257.75\" y2=\"88.946\" stroke-linecap=\"round\" style=\"stroke:green;stroke-width:0.29412249999999995\" /><line x1=\"260.691\" y1=\"88.946\" x2=\"260.691\" y2=\"91.047\" stroke-linecap=\"round\" style=\"stroke:green;stroke-width:0.21008749999999998\" /><line x1=\"270.07\" y1=\"81.105\" x2=\"273.071\" y2=\"86.303\" stroke-linecap=\"round\" style=\"stroke:green;stroke-width:0.60025\" /><line x1=\"273.071\" y1=\"86.303\" x2=\"270.97\" y2=\"89.942\" stroke-linecap=\"round\" style=\"stroke:green;stroke-width:0.42017499999999997\" /><line x1=\"270.97\" y1=\"89.942\" x2=\"268.029\" y2=\"89.942\" stroke-linecap=\"round\" style=\"stroke:green;stroke-width:0.29412249999999995\" /><line x1=\"270.97\" y1=\"89.942\" x2=\"270.97\" y2=\"92.043\" stroke-linecap=\"round\" style=\"stroke:green;stroke-width:0.21008749999999998\" /><line x1=\"273.071\" y1=\"86.303\" x2=\"275.67\" y2=\"87.804\" stroke-linecap=\"round\" style=\"stroke:green;stroke-width:0.300125\" /><line x1=\"275.67\" y1=\"87.804\" x2=\"275.67\" y2=\"89.905\" stroke-linecap=\"round\" style=\"stroke:green;stroke-width:0.21008749999999998\" /><line x1=\"275.67\" y1=\"87.804\" x2=\"277.171\" y2=\"87.804\" stroke-linecap=\"round\" style=\"stroke:green;stroke-width:0.1500625\" /><line x1=\"270.07\" y1=\"69.1\" x2=\"278.645\" y2=\"69.1\" stroke-linecap=\"round\" style=\"stroke:green;stroke-width:0.8574999999999999\" /><line x1=\"278.645\" y1=\"69.1\" x2=\"281.646\" y2=\"74.298\" stroke-linecap=\"round\" style=\"stroke:green;stroke-width:0.60025\" /><line x1=\"281.646\" y1=\"74.298\" x2=\"279.545\" y2=\"77.937\" stroke-linecap=\"round\" style=\"stroke:green;stroke-width:0.42017499999999997\" /><line x1=\"279.545\" y1=\"77.937\" x2=\"276.604\" y2=\"77.937\" stroke-linecap=\"round\" style=\"stroke:green;stroke-width:0.29412249999999995\" /><line x1=\"279.545\" y1=\"77.937\" x2=\"279.545\" y2=\"80.038\" stroke-linecap=\"round\" style=\"stroke:green;stroke-width:0.21008749999999998\" /><line x1=\"281.646\" y1=\"74.298\" x2=\"284.245\" y2=\"75.799\" stroke-linecap=\"round\" style=\"stroke:green;stroke-width:0.300125\" /><line x1=\"284.245\" y1=\"75.799\" x2=\"284.245\" y2=\"77.9\" stroke-linecap=\"round\" style=\"stroke:green;stroke-width:0.21008749999999998\" /><line x1=\"284.245\" y1=\"75.799\" x2=\"285.746\" y2=\"75.799\" stroke-linecap=\"round\" style=\"stroke:green;stroke-width:0.1500625\" /><line x1=\"278.645\" y1=\"69.1\" x2=\"282.358\" y2=\"66.956\" stroke-linecap=\"round\" style=\"stroke:green;stroke-width:0.42874999999999996\" /><line x1=\"282.358\" y1=\"66.956\" x2=\"284.957\" y2=\"68.457\" stroke-linecap=\"round\" style=\"stroke:green;stroke-width:0.300125\" /><line x1=\"284.957\" y1=\"68.457\" x2=\"284.957\" y2=\"70.558\" stroke-linecap=\"round\" style=\"stroke:green;stroke-width:0.21008749999999998\" /><line x1=\"284.957\" y1=\"68.457\" x2=\"286.458\" y2=\"68.457\" stroke-linecap=\"round\" style=\"stroke:green;stroke-width:0.1500625\" /><line x1=\"282.358\" y1=\"66.956\" x2=\"283.43\" y2=\"65.099\" stroke-linecap=\"round\" style=\"stroke:green;stroke-width:0.21437499999999998\" /><line x1=\"283.43\" y1=\"65.099\" x2=\"284.931\" y2=\"65.099\" stroke-linecap=\"round\" style=\"stroke:green;stroke-width:0.1500625\" /><line x1=\"283.43\" y1=\"65.099\" x2=\"283.43\" y2=\"64.027\" stroke-linecap=\"round\" style=\"stroke:green;stroke-width:0.10718749999999999\" /><line x1=\"255.218\" y1=\"60.525\" x2=\"261.343\" y2=\"49.916\" stroke-linecap=\"round\" style=\"stroke:green;stroke-width:1.225\" /><line x1=\"261.343\" y1=\"49.916\" x2=\"269.918\" y2=\"49.916\" stroke-linecap=\"round\" style=\"stroke:green;stroke-width:0.8574999999999999\" /><line x1=\"269.918\" y1=\"49.916\" x2=\"272.919\" y2=\"55.114\" stroke-linecap=\"round\" style=\"stroke:green;stroke-width:0.60025\" /><line x1=\"272.919\" y1=\"55.114\" x2=\"270.818\" y2=\"58.753\" stroke-linecap=\"round\" style=\"stroke:green;stroke-width:0.42017499999999997\" /><line x1=\"270.818\" y1=\"58.753\" x2=\"267.877\" y2=\"58.753\" stroke-linecap=\"round\" style=\"stroke:green;stroke-width:0.29412249999999995\" /><line x1=\"270.818\" y1=\"58.753\" x2=\"270.818\" y2=\"60.854\" stroke-linecap=\"round\" style=\"stroke:green;stroke-width:0.21008749999999998\" /><line x1=\"272.919\" y1=\"55.114\" x2=\"275.518\" y2=\"56.615\" stroke-linecap=\"round\" style=\"stroke:green;stroke-width:0.300125\" /><line x1=\"275.518\" y1=\"56.615\" x2=\"275.518\" y2=\"58.716\" stroke-linecap=\"round\" style=\"stroke:green;stroke-width:0.21008749999999998\" /><line x1=\"275.518\" y1=\"56.615\" x2=\"277.019\" y2=\"56.615\" stroke-linecap=\"round\" style=\"stroke:green;stroke-width:0.1500625\" /><line x1=\"269.918\" y1=\"49.916\" x2=\"273.631\" y2=\"47.772\" stroke-linecap=\"round\" style=\"stroke:green;stroke-width:0.42874999999999996\" /><line x1=\"273.631\" y1=\"47.772\" x2=\"276.23\" y2=\"49.273\" stroke-linecap=\"round\" style=\"stroke:green;stroke-width:0.300125\" /><line x1=\"276.23\" y1=\"49.273\" x2=\"276.23\" y2=\"51.374\" stroke-linecap=\"round\" style=\"stroke:green;stroke-width:0.21008749999999998\" /><line x1=\"276.23\" y1=\"49.273\" x2=\"277.731\" y2=\"49.273\" stroke-linecap=\"round\" style=\"stroke:green;stroke-width:0.1500625\" /><line x1=\"273.631\" y1=\"47.772\" x2=\"274.703\" y2=\"45.915\" stroke-linecap=\"round\" style=\"stroke:green;stroke-width:0.21437499999999998\" /><line x1=\"274.703\" y1=\"45.915\" x2=\"276.204\" y2=\"45.915\" stroke-linecap=\"round\" style=\"stroke:green;stroke-width:0.1500625\" /><line x1=\"274.703\" y1=\"45.915\" x2=\"274.703\" y2=\"44.843\" stroke-linecap=\"round\" style=\"stroke:green;stroke-width:0.10718749999999999\" /><line x1=\"261.343\" y1=\"49.916\" x2=\"261.343\" y2=\"43.791\" stroke-linecap=\"round\" style=\"stroke:green;stroke-width:0.6125\" /><line x1=\"261.343\" y1=\"43.791\" x2=\"265.056\" y2=\"41.647\" stroke-linecap=\"round\" style=\"stroke:green;stroke-width:0.42874999999999996\" /><line x1=\"265.056\" y1=\"41.647\" x2=\"267.655\" y2=\"43.148\" stroke-linecap=\"round\" style=\"stroke:green;stroke-width:0.300125\" /><line x1=\"267.655\" y1=\"43.148\" x2=\"267.655\" y2=\"45.249\" stroke-linecap=\"round\" style=\"stroke:green;stroke-width:0.21008749999999998\" /><line x1=\"267.655\" y1=\"43.148\" x2=\"269.156\" y2=\"43.148\" stroke-linecap=\"round\" style=\"stroke:green;stroke-width:0.1500625\" /><line x1=\"265.056\" y1=\"41.647\" x2=\"266.128\" y2=\"39.79\" stroke-linecap=\"round\" style=\"stroke:green;stroke-width:0.21437499999999998\" /><line x1=\"266.128\" y1=\"39.79\" x2=\"267.629\" y2=\"39.79\" stroke-linecap=\"round\" style=\"stroke:green;stroke-width:0.1500625\" /><line x1=\"266.128\" y1=\"39.79\" x2=\"266.128\" y2=\"38.718\" stroke-linecap=\"round\" style=\"stroke:green;stroke-width:0.10718749999999999\" /><line x1=\"261.343\" y1=\"43.791\" x2=\"259.812\" y2=\"41.139\" stroke-linecap=\"round\" style=\"stroke:green;stroke-width:0.30625\" /><line x1=\"259.812\" y1=\"41.139\" x2=\"260.884\" y2=\"39.282\" stroke-linecap=\"round\" style=\"stroke:green;stroke-width:0.21437499999999998\" /><line x1=\"260.884\" y1=\"39.282\" x2=\"262.385\" y2=\"39.282\" stroke-linecap=\"round\" style=\"stroke:green;stroke-width:0.1500625\" /><line x1=\"260.884\" y1=\"39.282\" x2=\"260.884\" y2=\"38.21\" stroke-linecap=\"round\" style=\"stroke:green;stroke-width:0.10718749999999999\" /><line x1=\"259.812\" y1=\"41.139\" x2=\"258.486\" y2=\"40.373\" stroke-linecap=\"round\" style=\"stroke:green;stroke-width:0.153125\" /><line x1=\"258.486\" y1=\"40.373\" x2=\"258.486\" y2=\"39.301\" stroke-linecap=\"round\" style=\"stroke:green;stroke-width:0.10718749999999999\" /><line x1=\"258.486\" y1=\"40.373\" x2=\"257.72\" y2=\"40.373\" stroke-linecap=\"round\" style=\"stroke:green;stroke-width:0.0765625\" /><line x1=\"185.0\" y1=\"72.775\" x2=\"185.0\" y2=\"37.775\" stroke-linecap=\"round\" style=\"stroke:brown;stroke-width:3.5\" /><line x1=\"185.0\" y1=\"37.775\" x2=\"206.218\" y2=\"25.525\" stroke-linecap=\"round\" style=\"stroke:brown;stroke-width:2.45\" /><line x1=\"206.218\" y1=\"25.525\" x2=\"221.07\" y2=\"34.1\" stroke-linecap=\"round\" style=\"stroke:green;stroke-width:1.7149999999999999\" /><line x1=\"221.07\" y1=\"34.1\" x2=\"221.07\" y2=\"46.105\" stroke-linecap=\"round\" style=\"stroke:green;stroke-width:1.2005\" /><line x1=\"221.07\" y1=\"46.105\" x2=\"213.792\" y2=\"50.307\" stroke-linecap=\"round\" style=\"stroke:green;stroke-width:0.8403499999999999\" /><line x1=\"213.792\" y1=\"50.307\" x2=\"208.698\" y2=\"47.366\" stroke-linecap=\"round\" style=\"stroke:green;stroke-width:0.5882449999999999\" /><line x1=\"208.698\" y1=\"47.366\" x2=\"208.698\" y2=\"43.248\" stroke-linecap=\"round\" style=\"stroke:green;stroke-width:0.41177149999999996\" /><line x1=\"208.698\" y1=\"47.366\" x2=\"205.757\" y2=\"47.366\" stroke-linecap=\"round\" style=\"stroke:green;stroke-width:0.29412249999999995\" /><line x1=\"213.792\" y1=\"50.307\" x2=\"211.691\" y2=\"53.946\" stroke-linecap=\"round\" style=\"stroke:green;stroke-width:0.42017499999999997\" /><line x1=\"211.691\" y1=\"53.946\" x2=\"208.75\" y2=\"53.946\" stroke-linecap=\"round\" style=\"stroke:green;stroke-width:0.29412249999999995\" /><line x1=\"211.691\" y1=\"53.946\" x2=\"211.691\" y2=\"56.047\" stroke-linecap=\"round\" style=\"stroke:green;stroke-width:0.21008749999999998\" /><line x1=\"221.07\" y1=\"46.105\" x2=\"224.071\" y2=\"51.303\" stroke-linecap=\"round\" style=\"stroke:green;stroke-width:0.60025\" /><line x1=\"224.071\" y1=\"51.303\" x2=\"221.97\" y2=\"54.942\" stroke-linecap=\"round\" style=\"stroke:green;stroke-width:0.42017499999999997\" /><line x1=\"221.97\" y1=\"54.942\" x2=\"219.029\" y2=\"54.942\" stroke-linecap=\"round\" style=\"stroke:green;stroke-width:0.29412249999999995\" /><line x1=\"221.97\" y1=\"54.942\" x2=\"221.97\" y2=\"57.043\" stroke-linecap=\"round\" style=\"stroke:green;stroke-width:0.21008749999999998\" /><line x1=\"224.071\" y1=\"51.303\" x2=\"226.67\" y2=\"52.804\" stroke-linecap=\"round\" style=\"stroke:green;stroke-width:0.300125\" /><line x1=\"226.67\" y1=\"52.804\" x2=\"226.67\" y2=\"54.905\" stroke-linecap=\"round\" style=\"stroke:green;stroke-width:0.21008749999999998\" /><line x1=\"226.67\" y1=\"52.804\" x2=\"228.171\" y2=\"52.804\" stroke-linecap=\"round\" style=\"stroke:green;stroke-width:0.1500625\" /><line x1=\"221.07\" y1=\"34.1\" x2=\"229.645\" y2=\"34.1\" stroke-linecap=\"round\" style=\"stroke:green;stroke-width:0.8574999999999999\" /><line x1=\"229.645\" y1=\"34.1\" x2=\"232.646\" y2=\"39.298\" stroke-linecap=\"round\" style=\"stroke:green;stroke-width:0.60025\" /><line x1=\"232.646\" y1=\"39.298\" x2=\"230.545\" y2=\"42.937\" stroke-linecap=\"round\" style=\"stroke:green;stroke-width:0.42017499999999997\" /><line x1=\"230.545\" y1=\"42.937\" x2=\"227.604\" y2=\"42.937\" stroke-linecap=\"round\" style=\"stroke:green;stroke-width:0.29412249999999995\" /><line x1=\"230.545\" y1=\"42.937\" x2=\"230.545\" y2=\"45.038\" stroke-linecap=\"round\" style=\"stroke:green;stroke-width:0.21008749999999998\" /><line x1=\"232.646\" y1=\"39.298\" x2=\"235.245\" y2=\"40.799\" stroke-linecap=\"round\" style=\"stroke:green;stroke-width:0.300125\" /><line x1=\"235.245\" y1=\"40.799\" x2=\"235.245\" y2=\"42.9\" stroke-linecap=\"round\" style=\"stroke:green;stroke-width:0.21008749999999998\" /><line x1=\"235.245\" y1=\"40.799\" x2=\"236.746\" y2=\"40.799\" stroke-linecap=\"round\" style=\"stroke:green;stroke-width:0.1500625\" /><line x1=\"229.645\" y1=\"34.1\" x2=\"233.358\" y2=\"31.956\" stroke-linecap=\"round\" style=\"stroke:green;stroke-width:0.42874999999999996\" /><line x1=\"233.358\" y1=\"31.956\" x2=\"235.957\" y2=\"33.457\" stroke-linecap=\"round\" style=\"stroke:green;stroke-width:0.300125\" /><line x1=\"235.957\" y1=\"33.457\" x2=\"235.957\" y2=\"35.558\" stroke-linecap=\"round\" style=\"stroke:green;stroke-width:0.21008749999999998\" /><line x1=\"235.957\" y1=\"33.457\" x2=\"237.458\" y2=\"33.457\" stroke-linecap=\"round\" style=\"stroke:green;stroke-width:0.1500625\" /><line x1=\"233.358\" y1=\"31.956\" x2=\"234.43\" y2=\"30.099\" stroke-linecap=\"round\" style=\"stroke:green;stroke-width:0.21437499999999998\" /><line x1=\"234.43\" y1=\"30.099\" x2=\"235.931\" y2=\"30.099\" stroke-linecap=\"round\" style=\"stroke:green;stroke-width:0.1500625\" /><line x1=\"234.43\" y1=\"30.099\" x2=\"234.43\" y2=\"29.027\" stroke-linecap=\"round\" style=\"stroke:green;stroke-width:0.10718749999999999\" /><line x1=\"206.218\" y1=\"25.525\" x2=\"212.343\" y2=\"14.916\" stroke-linecap=\"round\" style=\"stroke:green;stroke-width:1.225\" /><line x1=\"212.343\" y1=\"14.916\" x2=\"220.918\" y2=\"14.916\" stroke-linecap=\"round\" style=\"stroke:green;stroke-width:0.8574999999999999\" /><line x1=\"220.918\" y1=\"14.916\" x2=\"223.919\" y2=\"20.114\" stroke-linecap=\"round\" style=\"stroke:green;stroke-width:0.60025\" /><line x1=\"223.919\" y1=\"20.114\" x2=\"221.818\" y2=\"23.753\" stroke-linecap=\"round\" style=\"stroke:green;stroke-width:0.42017499999999997\" /><line x1=\"221.818\" y1=\"23.753\" x2=\"218.877\" y2=\"23.753\" stroke-linecap=\"round\" style=\"stroke:green;stroke-width:0.29412249999999995\" /><line x1=\"221.818\" y1=\"23.753\" x2=\"221.818\" y2=\"25.854\" stroke-linecap=\"round\" style=\"stroke:green;stroke-width:0.21008749999999998\" /><line x1=\"223.919\" y1=\"20.114\" x2=\"226.518\" y2=\"21.615\" stroke-linecap=\"round\" style=\"stroke:green;stroke-width:0.300125\" /><line x1=\"226.518\" y1=\"21.615\" x2=\"226.518\" y2=\"23.716\" stroke-linecap=\"round\" style=\"stroke:green;stroke-width:0.21008749999999998\" /><line x1=\"226.518\" y1=\"21.615\" x2=\"228.019\" y2=\"21.615\" stroke-linecap=\"round\" style=\"stroke:green;stroke-width:0.1500625\" /><line x1=\"220.918\" y1=\"14.916\" x2=\"224.631\" y2=\"12.772\" stroke-linecap=\"round\" style=\"stroke:green;stroke-width:0.42874999999999996\" /><line x1=\"224.631\" y1=\"12.772\" x2=\"227.23\" y2=\"14.273\" stroke-linecap=\"round\" style=\"stroke:green;stroke-width:0.300125\" /><line x1=\"227.23\" y1=\"14.273\" x2=\"227.23\" y2=\"16.374\" stroke-linecap=\"round\" style=\"stroke:green;stroke-width:0.21008749999999998\" /><line x1=\"227.23\" y1=\"14.273\" x2=\"228.731\" y2=\"14.273\" stroke-linecap=\"round\" style=\"stroke:green;stroke-width:0.1500625\" /><line x1=\"224.631\" y1=\"12.772\" x2=\"225.703\" y2=\"10.915\" stroke-linecap=\"round\" style=\"stroke:green;stroke-width:0.21437499999999998\" /><line x1=\"225.703\" y1=\"10.915\" x2=\"227.204\" y2=\"10.915\" stroke-linecap=\"round\" style=\"stroke:green;stroke-width:0.1500625\" /><line x1=\"225.703\" y1=\"10.915\" x2=\"225.703\" y2=\"9.843\" stroke-linecap=\"round\" style=\"stroke:green;stroke-width:0.10718749999999999\" /><line x1=\"212.343\" y1=\"14.916\" x2=\"212.343\" y2=\"8.791\" stroke-linecap=\"round\" style=\"stroke:green;stroke-width:0.6125\" /><line x1=\"212.343\" y1=\"8.791\" x2=\"216.056\" y2=\"6.647\" stroke-linecap=\"round\" style=\"stroke:green;stroke-width:0.42874999999999996\" /><line x1=\"216.056\" y1=\"6.647\" x2=\"218.655\" y2=\"8.148\" stroke-linecap=\"round\" style=\"stroke:green;stroke-width:0.300125\" /><line x1=\"218.655\" y1=\"8.148\" x2=\"218.655\" y2=\"10.249\" stroke-linecap=\"round\" style=\"stroke:green;stroke-width:0.21008749999999998\" /><line x1=\"218.655\" y1=\"8.148\" x2=\"220.156\" y2=\"8.148\" stroke-linecap=\"round\" style=\"stroke:green;stroke-width:0.1500625\" /><line x1=\"216.056\" y1=\"6.647\" x2=\"217.128\" y2=\"4.79\" stroke-linecap=\"round\" style=\"stroke:green;stroke-width:0.21437499999999998\" /><line x1=\"217.128\" y1=\"4.79\" x2=\"218.629\" y2=\"4.79\" stroke-linecap=\"round\" style=\"stroke:green;stroke-width:0.1500625\" /><line x1=\"217.128\" y1=\"4.79\" x2=\"217.128\" y2=\"3.718\" stroke-linecap=\"round\" style=\"stroke:green;stroke-width:0.10718749999999999\" /><line x1=\"212.343\" y1=\"8.791\" x2=\"210.812\" y2=\"6.139\" stroke-linecap=\"round\" style=\"stroke:green;stroke-width:0.30625\" /><line x1=\"210.812\" y1=\"6.139\" x2=\"211.884\" y2=\"4.282\" stroke-linecap=\"round\" style=\"stroke:green;stroke-width:0.21437499999999998\" /><line x1=\"211.884\" y1=\"4.282\" x2=\"213.385\" y2=\"4.282\" stroke-linecap=\"round\" style=\"stroke:green;stroke-width:0.1500625\" /><line x1=\"211.884\" y1=\"4.282\" x2=\"211.884\" y2=\"3.21\" stroke-linecap=\"round\" style=\"stroke:green;stroke-width:0.10718749999999999\" /><line x1=\"210.812\" y1=\"6.139\" x2=\"209.486\" y2=\"5.373\" stroke-linecap=\"round\" style=\"stroke:green;stroke-width:0.153125\" /><line x1=\"209.486\" y1=\"5.373\" x2=\"209.486\" y2=\"4.301\" stroke-linecap=\"round\" style=\"stroke:green;stroke-width:0.10718749999999999\" /><line x1=\"209.486\" y1=\"5.373\" x2=\"208.72\" y2=\"5.373\" stroke-linecap=\"round\" style=\"stroke:green;stroke-width:0.0765625\" /><line x1=\"185.0\" y1=\"37.775\" x2=\"176.25\" y2=\"22.62\" stroke-linecap=\"round\" style=\"stroke:green;stroke-width:1.75\" /><line x1=\"176.25\" y1=\"22.62\" x2=\"182.375\" y2=\"12.011\" stroke-linecap=\"round\" style=\"stroke:green;stroke-width:1.225\" /><line x1=\"182.375\" y1=\"12.011\" x2=\"190.95\" y2=\"12.011\" stroke-linecap=\"round\" style=\"stroke:green;stroke-width:0.8574999999999999\" /><line x1=\"190.95\" y1=\"12.011\" x2=\"193.951\" y2=\"17.209\" stroke-linecap=\"round\" style=\"stroke:green;stroke-width:0.60025\" /><line x1=\"193.951\" y1=\"17.209\" x2=\"191.85\" y2=\"20.848\" stroke-linecap=\"round\" style=\"stroke:green;stroke-width:0.42017499999999997\" /><line x1=\"191.85\" y1=\"20.848\" x2=\"188.909\" y2=\"20.848\" stroke-linecap=\"round\" style=\"stroke:green;stroke-width:0.29412249999999995\" /><line x1=\"191.85\" y1=\"20.848\" x2=\"191.85\" y2=\"22.949\" stroke-linecap=\"round\" style=\"stroke:green;stroke-width:0.21008749999999998\" /><line x1=\"193.951\" y1=\"17.209\" x2=\"196.55\" y2=\"18.71\" stroke-linecap=\"round\" style=\"stroke:green;stroke-width:0.300125\" /><line x1=\"196.55\" y1=\"18.71\" x2=\"196.55\" y2=\"20.811\" stroke-linecap=\"round\" style=\"stroke:green;stroke-width:0.21008749999999998\" /><line x1=\"196.55\" y1=\"18.71\" x2=\"198.051\" y2=\"18.71\" stroke-linecap=\"round\" style=\"stroke:green;stroke-width:0.1500625\" /><line x1=\"190.95\" y1=\"12.011\" x2=\"194.663\" y2=\"9.867\" stroke-linecap=\"round\" style=\"stroke:green;stroke-width:0.42874999999999996\" /><line x1=\"194.663\" y1=\"9.867\" x2=\"197.262\" y2=\"11.368\" stroke-linecap=\"round\" style=\"stroke:green;stroke-width:0.300125\" /><line x1=\"197.262\" y1=\"11.368\" x2=\"197.262\" y2=\"13.469\" stroke-linecap=\"round\" style=\"stroke:green;stroke-width:0.21008749999999998\" /><line x1=\"197.262\" y1=\"11.368\" x2=\"198.763\" y2=\"11.368\" stroke-linecap=\"round\" style=\"stroke:green;stroke-width:0.1500625\" /><line x1=\"194.663\" y1=\"9.867\" x2=\"195.735\" y2=\"8.01\" stroke-linecap=\"round\" style=\"stroke:green;stroke-width:0.21437499999999998\" /><line x1=\"195.735\" y1=\"8.01\" x2=\"197.236\" y2=\"8.01\" stroke-linecap=\"round\" style=\"stroke:green;stroke-width:0.1500625\" /><line x1=\"195.735\" y1=\"8.01\" x2=\"195.735\" y2=\"6.938\" stroke-linecap=\"round\" style=\"stroke:green;stroke-width:0.10718749999999999\" /><line x1=\"182.375\" y1=\"12.011\" x2=\"182.375\" y2=\"5.886\" stroke-linecap=\"round\" style=\"stroke:green;stroke-width:0.6125\" /><line x1=\"182.375\" y1=\"5.886\" x2=\"186.088\" y2=\"3.742\" stroke-linecap=\"round\" style=\"stroke:green;stroke-width:0.42874999999999996\" /><line x1=\"186.088\" y1=\"3.742\" x2=\"188.687\" y2=\"5.243\" stroke-linecap=\"round\" style=\"stroke:green;stroke-width:0.300125\" /><line x1=\"188.687\" y1=\"5.243\" x2=\"188.687\" y2=\"7.344\" stroke-linecap=\"round\" style=\"stroke:green;stroke-width:0.21008749999999998\" /><line x1=\"188.687\" y1=\"5.243\" x2=\"190.188\" y2=\"5.243\" stroke-linecap=\"round\" style=\"stroke:green;stroke-width:0.1500625\" /><line x1=\"186.088\" y1=\"3.742\" x2=\"187.16\" y2=\"1.885\" stroke-linecap=\"round\" style=\"stroke:green;stroke-width:0.21437499999999998\" /><line x1=\"187.16\" y1=\"1.885\" x2=\"188.661\" y2=\"1.885\" stroke-linecap=\"round\" style=\"stroke:green;stroke-width:0.1500625\" /><line x1=\"187.16\" y1=\"1.885\" x2=\"187.16\" y2=\"0.813\" stroke-linecap=\"round\" style=\"stroke:green;stroke-width:0.10718749999999999\" /><line x1=\"182.375\" y1=\"5.886\" x2=\"180.844\" y2=\"3.234\" stroke-linecap=\"round\" style=\"stroke:green;stroke-width:0.30625\" /><line x1=\"180.844\" y1=\"3.234\" x2=\"181.916\" y2=\"1.377\" stroke-linecap=\"round\" style=\"stroke:green;stroke-width:0.21437499999999998\" /><line x1=\"181.916\" y1=\"1.377\" x2=\"183.417\" y2=\"1.377\" stroke-linecap=\"round\" style=\"stroke:green;stroke-width:0.1500625\" /><line x1=\"181.916\" y1=\"1.377\" x2=\"181.916\" y2=\"0.305\" stroke-linecap=\"round\" style=\"stroke:green;stroke-width:0.10718749999999999\" /><line x1=\"180.844\" y1=\"3.234\" x2=\"179.518\" y2=\"2.468\" stroke-linecap=\"round\" style=\"stroke:green;stroke-width:0.153125\" /><line x1=\"179.518\" y1=\"2.468\" x2=\"179.518\" y2=\"1.396\" stroke-linecap=\"round\" style=\"stroke:green;stroke-width:0.10718749999999999\" /><line x1=\"179.518\" y1=\"2.468\" x2=\"178.752\" y2=\"2.468\" stroke-linecap=\"round\" style=\"stroke:green;stroke-width:0.0765625\" /><line x1=\"176.25\" y1=\"22.62\" x2=\"168.672\" y2=\"18.245\" stroke-linecap=\"round\" style=\"stroke:green;stroke-width:0.875\" /><line x1=\"168.672\" y1=\"18.245\" x2=\"168.672\" y2=\"12.12\" stroke-linecap=\"round\" style=\"stroke:green;stroke-width:0.6125\" /><line x1=\"168.672\" y1=\"12.12\" x2=\"172.385\" y2=\"9.976\" stroke-linecap=\"round\" style=\"stroke:green;stroke-width:0.42874999999999996\" /><line x1=\"172.385\" y1=\"9.976\" x2=\"174.984\" y2=\"11.477\" stroke-linecap=\"round\" style=\"stroke:green;stroke-width:0.300125\" /><line x1=\"174.984\" y1=\"11.477\" x2=\"174.984\" y2=\"13.578\" stroke-linecap=\"round\" style=\"stroke:green;stroke-width:0.21008749999999998\" /><line x1=\"174.984\" y1=\"11.477\" x2=\"176.485\" y2=\"11.477\" stroke-linecap=\"round\" style=\"stroke:green;stroke-width:0.1500625\" /><line x1=\"172.385\" y1=\"9.976\" x2=\"173.457\" y2=\"8.119\" stroke-linecap=\"round\" style=\"stroke:green;stroke-width:0.21437499999999998\" /><line x1=\"173.457\" y1=\"8.119\" x2=\"174.958\" y2=\"8.119\" stroke-linecap=\"round\" style=\"stroke:green;stroke-width:0.1500625\" /><line x1=\"173.457\" y1=\"8.119\" x2=\"173.457\" y2=\"7.047\" stroke-linecap=\"round\" style=\"stroke:green;stroke-width:0.10718749999999999\" /><line x1=\"168.672\" y1=\"12.12\" x2=\"167.141\" y2=\"9.468\" stroke-linecap=\"round\" style=\"stroke:green;stroke-width:0.30625\" /><line x1=\"167.141\" y1=\"9.468\" x2=\"168.213\" y2=\"7.611\" stroke-linecap=\"round\" style=\"stroke:green;stroke-width:0.21437499999999998\" /><line x1=\"168.213\" y1=\"7.611\" x2=\"169.714\" y2=\"7.611\" stroke-linecap=\"round\" style=\"stroke:green;stroke-width:0.1500625\" /><line x1=\"168.213\" y1=\"7.611\" x2=\"168.213\" y2=\"6.539\" stroke-linecap=\"round\" style=\"stroke:green;stroke-width:0.10718749999999999\" /><line x1=\"167.141\" y1=\"9.468\" x2=\"165.815\" y2=\"8.702\" stroke-linecap=\"round\" style=\"stroke:green;stroke-width:0.153125\" /><line x1=\"165.815\" y1=\"8.702\" x2=\"165.815\" y2=\"7.63\" stroke-linecap=\"round\" style=\"stroke:green;stroke-width:0.10718749999999999\" /><line x1=\"165.815\" y1=\"8.702\" x2=\"165.049\" y2=\"8.702\" stroke-linecap=\"round\" style=\"stroke:green;stroke-width:0.0765625\" /><line x1=\"168.672\" y1=\"18.245\" x2=\"164.297\" y2=\"18.245\" stroke-linecap=\"round\" style=\"stroke:green;stroke-width:0.4375\" /><line x1=\"164.297\" y1=\"18.245\" x2=\"162.766\" y2=\"15.593\" stroke-linecap=\"round\" style=\"stroke:green;stroke-width:0.30625\" /><line x1=\"162.766\" y1=\"15.593\" x2=\"163.838\" y2=\"13.736\" stroke-linecap=\"round\" style=\"stroke:green;stroke-width:0.21437499999999998\" /><line x1=\"163.838\" y1=\"13.736\" x2=\"165.339\" y2=\"13.736\" stroke-linecap=\"round\" style=\"stroke:green;stroke-width:0.1500625\" /><line x1=\"163.838\" y1=\"13.736\" x2=\"163.838\" y2=\"12.664\" stroke-linecap=\"round\" style=\"stroke:green;stroke-width:0.10718749999999999\" /><line x1=\"162.766\" y1=\"15.593\" x2=\"161.44\" y2=\"14.827\" stroke-linecap=\"round\" style=\"stroke:green;stroke-width:0.153125\" /><line x1=\"161.44\" y1=\"14.827\" x2=\"161.44\" y2=\"13.755\" stroke-linecap=\"round\" style=\"stroke:green;stroke-width:0.10718749999999999\" /><line x1=\"161.44\" y1=\"14.827\" x2=\"160.674\" y2=\"14.827\" stroke-linecap=\"round\" style=\"stroke:green;stroke-width:0.0765625\" /><line x1=\"164.297\" y1=\"18.245\" x2=\"162.403\" y2=\"19.339\" stroke-linecap=\"round\" style=\"stroke:green;stroke-width:0.21875\" /><line x1=\"162.403\" y1=\"19.339\" x2=\"161.077\" y2=\"18.573\" stroke-linecap=\"round\" style=\"stroke:green;stroke-width:0.153125\" /><line x1=\"161.077\" y1=\"18.573\" x2=\"161.077\" y2=\"17.501\" stroke-linecap=\"round\" style=\"stroke:green;stroke-width:0.10718749999999999\" /><line x1=\"161.077\" y1=\"18.573\" x2=\"160.311\" y2=\"18.573\" stroke-linecap=\"round\" style=\"stroke:green;stroke-width:0.0765625\" /><line x1=\"162.403\" y1=\"19.339\" x2=\"161.856\" y2=\"20.286\" stroke-linecap=\"round\" style=\"stroke:green;stroke-width:0.109375\" /><line x1=\"161.856\" y1=\"20.286\" x2=\"161.09\" y2=\"20.286\" stroke-linecap=\"round\" style=\"stroke:green;stroke-width:0.0765625\" /><line x1=\"161.856\" y1=\"20.286\" x2=\"161.856\" y2=\"20.833\" stroke-linecap=\"round\" style=\"stroke:green;stroke-width:0.0546875\" /><line x1=\"150.0\" y1=\"133.397\" x2=\"106.699\" y2=\"108.397\" stroke-linecap=\"round\" style=\"stroke:brown;stroke-width:5.0\" /><line x1=\"106.699\" y1=\"108.397\" x2=\"106.699\" y2=\"73.397\" stroke-linecap=\"round\" style=\"stroke:brown;stroke-width:3.5\" /><line x1=\"106.699\" y1=\"73.397\" x2=\"127.917\" y2=\"61.147\" stroke-linecap=\"round\" style=\"stroke:brown;stroke-width:2.45\" /><line x1=\"127.917\" y1=\"61.147\" x2=\"142.769\" y2=\"69.722\" stroke-linecap=\"round\" style=\"stroke:green;stroke-width:1.7149999999999999\" /><line x1=\"142.769\" y1=\"69.722\" x2=\"142.769\" y2=\"81.727\" stroke-linecap=\"round\" style=\"stroke:green;stroke-width:1.2005\" /><line x1=\"142.769\" y1=\"81.727\" x2=\"135.491\" y2=\"85.929\" stroke-linecap=\"round\" style=\"stroke:green;stroke-width:0.8403499999999999\" /><line x1=\"135.491\" y1=\"85.929\" x2=\"130.397\" y2=\"82.988\" stroke-linecap=\"round\" style=\"stroke:green;stroke-width:0.5882449999999999\" /><line x1=\"130.397\" y1=\"82.988\" x2=\"130.397\" y2=\"78.87\" stroke-linecap=\"round\" style=\"stroke:green;stroke-width:0.41177149999999996\" /><line x1=\"130.397\" y1=\"82.988\" x2=\"127.456\" y2=\"82.988\" stroke-linecap=\"round\" style=\"stroke:green;stroke-width:0.29412249999999995\" /><line x1=\"135.491\" y1=\"85.929\" x2=\"133.39\" y2=\"89.568\" stroke-linecap=\"round\" style=\"stroke:green;stroke-width:0.42017499999999997\" /><line x1=\"133.39\" y1=\"89.568\" x2=\"130.449\" y2=\"89.568\" stroke-linecap=\"round\" style=\"stroke:green;stroke-width:0.29412249999999995\" /><line x1=\"133.39\" y1=\"89.568\" x2=\"133.39\" y2=\"91.669\" stroke-linecap=\"round\" style=\"stroke:green;stroke-width:0.21008749999999998\" /><line x1=\"142.769\" y1=\"81.727\" x2=\"145.77\" y2=\"86.925\" stroke-linecap=\"round\" style=\"stroke:green;stroke-width:0.60025\" /><line x1=\"145.77\" y1=\"86.925\" x2=\"143.669\" y2=\"90.564\" stroke-linecap=\"round\" style=\"stroke:green;stroke-width:0.42017499999999997\" /><line x1=\"143.669\" y1=\"90.564\" x2=\"140.728\" y2=\"90.564\" stroke-linecap=\"round\" style=\"stroke:green;stroke-width:0.29412249999999995\" /><line x1=\"143.669\" y1=\"90.564\" x2=\"143.669\" y2=\"92.665\" stroke-linecap=\"round\" style=\"stroke:green;stroke-width:0.21008749999999998\" /><line x1=\"145.77\" y1=\"86.925\" x2=\"148.369\" y2=\"88.426\" stroke-linecap=\"round\" style=\"stroke:green;stroke-width:0.300125\" /><line x1=\"148.369\" y1=\"88.426\" x2=\"148.369\" y2=\"90.527\" stroke-linecap=\"round\" style=\"stroke:green;stroke-width:0.21008749999999998\" /><line x1=\"148.369\" y1=\"88.426\" x2=\"149.87\" y2=\"88.426\" stroke-linecap=\"round\" style=\"stroke:green;stroke-width:0.1500625\" /><line x1=\"142.769\" y1=\"69.722\" x2=\"151.344\" y2=\"69.722\" stroke-linecap=\"round\" style=\"stroke:green;stroke-width:0.8574999999999999\" /><line x1=\"151.344\" y1=\"69.722\" x2=\"154.345\" y2=\"74.92\" stroke-linecap=\"round\" style=\"stroke:green;stroke-width:0.60025\" /><line x1=\"154.345\" y1=\"74.92\" x2=\"152.244\" y2=\"78.559\" stroke-linecap=\"round\" style=\"stroke:green;stroke-width:0.42017499999999997\" /><line x1=\"152.244\" y1=\"78.559\" x2=\"149.303\" y2=\"78.559\" stroke-linecap=\"round\" style=\"stroke:green;stroke-width:0.29412249999999995\" /><line x1=\"152.244\" y1=\"78.559\" x2=\"152.244\" y2=\"80.66\" stroke-linecap=\"round\" style=\"stroke:green;stroke-width:0.21008749999999998\" /><line x1=\"154.345\" y1=\"74.92\" x2=\"156.944\" y2=\"76.421\" stroke-linecap=\"round\" style=\"stroke:green;stroke-width:0.300125\" /><line x1=\"156.944\" y1=\"76.421\" x2=\"156.944\" y2=\"78.522\" stroke-linecap=\"round\" style=\"stroke:green;stroke-width:0.21008749999999998\" /><line x1=\"156.944\" y1=\"76.421\" x2=\"158.445\" y2=\"76.421\" stroke-linecap=\"round\" style=\"stroke:green;stroke-width:0.1500625\" /><line x1=\"151.344\" y1=\"69.722\" x2=\"155.057\" y2=\"67.578\" stroke-linecap=\"round\" style=\"stroke:green;stroke-width:0.42874999999999996\" /><line x1=\"155.057\" y1=\"67.578\" x2=\"157.656\" y2=\"69.079\" stroke-linecap=\"round\" style=\"stroke:green;stroke-width:0.300125\" /><line x1=\"157.656\" y1=\"69.079\" x2=\"157.656\" y2=\"71.18\" stroke-linecap=\"round\" style=\"stroke:green;stroke-width:0.21008749999999998\" /><line x1=\"157.656\" y1=\"69.079\" x2=\"159.157\" y2=\"69.079\" stroke-linecap=\"round\" style=\"stroke:green;stroke-width:0.1500625\" /><line x1=\"155.057\" y1=\"67.578\" x2=\"156.129\" y2=\"65.721\" stroke-linecap=\"round\" style=\"stroke:green;stroke-width:0.21437499999999998\" /><line x1=\"156.129\" y1=\"65.721\" x2=\"157.63\" y2=\"65.721\" stroke-linecap=\"round\" style=\"stroke:green;stroke-width:0.1500625\" /><line x1=\"156.129\" y1=\"65.721\" x2=\"156.129\" y2=\"64.649\" stroke-linecap=\"round\" style=\"stroke:green;stroke-width:0.10718749999999999\" /><line x1=\"127.917\" y1=\"61.147\" x2=\"134.042\" y2=\"50.538\" stroke-linecap=\"round\" style=\"stroke:green;stroke-width:1.225\" /><line x1=\"134.042\" y1=\"50.538\" x2=\"142.617\" y2=\"50.538\" stroke-linecap=\"round\" style=\"stroke:green;stroke-width:0.8574999999999999\" /><line x1=\"142.617\" y1=\"50.538\" x2=\"145.618\" y2=\"55.736\" stroke-linecap=\"round\" style=\"stroke:green;stroke-width:0.60025\" /><line x1=\"145.618\" y1=\"55.736\" x2=\"143.517\" y2=\"59.375\" stroke-linecap=\"round\" style=\"stroke:green;stroke-width:0.42017499999999997\" /><line x1=\"143.517\" y1=\"59.375\" x2=\"140.576\" y2=\"59.375\" stroke-linecap=\"round\" style=\"stroke:green;stroke-width:0.29412249999999995\" /><line x1=\"143.517\" y1=\"59.375\" x2=\"143.517\" y2=\"61.476\" stroke-linecap=\"round\" style=\"stroke:green;stroke-width:0.21008749999999998\" /><line x1=\"145.618\" y1=\"55.736\" x2=\"148.217\" y2=\"57.237\" stroke-linecap=\"round\" style=\"stroke:green;stroke-width:0.300125\" /><line x1=\"148.217\" y1=\"57.237\" x2=\"148.217\" y2=\"59.338\" stroke-linecap=\"round\" style=\"stroke:green;stroke-width:0.21008749999999998\" /><line x1=\"148.217\" y1=\"57.237\" x2=\"149.718\" y2=\"57.237\" stroke-linecap=\"round\" style=\"stroke:green;stroke-width:0.1500625\" /><line x1=\"142.617\" y1=\"50.538\" x2=\"146.33\" y2=\"48.394\" stroke-linecap=\"round\" style=\"stroke:green;stroke-width:0.42874999999999996\" /><line x1=\"146.33\" y1=\"48.394\" x2=\"148.929\" y2=\"49.895\" stroke-linecap=\"round\" style=\"stroke:green;stroke-width:0.300125\" /><line x1=\"148.929\" y1=\"49.895\" x2=\"148.929\" y2=\"51.996\" stroke-linecap=\"round\" style=\"stroke:green;stroke-width:0.21008749999999998\" /><line x1=\"148.929\" y1=\"49.895\" x2=\"150.43\" y2=\"49.895\" stroke-linecap=\"round\" style=\"stroke:green;stroke-width:0.1500625\" /><line x1=\"146.33\" y1=\"48.394\" x2=\"147.402\" y2=\"46.537\" stroke-linecap=\"round\" style=\"stroke:green;stroke-width:0.21437499999999998\" /><line x1=\"147.402\" y1=\"46.537\" x2=\"148.903\" y2=\"46.537\" stroke-linecap=\"round\" style=\"stroke:green;stroke-width:0.1500625\" /><line x1=\"147.402\" y1=\"46.537\" x2=\"147.402\" y2=\"45.465\" stroke-linecap=\"round\" style=\"stroke:green;stroke-width:0.10718749999999999\" /><line x1=\"134.042\" y1=\"50.538\" x2=\"134.042\" y2=\"44.413\" stroke-linecap=\"round\" style=\"stroke:green;stroke-width:0.6125\" /><line x1=\"134.042\" y1=\"44.413\" x2=\"137.755\" y2=\"42.269\" stroke-linecap=\"round\" style=\"stroke:green;stroke-width:0.42874999999999996\" /><line x1=\"137.755\" y1=\"42.269\" x2=\"140.354\" y2=\"43.77\" stroke-linecap=\"round\" style=\"stroke:green;stroke-width:0.300125\" /><line x1=\"140.354\" y1=\"43.77\" x2=\"140.354\" y2=\"45.871\" stroke-linecap=\"round\" style=\"stroke:green;stroke-width:0.21008749999999998\" /><line x1=\"140.354\" y1=\"43.77\" x2=\"141.855\" y2=\"43.77\" stroke-linecap=\"round\" style=\"stroke:green;stroke-width:0.1500625\" /><line x1=\"137.755\" y1=\"42.269\" x2=\"138.827\" y2=\"40.412\" stroke-linecap=\"round\" style=\"stroke:green;stroke-width:0.21437499999999998\" /><line x1=\"138.827\" y1=\"40.412\" x2=\"140.328\" y2=\"40.412\" stroke-linecap=\"round\" style=\"stroke:green;stroke-width:0.1500625\" /><line x1=\"138.827\" y1=\"40.412\" x2=\"138.827\" y2=\"39.34\" stroke-linecap=\"round\" style=\"stroke:green;stroke-width:0.10718749999999999\" /><line x1=\"134.042\" y1=\"44.413\" x2=\"132.511\" y2=\"41.761\" stroke-linecap=\"round\" style=\"stroke:green;stroke-width:0.30625\" /><line x1=\"132.511\" y1=\"41.761\" x2=\"133.583\" y2=\"39.904\" stroke-linecap=\"round\" style=\"stroke:green;stroke-width:0.21437499999999998\" /><line x1=\"133.583\" y1=\"39.904\" x2=\"135.084\" y2=\"39.904\" stroke-linecap=\"round\" style=\"stroke:green;stroke-width:0.1500625\" /><line x1=\"133.583\" y1=\"39.904\" x2=\"133.583\" y2=\"38.832\" stroke-linecap=\"round\" style=\"stroke:green;stroke-width:0.10718749999999999\" /><line x1=\"132.511\" y1=\"41.761\" x2=\"131.185\" y2=\"40.995\" stroke-linecap=\"round\" style=\"stroke:green;stroke-width:0.153125\" /><line x1=\"131.185\" y1=\"40.995\" x2=\"131.185\" y2=\"39.923\" stroke-linecap=\"round\" style=\"stroke:green;stroke-width:0.10718749999999999\" /><line x1=\"131.185\" y1=\"40.995\" x2=\"130.419\" y2=\"40.995\" stroke-linecap=\"round\" style=\"stroke:green;stroke-width:0.0765625\" /><line x1=\"106.699\" y1=\"73.397\" x2=\"97.949\" y2=\"58.242\" stroke-linecap=\"round\" style=\"stroke:green;stroke-width:1.75\" /><line x1=\"97.949\" y1=\"58.242\" x2=\"104.074\" y2=\"47.633\" stroke-linecap=\"round\" style=\"stroke:green;stroke-width:1.225\" /><line x1=\"104.074\" y1=\"47.633\" x2=\"112.649\" y2=\"47.633\" stroke-linecap=\"round\" style=\"stroke:green;stroke-width:0.8574999999999999\" /><line x1=\"112.649\" y1=\"47.633\" x2=\"115.65\" y2=\"52.831\" stroke-linecap=\"round\" style=\"stroke:green;stroke-width:0.60025\" /><line x1=\"115.65\" y1=\"52.831\" x2=\"113.549\" y2=\"56.47\" stroke-linecap=\"round\" style=\"stroke:green;stroke-width:0.42017499999999997\" /><line x1=\"113.549\" y1=\"56.47\" x2=\"110.608\" y2=\"56.47\" stroke-linecap=\"round\" style=\"stroke:green;stroke-width:0.29412249999999995\" /><line x1=\"113.549\" y1=\"56.47\" x2=\"113.549\" y2=\"58.571\" stroke-linecap=\"round\" style=\"stroke:green;stroke-width:0.21008749999999998\" /><line x1=\"115.65\" y1=\"52.831\" x2=\"118.249\" y2=\"54.332\" stroke-linecap=\"round\" style=\"stroke:green;stroke-width:0.300125\" /><line x1=\"118.249\" y1=\"54.332\" x2=\"118.249\" y2=\"56.433\" stroke-linecap=\"round\" style=\"stroke:green;stroke-width:0.21008749999999998\" /><line x1=\"118.249\" y1=\"54.332\" x2=\"119.75\" y2=\"54.332\" stroke-linecap=\"round\" style=\"stroke:green;stroke-width:0.1500625\" /><line x1=\"112.649\" y1=\"47.633\" x2=\"116.362\" y2=\"45.489\" stroke-linecap=\"round\" style=\"stroke:green;stroke-width:0.42874999999999996\" /><line x1=\"116.362\" y1=\"45.489\" x2=\"118.961\" y2=\"46.99\" stroke-linecap=\"round\" style=\"stroke:green;stroke-width:0.300125\" /><line x1=\"118.961\" y1=\"46.99\" x2=\"118.961\" y2=\"49.091\" stroke-linecap=\"round\" style=\"stroke:green;stroke-width:0.21008749999999998\" /><line x1=\"118.961\" y1=\"46.99\" x2=\"120.462\" y2=\"46.99\" stroke-linecap=\"round\" style=\"stroke:green;stroke-width:0.1500625\" /><line x1=\"116.362\" y1=\"45.489\" x2=\"117.434\" y2=\"43.632\" stroke-linecap=\"round\" style=\"stroke:green;stroke-width:0.21437499999999998\" /><line x1=\"117.434\" y1=\"43.632\" x2=\"118.935\" y2=\"43.632\" stroke-linecap=\"round\" style=\"stroke:green;stroke-width:0.1500625\" /><line x1=\"117.434\" y1=\"43.632\" x2=\"117.434\" y2=\"42.56\" stroke-linecap=\"round\" style=\"stroke:green;stroke-width:0.10718749999999999\" /><line x1=\"104.074\" y1=\"47.633\" x2=\"104.074\" y2=\"41.508\" stroke-linecap=\"round\" style=\"stroke:green;stroke-width:0.6125\" /><line x1=\"104.074\" y1=\"41.508\" x2=\"107.787\" y2=\"39.364\" stroke-linecap=\"round\" style=\"stroke:green;stroke-width:0.42874999999999996\" /><line x1=\"107.787\" y1=\"39.364\" x2=\"110.386\" y2=\"40.865\" stroke-linecap=\"round\" style=\"stroke:green;stroke-width:0.300125\" /><line x1=\"110.386\" y1=\"40.865\" x2=\"110.386\" y2=\"42.966\" stroke-linecap=\"round\" style=\"stroke:green;stroke-width:0.21008749999999998\" /><line x1=\"110.386\" y1=\"40.865\" x2=\"111.887\" y2=\"40.865\" stroke-linecap=\"round\" style=\"stroke:green;stroke-width:0.1500625\" /><line x1=\"107.787\" y1=\"39.364\" x2=\"108.859\" y2=\"37.507\" stroke-linecap=\"round\" style=\"stroke:green;stroke-width:0.21437499999999998\" /><line x1=\"108.859\" y1=\"37.507\" x2=\"110.36\" y2=\"37.507\" stroke-linecap=\"round\" style=\"stroke:green;stroke-width:0.1500625\" /><line x1=\"108.859\" y1=\"37.507\" x2=\"108.859\" y2=\"36.435\" stroke-linecap=\"round\" style=\"stroke:green;stroke-width:0.10718749999999999\" /><line x1=\"104.074\" y1=\"41.508\" x2=\"102.543\" y2=\"38.856\" stroke-linecap=\"round\" style=\"stroke:green;stroke-width:0.30625\" /><line x1=\"102.543\" y1=\"38.856\" x2=\"103.615\" y2=\"36.999\" stroke-linecap=\"round\" style=\"stroke:green;stroke-width:0.21437499999999998\" /><line x1=\"103.615\" y1=\"36.999\" x2=\"105.116\" y2=\"36.999\" stroke-linecap=\"round\" style=\"stroke:green;stroke-width:0.1500625\" /><line x1=\"103.615\" y1=\"36.999\" x2=\"103.615\" y2=\"35.927\" stroke-linecap=\"round\" style=\"stroke:green;stroke-width:0.10718749999999999\" /><line x1=\"102.543\" y1=\"38.856\" x2=\"101.217\" y2=\"38.09\" stroke-linecap=\"round\" style=\"stroke:green;stroke-width:0.153125\" /><line x1=\"101.217\" y1=\"38.09\" x2=\"101.217\" y2=\"37.018\" stroke-linecap=\"round\" style=\"stroke:green;stroke-width:0.10718749999999999\" /><line x1=\"101.217\" y1=\"38.09\" x2=\"100.451\" y2=\"38.09\" stroke-linecap=\"round\" style=\"stroke:green;stroke-width:0.0765625\" /><line x1=\"97.949\" y1=\"58.242\" x2=\"90.371\" y2=\"53.867\" stroke-linecap=\"round\" style=\"stroke:green;stroke-width:0.875\" /><line x1=\"90.371\" y1=\"53.867\" x2=\"90.371\" y2=\"47.742\" stroke-linecap=\"round\" style=\"stroke:green;stroke-width:0.6125\" /><line x1=\"90.371\" y1=\"47.742\" x2=\"94.084\" y2=\"45.598\" stroke-linecap=\"round\" style=\"stroke:green;stroke-width:0.42874999999999996\" /><line x1=\"94.084\" y1=\"45.598\" x2=\"96.683\" y2=\"47.099\" stroke-linecap=\"round\" style=\"stroke:green;stroke-width:0.300125\" /><line x1=\"96.683\" y1=\"47.099\" x2=\"96.683\" y2=\"49.2\" stroke-linecap=\"round\" style=\"stroke:green;stroke-width:0.21008749999999998\" /><line x1=\"96.683\" y1=\"47.099\" x2=\"98.184\" y2=\"47.099\" stroke-linecap=\"round\" style=\"stroke:green;stroke-width:0.1500625\" /><line x1=\"94.084\" y1=\"45.598\" x2=\"95.156\" y2=\"43.741\" stroke-linecap=\"round\" style=\"stroke:green;stroke-width:0.21437499999999998\" /><line x1=\"95.156\" y1=\"43.741\" x2=\"96.657\" y2=\"43.741\" stroke-linecap=\"round\" style=\"stroke:green;stroke-width:0.1500625\" /><line x1=\"95.156\" y1=\"43.741\" x2=\"95.156\" y2=\"42.669\" stroke-linecap=\"round\" style=\"stroke:green;stroke-width:0.10718749999999999\" /><line x1=\"90.371\" y1=\"47.742\" x2=\"88.84\" y2=\"45.09\" stroke-linecap=\"round\" style=\"stroke:green;stroke-width:0.30625\" /><line x1=\"88.84\" y1=\"45.09\" x2=\"89.912\" y2=\"43.233\" stroke-linecap=\"round\" style=\"stroke:green;stroke-width:0.21437499999999998\" /><line x1=\"89.912\" y1=\"43.233\" x2=\"91.413\" y2=\"43.233\" stroke-linecap=\"round\" style=\"stroke:green;stroke-width:0.1500625\" /><line x1=\"89.912\" y1=\"43.233\" x2=\"89.912\" y2=\"42.161\" stroke-linecap=\"round\" style=\"stroke:green;stroke-width:0.10718749999999999\" /><line x1=\"88.84\" y1=\"45.09\" x2=\"87.514\" y2=\"44.324\" stroke-linecap=\"round\" style=\"stroke:green;stroke-width:0.153125\" /><line x1=\"87.514\" y1=\"44.324\" x2=\"87.514\" y2=\"43.252\" stroke-linecap=\"round\" style=\"stroke:green;stroke-width:0.10718749999999999\" /><line x1=\"87.514\" y1=\"44.324\" x2=\"86.748\" y2=\"44.324\" stroke-linecap=\"round\" style=\"stroke:green;stroke-width:0.0765625\" /><line x1=\"90.371\" y1=\"53.867\" x2=\"85.996\" y2=\"53.867\" stroke-linecap=\"round\" style=\"stroke:green;stroke-width:0.4375\" /><line x1=\"85.996\" y1=\"53.867\" x2=\"84.465\" y2=\"51.215\" stroke-linecap=\"round\" style=\"stroke:green;stroke-width:0.30625\" /><line x1=\"84.465\" y1=\"51.215\" x2=\"85.537\" y2=\"49.358\" stroke-linecap=\"round\" style=\"stroke:green;stroke-width:0.21437499999999998\" /><line x1=\"85.537\" y1=\"49.358\" x2=\"87.038\" y2=\"49.358\" stroke-linecap=\"round\" style=\"stroke:green;stroke-width:0.1500625\" /><line x1=\"85.537\" y1=\"49.358\" x2=\"85.537\" y2=\"48.286\" stroke-linecap=\"round\" style=\"stroke:green;stroke-width:0.10718749999999999\" /><line x1=\"84.465\" y1=\"51.215\" x2=\"83.139\" y2=\"50.449\" stroke-linecap=\"round\" style=\"stroke:green;stroke-width:0.153125\" /><line x1=\"83.139\" y1=\"50.449\" x2=\"83.139\" y2=\"49.377\" stroke-linecap=\"round\" style=\"stroke:green;stroke-width:0.10718749999999999\" /><line x1=\"83.139\" y1=\"50.449\" x2=\"82.373\" y2=\"50.449\" stroke-linecap=\"round\" style=\"stroke:green;stroke-width:0.0765625\" /><line x1=\"85.996\" y1=\"53.867\" x2=\"84.102\" y2=\"54.961\" stroke-linecap=\"round\" style=\"stroke:green;stroke-width:0.21875\" /><line x1=\"84.102\" y1=\"54.961\" x2=\"82.776\" y2=\"54.195\" stroke-linecap=\"round\" style=\"stroke:green;stroke-width:0.153125\" /><line x1=\"82.776\" y1=\"54.195\" x2=\"82.776\" y2=\"53.123\" stroke-linecap=\"round\" style=\"stroke:green;stroke-width:0.10718749999999999\" /><line x1=\"82.776\" y1=\"54.195\" x2=\"82.01\" y2=\"54.195\" stroke-linecap=\"round\" style=\"stroke:green;stroke-width:0.0765625\" /><line x1=\"84.102\" y1=\"54.961\" x2=\"83.555\" y2=\"55.908\" stroke-linecap=\"round\" style=\"stroke:green;stroke-width:0.109375\" /><line x1=\"83.555\" y1=\"55.908\" x2=\"82.789\" y2=\"55.908\" stroke-linecap=\"round\" style=\"stroke:green;stroke-width:0.0765625\" /><line x1=\"83.555\" y1=\"55.908\" x2=\"83.555\" y2=\"56.455\" stroke-linecap=\"round\" style=\"stroke:green;stroke-width:0.0546875\" /><line x1=\"106.699\" y1=\"108.397\" x2=\"81.699\" y2=\"108.397\" stroke-linecap=\"round\" style=\"stroke:brown;stroke-width:2.5\" /><line x1=\"81.699\" y1=\"108.397\" x2=\"72.949\" y2=\"93.242\" stroke-linecap=\"round\" style=\"stroke:green;stroke-width:1.75\" /><line x1=\"72.949\" y1=\"93.242\" x2=\"79.074\" y2=\"82.633\" stroke-linecap=\"round\" style=\"stroke:green;stroke-width:1.225\" /><line x1=\"79.074\" y1=\"82.633\" x2=\"87.649\" y2=\"82.633\" stroke-linecap=\"round\" style=\"stroke:green;stroke-width:0.8574999999999999\" /><line x1=\"87.649\" y1=\"82.633\" x2=\"90.65\" y2=\"87.831\" stroke-linecap=\"round\" style=\"stroke:green;stroke-width:0.60025\" /><line x1=\"90.65\" y1=\"87.831\" x2=\"88.549\" y2=\"91.47\" stroke-linecap=\"round\" style=\"stroke:green;stroke-width:0.42017499999999997\" /><line x1=\"88.549\" y1=\"91.47\" x2=\"85.608\" y2=\"91.47\" stroke-linecap=\"round\" style=\"stroke:green;stroke-width:0.29412249999999995\" /><line x1=\"88.549\" y1=\"91.47\" x2=\"88.549\" y2=\"93.571\" stroke-linecap=\"round\" style=\"stroke:green;stroke-width:0.21008749999999998\" /><line x1=\"90.65\" y1=\"87.831\" x2=\"93.249\" y2=\"89.332\" stroke-linecap=\"round\" style=\"stroke:green;stroke-width:0.300125\" /><line x1=\"93.249\" y1=\"89.332\" x2=\"93.249\" y2=\"91.433\" stroke-linecap=\"round\" style=\"stroke:green;stroke-width:0.21008749999999998\" /><line x1=\"93.249\" y1=\"89.332\" x2=\"94.75\" y2=\"89.332\" stroke-linecap=\"round\" style=\"stroke:green;stroke-width:0.1500625\" /><line x1=\"87.649\" y1=\"82.633\" x2=\"91.362\" y2=\"80.489\" stroke-linecap=\"round\" style=\"stroke:green;stroke-width:0.42874999999999996\" /><line x1=\"91.362\" y1=\"80.489\" x2=\"93.961\" y2=\"81.99\" stroke-linecap=\"round\" style=\"stroke:green;stroke-width:0.300125\" /><line x1=\"93.961\" y1=\"81.99\" x2=\"93.961\" y2=\"84.091\" stroke-linecap=\"round\" style=\"stroke:green;stroke-width:0.21008749999999998\" /><line x1=\"93.961\" y1=\"81.99\" x2=\"95.462\" y2=\"81.99\" stroke-linecap=\"round\" style=\"stroke:green;stroke-width:0.1500625\" /><line x1=\"91.362\" y1=\"80.489\" x2=\"92.434\" y2=\"78.632\" stroke-linecap=\"round\" style=\"stroke:green;stroke-width:0.21437499999999998\" /><line x1=\"92.434\" y1=\"78.632\" x2=\"93.935\" y2=\"78.632\" stroke-linecap=\"round\" style=\"stroke:green;stroke-width:0.1500625\" /><line x1=\"92.434\" y1=\"78.632\" x2=\"92.434\" y2=\"77.56\" stroke-linecap=\"round\" style=\"stroke:green;stroke-width:0.10718749999999999\" /><line x1=\"79.074\" y1=\"82.633\" x2=\"79.074\" y2=\"76.508\" stroke-linecap=\"round\" style=\"stroke:green;stroke-width:0.6125\" /><line x1=\"79.074\" y1=\"76.508\" x2=\"82.787\" y2=\"74.364\" stroke-linecap=\"round\" style=\"stroke:green;stroke-width:0.42874999999999996\" /><line x1=\"82.787\" y1=\"74.364\" x2=\"85.386\" y2=\"75.865\" stroke-linecap=\"round\" style=\"stroke:green;stroke-width:0.300125\" /><line x1=\"85.386\" y1=\"75.865\" x2=\"85.386\" y2=\"77.966\" stroke-linecap=\"round\" style=\"stroke:green;stroke-width:0.21008749999999998\" /><line x1=\"85.386\" y1=\"75.865\" x2=\"86.887\" y2=\"75.865\" stroke-linecap=\"round\" style=\"stroke:green;stroke-width:0.1500625\" /><line x1=\"82.787\" y1=\"74.364\" x2=\"83.859\" y2=\"72.507\" stroke-linecap=\"round\" style=\"stroke:green;stroke-width:0.21437499999999998\" /><line x1=\"83.859\" y1=\"72.507\" x2=\"85.36\" y2=\"72.507\" stroke-linecap=\"round\" style=\"stroke:green;stroke-width:0.1500625\" /><line x1=\"83.859\" y1=\"72.507\" x2=\"83.859\" y2=\"71.435\" stroke-linecap=\"round\" style=\"stroke:green;stroke-width:0.10718749999999999\" /><line x1=\"79.074\" y1=\"76.508\" x2=\"77.543\" y2=\"73.856\" stroke-linecap=\"round\" style=\"stroke:green;stroke-width:0.30625\" /><line x1=\"77.543\" y1=\"73.856\" x2=\"78.615\" y2=\"71.999\" stroke-linecap=\"round\" style=\"stroke:green;stroke-width:0.21437499999999998\" /><line x1=\"78.615\" y1=\"71.999\" x2=\"80.116\" y2=\"71.999\" stroke-linecap=\"round\" style=\"stroke:green;stroke-width:0.1500625\" /><line x1=\"78.615\" y1=\"71.999\" x2=\"78.615\" y2=\"70.927\" stroke-linecap=\"round\" style=\"stroke:green;stroke-width:0.10718749999999999\" /><line x1=\"77.543\" y1=\"73.856\" x2=\"76.217\" y2=\"73.09\" stroke-linecap=\"round\" style=\"stroke:green;stroke-width:0.153125\" /><line x1=\"76.217\" y1=\"73.09\" x2=\"76.217\" y2=\"72.018\" stroke-linecap=\"round\" style=\"stroke:green;stroke-width:0.10718749999999999\" /><line x1=\"76.217\" y1=\"73.09\" x2=\"75.451\" y2=\"73.09\" stroke-linecap=\"round\" style=\"stroke:green;stroke-width:0.0765625\" /><line x1=\"72.949\" y1=\"93.242\" x2=\"65.371\" y2=\"88.867\" stroke-linecap=\"round\" style=\"stroke:green;stroke-width:0.875\" /><line x1=\"65.371\" y1=\"88.867\" x2=\"65.371\" y2=\"82.742\" stroke-linecap=\"round\" style=\"stroke:green;stroke-width:0.6125\" /><line x1=\"65.371\" y1=\"82.742\" x2=\"69.084\" y2=\"80.598\" stroke-linecap=\"round\" style=\"stroke:green;stroke-width:0.42874999999999996\" /><line x1=\"69.084\" y1=\"80.598\" x2=\"71.683\" y2=\"82.099\" stroke-linecap=\"round\" style=\"stroke:green;stroke-width:0.300125\" /><line x1=\"71.683\" y1=\"82.099\" x2=\"71.683\" y2=\"84.2\" stroke-linecap=\"round\" style=\"stroke:green;stroke-width:0.21008749999999998\" /><line x1=\"71.683\" y1=\"82.099\" x2=\"73.184\" y2=\"82.099\" stroke-linecap=\"round\" style=\"stroke:green;stroke-width:0.1500625\" /><line x1=\"69.084\" y1=\"80.598\" x2=\"70.156\" y2=\"78.741\" stroke-linecap=\"round\" style=\"stroke:green;stroke-width:0.21437499999999998\" /><line x1=\"70.156\" y1=\"78.741\" x2=\"71.657\" y2=\"78.741\" stroke-linecap=\"round\" style=\"stroke:green;stroke-width:0.1500625\" /><line x1=\"70.156\" y1=\"78.741\" x2=\"70.156\" y2=\"77.669\" stroke-linecap=\"round\" style=\"stroke:green;stroke-width:0.10718749999999999\" /><line x1=\"65.371\" y1=\"82.742\" x2=\"63.84\" y2=\"80.09\" stroke-linecap=\"round\" style=\"stroke:green;stroke-width:0.30625\" /><line x1=\"63.84\" y1=\"80.09\" x2=\"64.912\" y2=\"78.233\" stroke-linecap=\"round\" style=\"stroke:green;stroke-width:0.21437499999999998\" /><line x1=\"64.912\" y1=\"78.233\" x2=\"66.413\" y2=\"78.233\" stroke-linecap=\"round\" style=\"stroke:green;stroke-width:0.1500625\" /><line x1=\"64.912\" y1=\"78.233\" x2=\"64.912\" y2=\"77.161\" stroke-linecap=\"round\" style=\"stroke:green;stroke-width:0.10718749999999999\" /><line x1=\"63.84\" y1=\"80.09\" x2=\"62.514\" y2=\"79.324\" stroke-linecap=\"round\" style=\"stroke:green;stroke-width:0.153125\" /><line x1=\"62.514\" y1=\"79.324\" x2=\"62.514\" y2=\"78.252\" stroke-linecap=\"round\" style=\"stroke:green;stroke-width:0.10718749999999999\" /><line x1=\"62.514\" y1=\"79.324\" x2=\"61.748\" y2=\"79.324\" stroke-linecap=\"round\" style=\"stroke:green;stroke-width:0.0765625\" /><line x1=\"65.371\" y1=\"88.867\" x2=\"60.996\" y2=\"88.867\" stroke-linecap=\"round\" style=\"stroke:green;stroke-width:0.4375\" /><line x1=\"60.996\" y1=\"88.867\" x2=\"59.465\" y2=\"86.215\" stroke-linecap=\"round\" style=\"stroke:green;stroke-width:0.30625\" /><line x1=\"59.465\" y1=\"86.215\" x2=\"60.537\" y2=\"84.358\" stroke-linecap=\"round\" style=\"stroke:green;stroke-width:0.21437499999999998\" /><line x1=\"60.537\" y1=\"84.358\" x2=\"62.038\" y2=\"84.358\" stroke-linecap=\"round\" style=\"stroke:green;stroke-width:0.1500625\" /><line x1=\"60.537\" y1=\"84.358\" x2=\"60.537\" y2=\"83.286\" stroke-linecap=\"round\" style=\"stroke:green;stroke-width:0.10718749999999999\" /><line x1=\"59.465\" y1=\"86.215\" x2=\"58.139\" y2=\"85.449\" stroke-linecap=\"round\" style=\"stroke:green;stroke-width:0.153125\" /><line x1=\"58.139\" y1=\"85.449\" x2=\"58.139\" y2=\"84.377\" stroke-linecap=\"round\" style=\"stroke:green;stroke-width:0.10718749999999999\" /><line x1=\"58.139\" y1=\"85.449\" x2=\"57.373\" y2=\"85.449\" stroke-linecap=\"round\" style=\"stroke:green;stroke-width:0.0765625\" /><line x1=\"60.996\" y1=\"88.867\" x2=\"59.102\" y2=\"89.961\" stroke-linecap=\"round\" style=\"stroke:green;stroke-width:0.21875\" /><line x1=\"59.102\" y1=\"89.961\" x2=\"57.776\" y2=\"89.195\" stroke-linecap=\"round\" style=\"stroke:green;stroke-width:0.153125\" /><line x1=\"57.776\" y1=\"89.195\" x2=\"57.776\" y2=\"88.123\" stroke-linecap=\"round\" style=\"stroke:green;stroke-width:0.10718749999999999\" /><line x1=\"57.776\" y1=\"89.195\" x2=\"57.01\" y2=\"89.195\" stroke-linecap=\"round\" style=\"stroke:green;stroke-width:0.0765625\" /><line x1=\"59.102\" y1=\"89.961\" x2=\"58.555\" y2=\"90.908\" stroke-linecap=\"round\" style=\"stroke:green;stroke-width:0.109375\" /><line x1=\"58.555\" y1=\"90.908\" x2=\"57.789\" y2=\"90.908\" stroke-linecap=\"round\" style=\"stroke:green;stroke-width:0.0765625\" /><line x1=\"58.555\" y1=\"90.908\" x2=\"58.555\" y2=\"91.455\" stroke-linecap=\"round\" style=\"stroke:green;stroke-width:0.0546875\" /><line x1=\"81.699\" y1=\"108.397\" x2=\"70.874\" y2=\"114.647\" stroke-linecap=\"round\" style=\"stroke:green;stroke-width:1.25\" /><line x1=\"70.874\" y1=\"114.647\" x2=\"63.296\" y2=\"110.272\" stroke-linecap=\"round\" style=\"stroke:green;stroke-width:0.875\" /><line x1=\"63.296\" y1=\"110.272\" x2=\"63.296\" y2=\"104.147\" stroke-linecap=\"round\" style=\"stroke:green;stroke-width:0.6125\" /><line x1=\"63.296\" y1=\"104.147\" x2=\"67.009\" y2=\"102.003\" stroke-linecap=\"round\" style=\"stroke:green;stroke-width:0.42874999999999996\" /><line x1=\"67.009\" y1=\"102.003\" x2=\"69.608\" y2=\"103.504\" stroke-linecap=\"round\" style=\"stroke:green;stroke-width:0.300125\" /><line x1=\"69.608\" y1=\"103.504\" x2=\"69.608\" y2=\"105.605\" stroke-linecap=\"round\" style=\"stroke:green;stroke-width:0.21008749999999998\" /><line x1=\"69.608\" y1=\"103.504\" x2=\"71.109\" y2=\"103.504\" stroke-linecap=\"round\" style=\"stroke:green;stroke-width:0.1500625\" /><line x1=\"67.009\" y1=\"102.003\" x2=\"68.081\" y2=\"100.146\" stroke-linecap=\"round\" style=\"stroke:green;stroke-width:0.21437499999999998\" /><line x1=\"68.081\" y1=\"100.146\" x2=\"69.582\" y2=\"100.146\" stroke-linecap=\"round\" style=\"stroke:green;stroke-width:0.1500625\" /><line x1=\"68.081\" y1=\"100.146\" x2=\"68.081\" y2=\"99.074\" stroke-linecap=\"round\" style=\"stroke:green;stroke-width:0.10718749999999999\" /><line x1=\"63.296\" y1=\"104.147\" x2=\"61.765\" y2=\"101.495\" stroke-linecap=\"round\" style=\"stroke:green;stroke-width:0.30625\" /><line x1=\"61.765\" y1=\"101.495\" x2=\"62.837\" y2=\"99.638\" stroke-linecap=\"round\" style=\"stroke:green;stroke-width:0.21437499999999998\" /><line x1=\"62.837\" y1=\"99.638\" x2=\"64.338\" y2=\"99.638\" stroke-linecap=\"round\" style=\"stroke:green;stroke-width:0.1500625\" /><line x1=\"62.837\" y1=\"99.638\" x2=\"62.837\" y2=\"98.566\" stroke-linecap=\"round\" style=\"stroke:green;stroke-width:0.10718749999999999\" /><line x1=\"61.765\" y1=\"101.495\" x2=\"60.439\" y2=\"100.729\" stroke-linecap=\"round\" style=\"stroke:green;stroke-width:0.153125\" /><line x1=\"60.439\" y1=\"100.729\" x2=\"60.439\" y2=\"99.657\" stroke-linecap=\"round\" style=\"stroke:green;stroke-width:0.10718749999999999\" /><line x1=\"60.439\" y1=\"100.729\" x2=\"59.673\" y2=\"100.729\" stroke-linecap=\"round\" style=\"stroke:green;stroke-width:0.0765625\" /><line x1=\"63.296\" y1=\"110.272\" x2=\"58.921\" y2=\"110.272\" stroke-linecap=\"round\" style=\"stroke:green;stroke-width:0.4375\" /><line x1=\"58.921\" y1=\"110.272\" x2=\"57.39\" y2=\"107.62\" stroke-linecap=\"round\" style=\"stroke:green;stroke-width:0.30625\" /><line x1=\"57.39\" y1=\"107.62\" x2=\"58.462\" y2=\"105.763\" stroke-linecap=\"round\" style=\"stroke:green;stroke-width:0.21437499999999998\" /><line x1=\"58.462\" y1=\"105.763\" x2=\"59.963\" y2=\"105.763\" stroke-linecap=\"round\" style=\"stroke:green;stroke-width:0.1500625\" /><line x1=\"58.462\" y1=\"105.763\" x2=\"58.462\" y2=\"104.691\" stroke-linecap=\"round\" style=\"stroke:green;stroke-width:0.10718749999999999\" /><line x1=\"57.39\" y1=\"107.62\" x2=\"56.064\" y2=\"106.854\" stroke-linecap=\"round\" style=\"stroke:green;stroke-width:0.153125\" /><line x1=\"56.064\" y1=\"106.854\" x2=\"56.064\" y2=\"105.782\" stroke-linecap=\"round\" style=\"stroke:green;stroke-width:0.10718749999999999\" /><line x1=\"56.064\" y1=\"106.854\" x2=\"55.298\" y2=\"106.854\" stroke-linecap=\"round\" style=\"stroke:green;stroke-width:0.0765625\" /><line x1=\"58.921\" y1=\"110.272\" x2=\"57.027\" y2=\"111.366\" stroke-linecap=\"round\" style=\"stroke:green;stroke-width:0.21875\" /><line x1=\"57.027\" y1=\"111.366\" x2=\"55.701\" y2=\"110.6\" stroke-linecap=\"round\" style=\"stroke:green;stroke-width:0.153125\" /><line x1=\"55.701\" y1=\"110.6\" x2=\"55.701\" y2=\"109.528\" stroke-linecap=\"round\" style=\"stroke:green;stroke-width:0.10718749999999999\" /><line x1=\"55.701\" y1=\"110.6\" x2=\"54.935\" y2=\"110.6\" stroke-linecap=\"round\" style=\"stroke:green;stroke-width:0.0765625\" /><line x1=\"57.027\" y1=\"111.366\" x2=\"56.48\" y2=\"112.313\" stroke-linecap=\"round\" style=\"stroke:green;stroke-width:0.109375\" /><line x1=\"56.48\" y1=\"112.313\" x2=\"55.714\" y2=\"112.313\" stroke-linecap=\"round\" style=\"stroke:green;stroke-width:0.0765625\" /><line x1=\"56.48\" y1=\"112.313\" x2=\"56.48\" y2=\"112.86\" stroke-linecap=\"round\" style=\"stroke:green;stroke-width:0.0546875\" /><line x1=\"70.874\" y1=\"114.647\" x2=\"67.749\" y2=\"120.06\" stroke-linecap=\"round\" style=\"stroke:green;stroke-width:0.625\" /><line x1=\"67.749\" y1=\"120.06\" x2=\"63.374\" y2=\"120.06\" stroke-linecap=\"round\" style=\"stroke:green;stroke-width:0.4375\" /><line x1=\"63.374\" y1=\"120.06\" x2=\"61.843\" y2=\"117.408\" stroke-linecap=\"round\" style=\"stroke:green;stroke-width:0.30625\" /><line x1=\"61.843\" y1=\"117.408\" x2=\"62.915\" y2=\"115.551\" stroke-linecap=\"round\" style=\"stroke:green;stroke-width:0.21437499999999998\" /><line x1=\"62.915\" y1=\"115.551\" x2=\"64.416\" y2=\"115.551\" stroke-linecap=\"round\" style=\"stroke:green;stroke-width:0.1500625\" /><line x1=\"62.915\" y1=\"115.551\" x2=\"62.915\" y2=\"114.479\" stroke-linecap=\"round\" style=\"stroke:green;stroke-width:0.10718749999999999\" /><line x1=\"61.843\" y1=\"117.408\" x2=\"60.517\" y2=\"116.642\" stroke-linecap=\"round\" style=\"stroke:green;stroke-width:0.153125\" /><line x1=\"60.517\" y1=\"116.642\" x2=\"60.517\" y2=\"115.57\" stroke-linecap=\"round\" style=\"stroke:green;stroke-width:0.10718749999999999\" /><line x1=\"60.517\" y1=\"116.642\" x2=\"59.751\" y2=\"116.642\" stroke-linecap=\"round\" style=\"stroke:green;stroke-width:0.0765625\" /><line x1=\"63.374\" y1=\"120.06\" x2=\"61.48\" y2=\"121.154\" stroke-linecap=\"round\" style=\"stroke:green;stroke-width:0.21875\" /><line x1=\"61.48\" y1=\"121.154\" x2=\"60.154\" y2=\"120.388\" stroke-linecap=\"round\" style=\"stroke:green;stroke-width:0.153125\" /><line x1=\"60.154\" y1=\"120.388\" x2=\"60.154\" y2=\"119.316\" stroke-linecap=\"round\" style=\"stroke:green;stroke-width:0.10718749999999999\" /><line x1=\"60.154\" y1=\"120.388\" x2=\"59.388\" y2=\"120.388\" stroke-linecap=\"round\" style=\"stroke:green;stroke-width:0.0765625\" /><line x1=\"61.48\" y1=\"121.154\" x2=\"60.933\" y2=\"122.101\" stroke-linecap=\"round\" style=\"stroke:green;stroke-width:0.109375\" /><line x1=\"60.933\" y1=\"122.101\" x2=\"60.167\" y2=\"122.101\" stroke-linecap=\"round\" style=\"stroke:green;stroke-width:0.0765625\" /><line x1=\"60.933\" y1=\"122.101\" x2=\"60.933\" y2=\"122.648\" stroke-linecap=\"round\" style=\"stroke:green;stroke-width:0.0546875\" /><line x1=\"67.749\" y1=\"120.06\" x2=\"67.749\" y2=\"123.185\" stroke-linecap=\"round\" style=\"stroke:green;stroke-width:0.3125\" /><line x1=\"67.749\" y1=\"123.185\" x2=\"65.855\" y2=\"124.279\" stroke-linecap=\"round\" style=\"stroke:green;stroke-width:0.21875\" /><line x1=\"65.855\" y1=\"124.279\" x2=\"64.529\" y2=\"123.513\" stroke-linecap=\"round\" style=\"stroke:green;stroke-width:0.153125\" /><line x1=\"64.529\" y1=\"123.513\" x2=\"64.529\" y2=\"122.441\" stroke-linecap=\"round\" style=\"stroke:green;stroke-width:0.10718749999999999\" /><line x1=\"64.529\" y1=\"123.513\" x2=\"63.763\" y2=\"123.513\" stroke-linecap=\"round\" style=\"stroke:green;stroke-width:0.0765625\" /><line x1=\"65.855\" y1=\"124.279\" x2=\"65.308\" y2=\"125.226\" stroke-linecap=\"round\" style=\"stroke:green;stroke-width:0.109375\" /><line x1=\"65.308\" y1=\"125.226\" x2=\"64.542\" y2=\"125.226\" stroke-linecap=\"round\" style=\"stroke:green;stroke-width:0.0765625\" /><line x1=\"65.308\" y1=\"125.226\" x2=\"65.308\" y2=\"125.773\" stroke-linecap=\"round\" style=\"stroke:green;stroke-width:0.0546875\" /><line x1=\"67.749\" y1=\"123.185\" x2=\"68.53\" y2=\"124.538\" stroke-linecap=\"round\" style=\"stroke:green;stroke-width:0.15625\" /><line x1=\"68.53\" y1=\"124.538\" x2=\"67.983\" y2=\"125.485\" stroke-linecap=\"round\" style=\"stroke:green;stroke-width:0.109375\" /><line x1=\"67.983\" y1=\"125.485\" x2=\"67.217\" y2=\"125.485\" stroke-linecap=\"round\" style=\"stroke:green;stroke-width:0.0765625\" /><line x1=\"67.983\" y1=\"125.485\" x2=\"67.983\" y2=\"126.032\" stroke-linecap=\"round\" style=\"stroke:green;stroke-width:0.0546875\" /><line x1=\"68.53\" y1=\"124.538\" x2=\"69.207\" y2=\"124.929\" stroke-linecap=\"round\" style=\"stroke:green;stroke-width:0.078125\" /><line x1=\"69.207\" y1=\"124.929\" x2=\"69.207\" y2=\"125.476\" stroke-linecap=\"round\" style=\"stroke:green;stroke-width:0.0546875\" /><line x1=\"69.207\" y1=\"124.929\" x2=\"69.598\" y2=\"124.929\" stroke-linecap=\"round\" style=\"stroke:green;stroke-width:0.0390625\" />\n",
              "        \n",
              "        \n",
              "        <g id=\"classic\" visibility=\"visible\" transform=\"rotate(180,200.0,420.0) translate(200.0, 420.0)\">\n",
              "<polygon points=\"-5,-4.5 0,-2.5 5,-4.5 0,4.5\" transform=\"skewX(0) scale(1,1)\" style=\"stroke:green;fill:black;stroke-width:1\" />\n",
              "</g>\n",
              "      </svg>\n",
              "    "
            ]
          },
          "metadata": {}
        }
      ]
    },
    {
      "cell_type": "markdown",
      "source": [
        "DAY 1 EXERCISES\n",
        "##\n",
        "CHAPTER 1\n",
        "page 6"
      ],
      "metadata": {
        "id": "3H_CL7eiQqW1"
      }
    },
    {
      "cell_type": "markdown",
      "source": [
        "What is 4 X(7+9X3)?"
      ],
      "metadata": {
        "id": "wwoJWGq_Q3nj"
      }
    },
    {
      "cell_type": "code",
      "source": [
        "4 * (7 + 9 * 3)"
      ],
      "metadata": {
        "colab": {
          "base_uri": "https://localhost:8080/"
        },
        "id": "mFnyYzd3LTob",
        "outputId": "05cdc095-e277-424d-8242-ab4ebcadc6d9"
      },
      "execution_count": null,
      "outputs": [
        {
          "output_type": "execute_result",
          "data": {
            "text/plain": [
              "136"
            ]
          },
          "metadata": {},
          "execution_count": 92
        }
      ]
    },
    {
      "cell_type": "markdown",
      "source": [
        "What is: 1/2 X(1/4-1/3) / 1/8\n"
      ],
      "metadata": {
        "id": "m3OwiYlVRWhG"
      }
    },
    {
      "cell_type": "code",
      "source": [
        "Fraction(1 , 2) * (Fraction(1 , 4) - Fraction(1 , 3)) / Fraction( 1 , 8)"
      ],
      "metadata": {
        "colab": {
          "base_uri": "https://localhost:8080/"
        },
        "id": "qXS8ToCGRo_S",
        "outputId": "8e00a399-1e7a-4179-f905-b9ecfbe27467"
      },
      "execution_count": null,
      "outputs": [
        {
          "output_type": "execute_result",
          "data": {
            "text/plain": [
              "Fraction(-1, 3)"
            ]
          },
          "metadata": {},
          "execution_count": 93
        }
      ]
    },
    {
      "cell_type": "markdown",
      "source": [
        "Compute the factorial of 52. How does this relate to pack of cards"
      ],
      "metadata": {
        "id": "GASreBY8SFXa"
      }
    },
    {
      "cell_type": "code",
      "source": [
        "from math import factorial"
      ],
      "metadata": {
        "id": "vvnSJV67SoST"
      },
      "execution_count": null,
      "outputs": []
    },
    {
      "cell_type": "code",
      "source": [
        "factorial(52)  #this is the number of permutations for a pack of cards"
      ],
      "metadata": {
        "colab": {
          "base_uri": "https://localhost:8080/"
        },
        "id": "SRL3PyW0SwWu",
        "outputId": "e0623d8c-21e2-4bde-ab08-a9aff598e807"
      },
      "execution_count": null,
      "outputs": [
        {
          "output_type": "execute_result",
          "data": {
            "text/plain": [
              "80658175170943878571660636856403766975289505440883277824000000000000"
            ]
          },
          "metadata": {},
          "execution_count": 95
        }
      ]
    },
    {
      "cell_type": "markdown",
      "source": [
        "What is the lowest common multiple of 6, 7 and 9"
      ],
      "metadata": {
        "id": "t0iRQYbhS_SX"
      }
    },
    {
      "cell_type": "code",
      "source": [
        "from math import lcm"
      ],
      "metadata": {
        "id": "hkYAqIFvTFCQ"
      },
      "execution_count": null,
      "outputs": []
    },
    {
      "cell_type": "code",
      "source": [
        "lcm(6 , 7 , 9)"
      ],
      "metadata": {
        "colab": {
          "base_uri": "https://localhost:8080/"
        },
        "id": "6G0f0ZMETLgD",
        "outputId": "a363c0d6-6dd9-40c1-c03f-8cc1f024644c"
      },
      "execution_count": null,
      "outputs": [
        {
          "output_type": "execute_result",
          "data": {
            "text/plain": [
              "126"
            ]
          },
          "metadata": {},
          "execution_count": 97
        }
      ]
    },
    {
      "cell_type": "markdown",
      "source": [
        "CHAPTER 2\n",
        "Page 15"
      ],
      "metadata": {
        "id": "3oqKGZl2TQv-"
      }
    },
    {
      "cell_type": "markdown",
      "source": [
        "Given the list, A=[[1,2,3,4],[5,6,7,8],[9,10,11,12],[13,14,15,16]],\n",
        "how would you access the third element in the second list?"
      ],
      "metadata": {
        "id": "nw_IsJ47Txgf"
      }
    },
    {
      "cell_type": "code",
      "source": [
        "A =[[1,2,3,4],[5,6,7,8],[9,10,11,12],[13,14,15,16]]\n",
        "A[1][2]"
      ],
      "metadata": {
        "colab": {
          "base_uri": "https://localhost:8080/"
        },
        "id": "U8MqB-40Tkb7",
        "outputId": "c833e26c-7f14-4a23-de92-3851448aa986"
      },
      "execution_count": null,
      "outputs": [
        {
          "output_type": "execute_result",
          "data": {
            "text/plain": [
              "7"
            ]
          },
          "metadata": {},
          "execution_count": 99
        }
      ]
    },
    {
      "cell_type": "markdown",
      "source": [
        "Remove row 3 and colums 1 and 2 from A"
      ],
      "metadata": {
        "id": "Lf8QdhHQUIOs"
      }
    },
    {
      "cell_type": "code",
      "source": [
        "[A[0][2:] , A[1][2:] , A[3][2:]]"
      ],
      "metadata": {
        "colab": {
          "base_uri": "https://localhost:8080/"
        },
        "id": "PUh19yBxUurL",
        "outputId": "3cca9ca6-e98b-4e01-b1f2-e6e7f5a4dce8"
      },
      "execution_count": null,
      "outputs": [
        {
          "output_type": "execute_result",
          "data": {
            "text/plain": [
              "[[3, 4], [7, 8], [15, 16]]"
            ]
          },
          "metadata": {},
          "execution_count": 100
        }
      ]
    },
    {
      "cell_type": "markdown",
      "source": [
        "Define the sigmoid function:\\sigma(x) = \\frac{1}{1 + e^{-x}"
      ],
      "metadata": {
        "id": "Et7quf4JVqCR"
      }
    },
    {
      "cell_type": "code",
      "source": [
        "from math import exp\n",
        "def sigmoid(x):\n",
        "  return 1 / (1)\n"
      ],
      "metadata": {
        "id": "uGFf8zPMXAlR"
      },
      "execution_count": null,
      "outputs": []
    },
    {
      "cell_type": "code",
      "source": [
        "!pip install ColabTurtlePlus\n",
        "from ColabTurtlePlus.Turtle import *"
      ],
      "metadata": {
        "colab": {
          "base_uri": "https://localhost:8080/"
        },
        "id": "MoVCbHQWajyL",
        "outputId": "7e3005d8-9090-43ae-ca2f-afab78fe9615"
      },
      "execution_count": null,
      "outputs": [
        {
          "output_type": "stream",
          "name": "stdout",
          "text": [
            "Requirement already satisfied: ColabTurtlePlus in /usr/local/lib/python3.12/dist-packages (2.0.1)\n",
            "Put clearscreen() as the first line in a cell (after the import command) to re-run turtle commands in the cell\n"
          ]
        }
      ]
    },
    {
      "cell_type": "markdown",
      "source": [
        "Plot a trifurcaing tree"
      ],
      "metadata": {
        "id": "c6E-nLP2XUnz"
      }
    },
    {
      "cell_type": "code",
      "source": [
        "initializeTurtle()\n",
        "speed(13)\n",
        "setheading(90) # Point turtle up.\n",
        "penup() # Lift pen.\n",
        "setpos(-200 , -120) # Start point coordinates.\n",
        "pendown()\n",
        "def FractalTreeColor(length, level):\n",
        "  pensize(length / 10) # Thickness of lines.\n",
        "  if length < 20:\n",
        "    pencolor(\"green\")\n",
        "  else:\n",
        "    pencolor(\"brown\")\n",
        "  if level > 0:\n",
        "    fd(length) # Forward\n",
        "    rt(60) # Right turn 60 degrees\n",
        "    FractalTreeColor(length*0.3, level-1)\n",
        "    lt(90) # Left turn 90 degrees\n",
        "    FractalTreeColor(length*0.5, level-1)\n",
        "    rt(60)\n",
        "    FractalTreeColor(length*0.3, level-1)\n",
        "    lt(30)\n",
        "    penup()\n",
        "    bk(length)\n",
        "    pendown()\n",
        "FractalTreeColor(200 , 5)"
      ],
      "metadata": {
        "colab": {
          "base_uri": "https://localhost:8080/",
          "height": 641
        },
        "id": "IAg-K8jjaUfV",
        "outputId": "f0997b4b-3f0c-4897-9659-9c746ad57235"
      },
      "execution_count": null,
      "outputs": [
        {
          "output_type": "display_data",
          "data": {
            "text/plain": [
              "<IPython.core.display.HTML object>"
            ],
            "text/html": [
              "\n",
              "      <svg width=\"800\" height=\"600\">  \n",
              "        <rect width=\"100%\" height=\"100%\" style=\"fill:white;stroke:;stroke-width:1\"/>\n",
              "        \n",
              "        \n",
              "        <line x1=\"200.0\" y1=\"420.0\" x2=\"200.0\" y2=\"220.0\" stroke-linecap=\"round\" style=\"stroke:brown;stroke-width:20.0\" /><line x1=\"200.0\" y1=\"220.0\" x2=\"251.962\" y2=\"190.0\" stroke-linecap=\"round\" style=\"stroke:brown;stroke-width:6.0\" /><line x1=\"251.962\" y1=\"190.0\" x2=\"267.55\" y2=\"199.0\" stroke-linecap=\"round\" style=\"stroke:green;stroke-width:1.8\" /><line x1=\"267.55\" y1=\"199.0\" x2=\"267.55\" y2=\"204.4\" stroke-linecap=\"round\" style=\"stroke:green;stroke-width:0.5399999999999999\" /><line x1=\"267.55\" y1=\"204.4\" x2=\"266.147\" y2=\"205.21\" stroke-linecap=\"round\" style=\"stroke:green;stroke-width:0.16199999999999998\" /><line x1=\"267.55\" y1=\"204.4\" x2=\"268.9\" y2=\"206.738\" stroke-linecap=\"round\" style=\"stroke:green;stroke-width:0.26999999999999996\" /><line x1=\"267.55\" y1=\"204.4\" x2=\"266.74\" y2=\"205.803\" stroke-linecap=\"round\" style=\"stroke:green;stroke-width:0.16199999999999998\" /><line x1=\"267.55\" y1=\"199.0\" x2=\"276.55\" y2=\"199.0\" stroke-linecap=\"round\" style=\"stroke:green;stroke-width:0.9\" /><line x1=\"276.55\" y1=\"199.0\" x2=\"277.9\" y2=\"201.338\" stroke-linecap=\"round\" style=\"stroke:green;stroke-width:0.26999999999999996\" /><line x1=\"276.55\" y1=\"199.0\" x2=\"280.447\" y2=\"196.75\" stroke-linecap=\"round\" style=\"stroke:green;stroke-width:0.45\" /><line x1=\"276.55\" y1=\"199.0\" x2=\"278.888\" y2=\"200.35\" stroke-linecap=\"round\" style=\"stroke:green;stroke-width:0.26999999999999996\" /><line x1=\"267.55\" y1=\"199.0\" x2=\"270.25\" y2=\"203.677\" stroke-linecap=\"round\" style=\"stroke:green;stroke-width:0.5399999999999999\" /><line x1=\"270.25\" y1=\"203.677\" x2=\"269.44\" y2=\"205.08\" stroke-linecap=\"round\" style=\"stroke:green;stroke-width:0.16199999999999998\" /><line x1=\"270.25\" y1=\"203.677\" x2=\"272.588\" y2=\"205.027\" stroke-linecap=\"round\" style=\"stroke:green;stroke-width:0.26999999999999996\" /><line x1=\"270.25\" y1=\"203.677\" x2=\"270.25\" y2=\"205.297\" stroke-linecap=\"round\" style=\"stroke:green;stroke-width:0.16199999999999998\" /><line x1=\"251.962\" y1=\"190.0\" x2=\"266.962\" y2=\"164.019\" stroke-linecap=\"round\" style=\"stroke:brown;stroke-width:3.0\" /><line x1=\"266.962\" y1=\"164.019\" x2=\"275.962\" y2=\"164.019\" stroke-linecap=\"round\" style=\"stroke:green;stroke-width:0.9\" /><line x1=\"275.962\" y1=\"164.019\" x2=\"277.312\" y2=\"166.357\" stroke-linecap=\"round\" style=\"stroke:green;stroke-width:0.26999999999999996\" /><line x1=\"275.962\" y1=\"164.019\" x2=\"279.859\" y2=\"161.769\" stroke-linecap=\"round\" style=\"stroke:green;stroke-width:0.45\" /><line x1=\"275.962\" y1=\"164.019\" x2=\"278.3\" y2=\"165.369\" stroke-linecap=\"round\" style=\"stroke:green;stroke-width:0.26999999999999996\" /><line x1=\"266.962\" y1=\"164.019\" x2=\"266.962\" y2=\"149.019\" stroke-linecap=\"round\" style=\"stroke:green;stroke-width:1.5\" /><line x1=\"266.962\" y1=\"149.019\" x2=\"270.859\" y2=\"146.769\" stroke-linecap=\"round\" style=\"stroke:green;stroke-width:0.45\" /><line x1=\"266.962\" y1=\"149.019\" x2=\"263.212\" y2=\"142.524\" stroke-linecap=\"round\" style=\"stroke:green;stroke-width:0.75\" /><line x1=\"266.962\" y1=\"149.019\" x2=\"269.212\" y2=\"145.122\" stroke-linecap=\"round\" style=\"stroke:green;stroke-width:0.45\" /><line x1=\"266.962\" y1=\"164.019\" x2=\"274.756\" y2=\"159.519\" stroke-linecap=\"round\" style=\"stroke:green;stroke-width:0.9\" /><line x1=\"274.756\" y1=\"159.519\" x2=\"277.094\" y2=\"160.869\" stroke-linecap=\"round\" style=\"stroke:green;stroke-width:0.26999999999999996\" /><line x1=\"274.756\" y1=\"159.519\" x2=\"277.006\" y2=\"155.622\" stroke-linecap=\"round\" style=\"stroke:green;stroke-width:0.45\" /><line x1=\"274.756\" y1=\"159.519\" x2=\"277.456\" y2=\"159.519\" stroke-linecap=\"round\" style=\"stroke:green;stroke-width:0.26999999999999996\" /><line x1=\"251.962\" y1=\"190.0\" x2=\"269.962\" y2=\"190.0\" stroke-linecap=\"round\" style=\"stroke:green;stroke-width:1.8\" /><line x1=\"269.962\" y1=\"190.0\" x2=\"272.662\" y2=\"194.677\" stroke-linecap=\"round\" style=\"stroke:green;stroke-width:0.5399999999999999\" /><line x1=\"272.662\" y1=\"194.677\" x2=\"271.852\" y2=\"196.08\" stroke-linecap=\"round\" style=\"stroke:green;stroke-width:0.16199999999999998\" /><line x1=\"272.662\" y1=\"194.677\" x2=\"275.0\" y2=\"196.027\" stroke-linecap=\"round\" style=\"stroke:green;stroke-width:0.26999999999999996\" /><line x1=\"272.662\" y1=\"194.677\" x2=\"272.662\" y2=\"196.297\" stroke-linecap=\"round\" style=\"stroke:green;stroke-width:0.16199999999999998\" /><line x1=\"269.962\" y1=\"190.0\" x2=\"277.756\" y2=\"185.5\" stroke-linecap=\"round\" style=\"stroke:green;stroke-width:0.9\" /><line x1=\"277.756\" y1=\"185.5\" x2=\"280.094\" y2=\"186.85\" stroke-linecap=\"round\" style=\"stroke:green;stroke-width:0.26999999999999996\" /><line x1=\"277.756\" y1=\"185.5\" x2=\"280.006\" y2=\"181.603\" stroke-linecap=\"round\" style=\"stroke:green;stroke-width:0.45\" /><line x1=\"277.756\" y1=\"185.5\" x2=\"280.456\" y2=\"185.5\" stroke-linecap=\"round\" style=\"stroke:green;stroke-width:0.26999999999999996\" /><line x1=\"269.962\" y1=\"190.0\" x2=\"274.639\" y2=\"192.7\" stroke-linecap=\"round\" style=\"stroke:green;stroke-width:0.5399999999999999\" /><line x1=\"274.639\" y1=\"192.7\" x2=\"274.639\" y2=\"194.32\" stroke-linecap=\"round\" style=\"stroke:green;stroke-width:0.16199999999999998\" /><line x1=\"274.639\" y1=\"192.7\" x2=\"277.339\" y2=\"192.7\" stroke-linecap=\"round\" style=\"stroke:green;stroke-width:0.26999999999999996\" /><line x1=\"274.639\" y1=\"192.7\" x2=\"275.449\" y2=\"194.103\" stroke-linecap=\"round\" style=\"stroke:green;stroke-width:0.16199999999999998\" /><line x1=\"200.0\" y1=\"220.0\" x2=\"150.0\" y2=\"133.397\" stroke-linecap=\"round\" style=\"stroke:brown;stroke-width:10.0\" /><line x1=\"150.0\" y1=\"133.397\" x2=\"165.0\" y2=\"107.416\" stroke-linecap=\"round\" style=\"stroke:brown;stroke-width:3.0\" /><line x1=\"165.0\" y1=\"107.416\" x2=\"174.0\" y2=\"107.416\" stroke-linecap=\"round\" style=\"stroke:green;stroke-width:0.9\" /><line x1=\"174.0\" y1=\"107.416\" x2=\"175.35\" y2=\"109.754\" stroke-linecap=\"round\" style=\"stroke:green;stroke-width:0.26999999999999996\" /><line x1=\"174.0\" y1=\"107.416\" x2=\"177.897\" y2=\"105.166\" stroke-linecap=\"round\" style=\"stroke:green;stroke-width:0.45\" /><line x1=\"174.0\" y1=\"107.416\" x2=\"176.338\" y2=\"108.766\" stroke-linecap=\"round\" style=\"stroke:green;stroke-width:0.26999999999999996\" /><line x1=\"165.0\" y1=\"107.416\" x2=\"165.0\" y2=\"92.416\" stroke-linecap=\"round\" style=\"stroke:green;stroke-width:1.5\" /><line x1=\"165.0\" y1=\"92.416\" x2=\"168.897\" y2=\"90.166\" stroke-linecap=\"round\" style=\"stroke:green;stroke-width:0.45\" /><line x1=\"165.0\" y1=\"92.416\" x2=\"161.25\" y2=\"85.921\" stroke-linecap=\"round\" style=\"stroke:green;stroke-width:0.75\" /><line x1=\"165.0\" y1=\"92.416\" x2=\"167.25\" y2=\"88.519\" stroke-linecap=\"round\" style=\"stroke:green;stroke-width:0.45\" /><line x1=\"165.0\" y1=\"107.416\" x2=\"172.794\" y2=\"102.916\" stroke-linecap=\"round\" style=\"stroke:green;stroke-width:0.9\" /><line x1=\"172.794\" y1=\"102.916\" x2=\"175.132\" y2=\"104.266\" stroke-linecap=\"round\" style=\"stroke:green;stroke-width:0.26999999999999996\" /><line x1=\"172.794\" y1=\"102.916\" x2=\"175.044\" y2=\"99.019\" stroke-linecap=\"round\" style=\"stroke:green;stroke-width:0.45\" /><line x1=\"172.794\" y1=\"102.916\" x2=\"175.494\" y2=\"102.916\" stroke-linecap=\"round\" style=\"stroke:green;stroke-width:0.26999999999999996\" /><line x1=\"150.0\" y1=\"133.397\" x2=\"106.699\" y2=\"108.397\" stroke-linecap=\"round\" style=\"stroke:brown;stroke-width:5.0\" /><line x1=\"106.699\" y1=\"108.397\" x2=\"106.699\" y2=\"93.397\" stroke-linecap=\"round\" style=\"stroke:green;stroke-width:1.5\" /><line x1=\"106.699\" y1=\"93.397\" x2=\"110.596\" y2=\"91.147\" stroke-linecap=\"round\" style=\"stroke:green;stroke-width:0.45\" /><line x1=\"106.699\" y1=\"93.397\" x2=\"102.949\" y2=\"86.902\" stroke-linecap=\"round\" style=\"stroke:green;stroke-width:0.75\" /><line x1=\"106.699\" y1=\"93.397\" x2=\"108.949\" y2=\"89.5\" stroke-linecap=\"round\" style=\"stroke:green;stroke-width:0.45\" /><line x1=\"106.699\" y1=\"108.397\" x2=\"81.699\" y2=\"108.397\" stroke-linecap=\"round\" style=\"stroke:brown;stroke-width:2.5\" /><line x1=\"81.699\" y1=\"108.397\" x2=\"77.949\" y2=\"101.902\" stroke-linecap=\"round\" style=\"stroke:green;stroke-width:0.75\" /><line x1=\"81.699\" y1=\"108.397\" x2=\"70.874\" y2=\"114.647\" stroke-linecap=\"round\" style=\"stroke:green;stroke-width:1.25\" /><line x1=\"81.699\" y1=\"108.397\" x2=\"75.204\" y2=\"104.647\" stroke-linecap=\"round\" style=\"stroke:green;stroke-width:0.75\" /><line x1=\"106.699\" y1=\"108.397\" x2=\"99.199\" y2=\"95.407\" stroke-linecap=\"round\" style=\"stroke:green;stroke-width:1.5\" /><line x1=\"99.199\" y1=\"95.407\" x2=\"101.449\" y2=\"91.51\" stroke-linecap=\"round\" style=\"stroke:green;stroke-width:0.45\" /><line x1=\"99.199\" y1=\"95.407\" x2=\"92.704\" y2=\"91.657\" stroke-linecap=\"round\" style=\"stroke:green;stroke-width:0.75\" /><line x1=\"99.199\" y1=\"95.407\" x2=\"99.199\" y2=\"90.907\" stroke-linecap=\"round\" style=\"stroke:green;stroke-width:0.45\" /><line x1=\"150.0\" y1=\"133.397\" x2=\"150.0\" y2=\"103.397\" stroke-linecap=\"round\" style=\"stroke:brown;stroke-width:3.0\" /><line x1=\"150.0\" y1=\"103.397\" x2=\"157.794\" y2=\"98.897\" stroke-linecap=\"round\" style=\"stroke:green;stroke-width:0.9\" /><line x1=\"157.794\" y1=\"98.897\" x2=\"160.132\" y2=\"100.247\" stroke-linecap=\"round\" style=\"stroke:green;stroke-width:0.26999999999999996\" /><line x1=\"157.794\" y1=\"98.897\" x2=\"160.044\" y2=\"95.0\" stroke-linecap=\"round\" style=\"stroke:green;stroke-width:0.45\" /><line x1=\"157.794\" y1=\"98.897\" x2=\"160.494\" y2=\"98.897\" stroke-linecap=\"round\" style=\"stroke:green;stroke-width:0.26999999999999996\" /><line x1=\"150.0\" y1=\"103.397\" x2=\"142.5\" y2=\"90.407\" stroke-linecap=\"round\" style=\"stroke:green;stroke-width:1.5\" /><line x1=\"142.5\" y1=\"90.407\" x2=\"144.75\" y2=\"86.51\" stroke-linecap=\"round\" style=\"stroke:green;stroke-width:0.45\" /><line x1=\"142.5\" y1=\"90.407\" x2=\"136.005\" y2=\"86.657\" stroke-linecap=\"round\" style=\"stroke:green;stroke-width:0.75\" /><line x1=\"142.5\" y1=\"90.407\" x2=\"142.5\" y2=\"85.907\" stroke-linecap=\"round\" style=\"stroke:green;stroke-width:0.45\" /><line x1=\"150.0\" y1=\"103.397\" x2=\"154.5\" y2=\"95.603\" stroke-linecap=\"round\" style=\"stroke:green;stroke-width:0.9\" /><line x1=\"154.5\" y1=\"95.603\" x2=\"157.2\" y2=\"95.603\" stroke-linecap=\"round\" style=\"stroke:green;stroke-width:0.26999999999999996\" /><line x1=\"154.5\" y1=\"95.603\" x2=\"154.5\" y2=\"91.103\" stroke-linecap=\"round\" style=\"stroke:green;stroke-width:0.45\" /><line x1=\"154.5\" y1=\"95.603\" x2=\"156.838\" y2=\"94.253\" stroke-linecap=\"round\" style=\"stroke:green;stroke-width:0.26999999999999996\" /><line x1=\"200.0\" y1=\"220.0\" x2=\"230.0\" y2=\"168.038\" stroke-linecap=\"round\" style=\"stroke:brown;stroke-width:6.0\" /><line x1=\"230.0\" y1=\"168.038\" x2=\"248.0\" y2=\"168.038\" stroke-linecap=\"round\" style=\"stroke:green;stroke-width:1.8\" /><line x1=\"248.0\" y1=\"168.038\" x2=\"250.7\" y2=\"172.715\" stroke-linecap=\"round\" style=\"stroke:green;stroke-width:0.5399999999999999\" /><line x1=\"250.7\" y1=\"172.715\" x2=\"249.89\" y2=\"174.118\" stroke-linecap=\"round\" style=\"stroke:green;stroke-width:0.16199999999999998\" /><line x1=\"250.7\" y1=\"172.715\" x2=\"253.038\" y2=\"174.065\" stroke-linecap=\"round\" style=\"stroke:green;stroke-width:0.26999999999999996\" /><line x1=\"250.7\" y1=\"172.715\" x2=\"250.7\" y2=\"174.335\" stroke-linecap=\"round\" style=\"stroke:green;stroke-width:0.16199999999999998\" /><line x1=\"248.0\" y1=\"168.038\" x2=\"255.794\" y2=\"163.538\" stroke-linecap=\"round\" style=\"stroke:green;stroke-width:0.9\" /><line x1=\"255.794\" y1=\"163.538\" x2=\"258.132\" y2=\"164.888\" stroke-linecap=\"round\" style=\"stroke:green;stroke-width:0.26999999999999996\" /><line x1=\"255.794\" y1=\"163.538\" x2=\"258.044\" y2=\"159.641\" stroke-linecap=\"round\" style=\"stroke:green;stroke-width:0.45\" /><line x1=\"255.794\" y1=\"163.538\" x2=\"258.494\" y2=\"163.538\" stroke-linecap=\"round\" style=\"stroke:green;stroke-width:0.26999999999999996\" /><line x1=\"248.0\" y1=\"168.038\" x2=\"252.677\" y2=\"170.738\" stroke-linecap=\"round\" style=\"stroke:green;stroke-width:0.5399999999999999\" /><line x1=\"252.677\" y1=\"170.738\" x2=\"252.677\" y2=\"172.358\" stroke-linecap=\"round\" style=\"stroke:green;stroke-width:0.16199999999999998\" /><line x1=\"252.677\" y1=\"170.738\" x2=\"255.377\" y2=\"170.738\" stroke-linecap=\"round\" style=\"stroke:green;stroke-width:0.26999999999999996\" /><line x1=\"252.677\" y1=\"170.738\" x2=\"253.487\" y2=\"172.141\" stroke-linecap=\"round\" style=\"stroke:green;stroke-width:0.16199999999999998\" /><line x1=\"230.0\" y1=\"168.038\" x2=\"230.0\" y2=\"138.038\" stroke-linecap=\"round\" style=\"stroke:brown;stroke-width:3.0\" /><line x1=\"230.0\" y1=\"138.038\" x2=\"237.794\" y2=\"133.538\" stroke-linecap=\"round\" style=\"stroke:green;stroke-width:0.9\" /><line x1=\"237.794\" y1=\"133.538\" x2=\"240.132\" y2=\"134.888\" stroke-linecap=\"round\" style=\"stroke:green;stroke-width:0.26999999999999996\" /><line x1=\"237.794\" y1=\"133.538\" x2=\"240.044\" y2=\"129.641\" stroke-linecap=\"round\" style=\"stroke:green;stroke-width:0.45\" /><line x1=\"237.794\" y1=\"133.538\" x2=\"240.494\" y2=\"133.538\" stroke-linecap=\"round\" style=\"stroke:green;stroke-width:0.26999999999999996\" /><line x1=\"230.0\" y1=\"138.038\" x2=\"222.5\" y2=\"125.048\" stroke-linecap=\"round\" style=\"stroke:green;stroke-width:1.5\" /><line x1=\"222.5\" y1=\"125.048\" x2=\"224.75\" y2=\"121.151\" stroke-linecap=\"round\" style=\"stroke:green;stroke-width:0.45\" /><line x1=\"222.5\" y1=\"125.048\" x2=\"216.005\" y2=\"121.298\" stroke-linecap=\"round\" style=\"stroke:green;stroke-width:0.75\" /><line x1=\"222.5\" y1=\"125.048\" x2=\"222.5\" y2=\"120.548\" stroke-linecap=\"round\" style=\"stroke:green;stroke-width:0.45\" /><line x1=\"230.0\" y1=\"138.038\" x2=\"234.5\" y2=\"130.244\" stroke-linecap=\"round\" style=\"stroke:green;stroke-width:0.9\" /><line x1=\"234.5\" y1=\"130.244\" x2=\"237.2\" y2=\"130.244\" stroke-linecap=\"round\" style=\"stroke:green;stroke-width:0.26999999999999996\" /><line x1=\"234.5\" y1=\"130.244\" x2=\"234.5\" y2=\"125.744\" stroke-linecap=\"round\" style=\"stroke:green;stroke-width:0.45\" /><line x1=\"234.5\" y1=\"130.244\" x2=\"236.838\" y2=\"128.894\" stroke-linecap=\"round\" style=\"stroke:green;stroke-width:0.26999999999999996\" /><line x1=\"230.0\" y1=\"168.038\" x2=\"245.588\" y2=\"159.038\" stroke-linecap=\"round\" style=\"stroke:green;stroke-width:1.8\" /><line x1=\"245.588\" y1=\"159.038\" x2=\"250.265\" y2=\"161.738\" stroke-linecap=\"round\" style=\"stroke:green;stroke-width:0.5399999999999999\" /><line x1=\"250.265\" y1=\"161.738\" x2=\"250.265\" y2=\"163.358\" stroke-linecap=\"round\" style=\"stroke:green;stroke-width:0.16199999999999998\" /><line x1=\"250.265\" y1=\"161.738\" x2=\"252.965\" y2=\"161.738\" stroke-linecap=\"round\" style=\"stroke:green;stroke-width:0.26999999999999996\" /><line x1=\"250.265\" y1=\"161.738\" x2=\"251.075\" y2=\"163.141\" stroke-linecap=\"round\" style=\"stroke:green;stroke-width:0.16199999999999998\" /><line x1=\"245.588\" y1=\"159.038\" x2=\"250.088\" y2=\"151.244\" stroke-linecap=\"round\" style=\"stroke:green;stroke-width:0.9\" /><line x1=\"250.088\" y1=\"151.244\" x2=\"252.788\" y2=\"151.244\" stroke-linecap=\"round\" style=\"stroke:green;stroke-width:0.26999999999999996\" /><line x1=\"250.088\" y1=\"151.244\" x2=\"250.088\" y2=\"146.744\" stroke-linecap=\"round\" style=\"stroke:green;stroke-width:0.45\" /><line x1=\"250.088\" y1=\"151.244\" x2=\"252.426\" y2=\"149.894\" stroke-linecap=\"round\" style=\"stroke:green;stroke-width:0.26999999999999996\" /><line x1=\"245.588\" y1=\"159.038\" x2=\"250.988\" y2=\"159.038\" stroke-linecap=\"round\" style=\"stroke:green;stroke-width:0.5399999999999999\" /><line x1=\"250.988\" y1=\"159.038\" x2=\"251.798\" y2=\"160.441\" stroke-linecap=\"round\" style=\"stroke:green;stroke-width:0.16199999999999998\" /><line x1=\"250.988\" y1=\"159.038\" x2=\"253.326\" y2=\"157.688\" stroke-linecap=\"round\" style=\"stroke:green;stroke-width:0.26999999999999996\" /><line x1=\"250.988\" y1=\"159.038\" x2=\"252.391\" y2=\"159.848\" stroke-linecap=\"round\" style=\"stroke:green;stroke-width:0.16199999999999998\" />\n",
              "        \n",
              "        \n",
              "        <g id=\"classic\" visibility=\"visible\" transform=\"rotate(180,200.0,420.0) translate(200.0, 420.0)\">\n",
              "<polygon points=\"-5,-4.5 0,-2.5 5,-4.5 0,4.5\" transform=\"skewX(0) scale(1,1)\" style=\"stroke:green;fill:black;stroke-width:1\" />\n",
              "</g>\n",
              "      </svg>\n",
              "    "
            ]
          },
          "metadata": {}
        }
      ]
    },
    {
      "cell_type": "markdown",
      "source": [
        "DAY 2\n",
        "####\n",
        "NUMPY"
      ],
      "metadata": {
        "id": "N0HfXd59xEnH"
      }
    },
    {
      "cell_type": "code",
      "source": [
        "import numpy as np     # use the alias np for numpy"
      ],
      "metadata": {
        "id": "My-RWOTUxNsj"
      },
      "execution_count": null,
      "outputs": []
    },
    {
      "cell_type": "code",
      "source": [
        "A = np.arange(5)   # an array ,arange means a range\n",
        "print(A)"
      ],
      "metadata": {
        "colab": {
          "base_uri": "https://localhost:8080/"
        },
        "id": "LKHpJgdFxb4w",
        "outputId": "a88945ad-8505-4b4e-b6d2-57aa12f3bdb1"
      },
      "execution_count": null,
      "outputs": [
        {
          "output_type": "stream",
          "name": "stdout",
          "text": [
            "[0 1 2 3 4]\n"
          ]
        }
      ]
    },
    {
      "cell_type": "code",
      "source": [
        "A.tolist()  #converts an array to list"
      ],
      "metadata": {
        "colab": {
          "base_uri": "https://localhost:8080/"
        },
        "id": "R2DdzgkExoQS",
        "outputId": "939b4265-7181-4d6c-9b52-c7cf705d9bda"
      },
      "execution_count": null,
      "outputs": [
        {
          "output_type": "execute_result",
          "data": {
            "text/plain": [
              "[0, 1, 2, 3, 4]"
            ]
          },
          "metadata": {},
          "execution_count": 3
        }
      ]
    },
    {
      "cell_type": "code",
      "source": [
        "B , C = np.array([[1,1],[0,1]]) , np.array([[2,0],[3,4]])"
      ],
      "metadata": {
        "id": "3dcXijsnyMPJ"
      },
      "execution_count": null,
      "outputs": []
    },
    {
      "cell_type": "code",
      "source": [
        " B * C    # Elementwise multiplication."
      ],
      "metadata": {
        "colab": {
          "base_uri": "https://localhost:8080/"
        },
        "id": "r239FOG_yrL_",
        "outputId": "ab4ab7d3-aa5a-4c37-f077-c1ef43733db1"
      },
      "execution_count": null,
      "outputs": [
        {
          "output_type": "execute_result",
          "data": {
            "text/plain": [
              "array([[2, 0],\n",
              "       [0, 4]])"
            ]
          },
          "metadata": {},
          "execution_count": 8
        }
      ]
    },
    {
      "cell_type": "code",
      "source": [
        " np.dot(B,C)    #Matrix multiplication."
      ],
      "metadata": {
        "colab": {
          "base_uri": "https://localhost:8080/"
        },
        "id": "HbO1-C1vzD_z",
        "outputId": "720f5212-d19a-41fd-b6fc-0a26b81b30b9"
      },
      "execution_count": null,
      "outputs": [
        {
          "output_type": "execute_result",
          "data": {
            "text/plain": [
              "array([[5, 4],\n",
              "       [3, 4]])"
            ]
          },
          "metadata": {},
          "execution_count": 9
        }
      ]
    },
    {
      "cell_type": "code",
      "source": [
        " D = np.arange(9).reshape(3,3)         # A3x3 array and rank two tensor. Tensors are extremely useful in AI dev\n",
        " D"
      ],
      "metadata": {
        "colab": {
          "base_uri": "https://localhost:8080/"
        },
        "id": "0IUM1TkRzK0b",
        "outputId": "d95aa165-691e-4171-f769-11d2c851f51c"
      },
      "execution_count": null,
      "outputs": [
        {
          "output_type": "execute_result",
          "data": {
            "text/plain": [
              "array([[0, 1, 2],\n",
              "       [3, 4, 5],\n",
              "       [6, 7, 8]])"
            ]
          },
          "metadata": {},
          "execution_count": 12
        }
      ]
    },
    {
      "cell_type": "code",
      "source": [],
      "metadata": {
        "id": "KsjhSm8wzfnh"
      },
      "execution_count": null,
      "outputs": []
    },
    {
      "cell_type": "markdown",
      "source": [
        "### Vectorised Computation"
      ],
      "metadata": {
        "id": "extkP0XM1Luw"
      }
    },
    {
      "cell_type": "code",
      "source": [
        "sum = 0\n",
        "a= [i for i in range(101)]\n",
        "for j in range(101):\n",
        "    sum += a[j]\n",
        "print(sum)"
      ],
      "metadata": {
        "colab": {
          "base_uri": "https://localhost:8080/"
        },
        "id": "E8WAmm2p1Q45",
        "outputId": "c6842f2b-cebb-490f-efff-a66f6672786f"
      },
      "execution_count": null,
      "outputs": [
        {
          "output_type": "stream",
          "name": "stdout",
          "text": [
            "5050\n"
          ]
        }
      ]
    },
    {
      "cell_type": "code",
      "source": [
        " a = np.arange(101)\n",
        " print(\"The sum is\" , np.sum(a))"
      ],
      "metadata": {
        "colab": {
          "base_uri": "https://localhost:8080/"
        },
        "id": "q0yMi3E41xrq",
        "outputId": "ef127f7e-b852-41a2-8f5b-dd190eb8d9b6"
      },
      "execution_count": null,
      "outputs": [
        {
          "output_type": "stream",
          "name": "stdout",
          "text": [
            "The sum is 5050\n"
          ]
        }
      ]
    },
    {
      "cell_type": "markdown",
      "source": [
        "### MATPLOTLIB"
      ],
      "metadata": {
        "id": "JHQuMUCH15Xy"
      }
    },
    {
      "cell_type": "code",
      "source": [
        "import numpy as np\n",
        "import matplotlib.pyplot as plt\n",
        "x=np.linspace(-2,2,100)   #Definethedomainvalues.\n",
        "y=x**2                     #A vector of y-values.\n",
        "plt.plot(x,y)\n",
        "plt.xlabel(\"x\")\n",
        "plt.ylabel(\"y\")\n",
        "plt.title(\"$y=x^2$\")\n",
        "plt.savefig(\"Parabola.png\",dpi=300)\n",
        "plt.show()\n"
      ],
      "metadata": {
        "colab": {
          "base_uri": "https://localhost:8080/",
          "height": 476
        },
        "id": "ItVsr3Ud19kh",
        "outputId": "a1efd429-c6ac-486c-8c0f-1baec579bc07"
      },
      "execution_count": null,
      "outputs": [
        {
          "output_type": "display_data",
          "data": {
            "text/plain": [
              "<Figure size 640x480 with 1 Axes>"
            ],
            "image/png": "[encoded data removed]"
          },
          "metadata": {}
        }
      ]
    },
    {
      "cell_type": "code",
      "source": [
        "# Change font size\n",
        "import numpy as np\n",
        "import matplotlib.pyplot as plt\n",
        "x=np.linspace(-2,2,100)   #Definethedomainvalues.\n",
        "y=x**2                     #A vector of y-values.\n",
        "plt.rcParams\n",
        "plt.plot(x,y)\n",
        "plt.xlabel(\"x\")\n",
        "plt.ylabel(\"y\")\n",
        "plt.title(\"$y=x^2$\")\n",
        "plt.savefig(\"Parabola.png\",dpi=300)\n",
        "plt.show()"
      ],
      "metadata": {
        "id": "BAId32kA3HJa"
      },
      "execution_count": null,
      "outputs": []
    },
    {
      "cell_type": "code",
      "source": [
        "# Scatter plot\n",
        "import numpy as np\n",
        "import matplotlib.pyplot as plt\n",
        "np.random.seed(100)    #Generate random numbers based on a seed\n",
        "N = 50\n",
        "x,y=np.random.rand(N), np.random.rand(N)\n",
        "colors=np.random.rand(N)\n",
        "area=(30*np.random.rand(N))**2 #Changeradii.\n",
        "plt.scatter(x,y,s=area,c=colors,alpha=0.5)\n",
        "plt.xlabel(\"x\"),plt.ylabel(\"y\")\n",
        "plt.show()"
      ],
      "metadata": {
        "colab": {
          "base_uri": "https://localhost:8080/",
          "height": 449
        },
        "id": "KAFZQO_D3gj4",
        "outputId": "c1d3c5ba-47e0-4190-bd3e-03266b42f2af"
      },
      "execution_count": null,
      "outputs": [
        {
          "output_type": "display_data",
          "data": {
            "text/plain": [
              "<Figure size 640x480 with 1 Axes>"
            ],
            "image/png": "[encoded data removed]"
          },
          "metadata": {}
        }
      ]
    },
    {
      "cell_type": "markdown",
      "source": [
        "**bold text**\n",
        "###SYMBOLIC PYTHON"
      ],
      "metadata": {
        "id": "QMZidjNn_2MK"
      }
    },
    {
      "cell_type": "code",
      "source": [
        " # 1. Factorization.\n",
        "from sympy import *\n",
        "x , y = symbols(\"x y\")\n",
        "factor(x**2 - y**2)"
      ],
      "metadata": {
        "colab": {
          "base_uri": "https://localhost:8080/",
          "height": 38
        },
        "id": "ch3Woahh4SWd",
        "outputId": "048d4f4e-3b7b-4085-9b7e-13da95d43882"
      },
      "execution_count": null,
      "outputs": [
        {
          "output_type": "execute_result",
          "data": {
            "text/plain": [
              "(x - y)*(x + y)"
            ],
            "text/latex": "$\\displaystyle \\left(x - y\\right) \\left(x + y\\right)$"
          },
          "metadata": {},
          "execution_count": 23
        }
      ]
    },
    {
      "cell_type": "code",
      "source": [
        " # 2. Solve a quadratic equation symbolically.\n",
        "solve(x**2 - 4 * x -3 , x)"
      ],
      "metadata": {
        "colab": {
          "base_uri": "https://localhost:8080/"
        },
        "id": "mfpp435wAKQi",
        "outputId": "62d787e5-e46b-48b7-efc2-14988946b2ce"
      },
      "execution_count": null,
      "outputs": [
        {
          "output_type": "execute_result",
          "data": {
            "text/plain": [
              "[2 - sqrt(7), 2 + sqrt(7)]"
            ]
          },
          "metadata": {},
          "execution_count": 25
        }
      ]
    },
    {
      "cell_type": "code",
      "source": [
        "# 3. Solve simultaneous equations\n",
        "solve([x- y, x + 2 * y- 5])"
      ],
      "metadata": {
        "colab": {
          "base_uri": "https://localhost:8080/"
        },
        "id": "IpiYoGPqA0rN",
        "outputId": "ca3d0945-a20e-46c4-c068-8d8e6877d8ec"
      },
      "execution_count": null,
      "outputs": [
        {
          "output_type": "execute_result",
          "data": {
            "text/plain": [
              "{x: 5/3, y: 5/3}"
            ]
          },
          "metadata": {},
          "execution_count": 27
        }
      ]
    },
    {
      "cell_type": "code",
      "source": [
        " # 5. Limits, the limit as x goes to 0.\n",
        "limit(x / sin(x) , x , 0)\n",
        "\n"
      ],
      "metadata": {
        "colab": {
          "base_uri": "https://localhost:8080/",
          "height": 37
        },
        "id": "yRN4qCnwB32K",
        "outputId": "2da63f29-8e5c-4b3c-d186-da638f87194e"
      },
      "execution_count": null,
      "outputs": [
        {
          "output_type": "execute_result",
          "data": {
            "text/plain": [
              "1"
            ],
            "text/latex": "$\\displaystyle 1$"
          },
          "metadata": {},
          "execution_count": 28
        }
      ]
    },
    {
      "cell_type": "markdown",
      "source": [
        "DAY 3\n",
        "\n",
        "\n",
        "## Introduction to *Cryptography*"
      ],
      "metadata": {
        "id": "tzoI5A_16Rdr"
      }
    },
    {
      "cell_type": "code",
      "source": [
        "shift = 3\n",
        "def encrypt(text , shift):\n",
        "  result = \"\"\n",
        "  for i in range(len(text)):\n",
        "    char = text[i]\n",
        "    if (char.isupper()):\n",
        "      result += chr((ord(char) + shift - 65) % 26 + 65)\n",
        "    else:\n",
        "      result += chr((ord(char) + shift- 97) % 26 + 97)\n",
        "  return result\n",
        "text = \"Caeser Cipher Code\"\n",
        "print(\"Text : \" + text)\n",
        "print(\"Shift : \" + str(shift))\n",
        "print(\"Cipher : \" + encrypt(text , shift))\n"
      ],
      "metadata": {
        "colab": {
          "base_uri": "https://localhost:8080/"
        },
        "id": "bYBfUT7V6EVb",
        "outputId": "ba7ebebf-c901-4df9-d236-87123f44e603"
      },
      "execution_count": null,
      "outputs": [
        {
          "output_type": "stream",
          "name": "stdout",
          "text": [
            "Text : Caeser Cipher Code\n",
            "Shift : 3\n",
            "Cipher : FdhvhuqFlskhuqFrgh\n"
          ]
        }
      ]
    },
    {
      "cell_type": "markdown",
      "source": [
        "XOR Cipher"
      ],
      "metadata": {
        "id": "H1F18ZvA9hmj"
      }
    },
    {
      "cell_type": "code",
      "source": [
        "def EncryptDecrypt(text):\n",
        "  XORKey = \"A\"\n",
        "  length = len(text)\n",
        "  for i in range(length):\n",
        "    text = (text[:i] + chr(ord(text[i]) ^ ord(XORKey)) \\\n",
        " + text[i + 1:])\n",
        "    print(text[i], end = \"\")\n",
        "  return text\n",
        "if __name__ == \"__main__\":\n",
        " sampletext = \"The Exclusive Or Cipher\"\n",
        " print(\"Encrypted String: \", end = \"\")\n",
        " sampletext = EncryptDecrypt(sampletext) # Encrypt.\n",
        " print(\"\\n\")\n",
        " print(\"Decrypted String: \", end = \"\")\n",
        " EncryptDecrypt(sampletext)\n"
      ],
      "metadata": {
        "colab": {
          "base_uri": "https://localhost:8080/"
        },
        "id": "Pek7mfQC9jwx",
        "outputId": "0f75b54d-026c-4797-a07e-4b3e744af915"
      },
      "execution_count": null,
      "outputs": [
        {
          "output_type": "stream",
          "name": "stdout",
          "text": [
            "Encrypted String: \u0015)$a\u00049\"-42(7$a\u000e3a\u0002(1)$3\n",
            "\n",
            "Decrypted String: The Exclusive Or Cipher"
          ]
        }
      ]
    },
    {
      "cell_type": "markdown",
      "source": [
        "THE RIVESTSHARMA CRYPTO SYSTEM"
      ],
      "metadata": {
        "id": "z_nA-k7gA7q6"
      }
    },
    {
      "cell_type": "markdown",
      "source": [
        "## Prime Numbers"
      ],
      "metadata": {
        "id": "ubMw1X0MCbZ8"
      }
    },
    {
      "cell_type": "code",
      "source": [
        "from sympy import *\n",
        "isprime(476596385690375375375059)"
      ],
      "metadata": {
        "colab": {
          "base_uri": "https://localhost:8080/"
        },
        "id": "sF5yOBbeBF0W",
        "outputId": "3883b039-da07-429e-dbd0-7c0ef4f1b6b3"
      },
      "execution_count": null,
      "outputs": [
        {
          "output_type": "execute_result",
          "data": {
            "text/plain": [
              "False"
            ]
          },
          "metadata": {},
          "execution_count": 5
        }
      ]
    },
    {
      "cell_type": "code",
      "source": [
        "                           # In [5]: RSA Algorithm Example.\n",
        "from math import gcd\n",
        "                           # Step 1, choose two prime numbers.\n",
        "p,q=17,29\n",
        "                           # Step 2, compute n.\n",
        "n=p*q\n",
        "print(\"n =\", n)\n",
        "                          # Step 3, compute phi(n).\n",
        "phi = (p- 1) * (q- 1)\n",
        "                          # Step 4, compute a public key, e say,\n",
        "                          # there are many possibilities.\n",
        "                          # In this case, choose e = 11.\n",
        "                          #for e in range(2 , phi):\n",
        "\n",
        "                         # if (gcd(e, phi) == 1):\n",
        "\n",
        "e = 11\n",
        "                      #print(\"e =\", e)\n",
        "                       # Step 5:\n",
        "                       # Python program for the EEA.\n",
        "def extended_gcd(e, phi):\n",
        "\n",
        "  if e == 0:\n",
        "    return phi, 0, 1\n",
        "  else:\n",
        "    gcd,x,y=extended_gcd(phi%e,e)\n",
        "    return gcd,y-(phi//e)*x,x\n",
        "if _name_ == \"_main_\":\n",
        "  gcd,x,y=extended_gcd(e,phi)\n",
        "  print(\"phi=\",phi)\n",
        "  print(\"Thegcdis\",gcd)\n",
        "  print(\"x=\",x,\",y=\",y)"
      ],
      "metadata": {
        "colab": {
          "base_uri": "https://localhost:8080/",
          "height": 228
        },
        "id": "M08fHBPUDL2d",
        "outputId": "44dbcba5-904f-4e0f-fc54-41c48cef0993"
      },
      "execution_count": null,
      "outputs": [
        {
          "output_type": "stream",
          "name": "stdout",
          "text": [
            "n = 493\n"
          ]
        },
        {
          "output_type": "error",
          "ename": "NameError",
          "evalue": "name '_name_' is not defined",
          "traceback": [
            "\u001b[0;31m---------------------------------------------------------------------------\u001b[0m",
            "\u001b[0;31mNameError\u001b[0m                                 Traceback (most recent call last)",
            "\u001b[0;32m/tmp/ipython-input-2437418690.py\u001b[0m in \u001b[0;36m<cell line: 0>\u001b[0;34m()\u001b[0m\n\u001b[1;32m     26\u001b[0m     \u001b[0mgcd\u001b[0m\u001b[0;34m,\u001b[0m\u001b[0mx\u001b[0m\u001b[0;34m,\u001b[0m\u001b[0my\u001b[0m\u001b[0;34m=\u001b[0m\u001b[0mextended_gcd\u001b[0m\u001b[0;34m(\u001b[0m\u001b[0mphi\u001b[0m\u001b[0;34m%\u001b[0m\u001b[0me\u001b[0m\u001b[0;34m,\u001b[0m\u001b[0me\u001b[0m\u001b[0;34m)\u001b[0m\u001b[0;34m\u001b[0m\u001b[0;34m\u001b[0m\u001b[0m\n\u001b[1;32m     27\u001b[0m     \u001b[0;32mreturn\u001b[0m \u001b[0mgcd\u001b[0m\u001b[0;34m,\u001b[0m\u001b[0my\u001b[0m\u001b[0;34m-\u001b[0m\u001b[0;34m(\u001b[0m\u001b[0mphi\u001b[0m\u001b[0;34m//\u001b[0m\u001b[0me\u001b[0m\u001b[0;34m)\u001b[0m\u001b[0;34m*\u001b[0m\u001b[0mx\u001b[0m\u001b[0;34m,\u001b[0m\u001b[0mx\u001b[0m\u001b[0;34m\u001b[0m\u001b[0;34m\u001b[0m\u001b[0m\n\u001b[0;32m---> 28\u001b[0;31m \u001b[0;32mif\u001b[0m \u001b[0m_name_\u001b[0m \u001b[0;34m==\u001b[0m \u001b[0;34m\"_main_\"\u001b[0m\u001b[0;34m:\u001b[0m\u001b[0;34m\u001b[0m\u001b[0;34m\u001b[0m\u001b[0m\n\u001b[0m\u001b[1;32m     29\u001b[0m   \u001b[0mgcd\u001b[0m\u001b[0;34m,\u001b[0m\u001b[0mx\u001b[0m\u001b[0;34m,\u001b[0m\u001b[0my\u001b[0m\u001b[0;34m=\u001b[0m\u001b[0mextended_gcd\u001b[0m\u001b[0;34m(\u001b[0m\u001b[0me\u001b[0m\u001b[0;34m,\u001b[0m\u001b[0mphi\u001b[0m\u001b[0;34m)\u001b[0m\u001b[0;34m\u001b[0m\u001b[0;34m\u001b[0m\u001b[0m\n\u001b[1;32m     30\u001b[0m   \u001b[0mprint\u001b[0m\u001b[0;34m(\u001b[0m\u001b[0;34m\"phi=\"\u001b[0m\u001b[0;34m,\u001b[0m\u001b[0mphi\u001b[0m\u001b[0;34m)\u001b[0m\u001b[0;34m\u001b[0m\u001b[0;34m\u001b[0m\u001b[0m\n",
            "\u001b[0;31mNameError\u001b[0m: name '_name_' is not defined"
          ]
        }
      ]
    },
    {
      "cell_type": "code",
      "source": [
        "# In [5]: RSA Algorithm Example.\n",
        "from math import gcd\n",
        "# Step 1, choose two prime numbers.\n",
        "p , q = 17 , 29\n",
        "# Step 2, compute n.\n",
        "n = p * q\n",
        "print(\"n =\", n)\n",
        "# Step 3, compute phi(n).\n",
        "phi = (p - 1) * (q - 1)\n",
        "# Step 4, compute a public key, e say,\n",
        "# there are many possibilities.\n",
        "# In this case, choose e = 11.\n",
        "#for e in range(2 , phi):\n",
        "# if (gcd(e, phi) == 1):\n",
        "# print(\"e =\", e)\n",
        "e = 11\n",
        "# Step 5:\n",
        "# Python program for the EEA.\n",
        "def extended_gcd(e, phi):\n",
        "  if e == 0:\n",
        "    return phi, 0, 1\n",
        "  else:\n",
        "    gcd, x, y = extended_gcd(phi % e, e)\n",
        "    return gcd, y - (phi // e) * x, x\n",
        "if _name_ == \"_main_\":\n",
        "  gcd, x, y = extended_gcd(e, phi)\n",
        "  print(\"phi = \" , phi)\n",
        "  print(\"The gcd is\", gcd)\n",
        "  print(\"x = \" , x,\", y = \",y)"
      ],
      "metadata": {
        "colab": {
          "base_uri": "https://localhost:8080/",
          "height": 228
        },
        "id": "ddTVYh66GwEk",
        "outputId": "08912105-4aca-46e7-c66d-de65735bca12"
      },
      "execution_count": null,
      "outputs": [
        {
          "output_type": "stream",
          "name": "stdout",
          "text": [
            "n = 493\n"
          ]
        },
        {
          "output_type": "error",
          "ename": "NameError",
          "evalue": "name '_name_' is not defined",
          "traceback": [
            "\u001b[0;31m---------------------------------------------------------------------------\u001b[0m",
            "\u001b[0;31mNameError\u001b[0m                                 Traceback (most recent call last)",
            "\u001b[0;32m/tmp/ipython-input-1704873001.py\u001b[0m in \u001b[0;36m<cell line: 0>\u001b[0;34m()\u001b[0m\n\u001b[1;32m     23\u001b[0m     \u001b[0mgcd\u001b[0m\u001b[0;34m,\u001b[0m \u001b[0mx\u001b[0m\u001b[0;34m,\u001b[0m \u001b[0my\u001b[0m \u001b[0;34m=\u001b[0m \u001b[0mextended_gcd\u001b[0m\u001b[0;34m(\u001b[0m\u001b[0mphi\u001b[0m \u001b[0;34m%\u001b[0m \u001b[0me\u001b[0m\u001b[0;34m,\u001b[0m \u001b[0me\u001b[0m\u001b[0;34m)\u001b[0m\u001b[0;34m\u001b[0m\u001b[0;34m\u001b[0m\u001b[0m\n\u001b[1;32m     24\u001b[0m     \u001b[0;32mreturn\u001b[0m \u001b[0mgcd\u001b[0m\u001b[0;34m,\u001b[0m \u001b[0my\u001b[0m \u001b[0;34m-\u001b[0m \u001b[0;34m(\u001b[0m\u001b[0mphi\u001b[0m \u001b[0;34m//\u001b[0m \u001b[0me\u001b[0m\u001b[0;34m)\u001b[0m \u001b[0;34m*\u001b[0m \u001b[0mx\u001b[0m\u001b[0;34m,\u001b[0m \u001b[0mx\u001b[0m\u001b[0;34m\u001b[0m\u001b[0;34m\u001b[0m\u001b[0m\n\u001b[0;32m---> 25\u001b[0;31m \u001b[0;32mif\u001b[0m \u001b[0m_name_\u001b[0m \u001b[0;34m==\u001b[0m \u001b[0;34m\"_main_\"\u001b[0m\u001b[0;34m:\u001b[0m\u001b[0;34m\u001b[0m\u001b[0;34m\u001b[0m\u001b[0m\n\u001b[0m\u001b[1;32m     26\u001b[0m   \u001b[0mgcd\u001b[0m\u001b[0;34m,\u001b[0m \u001b[0mx\u001b[0m\u001b[0;34m,\u001b[0m \u001b[0my\u001b[0m \u001b[0;34m=\u001b[0m \u001b[0mextended_gcd\u001b[0m\u001b[0;34m(\u001b[0m\u001b[0me\u001b[0m\u001b[0;34m,\u001b[0m \u001b[0mphi\u001b[0m\u001b[0;34m)\u001b[0m\u001b[0;34m\u001b[0m\u001b[0;34m\u001b[0m\u001b[0m\n\u001b[1;32m     27\u001b[0m   \u001b[0mprint\u001b[0m\u001b[0;34m(\u001b[0m\u001b[0;34m\"phi = \"\u001b[0m \u001b[0;34m,\u001b[0m \u001b[0mphi\u001b[0m\u001b[0;34m)\u001b[0m\u001b[0;34m\u001b[0m\u001b[0;34m\u001b[0m\u001b[0m\n",
            "\u001b[0;31mNameError\u001b[0m: name '_name_' is not defined"
          ]
        }
      ]
    },
    {
      "cell_type": "markdown",
      "source": [],
      "metadata": {
        "id": "AsiB4CXnDEJT"
      }
    },
    {
      "cell_type": "markdown",
      "source": [
        "AN INTODUCTION TO AI"
      ],
      "metadata": {
        "id": "qNRNj6oEHgL1"
      }
    },
    {
      "cell_type": "markdown",
      "source": [
        "ANN for an AND Logic gate"
      ],
      "metadata": {
        "id": "yjzuIZFJIZyz"
      }
    },
    {
      "cell_type": "code",
      "source": [
        " import numpy as np\n",
        " w1 , w2 = 20, 20\n",
        " b = -30\n",
        " #Definethefunctions.\n",
        " def sigmoid(v):\n",
        "   return 1/ (1+np.exp(-v))\n",
        " def AND(x1,x2):\n",
        "   return sigmoid(x1*w1+x2*w2+b)\n",
        " print(\"AND(0,0)=\",AND(0,0))\n",
        " print(\"AND(1,0)=\",AND(1,0))\n",
        " print(\"AND(0,1)=\",AND(0,1))\n",
        " print(\"AND(1,1)=\",AND(1,1))\n"
      ],
      "metadata": {
        "colab": {
          "base_uri": "https://localhost:8080/"
        },
        "id": "vZGU2TBaHjCY",
        "outputId": "f897b872-5d32-4c17-e50a-311352c37260"
      },
      "execution_count": null,
      "outputs": [
        {
          "output_type": "stream",
          "name": "stdout",
          "text": [
            "AND(0,0)= 9.357622968839299e-14\n",
            "AND(1,0)= 4.5397868702434395e-05\n",
            "AND(0,1)= 4.5397868702434395e-05\n",
            "AND(1,1)= 0.9999546021312976\n"
          ]
        }
      ]
    },
    {
      "cell_type": "markdown",
      "source": [
        "OR GATE"
      ],
      "metadata": {
        "id": "RrR_OMdMLFxe"
      }
    },
    {
      "cell_type": "code",
      "source": [
        "import numpy as np\n",
        "w1 , w2 = 20, 20\n",
        "b = -30\n",
        " #Definethefunctions.\n",
        "def sigmoid(v):\n",
        "   return 1/ (1+np.exp(-v))\n",
        "def OR(x1,x2):\n",
        "   return sigmoid(x1*w1+x2*w2+b)\n",
        "print(\"OR(0,0)=\",round(OR(0,0),4))     # rounding to 4\n",
        "print(\"OR(1,0)=\",OR(1,0))\n",
        "print(\"OR(0,1)=\",round(OR(0,1),4))    # rounding to 4\n",
        "print(\"OR(1,1)=\",OR(1,1))"
      ],
      "metadata": {
        "colab": {
          "base_uri": "https://localhost:8080/"
        },
        "id": "Ewsn5Rc4LI_G",
        "outputId": "267c8d2c-3ffd-418b-e617-787ec1cf3c8e"
      },
      "execution_count": null,
      "outputs": [
        {
          "output_type": "stream",
          "name": "stdout",
          "text": [
            "OR(0,0)= 0.0\n",
            "OR(1,0)= 4.5397868702434395e-05\n",
            "OR(0,1)= 0.0\n",
            "OR(1,1)= 0.9999546021312976\n"
          ]
        }
      ]
    },
    {
      "cell_type": "markdown",
      "source": [
        "INTRODUCTION TO DATA SCIENCE"
      ],
      "metadata": {
        "id": "bumNh_oiSiH6"
      }
    },
    {
      "cell_type": "markdown",
      "source": [
        "## PANDA Python and Data Analysis"
      ],
      "metadata": {
        "id": "qGTea3XnVX1q"
      }
    },
    {
      "cell_type": "code",
      "source": [
        "import numpy as np\n",
        "import pandas as pd\n",
        "df=pd.DataFrame({\n",
        "    \"Date\": pd.Categorical([\"2024-01-08\",\"2024-01-09\",\"2024-01-10\",\"2024-01-11\",\n",
        "                              \"2024-01-12\",\"2024-01-13\",\"2024-01-14\"]),\n",
        "    \"Day\": pd.Categorical([\"Monday\",\"Tuesday\",\"Wednesday\",\n",
        "                           \"Thursday\",\"Friday\",\"Saturday\",\"Sunday\"]),\n",
        "    \"Member Numbers\" : pd.Series([126,34,42,100,54,41,105],\n",
        "                                 dtype=\"int32\"),\n",
        "    \"Staff Numbers\" :  pd.Series([12,6,6,12,6,6,12],\n",
        "                                 dtype=\"int32\"),\n",
        "    \"Member/StaffRatio\": \\\n",
        "    pd.Series([10.5,5.7,7.0,8.3,9.0,6.8,8.8],\\\n",
        "              dtype=\"float32\"),\n",
        "    \"Satisfaction(%)\" :\\\n",
        "    pd.Series([44,82,74,66,85,88,45],dtype=\"float32\")})\n",
        "df = df.set_index(\"Date\")\n",
        "df"
      ],
      "metadata": {
        "colab": {
          "base_uri": "https://localhost:8080/",
          "height": 439
        },
        "id": "bjvzqHl3SmsD",
        "outputId": "c6dbe990-f916-42ec-cc63-4ca31932a436"
      },
      "execution_count": null,
      "outputs": [
        {
          "output_type": "execute_result",
          "data": {
            "text/plain": [
              "                  Day  Member Numbers  Staff Numbers  Member/StaffRatio  \\\n",
              "Date                                                                      \n",
              "2024-01-08     Monday             126             12               10.5   \n",
              "2024-01-09    Tuesday              34              6                5.7   \n",
              "2024-01-10  Wednesday              42              6                7.0   \n",
              "2024-01-11   Thursday             100             12                8.3   \n",
              "2024-01-12     Friday              54              6                9.0   \n",
              "2024-01-13   Saturday              41              6                6.8   \n",
              "2024-01-14     Sunday             105             12                8.8   \n",
              "\n",
              "            Satisfaction(%)  \n",
              "Date                         \n",
              "2024-01-08             44.0  \n",
              "2024-01-09             82.0  \n",
              "2024-01-10             74.0  \n",
              "2024-01-11             66.0  \n",
              "2024-01-12             85.0  \n",
              "2024-01-13             88.0  \n",
              "2024-01-14             45.0  "
            ],
            "text/html": [
              "\n",
              "  <div id=\"df-4d23fefa-7fd2-45df-9265-97e443e402c9\" class=\"colab-df-container\">\n",
              "    <div>\n",
              "<style scoped>\n",
              "    .dataframe tbody tr th:only-of-type {\n",
              "        vertical-align: middle;\n",
              "    }\n",
              "\n",
              "    .dataframe tbody tr th {\n",
              "        vertical-align: top;\n",
              "    }\n",
              "\n",
              "    .dataframe thead th {\n",
              "        text-align: right;\n",
              "    }\n",
              "</style>\n",
              "<table border=\"1\" class=\"dataframe\">\n",
              "  <thead>\n",
              "    <tr style=\"text-align: right;\">\n",
              "      <th></th>\n",
              "      <th>Day</th>\n",
              "      <th>Member Numbers</th>\n",
              "      <th>Staff Numbers</th>\n",
              "      <th>Member/StaffRatio</th>\n",
              "      <th>Satisfaction(%)</th>\n",
              "    </tr>\n",
              "    <tr>\n",
              "      <th>Date</th>\n",
              "      <th></th>\n",
              "      <th></th>\n",
              "      <th></th>\n",
              "      <th></th>\n",
              "      <th></th>\n",
              "    </tr>\n",
              "  </thead>\n",
              "  <tbody>\n",
              "    <tr>\n",
              "      <th>2024-01-08</th>\n",
              "      <td>Monday</td>\n",
              "      <td>126</td>\n",
              "      <td>12</td>\n",
              "      <td>10.5</td>\n",
              "      <td>44.0</td>\n",
              "    </tr>\n",
              "    <tr>\n",
              "      <th>2024-01-09</th>\n",
              "      <td>Tuesday</td>\n",
              "      <td>34</td>\n",
              "      <td>6</td>\n",
              "      <td>5.7</td>\n",
              "      <td>82.0</td>\n",
              "    </tr>\n",
              "    <tr>\n",
              "      <th>2024-01-10</th>\n",
              "      <td>Wednesday</td>\n",
              "      <td>42</td>\n",
              "      <td>6</td>\n",
              "      <td>7.0</td>\n",
              "      <td>74.0</td>\n",
              "    </tr>\n",
              "    <tr>\n",
              "      <th>2024-01-11</th>\n",
              "      <td>Thursday</td>\n",
              "      <td>100</td>\n",
              "      <td>12</td>\n",
              "      <td>8.3</td>\n",
              "      <td>66.0</td>\n",
              "    </tr>\n",
              "    <tr>\n",
              "      <th>2024-01-12</th>\n",
              "      <td>Friday</td>\n",
              "      <td>54</td>\n",
              "      <td>6</td>\n",
              "      <td>9.0</td>\n",
              "      <td>85.0</td>\n",
              "    </tr>\n",
              "    <tr>\n",
              "      <th>2024-01-13</th>\n",
              "      <td>Saturday</td>\n",
              "      <td>41</td>\n",
              "      <td>6</td>\n",
              "      <td>6.8</td>\n",
              "      <td>88.0</td>\n",
              "    </tr>\n",
              "    <tr>\n",
              "      <th>2024-01-14</th>\n",
              "      <td>Sunday</td>\n",
              "      <td>105</td>\n",
              "      <td>12</td>\n",
              "      <td>8.8</td>\n",
              "      <td>45.0</td>\n",
              "    </tr>\n",
              "  </tbody>\n",
              "</table>\n",
              "</div>\n",
              "    <div class=\"colab-df-buttons\">\n",
              "\n",
              "  <div class=\"colab-df-container\">\n",
              "    <button class=\"colab-df-convert\" onclick=\"convertToInteractive('df-4d23fefa-7fd2-45df-9265-97e443e402c9')\"\n",
              "            title=\"Convert this dataframe to an interactive table.\"\n",
              "            style=\"display:none;\">\n",
              "\n",
              "  <svg xmlns=\"http://www.w3.org/2000/svg\" height=\"24px\" viewBox=\"0 -960 960 960\">\n",
              "    <path d=\"M120-120v-720h720v720H120Zm60-500h600v-160H180v160Zm220 220h160v-160H400v160Zm0 220h160v-160H400v160ZM180-400h160v-160H180v160Zm440 0h160v-160H620v160ZM180-180h160v-160H180v160Zm440 0h160v-160H620v160Z\"/>\n",
              "  </svg>\n",
              "    </button>\n",
              "\n",
              "  <style>\n",
              "    .colab-df-container {\n",
              "      display:flex;\n",
              "      gap: 12px;\n",
              "    }\n",
              "\n",
              "    .colab-df-convert {\n",
              "      background-color: #E8F0FE;\n",
              "      border: none;\n",
              "      border-radius: 50%;\n",
              "      cursor: pointer;\n",
              "      display: none;\n",
              "      fill: #1967D2;\n",
              "      height: 32px;\n",
              "      padding: 0 0 0 0;\n",
              "      width: 32px;\n",
              "    }\n",
              "\n",
              "    .colab-df-convert:hover {\n",
              "      background-color: #E2EBFA;\n",
              "      box-shadow: 0px 1px 2px rgba(60, 64, 67, 0.3), 0px 1px 3px 1px rgba(60, 64, 67, 0.15);\n",
              "      fill: #174EA6;\n",
              "    }\n",
              "\n",
              "    .colab-df-buttons div {\n",
              "      margin-bottom: 4px;\n",
              "    }\n",
              "\n",
              "    [theme=dark] .colab-df-convert {\n",
              "      background-color: #3B4455;\n",
              "      fill: #D2E3FC;\n",
              "    }\n",
              "\n",
              "    [theme=dark] .colab-df-convert:hover {\n",
              "      background-color: #434B5C;\n",
              "      box-shadow: 0px 1px 3px 1px rgba(0, 0, 0, 0.15);\n",
              "      filter: drop-shadow(0px 1px 2px rgba(0, 0, 0, 0.3));\n",
              "      fill: #FFFFFF;\n",
              "    }\n",
              "  </style>\n",
              "\n",
              "    <script>\n",
              "      const buttonEl =\n",
              "        document.querySelector('#df-4d23fefa-7fd2-45df-9265-97e443e402c9 button.colab-df-convert');\n",
              "      buttonEl.style.display =\n",
              "        google.colab.kernel.accessAllowed ? 'block' : 'none';\n",
              "\n",
              "      async function convertToInteractive(key) {\n",
              "        const element = document.querySelector('#df-4d23fefa-7fd2-45df-9265-97e443e402c9');\n",
              "        const dataTable =\n",
              "          await google.colab.kernel.invokeFunction('convertToInteractive',\n",
              "                                                    [key], {});\n",
              "        if (!dataTable) return;\n",
              "\n",
              "        const docLinkHtml = 'Like what you see? Visit the ' +\n",
              "          '<a target=\"_blank\" href=https://colab.research.google.com/notebooks/data_table.ipynb>data table notebook</a>'\n",
              "          + ' to learn more about interactive tables.';\n",
              "        element.innerHTML = '';\n",
              "        dataTable['output_type'] = 'display_data';\n",
              "        await google.colab.output.renderOutput(dataTable, element);\n",
              "        const docLink = document.createElement('div');\n",
              "        docLink.innerHTML = docLinkHtml;\n",
              "        element.appendChild(docLink);\n",
              "      }\n",
              "    </script>\n",
              "  </div>\n",
              "\n",
              "\n",
              "    <div id=\"df-8472af5e-59fa-4856-8684-465f1a49642c\">\n",
              "      <button class=\"colab-df-quickchart\" onclick=\"quickchart('df-8472af5e-59fa-4856-8684-465f1a49642c')\"\n",
              "                title=\"Suggest charts\"\n",
              "                style=\"display:none;\">\n",
              "\n",
              "<svg xmlns=\"http://www.w3.org/2000/svg\" height=\"24px\"viewBox=\"0 0 24 24\"\n",
              "     width=\"24px\">\n",
              "    <g>\n",
              "        <path d=\"M19 3H5c-1.1 0-2 .9-2 2v14c0 1.1.9 2 2 2h14c1.1 0 2-.9 2-2V5c0-1.1-.9-2-2-2zM9 17H7v-7h2v7zm4 0h-2V7h2v10zm4 0h-2v-4h2v4z\"/>\n",
              "    </g>\n",
              "</svg>\n",
              "      </button>\n",
              "\n",
              "<style>\n",
              "  .colab-df-quickchart {\n",
              "      --bg-color: #E8F0FE;\n",
              "      --fill-color: #1967D2;\n",
              "      --hover-bg-color: #E2EBFA;\n",
              "      --hover-fill-color: #174EA6;\n",
              "      --disabled-fill-color: #AAA;\n",
              "      --disabled-bg-color: #DDD;\n",
              "  }\n",
              "\n",
              "  [theme=dark] .colab-df-quickchart {\n",
              "      --bg-color: #3B4455;\n",
              "      --fill-color: #D2E3FC;\n",
              "      --hover-bg-color: #434B5C;\n",
              "      --hover-fill-color: #FFFFFF;\n",
              "      --disabled-bg-color: #3B4455;\n",
              "      --disabled-fill-color: #666;\n",
              "  }\n",
              "\n",
              "  .colab-df-quickchart {\n",
              "    background-color: var(--bg-color);\n",
              "    border: none;\n",
              "    border-radius: 50%;\n",
              "    cursor: pointer;\n",
              "    display: none;\n",
              "    fill: var(--fill-color);\n",
              "    height: 32px;\n",
              "    padding: 0;\n",
              "    width: 32px;\n",
              "  }\n",
              "\n",
              "  .colab-df-quickchart:hover {\n",
              "    background-color: var(--hover-bg-color);\n",
              "    box-shadow: 0 1px 2px rgba(60, 64, 67, 0.3), 0 1px 3px 1px rgba(60, 64, 67, 0.15);\n",
              "    fill: var(--button-hover-fill-color);\n",
              "  }\n",
              "\n",
              "  .colab-df-quickchart-complete:disabled,\n",
              "  .colab-df-quickchart-complete:disabled:hover {\n",
              "    background-color: var(--disabled-bg-color);\n",
              "    fill: var(--disabled-fill-color);\n",
              "    box-shadow: none;\n",
              "  }\n",
              "\n",
              "  .colab-df-spinner {\n",
              "    border: 2px solid var(--fill-color);\n",
              "    border-color: transparent;\n",
              "    border-bottom-color: var(--fill-color);\n",
              "    animation:\n",
              "      spin 1s steps(1) infinite;\n",
              "  }\n",
              "\n",
              "  @keyframes spin {\n",
              "    0% {\n",
              "      border-color: transparent;\n",
              "      border-bottom-color: var(--fill-color);\n",
              "      border-left-color: var(--fill-color);\n",
              "    }\n",
              "    20% {\n",
              "      border-color: transparent;\n",
              "      border-left-color: var(--fill-color);\n",
              "      border-top-color: var(--fill-color);\n",
              "    }\n",
              "    30% {\n",
              "      border-color: transparent;\n",
              "      border-left-color: var(--fill-color);\n",
              "      border-top-color: var(--fill-color);\n",
              "      border-right-color: var(--fill-color);\n",
              "    }\n",
              "    40% {\n",
              "      border-color: transparent;\n",
              "      border-right-color: var(--fill-color);\n",
              "      border-top-color: var(--fill-color);\n",
              "    }\n",
              "    60% {\n",
              "      border-color: transparent;\n",
              "      border-right-color: var(--fill-color);\n",
              "    }\n",
              "    80% {\n",
              "      border-color: transparent;\n",
              "      border-right-color: var(--fill-color);\n",
              "      border-bottom-color: var(--fill-color);\n",
              "    }\n",
              "    90% {\n",
              "      border-color: transparent;\n",
              "      border-bottom-color: var(--fill-color);\n",
              "    }\n",
              "  }\n",
              "</style>\n",
              "\n",
              "      <script>\n",
              "        async function quickchart(key) {\n",
              "          const quickchartButtonEl =\n",
              "            document.querySelector('#' + key + ' button');\n",
              "          quickchartButtonEl.disabled = true;  // To prevent multiple clicks.\n",
              "          quickchartButtonEl.classList.add('colab-df-spinner');\n",
              "          try {\n",
              "            const charts = await google.colab.kernel.invokeFunction(\n",
              "                'suggestCharts', [key], {});\n",
              "          } catch (error) {\n",
              "            console.error('Error during call to suggestCharts:', error);\n",
              "          }\n",
              "          quickchartButtonEl.classList.remove('colab-df-spinner');\n",
              "          quickchartButtonEl.classList.add('colab-df-quickchart-complete');\n",
              "        }\n",
              "        (() => {\n",
              "          let quickchartButtonEl =\n",
              "            document.querySelector('#df-8472af5e-59fa-4856-8684-465f1a49642c button');\n",
              "          quickchartButtonEl.style.display =\n",
              "            google.colab.kernel.accessAllowed ? 'block' : 'none';\n",
              "        })();\n",
              "      </script>\n",
              "    </div>\n",
              "\n",
              "  <div id=\"id_0bc9ce3f-a4da-43c5-93e8-08e8a7140258\">\n",
              "    <style>\n",
              "      .colab-df-generate {\n",
              "        background-color: #E8F0FE;\n",
              "        border: none;\n",
              "        border-radius: 50%;\n",
              "        cursor: pointer;\n",
              "        display: none;\n",
              "        fill: #1967D2;\n",
              "        height: 32px;\n",
              "        padding: 0 0 0 0;\n",
              "        width: 32px;\n",
              "      }\n",
              "\n",
              "      .colab-df-generate:hover {\n",
              "        background-color: #E2EBFA;\n",
              "        box-shadow: 0px 1px 2px rgba(60, 64, 67, 0.3), 0px 1px 3px 1px rgba(60, 64, 67, 0.15);\n",
              "        fill: #174EA6;\n",
              "      }\n",
              "\n",
              "      [theme=dark] .colab-df-generate {\n",
              "        background-color: #3B4455;\n",
              "        fill: #D2E3FC;\n",
              "      }\n",
              "\n",
              "      [theme=dark] .colab-df-generate:hover {\n",
              "        background-color: #434B5C;\n",
              "        box-shadow: 0px 1px 3px 1px rgba(0, 0, 0, 0.15);\n",
              "        filter: drop-shadow(0px 1px 2px rgba(0, 0, 0, 0.3));\n",
              "        fill: #FFFFFF;\n",
              "      }\n",
              "    </style>\n",
              "    <button class=\"colab-df-generate\" onclick=\"generateWithVariable('df')\"\n",
              "            title=\"Generate code using this dataframe.\"\n",
              "            style=\"display:none;\">\n",
              "\n",
              "  <svg xmlns=\"http://www.w3.org/2000/svg\" height=\"24px\"viewBox=\"0 0 24 24\"\n",
              "       width=\"24px\">\n",
              "    <path d=\"M7,19H8.4L18.45,9,17,7.55,7,17.6ZM5,21V16.75L18.45,3.32a2,2,0,0,1,2.83,0l1.4,1.43a1.91,1.91,0,0,1,.58,1.4,1.91,1.91,0,0,1-.58,1.4L9.25,21ZM18.45,9,17,7.55Zm-12,3A5.31,5.31,0,0,0,4.9,8.1,5.31,5.31,0,0,0,1,6.5,5.31,5.31,0,0,0,4.9,4.9,5.31,5.31,0,0,0,6.5,1,5.31,5.31,0,0,0,8.1,4.9,5.31,5.31,0,0,0,12,6.5,5.46,5.46,0,0,0,6.5,12Z\"/>\n",
              "  </svg>\n",
              "    </button>\n",
              "    <script>\n",
              "      (() => {\n",
              "      const buttonEl =\n",
              "        document.querySelector('#id_0bc9ce3f-a4da-43c5-93e8-08e8a7140258 button.colab-df-generate');\n",
              "      buttonEl.style.display =\n",
              "        google.colab.kernel.accessAllowed ? 'block' : 'none';\n",
              "\n",
              "      buttonEl.onclick = () => {\n",
              "        google.colab.notebook.generateWithVariable('df');\n",
              "      }\n",
              "      })();\n",
              "    </script>\n",
              "  </div>\n",
              "\n",
              "    </div>\n",
              "  </div>\n"
            ],
            "application/vnd.google.colaboratory.intrinsic+json": {
              "type": "dataframe",
              "variable_name": "df",
              "summary": "{\n  \"name\": \"df\",\n  \"rows\": 7,\n  \"fields\": [\n    {\n      \"column\": \"Date\",\n      \"properties\": {\n        \"dtype\": \"category\",\n        \"num_unique_values\": 7,\n        \"samples\": [\n          \"2024-01-08\",\n          \"2024-01-09\",\n          \"2024-01-13\"\n        ],\n        \"semantic_type\": \"\",\n        \"description\": \"\"\n      }\n    },\n    {\n      \"column\": \"Day\",\n      \"properties\": {\n        \"dtype\": \"category\",\n        \"num_unique_values\": 7,\n        \"samples\": [\n          \"Monday\",\n          \"Tuesday\",\n          \"Saturday\"\n        ],\n        \"semantic_type\": \"\",\n        \"description\": \"\"\n      }\n    },\n    {\n      \"column\": \"Member Numbers\",\n      \"properties\": {\n        \"dtype\": \"int32\",\n        \"num_unique_values\": 7,\n        \"samples\": [\n          126,\n          34,\n          41\n        ],\n        \"semantic_type\": \"\",\n        \"description\": \"\"\n      }\n    },\n    {\n      \"column\": \"Staff Numbers\",\n      \"properties\": {\n        \"dtype\": \"int32\",\n        \"num_unique_values\": 2,\n        \"samples\": [\n          6,\n          12\n        ],\n        \"semantic_type\": \"\",\n        \"description\": \"\"\n      }\n    },\n    {\n      \"column\": \"Member/StaffRatio\",\n      \"properties\": {\n        \"dtype\": \"float32\",\n        \"num_unique_values\": 7,\n        \"samples\": [\n          10.5,\n          5.699999809265137\n        ],\n        \"semantic_type\": \"\",\n        \"description\": \"\"\n      }\n    },\n    {\n      \"column\": \"Satisfaction(%)\",\n      \"properties\": {\n        \"dtype\": \"float32\",\n        \"num_unique_values\": 7,\n        \"samples\": [\n          44.0,\n          82.0\n        ],\n        \"semantic_type\": \"\",\n        \"description\": \"\"\n      }\n    }\n  ]\n}"
            }
          },
          "metadata": {},
          "execution_count": 35
        }
      ]
    },
    {
      "cell_type": "code",
      "source": [
        " df.dtypes"
      ],
      "metadata": {
        "colab": {
          "base_uri": "https://localhost:8080/",
          "height": 241
        },
        "id": "2lwpWx_MY7Np",
        "outputId": "93fd5565-9463-4d94-9c0e-196ee28ac69b"
      },
      "execution_count": null,
      "outputs": [
        {
          "output_type": "execute_result",
          "data": {
            "text/plain": [
              "Day                  category\n",
              "Member Numbers          int32\n",
              "Staff Numbers           int32\n",
              "Member/StaffRatio     float32\n",
              "Satisfaction(%)       float32\n",
              "dtype: object"
            ],
            "text/html": [
              "<div>\n",
              "<style scoped>\n",
              "    .dataframe tbody tr th:only-of-type {\n",
              "        vertical-align: middle;\n",
              "    }\n",
              "\n",
              "    .dataframe tbody tr th {\n",
              "        vertical-align: top;\n",
              "    }\n",
              "\n",
              "    .dataframe thead th {\n",
              "        text-align: right;\n",
              "    }\n",
              "</style>\n",
              "<table border=\"1\" class=\"dataframe\">\n",
              "  <thead>\n",
              "    <tr style=\"text-align: right;\">\n",
              "      <th></th>\n",
              "      <th>0</th>\n",
              "    </tr>\n",
              "  </thead>\n",
              "  <tbody>\n",
              "    <tr>\n",
              "      <th>Day</th>\n",
              "      <td>category</td>\n",
              "    </tr>\n",
              "    <tr>\n",
              "      <th>Member Numbers</th>\n",
              "      <td>int32</td>\n",
              "    </tr>\n",
              "    <tr>\n",
              "      <th>Staff Numbers</th>\n",
              "      <td>int32</td>\n",
              "    </tr>\n",
              "    <tr>\n",
              "      <th>Member/StaffRatio</th>\n",
              "      <td>float32</td>\n",
              "    </tr>\n",
              "    <tr>\n",
              "      <th>Satisfaction(%)</th>\n",
              "      <td>float32</td>\n",
              "    </tr>\n",
              "  </tbody>\n",
              "</table>\n",
              "</div><br><label><b>dtype:</b> object</label>"
            ]
          },
          "metadata": {},
          "execution_count": 43
        }
      ]
    },
    {
      "cell_type": "code",
      "source": [
        " In [3]: # Write the data to an excel file.\n",
        "df.to_excel(\"Gym_Satisfaction_Ratings.xlsx\")"
      ],
      "metadata": {
        "id": "fDrxKY3rZNjO"
      },
      "execution_count": null,
      "outputs": []
    },
    {
      "cell_type": "code",
      "source": [
        " # Plot a bar chart of the satisfaction ratings.\n",
        " import matplotlib.pyplot as plt\n",
        " df.plot.bar(y = \"Satisfaction(%)\")\n",
        " plt.show()"
      ],
      "metadata": {
        "colab": {
          "base_uri": "https://localhost:8080/",
          "height": 516
        },
        "id": "q1I2z8DlZDQ3",
        "outputId": "ed695d98-df3f-4c77-fe5c-5d62142295e2"
      },
      "execution_count": null,
      "outputs": [
        {
          "output_type": "display_data",
          "data": {
            "text/plain": [
              "<Figure size 640x480 with 1 Axes>"
            ],
            "image/png": "[encoded data removed]"
          },
          "metadata": {}
        }
      ]
    },
    {
      "cell_type": "markdown",
      "source": [
        "Data -1-OCR.xlsx - Data from CIA World FACTbook and WORLD Bank\n"
      ],
      "metadata": {
        "id": "zHBAmKfCaKRv"
      }
    },
    {
      "cell_type": "code",
      "source": [
        " import pandas as pd      #Importpandasfordataanalysis.\n",
        " import seaborn as sns         #Importseabornforvisualisations.\n",
        " import matplotlib.pyplot as plt\n",
        " df = pd.read_excel(\"Data-1-OCR.xlsx\",sheet_name=\"Data\")\n",
        " df.iloc[0:5,[0,1,3,14,19]]    #df.head()#Toseethefirst5rowsofalldata."
      ],
      "metadata": {
        "colab": {
          "base_uri": "https://localhost:8080/",
          "height": 373
        },
        "id": "4wxljmw8aVvK",
        "outputId": "7315e2e4-5304-4409-bf70-886576effd1b"
      },
      "execution_count": null,
      "outputs": [
        {
          "output_type": "error",
          "ename": "FileNotFoundError",
          "evalue": "[Errno 2] No such file or directory: 'Data-1-OCR.xlsx'",
          "traceback": [
            "\u001b[0;31m---------------------------------------------------------------------------\u001b[0m",
            "\u001b[0;31mFileNotFoundError\u001b[0m                         Traceback (most recent call last)",
            "\u001b[0;32m/tmp/ipython-input-55858594.py\u001b[0m in \u001b[0;36m<cell line: 0>\u001b[0;34m()\u001b[0m\n\u001b[1;32m      2\u001b[0m \u001b[0;32mimport\u001b[0m \u001b[0mseaborn\u001b[0m \u001b[0;32mas\u001b[0m \u001b[0msns\u001b[0m         \u001b[0;31m#Importseabornforvisualisations.\u001b[0m\u001b[0;34m\u001b[0m\u001b[0;34m\u001b[0m\u001b[0m\n\u001b[1;32m      3\u001b[0m \u001b[0;32mimport\u001b[0m \u001b[0mmatplotlib\u001b[0m\u001b[0;34m.\u001b[0m\u001b[0mpyplot\u001b[0m \u001b[0;32mas\u001b[0m \u001b[0mplt\u001b[0m\u001b[0;34m\u001b[0m\u001b[0;34m\u001b[0m\u001b[0m\n\u001b[0;32m----> 4\u001b[0;31m \u001b[0mdf\u001b[0m \u001b[0;34m=\u001b[0m \u001b[0mpd\u001b[0m\u001b[0;34m.\u001b[0m\u001b[0mread_excel\u001b[0m\u001b[0;34m(\u001b[0m\u001b[0;34m\"Data-1-OCR.xlsx\"\u001b[0m\u001b[0;34m,\u001b[0m\u001b[0msheet_name\u001b[0m\u001b[0;34m=\u001b[0m\u001b[0;34m\"Data\"\u001b[0m\u001b[0;34m)\u001b[0m\u001b[0;34m\u001b[0m\u001b[0;34m\u001b[0m\u001b[0m\n\u001b[0m\u001b[1;32m      5\u001b[0m \u001b[0mdf\u001b[0m\u001b[0;34m.\u001b[0m\u001b[0miloc\u001b[0m\u001b[0;34m[\u001b[0m\u001b[0;36m0\u001b[0m\u001b[0;34m:\u001b[0m\u001b[0;36m5\u001b[0m\u001b[0;34m,\u001b[0m\u001b[0;34m[\u001b[0m\u001b[0;36m0\u001b[0m\u001b[0;34m,\u001b[0m\u001b[0;36m1\u001b[0m\u001b[0;34m,\u001b[0m\u001b[0;36m3\u001b[0m\u001b[0;34m,\u001b[0m\u001b[0;36m14\u001b[0m\u001b[0;34m,\u001b[0m\u001b[0;36m19\u001b[0m\u001b[0;34m]\u001b[0m\u001b[0;34m]\u001b[0m    \u001b[0;31m#df.head()#Toseethefirst5rowsofalldata.\u001b[0m\u001b[0;34m\u001b[0m\u001b[0;34m\u001b[0m\u001b[0m\n",
            "\u001b[0;32m/usr/local/lib/python3.12/dist-packages/pandas/io/excel/_base.py\u001b[0m in \u001b[0;36mread_excel\u001b[0;34m(io, sheet_name, header, names, index_col, usecols, dtype, engine, converters, true_values, false_values, skiprows, nrows, na_values, keep_default_na, na_filter, verbose, parse_dates, date_parser, date_format, thousands, decimal, comment, skipfooter, storage_options, dtype_backend, engine_kwargs)\u001b[0m\n\u001b[1;32m    493\u001b[0m     \u001b[0;32mif\u001b[0m \u001b[0;32mnot\u001b[0m \u001b[0misinstance\u001b[0m\u001b[0;34m(\u001b[0m\u001b[0mio\u001b[0m\u001b[0;34m,\u001b[0m \u001b[0mExcelFile\u001b[0m\u001b[0;34m)\u001b[0m\u001b[0;34m:\u001b[0m\u001b[0;34m\u001b[0m\u001b[0;34m\u001b[0m\u001b[0m\n\u001b[1;32m    494\u001b[0m         \u001b[0mshould_close\u001b[0m \u001b[0;34m=\u001b[0m \u001b[0;32mTrue\u001b[0m\u001b[0;34m\u001b[0m\u001b[0;34m\u001b[0m\u001b[0m\n\u001b[0;32m--> 495\u001b[0;31m         io = ExcelFile(\n\u001b[0m\u001b[1;32m    496\u001b[0m             \u001b[0mio\u001b[0m\u001b[0;34m,\u001b[0m\u001b[0;34m\u001b[0m\u001b[0;34m\u001b[0m\u001b[0m\n\u001b[1;32m    497\u001b[0m             \u001b[0mstorage_options\u001b[0m\u001b[0;34m=\u001b[0m\u001b[0mstorage_options\u001b[0m\u001b[0;34m,\u001b[0m\u001b[0;34m\u001b[0m\u001b[0;34m\u001b[0m\u001b[0m\n",
            "\u001b[0;32m/usr/local/lib/python3.12/dist-packages/pandas/io/excel/_base.py\u001b[0m in \u001b[0;36m__init__\u001b[0;34m(self, path_or_buffer, engine, storage_options, engine_kwargs)\u001b[0m\n\u001b[1;32m   1548\u001b[0m                 \u001b[0mext\u001b[0m \u001b[0;34m=\u001b[0m \u001b[0;34m\"xls\"\u001b[0m\u001b[0;34m\u001b[0m\u001b[0;34m\u001b[0m\u001b[0m\n\u001b[1;32m   1549\u001b[0m             \u001b[0;32melse\u001b[0m\u001b[0;34m:\u001b[0m\u001b[0;34m\u001b[0m\u001b[0;34m\u001b[0m\u001b[0m\n\u001b[0;32m-> 1550\u001b[0;31m                 ext = inspect_excel_format(\n\u001b[0m\u001b[1;32m   1551\u001b[0m                     \u001b[0mcontent_or_path\u001b[0m\u001b[0;34m=\u001b[0m\u001b[0mpath_or_buffer\u001b[0m\u001b[0;34m,\u001b[0m \u001b[0mstorage_options\u001b[0m\u001b[0;34m=\u001b[0m\u001b[0mstorage_options\u001b[0m\u001b[0;34m\u001b[0m\u001b[0;34m\u001b[0m\u001b[0m\n\u001b[1;32m   1552\u001b[0m                 )\n",
            "\u001b[0;32m/usr/local/lib/python3.12/dist-packages/pandas/io/excel/_base.py\u001b[0m in \u001b[0;36minspect_excel_format\u001b[0;34m(content_or_path, storage_options)\u001b[0m\n\u001b[1;32m   1400\u001b[0m         \u001b[0mcontent_or_path\u001b[0m \u001b[0;34m=\u001b[0m \u001b[0mBytesIO\u001b[0m\u001b[0;34m(\u001b[0m\u001b[0mcontent_or_path\u001b[0m\u001b[0;34m)\u001b[0m\u001b[0;34m\u001b[0m\u001b[0;34m\u001b[0m\u001b[0m\n\u001b[1;32m   1401\u001b[0m \u001b[0;34m\u001b[0m\u001b[0m\n\u001b[0;32m-> 1402\u001b[0;31m     with get_handle(\n\u001b[0m\u001b[1;32m   1403\u001b[0m         \u001b[0mcontent_or_path\u001b[0m\u001b[0;34m,\u001b[0m \u001b[0;34m\"rb\"\u001b[0m\u001b[0;34m,\u001b[0m \u001b[0mstorage_options\u001b[0m\u001b[0;34m=\u001b[0m\u001b[0mstorage_options\u001b[0m\u001b[0;34m,\u001b[0m \u001b[0mis_text\u001b[0m\u001b[0;34m=\u001b[0m\u001b[0;32mFalse\u001b[0m\u001b[0;34m\u001b[0m\u001b[0;34m\u001b[0m\u001b[0m\n\u001b[1;32m   1404\u001b[0m     ) as handle:\n",
            "\u001b[0;32m/usr/local/lib/python3.12/dist-packages/pandas/io/common.py\u001b[0m in \u001b[0;36mget_handle\u001b[0;34m(path_or_buf, mode, encoding, compression, memory_map, is_text, errors, storage_options)\u001b[0m\n\u001b[1;32m    880\u001b[0m         \u001b[0;32melse\u001b[0m\u001b[0;34m:\u001b[0m\u001b[0;34m\u001b[0m\u001b[0;34m\u001b[0m\u001b[0m\n\u001b[1;32m    881\u001b[0m             \u001b[0;31m# Binary mode\u001b[0m\u001b[0;34m\u001b[0m\u001b[0;34m\u001b[0m\u001b[0m\n\u001b[0;32m--> 882\u001b[0;31m             \u001b[0mhandle\u001b[0m \u001b[0;34m=\u001b[0m \u001b[0mopen\u001b[0m\u001b[0;34m(\u001b[0m\u001b[0mhandle\u001b[0m\u001b[0;34m,\u001b[0m \u001b[0mioargs\u001b[0m\u001b[0;34m.\u001b[0m\u001b[0mmode\u001b[0m\u001b[0;34m)\u001b[0m\u001b[0;34m\u001b[0m\u001b[0;34m\u001b[0m\u001b[0m\n\u001b[0m\u001b[1;32m    883\u001b[0m         \u001b[0mhandles\u001b[0m\u001b[0;34m.\u001b[0m\u001b[0mappend\u001b[0m\u001b[0;34m(\u001b[0m\u001b[0mhandle\u001b[0m\u001b[0;34m)\u001b[0m\u001b[0;34m\u001b[0m\u001b[0;34m\u001b[0m\u001b[0m\n\u001b[1;32m    884\u001b[0m \u001b[0;34m\u001b[0m\u001b[0m\n",
            "\u001b[0;31mFileNotFoundError\u001b[0m: [Errno 2] No such file or directory: 'Data-1-OCR.xlsx'"
          ]
        }
      ]
    }
  ]
}